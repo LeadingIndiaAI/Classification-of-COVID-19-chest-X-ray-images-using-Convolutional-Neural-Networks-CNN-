{
  "nbformat": 4,
  "nbformat_minor": 0,
  "metadata": {
    "colab": {
      "name": "augmentation.ipynb",
      "provenance": [],
      "collapsed_sections": [],
      "authorship_tag": "ABX9TyNXPL4PcjLOwzrn0DgUeCRc",
      "include_colab_link": true
    },
    "kernelspec": {
      "name": "python3",
      "display_name": "Python 3"
    },
    "accelerator": "GPU"
  },
  "cells": [
    {
      "cell_type": "markdown",
      "metadata": {
        "id": "view-in-github",
        "colab_type": "text"
      },
      "source": [
        "<a href=\"https://colab.research.google.com/github/adig2208/Classification-of-COVID-19-chest-X-ray-images/blob/master/augmentation.ipynb\" target=\"_parent\"><img src=\"https://colab.research.google.com/assets/colab-badge.svg\" alt=\"Open In Colab\"/></a>"
      ]
    },
    {
      "cell_type": "code",
      "metadata": {
        "id": "rxVW-3Qa3qk6",
        "colab_type": "code",
        "colab": {}
      },
      "source": [
        "!git clone https://github.com/adig2208/Classification-of-COVID-19-chest-X-ray-images.git"
      ],
      "execution_count": null,
      "outputs": []
    },
    {
      "cell_type": "code",
      "metadata": {
        "id": "XXhV1cP94JEz",
        "colab_type": "code",
        "colab": {}
      },
      "source": [
        "cd Classification-of-COVID-19-chest-X-ray-images "
      ],
      "execution_count": null,
      "outputs": []
    },
    {
      "cell_type": "code",
      "metadata": {
        "id": "uYdPiUGC4J2v",
        "colab_type": "code",
        "colab": {}
      },
      "source": [
        "cd training"
      ],
      "execution_count": null,
      "outputs": []
    },
    {
      "cell_type": "code",
      "metadata": {
        "id": "nxA4PHi84VGW",
        "colab_type": "code",
        "colab": {}
      },
      "source": [
        "import os\n",
        "images = os.listdir('/content/Classification-of-COVID-19-chest-X-ray-images/dataset/training/normal')\n"
      ],
      "execution_count": null,
      "outputs": []
    },
    {
      "cell_type": "code",
      "metadata": {
        "id": "qRSkPLVQ4WTg",
        "colab_type": "code",
        "colab": {}
      },
      "source": [
        "images"
      ],
      "execution_count": null,
      "outputs": []
    },
    {
      "cell_type": "code",
      "metadata": {
        "id": "l8xL_4Pk4kfH",
        "colab_type": "code",
        "colab": {}
      },
      "source": [
        "import os\n",
        "import numpy as np\n",
        "import pandas as pd\n",
        "import seaborn as sns\n",
        "import matplotlib.pyplot as plt\n",
        "import matplotlib.image as mpimg\n",
        "import seaborn as sns\n",
        "from PIL import Image\n",
        "from tensorflow.keras.preprocessing import image\n",
        "from tensorflow.keras.preprocessing.image import load_img, img_to_array\n",
        "from tensorflow.keras.applications.vgg16 import preprocess_input\n",
        "from tensorflow.keras.utils import to_categorical\n",
        "from tensorflow.keras.callbacks import ModelCheckpoint, EarlyStopping\n",
        "from tensorflow.keras.models import Sequential\n",
        "from tensorflow.keras.layers import Dense, Dropout, BatchNormalization, Conv2D, MaxPool2D, Flatten\n",
        "from sklearn.metrics import classification_report, confusion_matrix, accuracy_score\n",
        "from keras.preprocessing.image import ImageDataGenerator, array_to_img, img_to_array, load_img\n",
        "    "
      ],
      "execution_count": null,
      "outputs": []
    },
    {
      "cell_type": "code",
      "metadata": {
        "id": "YdI8OmJo4uU9",
        "colab_type": "code",
        "colab": {}
      },
      "source": [
        "DIR_NAME1 = '/content/Classification-of-COVID-19-chest-X-ray-images/dataset/training/infected'\n",
        "imagePaths1=[]\n",
        "for dirname1, _, filenames in os.walk(DIR_NAME1):\n",
        "    for filename in filenames:\n",
        "      imagePaths1.append(os.path.join(dirname1, filename))"
      ],
      "execution_count": null,
      "outputs": []
    },
    {
      "cell_type": "code",
      "metadata": {
        "id": "EfyeSpoI6PH_",
        "colab_type": "code",
        "colab": {}
      },
      "source": [
        "imagePaths1"
      ],
      "execution_count": null,
      "outputs": []
    },
    {
      "cell_type": "code",
      "metadata": {
        "id": "WiFB1-oV5kh3",
        "colab_type": "code",
        "colab": {}
      },
      "source": [
        "DIR_NAME1 = '/content/Classification-of-COVID-19-chest-X-ray-images/dataset/training/normal'\n",
        "imagePaths=[]\n",
        "for dirname, _, filenames in os.walk(DIR_NAME):\n",
        "    for filename in filenames:\n",
        "      imagePaths.append(os.path.join(dirname, filename))"
      ],
      "execution_count": null,
      "outputs": []
    },
    {
      "cell_type": "code",
      "metadata": {
        "id": "pax8R7rW40o7",
        "colab_type": "code",
        "colab": {}
      },
      "source": [
        "imagePaths"
      ],
      "execution_count": null,
      "outputs": []
    },
    {
      "cell_type": "code",
      "metadata": {
        "id": "0bd6JBm542in",
        "colab_type": "code",
        "colab": {}
      },
      "source": [
        "datagen = ImageDataGenerator(\n",
        "            rotation_range=40,\n",
        "            width_shift_range=0.2,\n",
        "            height_shift_range=0.2,\n",
        "            shear_range=0.2,\n",
        "             zoom_range=0.2,horizontal_flip=True,fill_mode='nearest')\n",
        "for i in range(int(len(imagePaths))):    \n",
        "  img = load_img(imagePaths[i])  \n",
        "  x = img_to_array(img)  \n",
        "  x = x.reshape((1,) + x.shape)  \n",
        "  j = 0\n",
        "  for batch in datagen.flow(x, batch_size=1,save_to_dir='/content/Classification-of-COVID-19-chest-X-ray-images/dataset/normal1', save_prefix='normal', save_format='jpeg'):\n",
        "    j += 1\n",
        "    if j > 20: #20  here is the number of times a single image will get augmented can be changed as per requirement\n",
        "      break  #save_to_dir consists of a folder I created in the dataset normal1 all the augmentted images will be saved in this folder."
      ],
      "execution_count": null,
      "outputs": []
    },
    {
      "cell_type": "code",
      "metadata": {
        "id": "xdVFnaCj42fL",
        "colab_type": "code",
        "colab": {}
      },
      "source": [
        "datagen = ImageDataGenerator(\n",
        "            rotation_range=40,\n",
        "            width_shift_range=0.2,\n",
        "            height_shift_range=0.2,\n",
        "            shear_range=0.2,\n",
        "             zoom_range=0.2,horizontal_flip=True,fill_mode='nearest')\n",
        "for i in range(int(len(imagePaths1))):    \n",
        "  img = load_img(imagePaths1[i])  \n",
        "  x = img_to_array(img)  \n",
        "  x = x.reshape((1,) + x.shape)  \n",
        "  j = 0\n",
        "  for batch in datagen.flow(x, batch_size=1,save_to_dir='/content/Classification-of-COVID-19-chest-X-ray-images/dataset/infected1', save_prefix='covid_train', save_format='jpeg'):\n",
        "    j += 1\n",
        "    if j > 20: #20  here is the number of times a single image will get augmented can be changed as per requirement\n",
        "      break  #save_to_dir consists of a folder I created in the dataset infected1 all the augmentted images will be saved in this folder."
      ],
      "execution_count": null,
      "outputs": []
    }
  ]
}