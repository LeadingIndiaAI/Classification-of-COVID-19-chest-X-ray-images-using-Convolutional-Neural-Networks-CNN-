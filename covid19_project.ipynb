{
  "nbformat": 4,
  "nbformat_minor": 0,
  "metadata": {
    "colab": {
      "name": "covid19_project.ipynb",
      "provenance": [],
      "mount_file_id": "1_Q-0SVV4ICeW0JSNeSlEUEDGrthDfXhE",
      "authorship_tag": "ABX9TyPHpgoB2IXMZ2S4V3aRnJp4",
      "include_colab_link": true
    },
    "kernelspec": {
      "name": "python3",
      "display_name": "Python 3"
    },
    "accelerator": "GPU"
  },
  "cells": [
    {
      "cell_type": "markdown",
      "metadata": {
        "id": "view-in-github",
        "colab_type": "text"
      },
      "source": [
        "<a href=\"https://colab.research.google.com/github/Aditya100300/Classification-of-COVID-19-chest-X-ray-images/blob/master/covid19_project.ipynb\" target=\"_parent\"><img src=\"https://colab.research.google.com/assets/colab-badge.svg\" alt=\"Open In Colab\"/></a>"
      ]
    },
    {
      "cell_type": "code",
      "metadata": {
        "id": "hJcnpGSX123l",
        "colab_type": "code",
        "colab": {
          "base_uri": "https://localhost:8080/",
          "height": 34
        },
        "outputId": "202bef21-cee9-4f7c-9121-73382e591a49"
      },
      "source": [
        "# import the necessary packages\n",
        "from tensorflow.keras.preprocessing.image import ImageDataGenerator\n",
        "from tensorflow.keras.applications import VGG16\n",
        "from tensorflow.keras.layers import AveragePooling2D\n",
        "from tensorflow.keras.layers import Dropout\n",
        "from tensorflow.keras.layers import Flatten\n",
        "from tensorflow.keras.layers import Dense\n",
        "from tensorflow.keras.layers import Input\n",
        "from tensorflow.keras.models import Model\n",
        "from tensorflow.keras.optimizers import Adam\n",
        "from tensorflow.keras.utils import to_categorical\n",
        "from sklearn.preprocessing import LabelBinarizer\n",
        "from sklearn.model_selection import train_test_split\n",
        "from sklearn.metrics import classification_report\n",
        "from sklearn.metrics import confusion_matrix\n",
        "from imutils import paths\n",
        "import matplotlib.pyplot as plt\n",
        "import numpy as np\n",
        "import argparse\n",
        "import cv2\n",
        "import os\n",
        "from keras.applications.resnet50 import ResNet50\n",
        "from keras.preprocessing import image\n",
        "from keras.applications.resnet50 import preprocess_input, decode_predictions\n",
        "import numpy as np\n"
      ],
      "execution_count": 1,
      "outputs": [
        {
          "output_type": "stream",
          "text": [
            "Using TensorFlow backend.\n"
          ],
          "name": "stderr"
        }
      ]
    },
    {
      "cell_type": "code",
      "metadata": {
        "id": "v5c0kfLcjqix",
        "colab_type": "code",
        "colab": {}
      },
      "source": [
        ""
      ],
      "execution_count": 1,
      "outputs": []
    },
    {
      "cell_type": "code",
      "metadata": {
        "id": "_GeLJHDKAiOW",
        "colab_type": "code",
        "colab": {
          "base_uri": "https://localhost:8080/",
          "height": 71
        },
        "outputId": "3e5eab8d-257c-4d95-900c-86f636ef033e"
      },
      "source": [
        "import os\n",
        "import numpy as np\n",
        "import pandas as pd\n",
        "import seaborn as sns\n",
        "import matplotlib.pyplot as plt\n",
        "import matplotlib.image as mpimg\n",
        "import seaborn as sns\n",
        "from PIL import Image\n",
        "from tensorflow.keras.preprocessing import image\n",
        "from tensorflow.keras.preprocessing.image import load_img, img_to_array\n",
        "from tensorflow.keras.applications.vgg16 import preprocess_input\n",
        "from tensorflow.keras.utils import to_categorical\n",
        "from tensorflow.keras.callbacks import ModelCheckpoint, EarlyStopping\n",
        "from tensorflow.keras.models import Sequential\n",
        "from tensorflow.keras.layers import Dense, Dropout, BatchNormalization, Conv2D, MaxPool2D, Flatten\n",
        "from sklearn.metrics import classification_report, confusion_matrix, accuracy_score"
      ],
      "execution_count": 2,
      "outputs": [
        {
          "output_type": "stream",
          "text": [
            "/usr/local/lib/python3.6/dist-packages/statsmodels/tools/_testing.py:19: FutureWarning: pandas.util.testing is deprecated. Use the functions in the public API at pandas.testing instead.\n",
            "  import pandas.util.testing as tm\n"
          ],
          "name": "stderr"
        }
      ]
    },
    {
      "cell_type": "code",
      "metadata": {
        "id": "K6ZJ33xy2PSi",
        "colab_type": "code",
        "colab": {
          "base_uri": "https://localhost:8080/",
          "height": 153
        },
        "outputId": "75f06d18-c5a6-4f73-f41e-324dc3c4a5f8"
      },
      "source": [
        "!git clone https://github.com/vaibhavG321/Classification-of-COVID-19-chest-X-ray-images"
      ],
      "execution_count": 3,
      "outputs": [
        {
          "output_type": "stream",
          "text": [
            "Cloning into 'Classification-of-COVID-19-chest-X-ray-images'...\n",
            "remote: Enumerating objects: 8, done.\u001b[K\n",
            "remote: Counting objects: 100% (8/8), done.\u001b[K\n",
            "remote: Compressing objects: 100% (8/8), done.\u001b[K\n",
            "remote: Total 664 (delta 1), reused 2 (delta 0), pack-reused 656\u001b[K\n",
            "Receiving objects: 100% (664/664), 222.69 MiB | 23.24 MiB/s, done.\n",
            "Resolving deltas: 100% (29/29), done.\n",
            "Checking out files: 100% (698/698), done.\n"
          ],
          "name": "stdout"
        }
      ]
    },
    {
      "cell_type": "code",
      "metadata": {
        "id": "boqSEVrh2lMw",
        "colab_type": "code",
        "colab": {
          "base_uri": "https://localhost:8080/",
          "height": 34
        },
        "outputId": "86af1032-e44f-4ba1-d58a-e45a925f0c50"
      },
      "source": [
        "!ls"
      ],
      "execution_count": 4,
      "outputs": [
        {
          "output_type": "stream",
          "text": [
            "Classification-of-COVID-19-chest-X-ray-images  drive  sample_data\n"
          ],
          "name": "stdout"
        }
      ]
    },
    {
      "cell_type": "code",
      "metadata": {
        "id": "bGuTbyLT2-Rw",
        "colab_type": "code",
        "colab": {}
      },
      "source": [
        ""
      ],
      "execution_count": 4,
      "outputs": []
    },
    {
      "cell_type": "code",
      "metadata": {
        "id": "DkjlkYVo21pE",
        "colab_type": "code",
        "colab": {
          "base_uri": "https://localhost:8080/",
          "height": 34
        },
        "outputId": "4c0e3fc6-ad52-4cbb-9a4b-722bdea821ca"
      },
      "source": [
        "cd Classification-of-COVID-19-chest-X-ray-images "
      ],
      "execution_count": 5,
      "outputs": [
        {
          "output_type": "stream",
          "text": [
            "/content/Classification-of-COVID-19-chest-X-ray-images\n"
          ],
          "name": "stdout"
        }
      ]
    },
    {
      "cell_type": "code",
      "metadata": {
        "id": "YSB2ukRx24wg",
        "colab_type": "code",
        "colab": {
          "base_uri": "https://localhost:8080/",
          "height": 68
        },
        "outputId": "7414babc-96a8-4a83-dd1e-1b1ff159b7d5"
      },
      "source": [
        "!ls"
      ],
      "execution_count": 6,
      "outputs": [
        {
          "output_type": "stream",
          "text": [
            "aditi-godbole-model.py\taditya-gurnani-model.py  dataset      vaibhav-model.py\n",
            "aditi-verma-model.py\taugmentation.ipynb\t README.md\n",
            "aditya-babar-model.py\tcovid_VGG16.ipynb\t test1.ipynb\n"
          ],
          "name": "stdout"
        }
      ]
    },
    {
      "cell_type": "code",
      "metadata": {
        "id": "1O639lgm26DZ",
        "colab_type": "code",
        "colab": {
          "base_uri": "https://localhost:8080/",
          "height": 34
        },
        "outputId": "00f70954-55f9-40a3-a1c7-06009122ebe1"
      },
      "source": [
        "cd dataset"
      ],
      "execution_count": 7,
      "outputs": [
        {
          "output_type": "stream",
          "text": [
            "/content/Classification-of-COVID-19-chest-X-ray-images/dataset\n"
          ],
          "name": "stdout"
        }
      ]
    },
    {
      "cell_type": "code",
      "metadata": {
        "id": "ZREYHjA928WU",
        "colab_type": "code",
        "colab": {
          "base_uri": "https://localhost:8080/",
          "height": 34
        },
        "outputId": "a90d0842-563b-456b-8a83-b03a6e542cbe"
      },
      "source": [
        "!ls"
      ],
      "execution_count": 8,
      "outputs": [
        {
          "output_type": "stream",
          "text": [
            "evaluation  testing  training\n"
          ],
          "name": "stdout"
        }
      ]
    },
    {
      "cell_type": "code",
      "metadata": {
        "id": "oDA2VF_52_Fg",
        "colab_type": "code",
        "colab": {
          "base_uri": "https://localhost:8080/",
          "height": 34
        },
        "outputId": "45453ba3-2c45-4a28-cd7a-a7750fdf39d3"
      },
      "source": [
        "cd training"
      ],
      "execution_count": 9,
      "outputs": [
        {
          "output_type": "stream",
          "text": [
            "/content/Classification-of-COVID-19-chest-X-ray-images/dataset/training\n"
          ],
          "name": "stdout"
        }
      ]
    },
    {
      "cell_type": "code",
      "metadata": {
        "id": "itYOA4Zu3BrR",
        "colab_type": "code",
        "colab": {
          "base_uri": "https://localhost:8080/",
          "height": 34
        },
        "outputId": "df4d47a4-acdb-4e0e-fa5d-9f23ebb84fda"
      },
      "source": [
        "!ls"
      ],
      "execution_count": 10,
      "outputs": [
        {
          "output_type": "stream",
          "text": [
            "infected  normal\n"
          ],
          "name": "stdout"
        }
      ]
    },
    {
      "cell_type": "code",
      "metadata": {
        "id": "4q7mx_544Ar6",
        "colab_type": "code",
        "colab": {}
      },
      "source": [
        "train_normal_path='/content/Classification-of-COVID-19-chest-X-ray-images/dataset/training/normal'\n",
        "train_infected_path='/content/Classification-of-COVID-19-chest-X-ray-images/dataset/training/infected'\n",
        "test_normal_path='/content/Classification-of-COVID-19-chest-X-ray-images/dataset/testing/normal'\n",
        "test_infected_path='/content/Classification-of-COVID-19-chest-X-ray-images/dataset/testing/infected'\n",
        "evaluate_normal_path='/content/Classification-of-COVID-19-chest-X-ray-images/dataset/evaluation/normal'\n",
        "evaluate_infected_path='/content/Classification-of-COVID-19-chest-X-ray-images/dataset/evaluation/infected'"
      ],
      "execution_count": 11,
      "outputs": []
    },
    {
      "cell_type": "code",
      "metadata": {
        "id": "-vZU85TE4EBM",
        "colab_type": "code",
        "colab": {
          "base_uri": "https://localhost:8080/",
          "height": 119
        },
        "outputId": "4e38272c-c5e4-4d8f-f78b-f6b924d865d2"
      },
      "source": [
        "print('train_normal cases ',len(os.listdir('/content/Classification-of-COVID-19-chest-X-ray-images/dataset/training/normal')))\n",
        "print('train_infected cases ',len(os.listdir('/content/Classification-of-COVID-19-chest-X-ray-images/dataset/training/infected')))\n",
        "print('test_normal cases ',len(os.listdir('/content/Classification-of-COVID-19-chest-X-ray-images/dataset/testing/normal')))\n",
        "print('test_infected cases ',len(os.listdir('/content/Classification-of-COVID-19-chest-X-ray-images/dataset/testing/infected')))\n",
        "print('evaluate_normal cases ',len(os.listdir('/content/Classification-of-COVID-19-chest-X-ray-images/dataset/evaluation/normal')))\n",
        "print('evaluate_infected cases ',len(os.listdir('/content/Classification-of-COVID-19-chest-X-ray-images/dataset/evaluation/infected')))"
      ],
      "execution_count": 12,
      "outputs": [
        {
          "output_type": "stream",
          "text": [
            "train_normal cases  297\n",
            "train_infected cases  296\n",
            "test_normal cases  69\n",
            "test_infected cases  25\n",
            "evaluate_normal cases  1\n",
            "evaluate_infected cases  1\n"
          ],
          "name": "stdout"
        }
      ]
    },
    {
      "cell_type": "code",
      "metadata": {
        "id": "cAM7gxEd4FWB",
        "colab_type": "code",
        "colab": {}
      },
      "source": [
        "IMAGE_SIZE = (224,224)\n",
        "DIR_NAME = '/content/Classification-of-COVID-19-chest-X-ray-images/dataset/'\n",
        "IMAGE_DIR = DIR_NAME + 'normal/'\n",
        "imagePaths=[]\n",
        "for dirname, _, filenames in os.walk(DIR_NAME):\n",
        "    for filename in filenames:\n",
        "      imagePaths.append(os.path.join(dirname, filename))"
      ],
      "execution_count": 13,
      "outputs": []
    },
    {
      "cell_type": "code",
      "metadata": {
        "id": "W_1xHN234rNU",
        "colab_type": "code",
        "colab": {
          "base_uri": "https://localhost:8080/",
          "height": 1000
        },
        "outputId": "433e29f3-9da3-467a-bb0b-682e3e5e32d5"
      },
      "source": [
        "imagePaths"
      ],
      "execution_count": 14,
      "outputs": [
        {
          "output_type": "execute_result",
          "data": {
            "text/plain": [
              "['/content/Classification-of-COVID-19-chest-X-ray-images/dataset/testing/normal/NORMAL2-IM-0374-0001-0002.jpeg',\n",
              " '/content/Classification-of-COVID-19-chest-X-ray-images/dataset/testing/normal/NORMAL2-IM-0288-0001.jpeg',\n",
              " '/content/Classification-of-COVID-19-chest-X-ray-images/dataset/testing/normal/NORMAL2-IM-0360-0001.jpeg',\n",
              " '/content/Classification-of-COVID-19-chest-X-ray-images/dataset/testing/normal/NORMAL2-IM-0222-0001.jpeg',\n",
              " '/content/Classification-of-COVID-19-chest-X-ray-images/dataset/testing/normal/NORMAL2-IM-0267-0001.jpeg',\n",
              " '/content/Classification-of-COVID-19-chest-X-ray-images/dataset/testing/normal/NORMAL2-IM-0336-0001.jpeg',\n",
              " '/content/Classification-of-COVID-19-chest-X-ray-images/dataset/testing/normal/NORMAL2-IM-0221-0001.jpeg',\n",
              " '/content/Classification-of-COVID-19-chest-X-ray-images/dataset/testing/normal/NORMAL2-IM-0232-0001.jpeg',\n",
              " '/content/Classification-of-COVID-19-chest-X-ray-images/dataset/testing/normal/NORMAL2-IM-0349-0001.jpeg',\n",
              " '/content/Classification-of-COVID-19-chest-X-ray-images/dataset/testing/normal/NORMAL2-IM-0364-0001.jpeg',\n",
              " '/content/Classification-of-COVID-19-chest-X-ray-images/dataset/testing/normal/NORMAL2-IM-0279-0001.jpeg',\n",
              " '/content/Classification-of-COVID-19-chest-X-ray-images/dataset/testing/normal/NORMAL2-IM-0199-0001.jpeg',\n",
              " '/content/Classification-of-COVID-19-chest-X-ray-images/dataset/testing/normal/NORMAL2-IM-0098-0001.jpeg',\n",
              " '/content/Classification-of-COVID-19-chest-X-ray-images/dataset/testing/normal/NORMAL2-IM-0328-0001.jpeg',\n",
              " '/content/Classification-of-COVID-19-chest-X-ray-images/dataset/testing/normal/NORMAL2-IM-0335-0001.jpeg',\n",
              " '/content/Classification-of-COVID-19-chest-X-ray-images/dataset/testing/normal/NORMAL2-IM-0229-0001.jpeg',\n",
              " '/content/Classification-of-COVID-19-chest-X-ray-images/dataset/testing/normal/NORMAL2-IM-0210-0001.jpeg',\n",
              " '/content/Classification-of-COVID-19-chest-X-ray-images/dataset/testing/normal/NORMAL2-IM-0294-0001.jpeg',\n",
              " '/content/Classification-of-COVID-19-chest-X-ray-images/dataset/testing/normal/NORMAL2-IM-0304-0001.jpeg',\n",
              " '/content/Classification-of-COVID-19-chest-X-ray-images/dataset/testing/normal/NORMAL2-IM-0217-0001.jpeg',\n",
              " '/content/Classification-of-COVID-19-chest-X-ray-images/dataset/testing/normal/NORMAL2-IM-0346-0001.jpeg',\n",
              " '/content/Classification-of-COVID-19-chest-X-ray-images/dataset/testing/normal/NORMAL2-IM-0195-0001.jpeg',\n",
              " '/content/Classification-of-COVID-19-chest-X-ray-images/dataset/testing/normal/NORMAL2-IM-0241-0001.jpeg',\n",
              " '/content/Classification-of-COVID-19-chest-X-ray-images/dataset/testing/normal/NORMAL2-IM-0238-0001.jpeg',\n",
              " '/content/Classification-of-COVID-19-chest-X-ray-images/dataset/testing/normal/NORMAL2-IM-0376-0001.jpeg',\n",
              " '/content/Classification-of-COVID-19-chest-X-ray-images/dataset/testing/normal/NORMAL2-IM-0252-0001.jpeg',\n",
              " '/content/Classification-of-COVID-19-chest-X-ray-images/dataset/testing/normal/NORMAL2-IM-0246-0001.jpeg',\n",
              " '/content/Classification-of-COVID-19-chest-X-ray-images/dataset/testing/normal/NORMAL2-IM-0280-0001.jpeg',\n",
              " '/content/Classification-of-COVID-19-chest-X-ray-images/dataset/testing/normal/NORMAL2-IM-0139-0001.jpeg',\n",
              " '/content/Classification-of-COVID-19-chest-X-ray-images/dataset/testing/normal/NORMAL2-IM-0041-0001.jpeg',\n",
              " '/content/Classification-of-COVID-19-chest-X-ray-images/dataset/testing/normal/NORMAL2-IM-0246-0001-0002.jpeg',\n",
              " '/content/Classification-of-COVID-19-chest-X-ray-images/dataset/testing/normal/NORMAL2-IM-0285-0001.jpeg',\n",
              " '/content/Classification-of-COVID-19-chest-X-ray-images/dataset/testing/normal/NORMAL2-IM-0330-0001.jpeg',\n",
              " '/content/Classification-of-COVID-19-chest-X-ray-images/dataset/testing/normal/NORMAL2-IM-0237-0001.jpeg',\n",
              " '/content/Classification-of-COVID-19-chest-X-ray-images/dataset/testing/normal/1.jpeg',\n",
              " '/content/Classification-of-COVID-19-chest-X-ray-images/dataset/testing/normal/NORMAL2-IM-0219-0001.jpeg',\n",
              " '/content/Classification-of-COVID-19-chest-X-ray-images/dataset/testing/normal/NORMAL2-IM-0272-0001.jpeg',\n",
              " '/content/Classification-of-COVID-19-chest-X-ray-images/dataset/testing/normal/NORMAL2-IM-0283-0001.jpeg',\n",
              " '/content/Classification-of-COVID-19-chest-X-ray-images/dataset/testing/normal/NORMAL2-IM-0045-0001.jpeg',\n",
              " '/content/Classification-of-COVID-19-chest-X-ray-images/dataset/testing/normal/NORMAL2-IM-0369-0001.jpeg',\n",
              " '/content/Classification-of-COVID-19-chest-X-ray-images/dataset/testing/normal/NORMAL2-IM-0351-0001.jpeg',\n",
              " '/content/Classification-of-COVID-19-chest-X-ray-images/dataset/testing/normal/NORMAL2-IM-0322-0001.jpeg',\n",
              " '/content/Classification-of-COVID-19-chest-X-ray-images/dataset/testing/normal/NORMAL2-IM-0338-0001.jpeg',\n",
              " '/content/Classification-of-COVID-19-chest-X-ray-images/dataset/testing/normal/NORMAL2-IM-0373-0001.jpeg',\n",
              " '/content/Classification-of-COVID-19-chest-X-ray-images/dataset/testing/normal/NORMAL2-IM-0206-0001.jpeg',\n",
              " '/content/Classification-of-COVID-19-chest-X-ray-images/dataset/testing/normal/NORMAL2-IM-0171-0001.jpeg',\n",
              " '/content/Classification-of-COVID-19-chest-X-ray-images/dataset/testing/normal/NORMAL2-IM-0378-0001.jpeg',\n",
              " '/content/Classification-of-COVID-19-chest-X-ray-images/dataset/testing/normal/NORMAL2-IM-0150-0001.jpeg',\n",
              " '/content/Classification-of-COVID-19-chest-X-ray-images/dataset/testing/normal/NORMAL2-IM-0290-0001.jpeg',\n",
              " '/content/Classification-of-COVID-19-chest-X-ray-images/dataset/testing/normal/NORMAL2-IM-0326-0001.jpeg',\n",
              " '/content/Classification-of-COVID-19-chest-X-ray-images/dataset/testing/normal/NORMAL2-IM-0316-0001.jpeg',\n",
              " '/content/Classification-of-COVID-19-chest-X-ray-images/dataset/testing/normal/NORMAL2-IM-0123-0001.jpeg',\n",
              " '/content/Classification-of-COVID-19-chest-X-ray-images/dataset/testing/normal/NORMAL2-IM-0173-0001-0001.jpeg',\n",
              " '/content/Classification-of-COVID-19-chest-X-ray-images/dataset/testing/normal/NORMAL2-IM-0233-0001.jpeg',\n",
              " '/content/Classification-of-COVID-19-chest-X-ray-images/dataset/testing/normal/NORMAL2-IM-0327-0001.jpeg',\n",
              " '/content/Classification-of-COVID-19-chest-X-ray-images/dataset/testing/normal/NORMAL2-IM-0354-0001.jpeg',\n",
              " '/content/Classification-of-COVID-19-chest-X-ray-images/dataset/testing/normal/NORMAL2-IM-0173-0001-0002.jpeg',\n",
              " '/content/Classification-of-COVID-19-chest-X-ray-images/dataset/testing/normal/NORMAL2-IM-0303-0001.jpeg',\n",
              " '/content/Classification-of-COVID-19-chest-X-ray-images/dataset/testing/normal/NORMAL2-IM-0246-0001-0001.jpeg',\n",
              " '/content/Classification-of-COVID-19-chest-X-ray-images/dataset/testing/normal/NORMAL2-IM-0313-0001.jpeg',\n",
              " '/content/Classification-of-COVID-19-chest-X-ray-images/dataset/testing/normal/NORMAL2-IM-0340-0001.jpeg',\n",
              " '/content/Classification-of-COVID-19-chest-X-ray-images/dataset/testing/normal/NORMAL2-IM-0366-0001.jpeg',\n",
              " '/content/Classification-of-COVID-19-chest-X-ray-images/dataset/testing/normal/NORMAL2-IM-0256-0001.jpeg',\n",
              " '/content/Classification-of-COVID-19-chest-X-ray-images/dataset/testing/normal/NORMAL2-IM-0131-0001.jpeg',\n",
              " '/content/Classification-of-COVID-19-chest-X-ray-images/dataset/testing/normal/NORMAL2-IM-0249-0001.jpeg',\n",
              " '/content/Classification-of-COVID-19-chest-X-ray-images/dataset/testing/normal/NORMAL2-IM-0325-0001.jpeg',\n",
              " '/content/Classification-of-COVID-19-chest-X-ray-images/dataset/testing/normal/NORMAL2-IM-0362-0001.jpeg',\n",
              " '/content/Classification-of-COVID-19-chest-X-ray-images/dataset/testing/normal/NORMAL2-IM-0146-0001.jpeg',\n",
              " '/content/Classification-of-COVID-19-chest-X-ray-images/dataset/testing/normal/NORMAL2-IM-0315-0001.jpeg',\n",
              " '/content/Classification-of-COVID-19-chest-X-ray-images/dataset/testing/infected/F2DE909F-E19C-4900-92F5-8F435B031AC6.jpeg',\n",
              " '/content/Classification-of-COVID-19-chest-X-ray-images/dataset/testing/infected/nCoV-radiol.2020200269.fig1-day7.jpeg',\n",
              " '/content/Classification-of-COVID-19-chest-X-ray-images/dataset/testing/infected/gr1_lrg-b.jpg',\n",
              " '/content/Classification-of-COVID-19-chest-X-ray-images/dataset/testing/infected/41591_2020_819_Fig1_HTML.webp-day10.png',\n",
              " '/content/Classification-of-COVID-19-chest-X-ray-images/dataset/testing/infected/kjr-21-e24-g002-l-a.jpg',\n",
              " '/content/Classification-of-COVID-19-chest-X-ray-images/dataset/testing/infected/4e43e48d52c9e2d4c6c1fb9bc1544f_jumbo.jpeg',\n",
              " '/content/Classification-of-COVID-19-chest-X-ray-images/dataset/testing/infected/covid-19-pneumonia-67.jpeg',\n",
              " '/content/Classification-of-COVID-19-chest-X-ray-images/dataset/testing/infected/covid-19-pneumonia-44-day-0.jpeg',\n",
              " '/content/Classification-of-COVID-19-chest-X-ray-images/dataset/testing/infected/covid-19-pneumonia-8.jpg',\n",
              " '/content/Classification-of-COVID-19-chest-X-ray-images/dataset/testing/infected/kjr-21-e25-g001-l-a.jpg',\n",
              " '/content/Classification-of-COVID-19-chest-X-ray-images/dataset/testing/infected/gr1_lrg-a.jpg',\n",
              " '/content/Classification-of-COVID-19-chest-X-ray-images/dataset/testing/infected/41591_2020_819_Fig1_HTML.webp-day5.png',\n",
              " '/content/Classification-of-COVID-19-chest-X-ray-images/dataset/testing/infected/covid-19-pneumonia-53.jpg',\n",
              " '/content/Classification-of-COVID-19-chest-X-ray-images/dataset/testing/infected/covid-19-pneumonia-evolution-over-a-week-1-day0-PA.jpg',\n",
              " '/content/Classification-of-COVID-19-chest-X-ray-images/dataset/testing/infected/1-s2.0-S1684118220300608-main.pdf-002.jpg',\n",
              " '/content/Classification-of-COVID-19-chest-X-ray-images/dataset/testing/infected/all14238-fig-0001-m-c.jpg',\n",
              " '/content/Classification-of-COVID-19-chest-X-ray-images/dataset/testing/infected/80446565-E090-4187-A031-9D3CEAA586C8.jpeg',\n",
              " '/content/Classification-of-COVID-19-chest-X-ray-images/dataset/testing/infected/58cb9263f16e94305c730685358e4e_jumbo.jpeg',\n",
              " '/content/Classification-of-COVID-19-chest-X-ray-images/dataset/testing/infected/covid-19-pneumonia-20-pa-on-admission.jpg',\n",
              " '/content/Classification-of-COVID-19-chest-X-ray-images/dataset/testing/infected/1.jpg',\n",
              " '/content/Classification-of-COVID-19-chest-X-ray-images/dataset/testing/infected/kjr-21-e24-g003-l-a.jpg',\n",
              " '/content/Classification-of-COVID-19-chest-X-ray-images/dataset/testing/infected/all14238-fig-0001-m-b.jpg',\n",
              " '/content/Classification-of-COVID-19-chest-X-ray-images/dataset/testing/infected/kjr-21-e24-g001-l-a.jpg',\n",
              " '/content/Classification-of-COVID-19-chest-X-ray-images/dataset/testing/infected/31BA3780-2323-493F-8AED-62081B9C383B.jpeg',\n",
              " '/content/Classification-of-COVID-19-chest-X-ray-images/dataset/testing/infected/covid-19-pneumonia-mild.JPG',\n",
              " '/content/Classification-of-COVID-19-chest-X-ray-images/dataset/training/normal/NORMAL2 (161).jpeg',\n",
              " '/content/Classification-of-COVID-19-chest-X-ray-images/dataset/training/normal/NORMAL2 (124).jpeg',\n",
              " '/content/Classification-of-COVID-19-chest-X-ray-images/dataset/training/normal/NORMAL2-IM-0372-0001.jpeg',\n",
              " '/content/Classification-of-COVID-19-chest-X-ray-images/dataset/training/normal/NORMAL2 (136).jpeg',\n",
              " '/content/Classification-of-COVID-19-chest-X-ray-images/dataset/training/normal/NORMAL2 (127).jpeg',\n",
              " '/content/Classification-of-COVID-19-chest-X-ray-images/dataset/training/normal/NORMAL2 (26).jpeg',\n",
              " '/content/Classification-of-COVID-19-chest-X-ray-images/dataset/training/normal/NORMAL2 (175).jpeg',\n",
              " '/content/Classification-of-COVID-19-chest-X-ray-images/dataset/training/normal/NORMAL2-IM-0072-0001.jpeg',\n",
              " '/content/Classification-of-COVID-19-chest-X-ray-images/dataset/training/normal/NORMAL2-IM-0066-0001.jpeg',\n",
              " '/content/Classification-of-COVID-19-chest-X-ray-images/dataset/training/normal/NORMAL2 (102).jpeg',\n",
              " '/content/Classification-of-COVID-19-chest-X-ray-images/dataset/training/normal/NORMAL2-IM-0352-0001.jpeg',\n",
              " '/content/Classification-of-COVID-19-chest-X-ray-images/dataset/training/normal/NORMAL2 (59).jpeg',\n",
              " '/content/Classification-of-COVID-19-chest-X-ray-images/dataset/training/normal/NORMAL2-IM-0030-0001.jpeg',\n",
              " '/content/Classification-of-COVID-19-chest-X-ray-images/dataset/training/normal/NORMAL2 (17).jpeg',\n",
              " '/content/Classification-of-COVID-19-chest-X-ray-images/dataset/training/normal/NORMAL2-IM-0275-0001.jpeg',\n",
              " '/content/Classification-of-COVID-19-chest-X-ray-images/dataset/training/normal/NORMAL2 (177).jpeg',\n",
              " '/content/Classification-of-COVID-19-chest-X-ray-images/dataset/training/normal/NORMAL2-IM-0058-0001.jpeg',\n",
              " '/content/Classification-of-COVID-19-chest-X-ray-images/dataset/training/normal/NORMAL2 (128).jpeg',\n",
              " '/content/Classification-of-COVID-19-chest-X-ray-images/dataset/training/normal/NORMAL2-IM-0111-0001.jpeg',\n",
              " '/content/Classification-of-COVID-19-chest-X-ray-images/dataset/training/normal/NORMAL2-IM-0096-0001.jpeg',\n",
              " '/content/Classification-of-COVID-19-chest-X-ray-images/dataset/training/normal/NORMAL2 (114).jpeg',\n",
              " '/content/Classification-of-COVID-19-chest-X-ray-images/dataset/training/normal/NORMAL2 (189).jpeg',\n",
              " '/content/Classification-of-COVID-19-chest-X-ray-images/dataset/training/normal/NORMAL2 (46).jpeg',\n",
              " '/content/Classification-of-COVID-19-chest-X-ray-images/dataset/training/normal/NORMAL2 (28).jpeg',\n",
              " '/content/Classification-of-COVID-19-chest-X-ray-images/dataset/training/normal/NORMAL2-IM-0317-0001.jpeg',\n",
              " '/content/Classification-of-COVID-19-chest-X-ray-images/dataset/training/normal/NORMAL2 (31).jpeg',\n",
              " '/content/Classification-of-COVID-19-chest-X-ray-images/dataset/training/normal/NORMAL2-IM-0312-0001.jpeg',\n",
              " '/content/Classification-of-COVID-19-chest-X-ray-images/dataset/training/normal/NORMAL2-IM-0341-0001.jpeg',\n",
              " '/content/Classification-of-COVID-19-chest-X-ray-images/dataset/training/normal/NORMAL2 (184).jpeg',\n",
              " '/content/Classification-of-COVID-19-chest-X-ray-images/dataset/training/normal/NORMAL2 (169).jpeg',\n",
              " '/content/Classification-of-COVID-19-chest-X-ray-images/dataset/training/normal/NORMAL2-IM-0333-0001.jpeg',\n",
              " '/content/Classification-of-COVID-19-chest-X-ray-images/dataset/training/normal/NORMAL2 (140).jpeg',\n",
              " '/content/Classification-of-COVID-19-chest-X-ray-images/dataset/training/normal/NORMAL2 (178).jpeg',\n",
              " '/content/Classification-of-COVID-19-chest-X-ray-images/dataset/training/normal/NORMAL2-IM-0112-0001.jpeg',\n",
              " '/content/Classification-of-COVID-19-chest-X-ray-images/dataset/training/normal/NORMAL2 (13).jpeg',\n",
              " '/content/Classification-of-COVID-19-chest-X-ray-images/dataset/training/normal/NORMAL2-IM-0292-0001.jpeg',\n",
              " '/content/Classification-of-COVID-19-chest-X-ray-images/dataset/training/normal/NORMAL2 (162).jpeg',\n",
              " '/content/Classification-of-COVID-19-chest-X-ray-images/dataset/training/normal/NORMAL2 (150).jpeg',\n",
              " '/content/Classification-of-COVID-19-chest-X-ray-images/dataset/training/normal/NORMAL2 (21).jpeg',\n",
              " '/content/Classification-of-COVID-19-chest-X-ray-images/dataset/training/normal/NORMAL2-IM-0321-0001.jpeg',\n",
              " '/content/Classification-of-COVID-19-chest-X-ray-images/dataset/training/normal/NORMAL2 (97).jpeg',\n",
              " '/content/Classification-of-COVID-19-chest-X-ray-images/dataset/training/normal/NORMAL2-IM-0201-0001.jpeg',\n",
              " '/content/Classification-of-COVID-19-chest-X-ray-images/dataset/training/normal/NORMAL2 (91).jpeg',\n",
              " '/content/Classification-of-COVID-19-chest-X-ray-images/dataset/training/normal/NORMAL2 (54).jpeg',\n",
              " '/content/Classification-of-COVID-19-chest-X-ray-images/dataset/training/normal/NORMAL2 (41).jpeg',\n",
              " '/content/Classification-of-COVID-19-chest-X-ray-images/dataset/training/normal/NORMAL2 (30).jpeg',\n",
              " '/content/Classification-of-COVID-19-chest-X-ray-images/dataset/training/normal/NORMAL2 (76).jpeg',\n",
              " '/content/Classification-of-COVID-19-chest-X-ray-images/dataset/training/normal/NORMAL2-IM-0309-0001.jpeg',\n",
              " '/content/Classification-of-COVID-19-chest-X-ray-images/dataset/training/normal/NORMAL2-IM-0301-0001.jpeg',\n",
              " '/content/Classification-of-COVID-19-chest-X-ray-images/dataset/training/normal/NORMAL2 (147).jpeg',\n",
              " '/content/Classification-of-COVID-19-chest-X-ray-images/dataset/training/normal/NORMAL2 (163).jpeg',\n",
              " '/content/Classification-of-COVID-19-chest-X-ray-images/dataset/training/normal/NORMAL2-IM-0329-0001.jpeg',\n",
              " '/content/Classification-of-COVID-19-chest-X-ray-images/dataset/training/normal/NORMAL2 (90).jpeg',\n",
              " '/content/Classification-of-COVID-19-chest-X-ray-images/dataset/training/normal/NORMAL2-IM-0051-0001.jpeg',\n",
              " '/content/Classification-of-COVID-19-chest-X-ray-images/dataset/training/normal/NORMAL2-IM-0281-0001.jpeg',\n",
              " '/content/Classification-of-COVID-19-chest-X-ray-images/dataset/training/normal/NORMAL2 (53).jpeg',\n",
              " '/content/Classification-of-COVID-19-chest-X-ray-images/dataset/training/normal/NORMAL2 (172).jpeg',\n",
              " '/content/Classification-of-COVID-19-chest-X-ray-images/dataset/training/normal/NORMAL2 (8).jpeg',\n",
              " '/content/Classification-of-COVID-19-chest-X-ray-images/dataset/training/normal/NORMAL2 (104).jpeg',\n",
              " '/content/Classification-of-COVID-19-chest-X-ray-images/dataset/training/normal/NORMAL2 (170).jpeg',\n",
              " '/content/Classification-of-COVID-19-chest-X-ray-images/dataset/training/normal/NORMAL2-IM-0141-0001.jpeg',\n",
              " '/content/Classification-of-COVID-19-chest-X-ray-images/dataset/training/normal/NORMAL2-IM-0380-0001.jpeg',\n",
              " '/content/Classification-of-COVID-19-chest-X-ray-images/dataset/training/normal/NORMAL2-IM-0277-0001.jpeg',\n",
              " '/content/Classification-of-COVID-19-chest-X-ray-images/dataset/training/normal/NORMAL2-IM-0381-0001.jpeg',\n",
              " '/content/Classification-of-COVID-19-chest-X-ray-images/dataset/training/normal/NORMAL2 (51).jpeg',\n",
              " '/content/Classification-of-COVID-19-chest-X-ray-images/dataset/training/normal/NORMAL2-IM-0331-0001.jpeg',\n",
              " '/content/Classification-of-COVID-19-chest-X-ray-images/dataset/training/normal/NORMAL2-IM-0278-0001.jpeg',\n",
              " '/content/Classification-of-COVID-19-chest-X-ray-images/dataset/training/normal/NORMAL2-IM-0086-0001.jpeg',\n",
              " '/content/Classification-of-COVID-19-chest-X-ray-images/dataset/training/normal/NORMAL2 (2).jpeg',\n",
              " '/content/Classification-of-COVID-19-chest-X-ray-images/dataset/training/normal/NORMAL2 (67).jpeg',\n",
              " '/content/Classification-of-COVID-19-chest-X-ray-images/dataset/training/normal/NORMAL2-IM-0207-0001.jpeg',\n",
              " '/content/Classification-of-COVID-19-chest-X-ray-images/dataset/training/normal/NORMAL2 (10).jpeg',\n",
              " '/content/Classification-of-COVID-19-chest-X-ray-images/dataset/training/normal/NORMAL2-IM-0276-0001.jpeg',\n",
              " '/content/Classification-of-COVID-19-chest-X-ray-images/dataset/training/normal/NORMAL2 (165).jpeg',\n",
              " '/content/Classification-of-COVID-19-chest-X-ray-images/dataset/training/normal/NORMAL2 (88).jpeg',\n",
              " '/content/Classification-of-COVID-19-chest-X-ray-images/dataset/training/normal/NORMAL2 (94).jpeg',\n",
              " '/content/Classification-of-COVID-19-chest-X-ray-images/dataset/training/normal/NORMAL2 (166).jpeg',\n",
              " '/content/Classification-of-COVID-19-chest-X-ray-images/dataset/training/normal/NORMAL2 (125).jpeg',\n",
              " '/content/Classification-of-COVID-19-chest-X-ray-images/dataset/training/normal/NORMAL2-IM-0348-0001.jpeg',\n",
              " '/content/Classification-of-COVID-19-chest-X-ray-images/dataset/training/normal/NORMAL2-IM-0120-0001.jpeg',\n",
              " '/content/Classification-of-COVID-19-chest-X-ray-images/dataset/training/normal/NORMAL2 (84).jpeg',\n",
              " '/content/Classification-of-COVID-19-chest-X-ray-images/dataset/training/normal/NORMAL2 (121).jpeg',\n",
              " '/content/Classification-of-COVID-19-chest-X-ray-images/dataset/training/normal/NORMAL2-IM-0130-0001.jpeg',\n",
              " '/content/Classification-of-COVID-19-chest-X-ray-images/dataset/training/normal/NORMAL2-IM-0102-0001.jpeg',\n",
              " '/content/Classification-of-COVID-19-chest-X-ray-images/dataset/training/normal/NORMAL2-IM-0357-0001.jpeg',\n",
              " '/content/Classification-of-COVID-19-chest-X-ray-images/dataset/training/normal/NORMAL2 (11).jpeg',\n",
              " '/content/Classification-of-COVID-19-chest-X-ray-images/dataset/training/normal/NORMAL2 (152).jpeg',\n",
              " '/content/Classification-of-COVID-19-chest-X-ray-images/dataset/training/normal/NORMAL2 (110).jpeg',\n",
              " '/content/Classification-of-COVID-19-chest-X-ray-images/dataset/training/normal/NORMAL2 (58).jpeg',\n",
              " '/content/Classification-of-COVID-19-chest-X-ray-images/dataset/training/normal/NORMAL2 (183).jpeg',\n",
              " '/content/Classification-of-COVID-19-chest-X-ray-images/dataset/training/normal/NORMAL2 (63).jpeg',\n",
              " '/content/Classification-of-COVID-19-chest-X-ray-images/dataset/training/normal/NORMAL2 (89).jpeg',\n",
              " '/content/Classification-of-COVID-19-chest-X-ray-images/dataset/training/normal/NORMAL2 (5).jpeg',\n",
              " '/content/Classification-of-COVID-19-chest-X-ray-images/dataset/training/normal/NORMAL2 (109).jpeg',\n",
              " '/content/Classification-of-COVID-19-chest-X-ray-images/dataset/training/normal/NORMAL2 (15).jpeg',\n",
              " '/content/Classification-of-COVID-19-chest-X-ray-images/dataset/training/normal/NORMAL2 (158).jpeg',\n",
              " '/content/Classification-of-COVID-19-chest-X-ray-images/dataset/training/normal/NORMAL2 (145).jpeg',\n",
              " '/content/Classification-of-COVID-19-chest-X-ray-images/dataset/training/normal/NORMAL2 (118).jpeg',\n",
              " '/content/Classification-of-COVID-19-chest-X-ray-images/dataset/training/normal/NORMAL2 (194).jpeg',\n",
              " '/content/Classification-of-COVID-19-chest-X-ray-images/dataset/training/normal/NORMAL2 (122).jpeg',\n",
              " '/content/Classification-of-COVID-19-chest-X-ray-images/dataset/training/normal/NORMAL2 (73).jpeg',\n",
              " '/content/Classification-of-COVID-19-chest-X-ray-images/dataset/training/normal/NORMAL2-IM-0368-0001.jpeg',\n",
              " '/content/Classification-of-COVID-19-chest-X-ray-images/dataset/training/normal/NORMAL2-IM-0345-0001.jpeg',\n",
              " '/content/Classification-of-COVID-19-chest-X-ray-images/dataset/training/normal/NORMAL2 (56).jpeg',\n",
              " '/content/Classification-of-COVID-19-chest-X-ray-images/dataset/training/normal/NORMAL2 (199).jpeg',\n",
              " '/content/Classification-of-COVID-19-chest-X-ray-images/dataset/training/normal/NORMAL2 (130).jpeg',\n",
              " '/content/Classification-of-COVID-19-chest-X-ray-images/dataset/training/normal/NORMAL2 (35).jpeg',\n",
              " '/content/Classification-of-COVID-19-chest-X-ray-images/dataset/training/normal/NORMAL2 (126).jpeg',\n",
              " '/content/Classification-of-COVID-19-chest-X-ray-images/dataset/training/normal/NORMAL2 (168).jpeg',\n",
              " '/content/Classification-of-COVID-19-chest-X-ray-images/dataset/training/normal/NORMAL2 (60).jpeg',\n",
              " '/content/Classification-of-COVID-19-chest-X-ray-images/dataset/training/normal/NORMAL2 (112).jpeg',\n",
              " '/content/Classification-of-COVID-19-chest-X-ray-images/dataset/training/normal/NORMAL2 (80).jpeg',\n",
              " '/content/Classification-of-COVID-19-chest-X-ray-images/dataset/training/normal/NORMAL2 (75).jpeg',\n",
              " '/content/Classification-of-COVID-19-chest-X-ray-images/dataset/training/normal/NORMAL2 (197).jpeg',\n",
              " '/content/Classification-of-COVID-19-chest-X-ray-images/dataset/training/normal/NORMAL2 (156).jpeg',\n",
              " '/content/Classification-of-COVID-19-chest-X-ray-images/dataset/training/normal/NORMAL2-IM-0196-0001.jpeg',\n",
              " '/content/Classification-of-COVID-19-chest-X-ray-images/dataset/training/normal/NORMAL2 (123).jpeg',\n",
              " '/content/Classification-of-COVID-19-chest-X-ray-images/dataset/training/normal/NORMAL2-IM-0052-0001.jpeg',\n",
              " '/content/Classification-of-COVID-19-chest-X-ray-images/dataset/training/normal/NORMAL2 (29).jpeg',\n",
              " '/content/Classification-of-COVID-19-chest-X-ray-images/dataset/training/normal/NORMAL2 (7).jpeg',\n",
              " '/content/Classification-of-COVID-19-chest-X-ray-images/dataset/training/normal/NORMAL2 (72).jpeg',\n",
              " '/content/Classification-of-COVID-19-chest-X-ray-images/dataset/training/normal/NORMAL2 (113).jpeg',\n",
              " '/content/Classification-of-COVID-19-chest-X-ray-images/dataset/training/normal/NORMAL2-IM-0117-0001.jpeg',\n",
              " '/content/Classification-of-COVID-19-chest-X-ray-images/dataset/training/normal/NORMAL2 (14).jpeg',\n",
              " '/content/Classification-of-COVID-19-chest-X-ray-images/dataset/training/normal/NORMAL2 (115).jpeg',\n",
              " '/content/Classification-of-COVID-19-chest-X-ray-images/dataset/training/normal/NORMAL2-IM-0271-0001.jpeg',\n",
              " '/content/Classification-of-COVID-19-chest-X-ray-images/dataset/training/normal/NORMAL2 (151).jpeg',\n",
              " '/content/Classification-of-COVID-19-chest-X-ray-images/dataset/training/normal/NORMAL2-IM-0029-0001.jpeg',\n",
              " '/content/Classification-of-COVID-19-chest-X-ray-images/dataset/training/normal/NORMAL2 (107).jpeg',\n",
              " '/content/Classification-of-COVID-19-chest-X-ray-images/dataset/training/normal/NORMAL2 (179).jpeg',\n",
              " '/content/Classification-of-COVID-19-chest-X-ray-images/dataset/training/normal/NORMAL2 (33).jpeg',\n",
              " '/content/Classification-of-COVID-19-chest-X-ray-images/dataset/training/normal/NORMAL2-IM-0343-0001.jpeg',\n",
              " '/content/Classification-of-COVID-19-chest-X-ray-images/dataset/training/normal/NORMAL2 (45).jpeg',\n",
              " '/content/Classification-of-COVID-19-chest-X-ray-images/dataset/training/normal/NORMAL2 (116).jpeg',\n",
              " '/content/Classification-of-COVID-19-chest-X-ray-images/dataset/training/normal/NORMAL2 (43).jpeg',\n",
              " '/content/Classification-of-COVID-19-chest-X-ray-images/dataset/training/normal/NORMAL2-IM-0374-0001.jpeg',\n",
              " '/content/Classification-of-COVID-19-chest-X-ray-images/dataset/training/normal/NORMAL2 (70).jpeg',\n",
              " '/content/Classification-of-COVID-19-chest-X-ray-images/dataset/training/normal/NORMAL2 (141).jpeg',\n",
              " '/content/Classification-of-COVID-19-chest-X-ray-images/dataset/training/normal/NORMAL2 (49).jpeg',\n",
              " '/content/Classification-of-COVID-19-chest-X-ray-images/dataset/training/normal/NORMAL2 (144).jpeg',\n",
              " '/content/Classification-of-COVID-19-chest-X-ray-images/dataset/training/normal/NORMAL2-IM-0095-0001.jpeg',\n",
              " '/content/Classification-of-COVID-19-chest-X-ray-images/dataset/training/normal/NORMAL2 (81).jpeg',\n",
              " '/content/Classification-of-COVID-19-chest-X-ray-images/dataset/training/normal/NORMAL2-IM-0107-0001.jpeg',\n",
              " '/content/Classification-of-COVID-19-chest-X-ray-images/dataset/training/normal/NORMAL2-IM-0073-0001.jpeg',\n",
              " '/content/Classification-of-COVID-19-chest-X-ray-images/dataset/training/normal/NORMAL2 (62).jpeg',\n",
              " '/content/Classification-of-COVID-19-chest-X-ray-images/dataset/training/normal/NORMAL2-IM-0273-0001.jpeg',\n",
              " '/content/Classification-of-COVID-19-chest-X-ray-images/dataset/training/normal/NORMAL2 (61).jpeg',\n",
              " '/content/Classification-of-COVID-19-chest-X-ray-images/dataset/training/normal/NORMAL2-IM-0092-0001.jpeg',\n",
              " '/content/Classification-of-COVID-19-chest-X-ray-images/dataset/training/normal/NORMAL2 (12).jpeg',\n",
              " '/content/Classification-of-COVID-19-chest-X-ray-images/dataset/training/normal/NORMAL2 (155).jpeg',\n",
              " '/content/Classification-of-COVID-19-chest-X-ray-images/dataset/training/normal/NORMAL2 (146).jpeg',\n",
              " '/content/Classification-of-COVID-19-chest-X-ray-images/dataset/training/normal/NORMAL2 (27).jpeg',\n",
              " '/content/Classification-of-COVID-19-chest-X-ray-images/dataset/training/normal/1.jpeg',\n",
              " '/content/Classification-of-COVID-19-chest-X-ray-images/dataset/training/normal/NORMAL2-IM-0374-0001-0001.jpeg',\n",
              " '/content/Classification-of-COVID-19-chest-X-ray-images/dataset/training/normal/NORMAL2 (74).jpeg',\n",
              " '/content/Classification-of-COVID-19-chest-X-ray-images/dataset/training/normal/NORMAL2-IM-0007-0001.jpeg',\n",
              " '/content/Classification-of-COVID-19-chest-X-ray-images/dataset/training/normal/NORMAL2 (191).jpeg',\n",
              " '/content/Classification-of-COVID-19-chest-X-ray-images/dataset/training/normal/NORMAL2 (193).jpeg',\n",
              " '/content/Classification-of-COVID-19-chest-X-ray-images/dataset/training/normal/NORMAL2-IM-0132-0001.jpeg',\n",
              " '/content/Classification-of-COVID-19-chest-X-ray-images/dataset/training/normal/NORMAL2 (52).jpeg',\n",
              " '/content/Classification-of-COVID-19-chest-X-ray-images/dataset/training/normal/NORMAL2-IM-0302-0001.jpeg',\n",
              " '/content/Classification-of-COVID-19-chest-X-ray-images/dataset/training/normal/NORMAL2 (38).jpeg',\n",
              " '/content/Classification-of-COVID-19-chest-X-ray-images/dataset/training/normal/NORMAL2 (78).jpeg',\n",
              " '/content/Classification-of-COVID-19-chest-X-ray-images/dataset/training/normal/NORMAL2 (44).jpeg',\n",
              " '/content/Classification-of-COVID-19-chest-X-ray-images/dataset/training/normal/NORMAL2-IM-0282-0001.jpeg',\n",
              " '/content/Classification-of-COVID-19-chest-X-ray-images/dataset/training/normal/NORMAL2 (200).jpeg',\n",
              " '/content/Classification-of-COVID-19-chest-X-ray-images/dataset/training/normal/NORMAL2 (135).jpeg',\n",
              " '/content/Classification-of-COVID-19-chest-X-ray-images/dataset/training/normal/NORMAL2 (65).jpeg',\n",
              " '/content/Classification-of-COVID-19-chest-X-ray-images/dataset/training/normal/NORMAL2 (159).jpeg',\n",
              " '/content/Classification-of-COVID-19-chest-X-ray-images/dataset/training/normal/NORMAL2 (192).jpeg',\n",
              " '/content/Classification-of-COVID-19-chest-X-ray-images/dataset/training/normal/NORMAL2 (48).jpeg',\n",
              " '/content/Classification-of-COVID-19-chest-X-ray-images/dataset/training/normal/NORMAL2 (174).jpeg',\n",
              " '/content/Classification-of-COVID-19-chest-X-ray-images/dataset/training/normal/NORMAL2-IM-0027-0001.jpeg',\n",
              " '/content/Classification-of-COVID-19-chest-X-ray-images/dataset/training/normal/NORMAL2 (186).jpeg',\n",
              " '/content/Classification-of-COVID-19-chest-X-ray-images/dataset/training/normal/NORMAL2 (119).jpeg',\n",
              " '/content/Classification-of-COVID-19-chest-X-ray-images/dataset/training/normal/NORMAL2 (71).jpeg',\n",
              " '/content/Classification-of-COVID-19-chest-X-ray-images/dataset/training/normal/NORMAL2 (164).jpeg',\n",
              " '/content/Classification-of-COVID-19-chest-X-ray-images/dataset/training/normal/NORMAL2-IM-0359-0001.jpeg',\n",
              " '/content/Classification-of-COVID-19-chest-X-ray-images/dataset/training/normal/NORMAL2 (55).jpeg',\n",
              " '/content/Classification-of-COVID-19-chest-X-ray-images/dataset/training/normal/NORMAL2-IM-0028-0001.jpeg',\n",
              " '/content/Classification-of-COVID-19-chest-X-ray-images/dataset/training/normal/NORMAL2 (171).jpeg',\n",
              " '/content/Classification-of-COVID-19-chest-X-ray-images/dataset/training/normal/NORMAL2-IM-0110-0001.jpeg',\n",
              " '/content/Classification-of-COVID-19-chest-X-ray-images/dataset/training/normal/NORMAL2 (103).jpeg',\n",
              " '/content/Classification-of-COVID-19-chest-X-ray-images/dataset/training/normal/NORMAL2 (68).jpeg',\n",
              " '/content/Classification-of-COVID-19-chest-X-ray-images/dataset/training/normal/NORMAL2 (3).jpeg',\n",
              " '/content/Classification-of-COVID-19-chest-X-ray-images/dataset/training/normal/NORMAL2 (120).jpeg',\n",
              " '/content/Classification-of-COVID-19-chest-X-ray-images/dataset/training/normal/NORMAL2 (142).jpeg',\n",
              " '/content/Classification-of-COVID-19-chest-X-ray-images/dataset/training/normal/NORMAL2 (154).jpeg',\n",
              " '/content/Classification-of-COVID-19-chest-X-ray-images/dataset/training/normal/NORMAL2-IM-0350-0001.jpeg',\n",
              " '/content/Classification-of-COVID-19-chest-X-ray-images/dataset/training/normal/NORMAL2-IM-0145-0001.jpeg',\n",
              " '/content/Classification-of-COVID-19-chest-X-ray-images/dataset/training/normal/NORMAL2 (92).jpeg',\n",
              " '/content/Classification-of-COVID-19-chest-X-ray-images/dataset/training/normal/NORMAL2-IM-0274-0001.jpeg',\n",
              " '/content/Classification-of-COVID-19-chest-X-ray-images/dataset/training/normal/NORMAL2 (37).jpeg',\n",
              " '/content/Classification-of-COVID-19-chest-X-ray-images/dataset/training/normal/NORMAL2 (47).jpeg',\n",
              " '/content/Classification-of-COVID-19-chest-X-ray-images/dataset/training/normal/NORMAL2 (64).jpeg',\n",
              " '/content/Classification-of-COVID-19-chest-X-ray-images/dataset/training/normal/NORMAL2 (22).jpeg',\n",
              " '/content/Classification-of-COVID-19-chest-X-ray-images/dataset/training/normal/NORMAL2 (167).jpeg',\n",
              " '/content/Classification-of-COVID-19-chest-X-ray-images/dataset/training/normal/NORMAL2 (153).jpeg',\n",
              " '/content/Classification-of-COVID-19-chest-X-ray-images/dataset/training/normal/NORMAL2 (137).jpeg',\n",
              " '/content/Classification-of-COVID-19-chest-X-ray-images/dataset/training/normal/NORMAL2 (40).jpeg',\n",
              " '/content/Classification-of-COVID-19-chest-X-ray-images/dataset/training/normal/NORMAL2 (39).jpeg',\n",
              " '/content/Classification-of-COVID-19-chest-X-ray-images/dataset/training/normal/NORMAL2 (195).jpeg',\n",
              " '/content/Classification-of-COVID-19-chest-X-ray-images/dataset/training/normal/NORMAL2 (198).jpeg',\n",
              " '/content/Classification-of-COVID-19-chest-X-ray-images/dataset/training/normal/NORMAL2 (4).jpeg',\n",
              " '/content/Classification-of-COVID-19-chest-X-ray-images/dataset/training/normal/NORMAL2 (108).jpeg',\n",
              " '/content/Classification-of-COVID-19-chest-X-ray-images/dataset/training/normal/NORMAL2-IM-0129-0001.jpeg',\n",
              " '/content/Classification-of-COVID-19-chest-X-ray-images/dataset/training/normal/NORMAL2-IM-0105-0001.jpeg',\n",
              " '/content/Classification-of-COVID-19-chest-X-ray-images/dataset/training/normal/NORMAL2-IM-0286-0001.jpeg',\n",
              " '/content/Classification-of-COVID-19-chest-X-ray-images/dataset/training/normal/NORMAL2 (57).jpeg',\n",
              " '/content/Classification-of-COVID-19-chest-X-ray-images/dataset/training/normal/NORMAL2 (93).jpeg',\n",
              " '/content/Classification-of-COVID-19-chest-X-ray-images/dataset/training/normal/NORMAL2-IM-0081-0001.jpeg',\n",
              " '/content/Classification-of-COVID-19-chest-X-ray-images/dataset/training/normal/NORMAL2-IM-0259-0001.jpeg',\n",
              " '/content/Classification-of-COVID-19-chest-X-ray-images/dataset/training/normal/NORMAL2 (106).jpeg',\n",
              " '/content/Classification-of-COVID-19-chest-X-ray-images/dataset/training/normal/NORMAL2 (160).jpeg',\n",
              " '/content/Classification-of-COVID-19-chest-X-ray-images/dataset/training/normal/NORMAL2 (157).jpeg',\n",
              " '/content/Classification-of-COVID-19-chest-X-ray-images/dataset/training/normal/NORMAL2 (16).jpeg',\n",
              " '/content/Classification-of-COVID-19-chest-X-ray-images/dataset/training/normal/NORMAL2 (34).jpeg',\n",
              " '/content/Classification-of-COVID-19-chest-X-ray-images/dataset/training/normal/NORMAL2 (129).jpeg',\n",
              " '/content/Classification-of-COVID-19-chest-X-ray-images/dataset/training/normal/NORMAL2 (69).jpeg',\n",
              " '/content/Classification-of-COVID-19-chest-X-ray-images/dataset/training/normal/NORMAL2 (188).jpeg',\n",
              " '/content/Classification-of-COVID-19-chest-X-ray-images/dataset/training/normal/NORMAL2 (50).jpeg',\n",
              " '/content/Classification-of-COVID-19-chest-X-ray-images/dataset/training/normal/NORMAL2 (190).jpeg',\n",
              " '/content/Classification-of-COVID-19-chest-X-ray-images/dataset/training/normal/NORMAL2-IM-0361-0001.jpeg',\n",
              " '/content/Classification-of-COVID-19-chest-X-ray-images/dataset/training/normal/NORMAL2 (86).jpeg',\n",
              " '/content/Classification-of-COVID-19-chest-X-ray-images/dataset/training/normal/NORMAL2 (139).jpeg',\n",
              " '/content/Classification-of-COVID-19-chest-X-ray-images/dataset/training/normal/NORMAL2 (36).jpeg',\n",
              " '/content/Classification-of-COVID-19-chest-X-ray-images/dataset/training/normal/NORMAL2 (133).jpeg',\n",
              " '/content/Classification-of-COVID-19-chest-X-ray-images/dataset/training/normal/NORMAL2 (25).jpeg',\n",
              " '/content/Classification-of-COVID-19-chest-X-ray-images/dataset/training/normal/NORMAL2 (82).jpeg',\n",
              " '/content/Classification-of-COVID-19-chest-X-ray-images/dataset/training/normal/NORMAL2 (148).jpeg',\n",
              " '/content/Classification-of-COVID-19-chest-X-ray-images/dataset/training/normal/NORMAL2 (181).jpeg',\n",
              " '/content/Classification-of-COVID-19-chest-X-ray-images/dataset/training/normal/NORMAL2 (143).jpeg',\n",
              " '/content/Classification-of-COVID-19-chest-X-ray-images/dataset/training/normal/NORMAL2-IM-0198-0001.jpeg',\n",
              " '/content/Classification-of-COVID-19-chest-X-ray-images/dataset/training/normal/NORMAL2 (96).jpeg',\n",
              " '/content/Classification-of-COVID-19-chest-X-ray-images/dataset/training/normal/NORMAL2 (101).jpeg',\n",
              " '/content/Classification-of-COVID-19-chest-X-ray-images/dataset/training/normal/NORMAL2 (66).jpeg',\n",
              " '/content/Classification-of-COVID-19-chest-X-ray-images/dataset/training/normal/NORMAL2-IM-0059-0001.jpeg',\n",
              " '/content/Classification-of-COVID-19-chest-X-ray-images/dataset/training/normal/NORMAL2 (77).jpeg',\n",
              " '/content/Classification-of-COVID-19-chest-X-ray-images/dataset/training/normal/NORMAL2 (20).jpeg',\n",
              " '/content/Classification-of-COVID-19-chest-X-ray-images/dataset/training/normal/NORMAL2 (100).jpeg',\n",
              " '/content/Classification-of-COVID-19-chest-X-ray-images/dataset/training/normal/NORMAL2-IM-0297-0001.jpeg',\n",
              " '/content/Classification-of-COVID-19-chest-X-ray-images/dataset/training/normal/NORMAL2-IM-0060-0001.jpeg',\n",
              " '/content/Classification-of-COVID-19-chest-X-ray-images/dataset/training/normal/NORMAL2 (79).jpeg',\n",
              " '/content/Classification-of-COVID-19-chest-X-ray-images/dataset/training/normal/NORMAL2-IM-0289-0001.jpeg',\n",
              " '/content/Classification-of-COVID-19-chest-X-ray-images/dataset/training/normal/NORMAL2-IM-0135-0001.jpeg',\n",
              " '/content/Classification-of-COVID-19-chest-X-ray-images/dataset/training/normal/NORMAL2-IM-0023-0001.jpeg',\n",
              " '/content/Classification-of-COVID-19-chest-X-ray-images/dataset/training/normal/NORMAL2-IM-0305-0001.jpeg',\n",
              " '/content/Classification-of-COVID-19-chest-X-ray-images/dataset/training/normal/NORMAL2 (95).jpeg',\n",
              " '/content/Classification-of-COVID-19-chest-X-ray-images/dataset/training/normal/NORMAL2 (111).jpeg',\n",
              " '/content/Classification-of-COVID-19-chest-X-ray-images/dataset/training/normal/NORMAL2 (6).jpeg',\n",
              " '/content/Classification-of-COVID-19-chest-X-ray-images/dataset/training/normal/NORMAL2-IM-0307-0001.jpeg',\n",
              " '/content/Classification-of-COVID-19-chest-X-ray-images/dataset/training/normal/NORMAL2 (187).jpeg',\n",
              " '/content/Classification-of-COVID-19-chest-X-ray-images/dataset/training/normal/NORMAL2 (149).jpeg',\n",
              " '/content/Classification-of-COVID-19-chest-X-ray-images/dataset/training/normal/NORMAL2-IM-0311-0001.jpeg',\n",
              " '/content/Classification-of-COVID-19-chest-X-ray-images/dataset/training/normal/NORMAL2 (23).jpeg',\n",
              " '/content/Classification-of-COVID-19-chest-X-ray-images/dataset/training/normal/NORMAL2 (83).jpeg',\n",
              " '/content/Classification-of-COVID-19-chest-X-ray-images/dataset/training/normal/NORMAL2 (9).jpeg',\n",
              " '/content/Classification-of-COVID-19-chest-X-ray-images/dataset/training/normal/NORMAL2 (131).jpeg',\n",
              " '/content/Classification-of-COVID-19-chest-X-ray-images/dataset/training/normal/NORMAL2-IM-0332-0001.jpeg',\n",
              " '/content/Classification-of-COVID-19-chest-X-ray-images/dataset/training/normal/NORMAL2 (173).jpeg',\n",
              " '/content/Classification-of-COVID-19-chest-X-ray-images/dataset/training/normal/NORMAL2 (182).jpeg',\n",
              " '/content/Classification-of-COVID-19-chest-X-ray-images/dataset/training/normal/NORMAL2-IM-0251-0001.jpeg',\n",
              " '/content/Classification-of-COVID-19-chest-X-ray-images/dataset/training/normal/NORMAL2-IM-0319-0001.jpeg',\n",
              " '/content/Classification-of-COVID-19-chest-X-ray-images/dataset/training/normal/NORMAL2 (138).jpeg',\n",
              " '/content/Classification-of-COVID-19-chest-X-ray-images/dataset/training/normal/NORMAL2 (98).jpeg',\n",
              " '/content/Classification-of-COVID-19-chest-X-ray-images/dataset/training/normal/NORMAL2 (132).jpeg',\n",
              " '/content/Classification-of-COVID-19-chest-X-ray-images/dataset/training/normal/NORMAL2-IM-0310-0001.jpeg',\n",
              " '/content/Classification-of-COVID-19-chest-X-ray-images/dataset/training/normal/NORMAL2 (1).jpeg',\n",
              " '/content/Classification-of-COVID-19-chest-X-ray-images/dataset/training/normal/NORMAL2 (134).jpeg',\n",
              " '/content/Classification-of-COVID-19-chest-X-ray-images/dataset/training/normal/NORMAL2-IM-0033-0001.jpeg',\n",
              " '/content/Classification-of-COVID-19-chest-X-ray-images/dataset/training/normal/NORMAL2-IM-0353-0001.jpeg',\n",
              " '/content/Classification-of-COVID-19-chest-X-ray-images/dataset/training/normal/NORMAL2 (105).jpeg',\n",
              " '/content/Classification-of-COVID-19-chest-X-ray-images/dataset/training/normal/NORMAL2-IM-0337-0001.jpeg',\n",
              " '/content/Classification-of-COVID-19-chest-X-ray-images/dataset/training/normal/NORMAL2 (196).jpeg',\n",
              " '/content/Classification-of-COVID-19-chest-X-ray-images/dataset/training/normal/NORMAL2 (19).jpeg',\n",
              " '/content/Classification-of-COVID-19-chest-X-ray-images/dataset/training/normal/NORMAL2-IM-0347-0001.jpeg',\n",
              " '/content/Classification-of-COVID-19-chest-X-ray-images/dataset/training/normal/NORMAL2 (24).jpeg',\n",
              " '/content/Classification-of-COVID-19-chest-X-ray-images/dataset/training/normal/NORMAL2 (117).jpeg',\n",
              " '/content/Classification-of-COVID-19-chest-X-ray-images/dataset/training/normal/NORMAL2-IM-0012-0001.jpeg',\n",
              " '/content/Classification-of-COVID-19-chest-X-ray-images/dataset/training/normal/NORMAL2-IM-0287-0001.jpeg',\n",
              " '/content/Classification-of-COVID-19-chest-X-ray-images/dataset/training/normal/NORMAL2 (85).jpeg',\n",
              " '/content/Classification-of-COVID-19-chest-X-ray-images/dataset/training/normal/NORMAL2-IM-0300-0001.jpeg',\n",
              " '/content/Classification-of-COVID-19-chest-X-ray-images/dataset/training/normal/NORMAL2-IM-0013-0001.jpeg',\n",
              " '/content/Classification-of-COVID-19-chest-X-ray-images/dataset/training/normal/NORMAL2-IM-0079-0001.jpeg',\n",
              " '/content/Classification-of-COVID-19-chest-X-ray-images/dataset/training/normal/NORMAL2 (18).jpeg',\n",
              " '/content/Classification-of-COVID-19-chest-X-ray-images/dataset/training/normal/NORMAL2 (176).jpeg',\n",
              " '/content/Classification-of-COVID-19-chest-X-ray-images/dataset/training/normal/NORMAL2 (185).jpeg',\n",
              " '/content/Classification-of-COVID-19-chest-X-ray-images/dataset/training/normal/NORMAL2-IM-0213-0001.jpeg',\n",
              " '/content/Classification-of-COVID-19-chest-X-ray-images/dataset/training/normal/NORMAL2 (87).jpeg',\n",
              " '/content/Classification-of-COVID-19-chest-X-ray-images/dataset/training/normal/NORMAL2 (99).jpeg',\n",
              " '/content/Classification-of-COVID-19-chest-X-ray-images/dataset/training/normal/NORMAL2 (32).jpeg',\n",
              " '/content/Classification-of-COVID-19-chest-X-ray-images/dataset/training/normal/NORMAL2 (42).jpeg',\n",
              " '/content/Classification-of-COVID-19-chest-X-ray-images/dataset/training/normal/NORMAL2 (180).jpeg',\n",
              " '/content/Classification-of-COVID-19-chest-X-ray-images/dataset/training/normal/NORMAL2-IM-0339-0001.jpeg',\n",
              " '/content/Classification-of-COVID-19-chest-X-ray-images/dataset/training/normal/NORMAL2-IM-0019-0001.jpeg',\n",
              " '/content/Classification-of-COVID-19-chest-X-ray-images/dataset/training/normal/NORMAL2-IM-0323-0001.jpeg',\n",
              " '/content/Classification-of-COVID-19-chest-X-ray-images/dataset/training/normal/NORMAL2-IM-0370-0001.jpeg',\n",
              " '/content/Classification-of-COVID-19-chest-X-ray-images/dataset/training/infected/covid_train (79).jpg',\n",
              " '/content/Classification-of-COVID-19-chest-X-ray-images/dataset/training/infected/covid_train (28).jpeg',\n",
              " '/content/Classification-of-COVID-19-chest-X-ray-images/dataset/training/infected/covid_train (71).jpg',\n",
              " '/content/Classification-of-COVID-19-chest-X-ray-images/dataset/training/infected/covid_train11.png',\n",
              " '/content/Classification-of-COVID-19-chest-X-ray-images/dataset/training/infected/covid_train (43).jpg',\n",
              " '/content/Classification-of-COVID-19-chest-X-ray-images/dataset/training/infected/covid_train (30).jpeg',\n",
              " '/content/Classification-of-COVID-19-chest-X-ray-images/dataset/training/infected/covid_train (37).jpeg',\n",
              " '/content/Classification-of-COVID-19-chest-X-ray-images/dataset/training/infected/covid_train (20).jpeg',\n",
              " '/content/Classification-of-COVID-19-chest-X-ray-images/dataset/training/infected/covid_train16.png',\n",
              " '/content/Classification-of-COVID-19-chest-X-ray-images/dataset/training/infected/covid_train (29).jpeg',\n",
              " '/content/Classification-of-COVID-19-chest-X-ray-images/dataset/training/infected/covid_train (47).jpeg',\n",
              " '/content/Classification-of-COVID-19-chest-X-ray-images/dataset/training/infected/covid_train (45).jpg',\n",
              " '/content/Classification-of-COVID-19-chest-X-ray-images/dataset/training/infected/covid_train (29).jpg',\n",
              " '/content/Classification-of-COVID-19-chest-X-ray-images/dataset/training/infected/covid_train (101).jpg',\n",
              " '/content/Classification-of-COVID-19-chest-X-ray-images/dataset/training/infected/covid_train10.png',\n",
              " '/content/Classification-of-COVID-19-chest-X-ray-images/dataset/training/infected/covid_train (16).jpg',\n",
              " '/content/Classification-of-COVID-19-chest-X-ray-images/dataset/training/infected/covid_train (45).jpeg',\n",
              " '/content/Classification-of-COVID-19-chest-X-ray-images/dataset/training/infected/covid_train (82).jpg',\n",
              " '/content/Classification-of-COVID-19-chest-X-ray-images/dataset/training/infected/covid_train (80).JPG',\n",
              " '/content/Classification-of-COVID-19-chest-X-ray-images/dataset/training/infected/covid_train (61).jpg',\n",
              " '/content/Classification-of-COVID-19-chest-X-ray-images/dataset/training/infected/covid_train (46).png',\n",
              " '/content/Classification-of-COVID-19-chest-X-ray-images/dataset/training/infected/covid_train (81).jpg',\n",
              " '/content/Classification-of-COVID-19-chest-X-ray-images/dataset/training/infected/covid_train (39).jpeg',\n",
              " '/content/Classification-of-COVID-19-chest-X-ray-images/dataset/training/infected/covid_train (69).jpg',\n",
              " '/content/Classification-of-COVID-19-chest-X-ray-images/dataset/training/infected/covid_train62.png',\n",
              " '/content/Classification-of-COVID-19-chest-X-ray-images/dataset/training/infected/covid_train (1).jpg',\n",
              " '/content/Classification-of-COVID-19-chest-X-ray-images/dataset/training/infected/covid_train (88).jpg',\n",
              " '/content/Classification-of-COVID-19-chest-X-ray-images/dataset/training/infected/covid_train70.jpg',\n",
              " '/content/Classification-of-COVID-19-chest-X-ray-images/dataset/training/infected/covid_train (8).jpeg',\n",
              " '/content/Classification-of-COVID-19-chest-X-ray-images/dataset/training/infected/covid_train (59).jpg',\n",
              " '/content/Classification-of-COVID-19-chest-X-ray-images/dataset/training/infected/covid_train (7).png',\n",
              " '/content/Classification-of-COVID-19-chest-X-ray-images/dataset/training/infected/covid_train48.png',\n",
              " '/content/Classification-of-COVID-19-chest-X-ray-images/dataset/training/infected/covid_train (3).jpg',\n",
              " '/content/Classification-of-COVID-19-chest-X-ray-images/dataset/training/infected/covid_train12.png',\n",
              " '/content/Classification-of-COVID-19-chest-X-ray-images/dataset/training/infected/covid_train64.jpg',\n",
              " '/content/Classification-of-COVID-19-chest-X-ray-images/dataset/training/infected/covid_train43.jpeg',\n",
              " '/content/Classification-of-COVID-19-chest-X-ray-images/dataset/training/infected/covid_train71.jpg',\n",
              " '/content/Classification-of-COVID-19-chest-X-ray-images/dataset/training/infected/covid_train53.png',\n",
              " '/content/Classification-of-COVID-19-chest-X-ray-images/dataset/training/infected/covid_train (45).png',\n",
              " '/content/Classification-of-COVID-19-chest-X-ray-images/dataset/training/infected/covid_train (4).jpg',\n",
              " '/content/Classification-of-COVID-19-chest-X-ray-images/dataset/training/infected/covid_train59.png',\n",
              " '/content/Classification-of-COVID-19-chest-X-ray-images/dataset/training/infected/covid_train76.jpg',\n",
              " '/content/Classification-of-COVID-19-chest-X-ray-images/dataset/training/infected/covid_train (28).jpg',\n",
              " '/content/Classification-of-COVID-19-chest-X-ray-images/dataset/training/infected/covid_train (46).jpg',\n",
              " '/content/Classification-of-COVID-19-chest-X-ray-images/dataset/training/infected/covid_train44.jpeg',\n",
              " '/content/Classification-of-COVID-19-chest-X-ray-images/dataset/training/infected/covid_train24.jpeg',\n",
              " '/content/Classification-of-COVID-19-chest-X-ray-images/dataset/training/infected/covid_train (24).jpg',\n",
              " '/content/Classification-of-COVID-19-chest-X-ray-images/dataset/training/infected/covid_train (51).jpg',\n",
              " '/content/Classification-of-COVID-19-chest-X-ray-images/dataset/training/infected/covid_train51.png',\n",
              " '/content/Classification-of-COVID-19-chest-X-ray-images/dataset/training/infected/covid_train (17).png',\n",
              " '/content/Classification-of-COVID-19-chest-X-ray-images/dataset/training/infected/covid_train (12).png',\n",
              " '/content/Classification-of-COVID-19-chest-X-ray-images/dataset/training/infected/covid_train (4).png',\n",
              " '/content/Classification-of-COVID-19-chest-X-ray-images/dataset/training/infected/covid_train (14).jpeg',\n",
              " '/content/Classification-of-COVID-19-chest-X-ray-images/dataset/training/infected/covid_train (56).jpg',\n",
              " '/content/Classification-of-COVID-19-chest-X-ray-images/dataset/training/infected/covid_train (5).jpeg',\n",
              " '/content/Classification-of-COVID-19-chest-X-ray-images/dataset/training/infected/covid_train (2).png',\n",
              " '/content/Classification-of-COVID-19-chest-X-ray-images/dataset/training/infected/covid_train (36).png',\n",
              " '/content/Classification-of-COVID-19-chest-X-ray-images/dataset/training/infected/covid_train (9).jpg',\n",
              " '/content/Classification-of-COVID-19-chest-X-ray-images/dataset/training/infected/covid_train (22).jpg',\n",
              " '/content/Classification-of-COVID-19-chest-X-ray-images/dataset/training/infected/covid_train84.jpeg',\n",
              " '/content/Classification-of-COVID-19-chest-X-ray-images/dataset/training/infected/covid_train (105).jpg',\n",
              " '/content/Classification-of-COVID-19-chest-X-ray-images/dataset/training/infected/covid_train (33).jpeg',\n",
              " '/content/Classification-of-COVID-19-chest-X-ray-images/dataset/training/infected/covid_train (6).png',\n",
              " '/content/Classification-of-COVID-19-chest-X-ray-images/dataset/training/infected/covid_train60.png',\n",
              " '/content/Classification-of-COVID-19-chest-X-ray-images/dataset/training/infected/covid_train (19).jpg',\n",
              " '/content/Classification-of-COVID-19-chest-X-ray-images/dataset/training/infected/covid_train (22).png',\n",
              " '/content/Classification-of-COVID-19-chest-X-ray-images/dataset/training/infected/covid_train (85).jpg',\n",
              " '/content/Classification-of-COVID-19-chest-X-ray-images/dataset/training/infected/covid_train (6).jpg',\n",
              " '/content/Classification-of-COVID-19-chest-X-ray-images/dataset/training/infected/covid_train (54).jpg',\n",
              " '/content/Classification-of-COVID-19-chest-X-ray-images/dataset/training/infected/covid_train79.jpeg',\n",
              " '/content/Classification-of-COVID-19-chest-X-ray-images/dataset/training/infected/covid_train32.jpeg',\n",
              " '/content/Classification-of-COVID-19-chest-X-ray-images/dataset/training/infected/covid_train87.jpeg',\n",
              " '/content/Classification-of-COVID-19-chest-X-ray-images/dataset/training/infected/covid_train (92).jpg',\n",
              " '/content/Classification-of-COVID-19-chest-X-ray-images/dataset/training/infected/covid_train40.jpeg',\n",
              " '/content/Classification-of-COVID-19-chest-X-ray-images/dataset/training/infected/covid_train65.jpg',\n",
              " '/content/Classification-of-COVID-19-chest-X-ray-images/dataset/training/infected/covid_train (2).jpeg',\n",
              " '/content/Classification-of-COVID-19-chest-X-ray-images/dataset/training/infected/covid_train (104).jpg',\n",
              " '/content/Classification-of-COVID-19-chest-X-ray-images/dataset/training/infected/covid_train (34).jpg',\n",
              " '/content/Classification-of-COVID-19-chest-X-ray-images/dataset/training/infected/covid_train (14).jpg',\n",
              " '/content/Classification-of-COVID-19-chest-X-ray-images/dataset/training/infected/covid_train19.jpeg',\n",
              " '/content/Classification-of-COVID-19-chest-X-ray-images/dataset/training/infected/covid_train (36).jpg',\n",
              " '/content/Classification-of-COVID-19-chest-X-ray-images/dataset/training/infected/covid_train3.jpg',\n",
              " '/content/Classification-of-COVID-19-chest-X-ray-images/dataset/training/infected/covid_train (27).png',\n",
              " '/content/Classification-of-COVID-19-chest-X-ray-images/dataset/training/infected/covid_train (68).jpg',\n",
              " '/content/Classification-of-COVID-19-chest-X-ray-images/dataset/training/infected/covid_train (8).jpg',\n",
              " '/content/Classification-of-COVID-19-chest-X-ray-images/dataset/training/infected/covid_train25.jpeg',\n",
              " '/content/Classification-of-COVID-19-chest-X-ray-images/dataset/training/infected/covid_train (29).png',\n",
              " '/content/Classification-of-COVID-19-chest-X-ray-images/dataset/training/infected/covid_train (23).jpeg',\n",
              " '/content/Classification-of-COVID-19-chest-X-ray-images/dataset/training/infected/covid_train89.jpeg',\n",
              " '/content/Classification-of-COVID-19-chest-X-ray-images/dataset/training/infected/covid_train (106).jpg',\n",
              " '/content/Classification-of-COVID-19-chest-X-ray-images/dataset/training/infected/covid_train (24).png',\n",
              " '/content/Classification-of-COVID-19-chest-X-ray-images/dataset/training/infected/covid_train50.png',\n",
              " '/content/Classification-of-COVID-19-chest-X-ray-images/dataset/training/infected/covid_train (50).jpeg',\n",
              " '/content/Classification-of-COVID-19-chest-X-ray-images/dataset/training/infected/covid_train (70).jpg',\n",
              " '/content/Classification-of-COVID-19-chest-X-ray-images/dataset/training/infected/covid_train (55).jpg',\n",
              " '/content/Classification-of-COVID-19-chest-X-ray-images/dataset/training/infected/covid_train (100).jpg',\n",
              " '/content/Classification-of-COVID-19-chest-X-ray-images/dataset/training/infected/covid_train69.jpg',\n",
              " '/content/Classification-of-COVID-19-chest-X-ray-images/dataset/training/infected/covid_train27.jpeg',\n",
              " '/content/Classification-of-COVID-19-chest-X-ray-images/dataset/training/infected/covid_train8.png',\n",
              " '/content/Classification-of-COVID-19-chest-X-ray-images/dataset/training/infected/covid_train20.jpeg',\n",
              " '/content/Classification-of-COVID-19-chest-X-ray-images/dataset/training/infected/covid_train58.png',\n",
              " '/content/Classification-of-COVID-19-chest-X-ray-images/dataset/training/infected/covid_train (74).jpg',\n",
              " '/content/Classification-of-COVID-19-chest-X-ray-images/dataset/training/infected/covid_train (26).jpeg',\n",
              " '/content/Classification-of-COVID-19-chest-X-ray-images/dataset/training/infected/covid_train (35).png',\n",
              " '/content/Classification-of-COVID-19-chest-X-ray-images/dataset/training/infected/covid_train7.jpg',\n",
              " '/content/Classification-of-COVID-19-chest-X-ray-images/dataset/training/infected/covid_train34.jpeg',\n",
              " '/content/Classification-of-COVID-19-chest-X-ray-images/dataset/training/infected/covid_train28.jpeg',\n",
              " '/content/Classification-of-COVID-19-chest-X-ray-images/dataset/training/infected/covid_train (26).png',\n",
              " '/content/Classification-of-COVID-19-chest-X-ray-images/dataset/training/infected/covid_train (17).jpg',\n",
              " '/content/Classification-of-COVID-19-chest-X-ray-images/dataset/training/infected/covid_train61.jpg',\n",
              " '/content/Classification-of-COVID-19-chest-X-ray-images/dataset/training/infected/covid_train (12).jpg',\n",
              " '/content/Classification-of-COVID-19-chest-X-ray-images/dataset/training/infected/covid_train (9).jpeg',\n",
              " '/content/Classification-of-COVID-19-chest-X-ray-images/dataset/training/infected/covid_train (78).jpg',\n",
              " '/content/Classification-of-COVID-19-chest-X-ray-images/dataset/training/infected/covid_train22.jpeg',\n",
              " '/content/Classification-of-COVID-19-chest-X-ray-images/dataset/training/infected/covid_train (38).jpg',\n",
              " '/content/Classification-of-COVID-19-chest-X-ray-images/dataset/training/infected/covid_train55.jpg',\n",
              " '/content/Classification-of-COVID-19-chest-X-ray-images/dataset/training/infected/covid_train (34).jpeg',\n",
              " '/content/Classification-of-COVID-19-chest-X-ray-images/dataset/training/infected/covid_train47.png',\n",
              " '/content/Classification-of-COVID-19-chest-X-ray-images/dataset/training/infected/covid_train83.png',\n",
              " '/content/Classification-of-COVID-19-chest-X-ray-images/dataset/training/infected/covid_train17.png',\n",
              " '/content/Classification-of-COVID-19-chest-X-ray-images/dataset/training/infected/covid_train (47).jpg',\n",
              " '/content/Classification-of-COVID-19-chest-X-ray-images/dataset/training/infected/covid_train86.jpeg',\n",
              " '/content/Classification-of-COVID-19-chest-X-ray-images/dataset/training/infected/covid_train (30).jpg',\n",
              " '/content/Classification-of-COVID-19-chest-X-ray-images/dataset/training/infected/covid_train (95).jpg',\n",
              " '/content/Classification-of-COVID-19-chest-X-ray-images/dataset/training/infected/covid_train (13).jpg',\n",
              " '/content/Classification-of-COVID-19-chest-X-ray-images/dataset/training/infected/covid_train29.jpeg',\n",
              " '/content/Classification-of-COVID-19-chest-X-ray-images/dataset/training/infected/covid_train (1).png',\n",
              " '/content/Classification-of-COVID-19-chest-X-ray-images/dataset/training/infected/covid_train (62).jpg',\n",
              " '/content/Classification-of-COVID-19-chest-X-ray-images/dataset/training/infected/covid_train (18).jpg',\n",
              " '/content/Classification-of-COVID-19-chest-X-ray-images/dataset/training/infected/covid_train (28).png',\n",
              " '/content/Classification-of-COVID-19-chest-X-ray-images/dataset/training/infected/covid_train (41).jpg',\n",
              " '/content/Classification-of-COVID-19-chest-X-ray-images/dataset/training/infected/covid_train (37).jpg',\n",
              " '/content/Classification-of-COVID-19-chest-X-ray-images/dataset/training/infected/covid_train (12).jpeg',\n",
              " '/content/Classification-of-COVID-19-chest-X-ray-images/dataset/training/infected/covid_train18.png',\n",
              " '/content/Classification-of-COVID-19-chest-X-ray-images/dataset/training/infected/covid_train (63).jpg',\n",
              " '/content/Classification-of-COVID-19-chest-X-ray-images/dataset/training/infected/covid_train (31).jpg',\n",
              " '/content/Classification-of-COVID-19-chest-X-ray-images/dataset/training/infected/covid_train (5).png',\n",
              " '/content/Classification-of-COVID-19-chest-X-ray-images/dataset/training/infected/covid_train (15).jpeg',\n",
              " '/content/Classification-of-COVID-19-chest-X-ray-images/dataset/training/infected/covid_train14.png',\n",
              " '/content/Classification-of-COVID-19-chest-X-ray-images/dataset/training/infected/covid_train57.jpg',\n",
              " '/content/Classification-of-COVID-19-chest-X-ray-images/dataset/training/infected/covid_train (103).jpg',\n",
              " '/content/Classification-of-COVID-19-chest-X-ray-images/dataset/training/infected/covid_train (24).jpeg',\n",
              " '/content/Classification-of-COVID-19-chest-X-ray-images/dataset/training/infected/covid_train (76).jpg',\n",
              " '/content/Classification-of-COVID-19-chest-X-ray-images/dataset/training/infected/covid_train (21).jpeg',\n",
              " '/content/Classification-of-COVID-19-chest-X-ray-images/dataset/training/infected/covid_train81.jpeg',\n",
              " '/content/Classification-of-COVID-19-chest-X-ray-images/dataset/training/infected/covid_train (20).png',\n",
              " '/content/Classification-of-COVID-19-chest-X-ray-images/dataset/training/infected/covid_train (22).jpeg',\n",
              " '/content/Classification-of-COVID-19-chest-X-ray-images/dataset/training/infected/1.jpeg',\n",
              " '/content/Classification-of-COVID-19-chest-X-ray-images/dataset/training/infected/covid_train78.jpeg',\n",
              " '/content/Classification-of-COVID-19-chest-X-ray-images/dataset/training/infected/covid_train (10).jpeg',\n",
              " '/content/Classification-of-COVID-19-chest-X-ray-images/dataset/training/infected/covid_train4.jpg',\n",
              " '/content/Classification-of-COVID-19-chest-X-ray-images/dataset/training/infected/covid_train13.png',\n",
              " '/content/Classification-of-COVID-19-chest-X-ray-images/dataset/training/infected/covid_train (42).jpg',\n",
              " '/content/Classification-of-COVID-19-chest-X-ray-images/dataset/training/infected/covid_train85.jpeg',\n",
              " '/content/Classification-of-COVID-19-chest-X-ray-images/dataset/training/infected/covid_train (90).jpg',\n",
              " '/content/Classification-of-COVID-19-chest-X-ray-images/dataset/training/infected/covid_train (89).jpg',\n",
              " '/content/Classification-of-COVID-19-chest-X-ray-images/dataset/training/infected/covid_train (10).png',\n",
              " '/content/Classification-of-COVID-19-chest-X-ray-images/dataset/training/infected/covid_train (43).jpeg',\n",
              " '/content/Classification-of-COVID-19-chest-X-ray-images/dataset/training/infected/covid_train (50).jpg',\n",
              " '/content/Classification-of-COVID-19-chest-X-ray-images/dataset/training/infected/covid_train74.jpeg',\n",
              " '/content/Classification-of-COVID-19-chest-X-ray-images/dataset/training/infected/covid_train (7).jpg',\n",
              " '/content/Classification-of-COVID-19-chest-X-ray-images/dataset/training/infected/covid_train (87).jpg',\n",
              " '/content/Classification-of-COVID-19-chest-X-ray-images/dataset/training/infected/covid_train (11).png',\n",
              " '/content/Classification-of-COVID-19-chest-X-ray-images/dataset/training/infected/covid_train (38).jpeg',\n",
              " '/content/Classification-of-COVID-19-chest-X-ray-images/dataset/training/infected/covid_train38.jpeg',\n",
              " '/content/Classification-of-COVID-19-chest-X-ray-images/dataset/training/infected/covid_train (7).jpeg',\n",
              " '/content/Classification-of-COVID-19-chest-X-ray-images/dataset/training/infected/covid_train (73).jpg',\n",
              " '/content/Classification-of-COVID-19-chest-X-ray-images/dataset/training/infected/covid_train41.jpeg',\n",
              " '/content/Classification-of-COVID-19-chest-X-ray-images/dataset/training/infected/covid_train (41).png',\n",
              " '/content/Classification-of-COVID-19-chest-X-ray-images/dataset/training/infected/covid_train49.jpg',\n",
              " '/content/Classification-of-COVID-19-chest-X-ray-images/dataset/training/infected/covid_train (14).png',\n",
              " '/content/Classification-of-COVID-19-chest-X-ray-images/dataset/training/infected/covid_train9.png',\n",
              " '/content/Classification-of-COVID-19-chest-X-ray-images/dataset/training/infected/covid_train (98).jpg',\n",
              " '/content/Classification-of-COVID-19-chest-X-ray-images/dataset/training/infected/covid_train56.jpg',\n",
              " '/content/Classification-of-COVID-19-chest-X-ray-images/dataset/training/infected/covid_train (91).jpg',\n",
              " '/content/Classification-of-COVID-19-chest-X-ray-images/dataset/training/infected/covid_train2.jpeg',\n",
              " '/content/Classification-of-COVID-19-chest-X-ray-images/dataset/training/infected/covid_train (49).jpg',\n",
              " '/content/Classification-of-COVID-19-chest-X-ray-images/dataset/training/infected/covid_train (65).jpg',\n",
              " '/content/Classification-of-COVID-19-chest-X-ray-images/dataset/training/infected/covid_train (94).jpg',\n",
              " '/content/Classification-of-COVID-19-chest-X-ray-images/dataset/training/infected/covid_train30.jpeg',\n",
              " '/content/Classification-of-COVID-19-chest-X-ray-images/dataset/training/infected/covid_train (26).jpg',\n",
              " '/content/Classification-of-COVID-19-chest-X-ray-images/dataset/training/infected/covid_train36.jpeg',\n",
              " '/content/Classification-of-COVID-19-chest-X-ray-images/dataset/training/infected/covid_train (40).jpg',\n",
              " '/content/Classification-of-COVID-19-chest-X-ray-images/dataset/training/infected/covid_train1.jpeg',\n",
              " '/content/Classification-of-COVID-19-chest-X-ray-images/dataset/training/infected/covid_train (20).jpg',\n",
              " '/content/Classification-of-COVID-19-chest-X-ray-images/dataset/training/infected/covid_train (27).jpg',\n",
              " '/content/Classification-of-COVID-19-chest-X-ray-images/dataset/training/infected/covid_train (18).jpeg',\n",
              " '/content/Classification-of-COVID-19-chest-X-ray-images/dataset/training/infected/covid_train35.jpeg',\n",
              " '/content/Classification-of-COVID-19-chest-X-ray-images/dataset/training/infected/covid_train (39).png',\n",
              " '/content/Classification-of-COVID-19-chest-X-ray-images/dataset/training/infected/covid_train (13).jpeg',\n",
              " '/content/Classification-of-COVID-19-chest-X-ray-images/dataset/training/infected/covid_train (9).png',\n",
              " '/content/Classification-of-COVID-19-chest-X-ray-images/dataset/training/infected/covid_train (40).png',\n",
              " '/content/Classification-of-COVID-19-chest-X-ray-images/dataset/training/infected/covid_train (5).jpg',\n",
              " '/content/Classification-of-COVID-19-chest-X-ray-images/dataset/training/infected/covid_train (77).jpg',\n",
              " '/content/Classification-of-COVID-19-chest-X-ray-images/dataset/training/infected/covid_train (40).jpeg',\n",
              " '/content/Classification-of-COVID-19-chest-X-ray-images/dataset/training/infected/covid_train (57).jpg',\n",
              " '/content/Classification-of-COVID-19-chest-X-ray-images/dataset/training/infected/covid_train (30).png',\n",
              " '/content/Classification-of-COVID-19-chest-X-ray-images/dataset/training/infected/covid_train (67).jpg',\n",
              " '/content/Classification-of-COVID-19-chest-X-ray-images/dataset/training/infected/covid_train (35).jpg',\n",
              " '/content/Classification-of-COVID-19-chest-X-ray-images/dataset/training/infected/covid_train (16).jpeg',\n",
              " '/content/Classification-of-COVID-19-chest-X-ray-images/dataset/training/infected/covid_train (15).png',\n",
              " '/content/Classification-of-COVID-19-chest-X-ray-images/dataset/training/infected/covid_train (19).jpeg',\n",
              " '/content/Classification-of-COVID-19-chest-X-ray-images/dataset/training/infected/covid_train (6).jpeg',\n",
              " '/content/Classification-of-COVID-19-chest-X-ray-images/dataset/training/infected/covid_train (41).jpeg',\n",
              " '/content/Classification-of-COVID-19-chest-X-ray-images/dataset/training/infected/covid_train (39).jpg',\n",
              " '/content/Classification-of-COVID-19-chest-X-ray-images/dataset/training/infected/covid_train (3).jpeg',\n",
              " '/content/Classification-of-COVID-19-chest-X-ray-images/dataset/training/infected/covid_train (58).jpg',\n",
              " '/content/Classification-of-COVID-19-chest-X-ray-images/dataset/training/infected/covid_train (66).jpg',\n",
              " '/content/Classification-of-COVID-19-chest-X-ray-images/dataset/training/infected/covid_train (17).jpeg',\n",
              " '/content/Classification-of-COVID-19-chest-X-ray-images/dataset/training/infected/covid_train (102).jpg',\n",
              " '/content/Classification-of-COVID-19-chest-X-ray-images/dataset/training/infected/covid_train (1).jpeg',\n",
              " '/content/Classification-of-COVID-19-chest-X-ray-images/dataset/training/infected/covid_train (64).jpg',\n",
              " '/content/Classification-of-COVID-19-chest-X-ray-images/dataset/training/infected/covid_train (48).png',\n",
              " '/content/Classification-of-COVID-19-chest-X-ray-images/dataset/training/infected/covid_train31.jpeg',\n",
              " '/content/Classification-of-COVID-19-chest-X-ray-images/dataset/training/infected/covid_train5.jpg',\n",
              " '/content/Classification-of-COVID-19-chest-X-ray-images/dataset/training/infected/covid_train (36).jpeg',\n",
              " '/content/Classification-of-COVID-19-chest-X-ray-images/dataset/training/infected/covid_train77.jpeg',\n",
              " '/content/Classification-of-COVID-19-chest-X-ray-images/dataset/training/infected/covid_train (19).png',\n",
              " '/content/Classification-of-COVID-19-chest-X-ray-images/dataset/training/infected/covid_train (4).jpeg',\n",
              " '/content/Classification-of-COVID-19-chest-X-ray-images/dataset/training/infected/covid_train (44).jpeg',\n",
              " '/content/Classification-of-COVID-19-chest-X-ray-images/dataset/training/infected/covid_train33.jpeg',\n",
              " '/content/Classification-of-COVID-19-chest-X-ray-images/dataset/training/infected/covid_train (32).jpeg',\n",
              " '/content/Classification-of-COVID-19-chest-X-ray-images/dataset/training/infected/covid_train (52).jpeg',\n",
              " '/content/Classification-of-COVID-19-chest-X-ray-images/dataset/training/infected/covid_train (25).jpeg',\n",
              " '/content/Classification-of-COVID-19-chest-X-ray-images/dataset/training/infected/covid_train15.png',\n",
              " '/content/Classification-of-COVID-19-chest-X-ray-images/dataset/training/infected/covid_train (23).jpg',\n",
              " '/content/Classification-of-COVID-19-chest-X-ray-images/dataset/training/infected/covid_train (53).jpg',\n",
              " '/content/Classification-of-COVID-19-chest-X-ray-images/dataset/training/infected/covid_train (10).jpg',\n",
              " '/content/Classification-of-COVID-19-chest-X-ray-images/dataset/training/infected/covid_train (13).png',\n",
              " '/content/Classification-of-COVID-19-chest-X-ray-images/dataset/training/infected/covid_train (96).jpg',\n",
              " '/content/Classification-of-COVID-19-chest-X-ray-images/dataset/training/infected/covid_train (48).jpg',\n",
              " '/content/Classification-of-COVID-19-chest-X-ray-images/dataset/training/infected/covid_train68.jpg',\n",
              " '/content/Classification-of-COVID-19-chest-X-ray-images/dataset/training/infected/covid_train (42).jpeg',\n",
              " '/content/Classification-of-COVID-19-chest-X-ray-images/dataset/training/infected/covid_train (60).jpg',\n",
              " '/content/Classification-of-COVID-19-chest-X-ray-images/dataset/training/infected/covid_train (25).jpg',\n",
              " '/content/Classification-of-COVID-19-chest-X-ray-images/dataset/training/infected/covid_train (18).png',\n",
              " '/content/Classification-of-COVID-19-chest-X-ray-images/dataset/training/infected/covid_train63.jpg',\n",
              " '/content/Classification-of-COVID-19-chest-X-ray-images/dataset/training/infected/covid_train80.jpeg',\n",
              " '/content/Classification-of-COVID-19-chest-X-ray-images/dataset/training/infected/covid_train (35).jpeg',\n",
              " '/content/Classification-of-COVID-19-chest-X-ray-images/dataset/training/infected/covid_train52.jpg',\n",
              " '/content/Classification-of-COVID-19-chest-X-ray-images/dataset/training/infected/covid_train (47).png',\n",
              " '/content/Classification-of-COVID-19-chest-X-ray-images/dataset/training/infected/covid_train66.jpg',\n",
              " '/content/Classification-of-COVID-19-chest-X-ray-images/dataset/training/infected/covid_train67.jpg',\n",
              " '/content/Classification-of-COVID-19-chest-X-ray-images/dataset/training/infected/covid_train (44).png',\n",
              " '/content/Classification-of-COVID-19-chest-X-ray-images/dataset/training/infected/covid_train46.png',\n",
              " '/content/Classification-of-COVID-19-chest-X-ray-images/dataset/training/infected/covid_train (33).png',\n",
              " '/content/Classification-of-COVID-19-chest-X-ray-images/dataset/training/infected/covid_train (31).jpeg',\n",
              " '/content/Classification-of-COVID-19-chest-X-ray-images/dataset/training/infected/covid_train23.jpeg',\n",
              " '/content/Classification-of-COVID-19-chest-X-ray-images/dataset/training/infected/covid_train (16).png',\n",
              " '/content/Classification-of-COVID-19-chest-X-ray-images/dataset/training/infected/covid_train (46).jpeg',\n",
              " '/content/Classification-of-COVID-19-chest-X-ray-images/dataset/training/infected/covid_train (52).jpg',\n",
              " '/content/Classification-of-COVID-19-chest-X-ray-images/dataset/training/infected/covid_train (23).png',\n",
              " '/content/Classification-of-COVID-19-chest-X-ray-images/dataset/training/infected/covid_train88.jpeg',\n",
              " '/content/Classification-of-COVID-19-chest-X-ray-images/dataset/training/infected/covid_train (33).jpg',\n",
              " '/content/Classification-of-COVID-19-chest-X-ray-images/dataset/training/infected/covid_train45.jpeg',\n",
              " '/content/Classification-of-COVID-19-chest-X-ray-images/dataset/training/infected/covid_train73.jpeg',\n",
              " '/content/Classification-of-COVID-19-chest-X-ray-images/dataset/training/infected/covid_train (51).jpeg',\n",
              " '/content/Classification-of-COVID-19-chest-X-ray-images/dataset/training/infected/covid_train (2).jpg',\n",
              " '/content/Classification-of-COVID-19-chest-X-ray-images/dataset/training/infected/covid_train (31).png',\n",
              " '/content/Classification-of-COVID-19-chest-X-ray-images/dataset/training/infected/covid_train (97).jpg',\n",
              " '/content/Classification-of-COVID-19-chest-X-ray-images/dataset/training/infected/covid_train82.jpeg',\n",
              " '/content/Classification-of-COVID-19-chest-X-ray-images/dataset/training/infected/covid_train26.jpeg',\n",
              " '/content/Classification-of-COVID-19-chest-X-ray-images/dataset/training/infected/covid_train (49).jpeg',\n",
              " '/content/Classification-of-COVID-19-chest-X-ray-images/dataset/training/infected/covid_train54.jpg',\n",
              " '/content/Classification-of-COVID-19-chest-X-ray-images/dataset/training/infected/covid_train (37).png',\n",
              " '/content/Classification-of-COVID-19-chest-X-ray-images/dataset/training/infected/covid_train (15).jpg',\n",
              " '/content/Classification-of-COVID-19-chest-X-ray-images/dataset/training/infected/covid_train (3).png',\n",
              " '/content/Classification-of-COVID-19-chest-X-ray-images/dataset/training/infected/covid_train (11).jpg',\n",
              " '/content/Classification-of-COVID-19-chest-X-ray-images/dataset/training/infected/covid_train (42).png',\n",
              " '/content/Classification-of-COVID-19-chest-X-ray-images/dataset/training/infected/covid_train (99).jpg',\n",
              " '/content/Classification-of-COVID-19-chest-X-ray-images/dataset/training/infected/covid_train37.jpeg',\n",
              " '/content/Classification-of-COVID-19-chest-X-ray-images/dataset/training/infected/covid_train75.jpg',\n",
              " '/content/Classification-of-COVID-19-chest-X-ray-images/dataset/training/infected/covid_train (11).jpeg',\n",
              " '/content/Classification-of-COVID-19-chest-X-ray-images/dataset/training/infected/covid_train (32).png',\n",
              " '/content/Classification-of-COVID-19-chest-X-ray-images/dataset/training/infected/covid_train (84).jpg',\n",
              " '/content/Classification-of-COVID-19-chest-X-ray-images/dataset/training/infected/covid_train (93).jpg',\n",
              " '/content/Classification-of-COVID-19-chest-X-ray-images/dataset/training/infected/covid_train (72).jpg',\n",
              " '/content/Classification-of-COVID-19-chest-X-ray-images/dataset/training/infected/covid_train (21).jpg',\n",
              " '/content/Classification-of-COVID-19-chest-X-ray-images/dataset/training/infected/covid_train (75).jpg',\n",
              " '/content/Classification-of-COVID-19-chest-X-ray-images/dataset/training/infected/covid_train (25).png',\n",
              " '/content/Classification-of-COVID-19-chest-X-ray-images/dataset/training/infected/covid_train (86).jpg',\n",
              " '/content/Classification-of-COVID-19-chest-X-ray-images/dataset/training/infected/covid_train (27).jpeg',\n",
              " '/content/Classification-of-COVID-19-chest-X-ray-images/dataset/training/infected/covid_train (43).png',\n",
              " '/content/Classification-of-COVID-19-chest-X-ray-images/dataset/training/infected/covid_train42.jpeg',\n",
              " '/content/Classification-of-COVID-19-chest-X-ray-images/dataset/training/infected/covid_train72.png',\n",
              " '/content/Classification-of-COVID-19-chest-X-ray-images/dataset/training/infected/covid_train (83).jpg',\n",
              " '/content/Classification-of-COVID-19-chest-X-ray-images/dataset/training/infected/covid_train (34).png',\n",
              " '/content/Classification-of-COVID-19-chest-X-ray-images/dataset/training/infected/covid_train (21).png',\n",
              " '/content/Classification-of-COVID-19-chest-X-ray-images/dataset/training/infected/covid_train6.jpg',\n",
              " '/content/Classification-of-COVID-19-chest-X-ray-images/dataset/training/infected/covid_train (38).png',\n",
              " '/content/Classification-of-COVID-19-chest-X-ray-images/dataset/training/infected/covid_train (32).jpg',\n",
              " '/content/Classification-of-COVID-19-chest-X-ray-images/dataset/training/infected/covid_train (8).png',\n",
              " '/content/Classification-of-COVID-19-chest-X-ray-images/dataset/training/infected/covid_train39.jpeg',\n",
              " '/content/Classification-of-COVID-19-chest-X-ray-images/dataset/training/infected/covid_train (44).jpg',\n",
              " '/content/Classification-of-COVID-19-chest-X-ray-images/dataset/training/infected/covid_train21.png',\n",
              " '/content/Classification-of-COVID-19-chest-X-ray-images/dataset/training/infected/covid_train (48).jpeg',\n",
              " '/content/Classification-of-COVID-19-chest-X-ray-images/dataset/evaluation/normal/1.jpeg',\n",
              " '/content/Classification-of-COVID-19-chest-X-ray-images/dataset/evaluation/infected/1.jpg']"
            ]
          },
          "metadata": {
            "tags": []
          },
          "execution_count": 14
        }
      ]
    },
    {
      "cell_type": "code",
      "metadata": {
        "id": "4d64VSPI5GXq",
        "colab_type": "code",
        "colab": {}
      },
      "source": [
        "data = []\n",
        "labels = []\n",
        "# loop over the image paths\n",
        "for imagePath in imagePaths:\n",
        "\t# extract the class label from the filename\n",
        "\tlabel = imagePath.split(os.path.sep)[-2]\n",
        "\t# load the image, swap color channels, and resize it to be a fixed\n",
        "\t# 224x224 pixels while ignoring aspect ratio\n",
        "\timage = cv2.imread(imagePath)\n",
        "\timage = cv2.cvtColor(image, cv2.COLOR_BGR2RGB)\n",
        "\timage = cv2.resize(image, (224, 224))\n",
        "\t# update the data and labels lists, respectively\n",
        "\tdata.append(image)\n",
        "\tlabels.append(label)\n",
        "# convert the data and labels to NumPy arrays while scaling the pixel\n",
        "# intensities to the range [0, 1]\n",
        "data = np.array(data) / 255.0\n",
        "labels = np.array(labels)"
      ],
      "execution_count": 15,
      "outputs": []
    },
    {
      "cell_type": "code",
      "metadata": {
        "id": "RZARevc_Pp2-",
        "colab_type": "code",
        "colab": {
          "base_uri": "https://localhost:8080/",
          "height": 34
        },
        "outputId": "af642bf0-320f-4a28-c082-06727694f92d"
      },
      "source": [
        "data.shape"
      ],
      "execution_count": 16,
      "outputs": [
        {
          "output_type": "execute_result",
          "data": {
            "text/plain": [
              "(689, 224, 224, 3)"
            ]
          },
          "metadata": {
            "tags": []
          },
          "execution_count": 16
        }
      ]
    },
    {
      "cell_type": "code",
      "metadata": {
        "id": "zFXH96CR5MHo",
        "colab_type": "code",
        "colab": {
          "base_uri": "https://localhost:8080/",
          "height": 1000
        },
        "outputId": "5588fb09-58a7-4fa5-dcad-2380986d66f7"
      },
      "source": [
        "labels\n"
      ],
      "execution_count": 17,
      "outputs": [
        {
          "output_type": "execute_result",
          "data": {
            "text/plain": [
              "array(['normal', 'normal', 'normal', 'normal', 'normal', 'normal',\n",
              "       'normal', 'normal', 'normal', 'normal', 'normal', 'normal',\n",
              "       'normal', 'normal', 'normal', 'normal', 'normal', 'normal',\n",
              "       'normal', 'normal', 'normal', 'normal', 'normal', 'normal',\n",
              "       'normal', 'normal', 'normal', 'normal', 'normal', 'normal',\n",
              "       'normal', 'normal', 'normal', 'normal', 'normal', 'normal',\n",
              "       'normal', 'normal', 'normal', 'normal', 'normal', 'normal',\n",
              "       'normal', 'normal', 'normal', 'normal', 'normal', 'normal',\n",
              "       'normal', 'normal', 'normal', 'normal', 'normal', 'normal',\n",
              "       'normal', 'normal', 'normal', 'normal', 'normal', 'normal',\n",
              "       'normal', 'normal', 'normal', 'normal', 'normal', 'normal',\n",
              "       'normal', 'normal', 'normal', 'infected', 'infected', 'infected',\n",
              "       'infected', 'infected', 'infected', 'infected', 'infected',\n",
              "       'infected', 'infected', 'infected', 'infected', 'infected',\n",
              "       'infected', 'infected', 'infected', 'infected', 'infected',\n",
              "       'infected', 'infected', 'infected', 'infected', 'infected',\n",
              "       'infected', 'infected', 'normal', 'normal', 'normal', 'normal',\n",
              "       'normal', 'normal', 'normal', 'normal', 'normal', 'normal',\n",
              "       'normal', 'normal', 'normal', 'normal', 'normal', 'normal',\n",
              "       'normal', 'normal', 'normal', 'normal', 'normal', 'normal',\n",
              "       'normal', 'normal', 'normal', 'normal', 'normal', 'normal',\n",
              "       'normal', 'normal', 'normal', 'normal', 'normal', 'normal',\n",
              "       'normal', 'normal', 'normal', 'normal', 'normal', 'normal',\n",
              "       'normal', 'normal', 'normal', 'normal', 'normal', 'normal',\n",
              "       'normal', 'normal', 'normal', 'normal', 'normal', 'normal',\n",
              "       'normal', 'normal', 'normal', 'normal', 'normal', 'normal',\n",
              "       'normal', 'normal', 'normal', 'normal', 'normal', 'normal',\n",
              "       'normal', 'normal', 'normal', 'normal', 'normal', 'normal',\n",
              "       'normal', 'normal', 'normal', 'normal', 'normal', 'normal',\n",
              "       'normal', 'normal', 'normal', 'normal', 'normal', 'normal',\n",
              "       'normal', 'normal', 'normal', 'normal', 'normal', 'normal',\n",
              "       'normal', 'normal', 'normal', 'normal', 'normal', 'normal',\n",
              "       'normal', 'normal', 'normal', 'normal', 'normal', 'normal',\n",
              "       'normal', 'normal', 'normal', 'normal', 'normal', 'normal',\n",
              "       'normal', 'normal', 'normal', 'normal', 'normal', 'normal',\n",
              "       'normal', 'normal', 'normal', 'normal', 'normal', 'normal',\n",
              "       'normal', 'normal', 'normal', 'normal', 'normal', 'normal',\n",
              "       'normal', 'normal', 'normal', 'normal', 'normal', 'normal',\n",
              "       'normal', 'normal', 'normal', 'normal', 'normal', 'normal',\n",
              "       'normal', 'normal', 'normal', 'normal', 'normal', 'normal',\n",
              "       'normal', 'normal', 'normal', 'normal', 'normal', 'normal',\n",
              "       'normal', 'normal', 'normal', 'normal', 'normal', 'normal',\n",
              "       'normal', 'normal', 'normal', 'normal', 'normal', 'normal',\n",
              "       'normal', 'normal', 'normal', 'normal', 'normal', 'normal',\n",
              "       'normal', 'normal', 'normal', 'normal', 'normal', 'normal',\n",
              "       'normal', 'normal', 'normal', 'normal', 'normal', 'normal',\n",
              "       'normal', 'normal', 'normal', 'normal', 'normal', 'normal',\n",
              "       'normal', 'normal', 'normal', 'normal', 'normal', 'normal',\n",
              "       'normal', 'normal', 'normal', 'normal', 'normal', 'normal',\n",
              "       'normal', 'normal', 'normal', 'normal', 'normal', 'normal',\n",
              "       'normal', 'normal', 'normal', 'normal', 'normal', 'normal',\n",
              "       'normal', 'normal', 'normal', 'normal', 'normal', 'normal',\n",
              "       'normal', 'normal', 'normal', 'normal', 'normal', 'normal',\n",
              "       'normal', 'normal', 'normal', 'normal', 'normal', 'normal',\n",
              "       'normal', 'normal', 'normal', 'normal', 'normal', 'normal',\n",
              "       'normal', 'normal', 'normal', 'normal', 'normal', 'normal',\n",
              "       'normal', 'normal', 'normal', 'normal', 'normal', 'normal',\n",
              "       'normal', 'normal', 'normal', 'normal', 'normal', 'normal',\n",
              "       'normal', 'normal', 'normal', 'normal', 'normal', 'normal',\n",
              "       'normal', 'normal', 'normal', 'normal', 'normal', 'normal',\n",
              "       'normal', 'normal', 'normal', 'normal', 'normal', 'normal',\n",
              "       'normal', 'normal', 'normal', 'normal', 'normal', 'normal',\n",
              "       'normal', 'normal', 'normal', 'normal', 'normal', 'normal',\n",
              "       'normal', 'normal', 'normal', 'normal', 'normal', 'normal',\n",
              "       'normal', 'normal', 'normal', 'normal', 'normal', 'normal',\n",
              "       'normal', 'normal', 'normal', 'normal', 'normal', 'infected',\n",
              "       'infected', 'infected', 'infected', 'infected', 'infected',\n",
              "       'infected', 'infected', 'infected', 'infected', 'infected',\n",
              "       'infected', 'infected', 'infected', 'infected', 'infected',\n",
              "       'infected', 'infected', 'infected', 'infected', 'infected',\n",
              "       'infected', 'infected', 'infected', 'infected', 'infected',\n",
              "       'infected', 'infected', 'infected', 'infected', 'infected',\n",
              "       'infected', 'infected', 'infected', 'infected', 'infected',\n",
              "       'infected', 'infected', 'infected', 'infected', 'infected',\n",
              "       'infected', 'infected', 'infected', 'infected', 'infected',\n",
              "       'infected', 'infected', 'infected', 'infected', 'infected',\n",
              "       'infected', 'infected', 'infected', 'infected', 'infected',\n",
              "       'infected', 'infected', 'infected', 'infected', 'infected',\n",
              "       'infected', 'infected', 'infected', 'infected', 'infected',\n",
              "       'infected', 'infected', 'infected', 'infected', 'infected',\n",
              "       'infected', 'infected', 'infected', 'infected', 'infected',\n",
              "       'infected', 'infected', 'infected', 'infected', 'infected',\n",
              "       'infected', 'infected', 'infected', 'infected', 'infected',\n",
              "       'infected', 'infected', 'infected', 'infected', 'infected',\n",
              "       'infected', 'infected', 'infected', 'infected', 'infected',\n",
              "       'infected', 'infected', 'infected', 'infected', 'infected',\n",
              "       'infected', 'infected', 'infected', 'infected', 'infected',\n",
              "       'infected', 'infected', 'infected', 'infected', 'infected',\n",
              "       'infected', 'infected', 'infected', 'infected', 'infected',\n",
              "       'infected', 'infected', 'infected', 'infected', 'infected',\n",
              "       'infected', 'infected', 'infected', 'infected', 'infected',\n",
              "       'infected', 'infected', 'infected', 'infected', 'infected',\n",
              "       'infected', 'infected', 'infected', 'infected', 'infected',\n",
              "       'infected', 'infected', 'infected', 'infected', 'infected',\n",
              "       'infected', 'infected', 'infected', 'infected', 'infected',\n",
              "       'infected', 'infected', 'infected', 'infected', 'infected',\n",
              "       'infected', 'infected', 'infected', 'infected', 'infected',\n",
              "       'infected', 'infected', 'infected', 'infected', 'infected',\n",
              "       'infected', 'infected', 'infected', 'infected', 'infected',\n",
              "       'infected', 'infected', 'infected', 'infected', 'infected',\n",
              "       'infected', 'infected', 'infected', 'infected', 'infected',\n",
              "       'infected', 'infected', 'infected', 'infected', 'infected',\n",
              "       'infected', 'infected', 'infected', 'infected', 'infected',\n",
              "       'infected', 'infected', 'infected', 'infected', 'infected',\n",
              "       'infected', 'infected', 'infected', 'infected', 'infected',\n",
              "       'infected', 'infected', 'infected', 'infected', 'infected',\n",
              "       'infected', 'infected', 'infected', 'infected', 'infected',\n",
              "       'infected', 'infected', 'infected', 'infected', 'infected',\n",
              "       'infected', 'infected', 'infected', 'infected', 'infected',\n",
              "       'infected', 'infected', 'infected', 'infected', 'infected',\n",
              "       'infected', 'infected', 'infected', 'infected', 'infected',\n",
              "       'infected', 'infected', 'infected', 'infected', 'infected',\n",
              "       'infected', 'infected', 'infected', 'infected', 'infected',\n",
              "       'infected', 'infected', 'infected', 'infected', 'infected',\n",
              "       'infected', 'infected', 'infected', 'infected', 'infected',\n",
              "       'infected', 'infected', 'infected', 'infected', 'infected',\n",
              "       'infected', 'infected', 'infected', 'infected', 'infected',\n",
              "       'infected', 'infected', 'infected', 'infected', 'infected',\n",
              "       'infected', 'infected', 'infected', 'infected', 'infected',\n",
              "       'infected', 'infected', 'infected', 'infected', 'infected',\n",
              "       'infected', 'infected', 'infected', 'infected', 'infected',\n",
              "       'infected', 'infected', 'infected', 'infected', 'infected',\n",
              "       'infected', 'infected', 'infected', 'infected', 'infected',\n",
              "       'infected', 'infected', 'infected', 'infected', 'infected',\n",
              "       'infected', 'infected', 'infected', 'infected', 'infected',\n",
              "       'normal', 'infected'], dtype='<U8')"
            ]
          },
          "metadata": {
            "tags": []
          },
          "execution_count": 17
        }
      ]
    },
    {
      "cell_type": "code",
      "metadata": {
        "id": "rpW2VDtO6EY0",
        "colab_type": "code",
        "colab": {}
      },
      "source": [
        "# perform one-hot encoding on the labels\n",
        "lb = LabelBinarizer()\n",
        "labels = lb.fit_transform(labels)\n",
        "labels = to_categorical(labels)\n",
        "# partition the data into training and testing splits using 80% of\n",
        "# the data for training and the remaining 20% for testing\n",
        "(trainX, testX, trainY, testY) = train_test_split(data, labels,\n",
        "\ttest_size=0.20, stratify=labels, random_state=42)\n",
        "# initialize the training data augmentation object\n",
        "trainAug = ImageDataGenerator(shear_range=0.2,\n",
        "    zoom_range=0.2,\n",
        "    horizontal_flip=True,\trotation_range=15,\n",
        "\tfill_mode=\"nearest\")"
      ],
      "execution_count": 18,
      "outputs": []
    },
    {
      "cell_type": "code",
      "metadata": {
        "id": "NJb4rMwAZEhl",
        "colab_type": "code",
        "colab": {
          "base_uri": "https://localhost:8080/",
          "height": 459
        },
        "outputId": "c8a3a1d9-ec95-4550-c4b3-0fbb5166168c"
      },
      "source": [
        "trainY.argmax(axis=1)"
      ],
      "execution_count": 19,
      "outputs": [
        {
          "output_type": "execute_result",
          "data": {
            "text/plain": [
              "array([1, 1, 1, 0, 1, 1, 1, 1, 0, 0, 0, 0, 0, 1, 1, 0, 1, 0, 0, 1, 0, 0,\n",
              "       1, 0, 0, 0, 0, 0, 0, 1, 0, 0, 0, 0, 1, 1, 1, 1, 1, 1, 0, 0, 0, 1,\n",
              "       1, 0, 1, 0, 1, 0, 0, 1, 0, 1, 1, 1, 1, 1, 0, 0, 1, 0, 1, 1, 0, 1,\n",
              "       0, 1, 0, 1, 1, 0, 1, 1, 1, 1, 0, 1, 1, 1, 1, 0, 1, 0, 1, 0, 0, 0,\n",
              "       0, 1, 1, 1, 1, 1, 0, 0, 1, 0, 1, 1, 1, 0, 1, 1, 0, 1, 1, 1, 0, 1,\n",
              "       1, 1, 1, 1, 0, 1, 0, 1, 0, 1, 0, 1, 1, 0, 0, 1, 0, 0, 0, 0, 0, 0,\n",
              "       1, 1, 1, 0, 1, 1, 1, 1, 0, 1, 1, 0, 0, 1, 0, 0, 1, 1, 1, 1, 1, 1,\n",
              "       1, 1, 0, 0, 0, 1, 0, 0, 1, 1, 0, 1, 0, 1, 1, 1, 1, 0, 0, 1, 1, 1,\n",
              "       0, 1, 1, 1, 0, 0, 0, 0, 1, 0, 1, 1, 1, 0, 0, 1, 0, 1, 1, 0, 0, 0,\n",
              "       0, 1, 1, 1, 0, 0, 0, 1, 0, 0, 1, 0, 0, 1, 0, 0, 1, 1, 0, 0, 1, 0,\n",
              "       1, 1, 1, 1, 1, 0, 0, 0, 0, 1, 0, 1, 1, 0, 0, 0, 1, 0, 0, 1, 1, 0,\n",
              "       0, 0, 0, 0, 0, 1, 0, 0, 1, 1, 0, 1, 0, 0, 1, 1, 0, 0, 0, 0, 0, 1,\n",
              "       0, 1, 1, 1, 0, 1, 0, 1, 1, 1, 1, 0, 1, 1, 1, 1, 0, 0, 1, 0, 1, 1,\n",
              "       0, 1, 0, 0, 1, 0, 1, 1, 1, 1, 0, 1, 0, 0, 1, 0, 1, 1, 0, 1, 1, 1,\n",
              "       0, 1, 1, 0, 1, 0, 1, 1, 0, 1, 1, 0, 0, 0, 0, 0, 0, 1, 1, 1, 0, 0,\n",
              "       1, 0, 0, 0, 1, 0, 0, 1, 0, 1, 1, 0, 1, 1, 0, 1, 0, 0, 1, 1, 0, 1,\n",
              "       1, 0, 0, 0, 1, 1, 0, 1, 0, 1, 0, 1, 1, 0, 1, 0, 0, 0, 1, 0, 1, 1,\n",
              "       0, 0, 1, 0, 0, 1, 1, 0, 1, 0, 1, 1, 1, 0, 0, 1, 0, 1, 0, 1, 0, 1,\n",
              "       1, 1, 0, 0, 1, 0, 1, 0, 0, 1, 0, 1, 1, 0, 0, 0, 0, 1, 0, 1, 1, 0,\n",
              "       1, 0, 0, 1, 1, 1, 1, 1, 0, 0, 1, 1, 0, 0, 0, 0, 1, 0, 0, 0, 0, 1,\n",
              "       1, 0, 1, 0, 1, 1, 1, 1, 1, 1, 1, 0, 1, 0, 1, 0, 0, 1, 1, 0, 1, 1,\n",
              "       1, 0, 1, 1, 1, 0, 1, 1, 0, 0, 0, 0, 0, 1, 0, 1, 0, 0, 1, 1, 1, 0,\n",
              "       1, 0, 1, 1, 0, 0, 1, 1, 0, 0, 1, 1, 0, 0, 0, 1, 0, 0, 1, 1, 0, 1,\n",
              "       0, 0, 1, 1, 0, 1, 1, 1, 1, 1, 0, 1, 0, 0, 0, 1, 1, 0, 1, 1, 1, 1,\n",
              "       0, 1, 0, 0, 0, 0, 0, 0, 1, 1, 0, 1, 1, 1, 1, 1, 1, 1, 1, 0, 1, 1,\n",
              "       1])"
            ]
          },
          "metadata": {
            "tags": []
          },
          "execution_count": 19
        }
      ]
    },
    {
      "cell_type": "code",
      "metadata": {
        "id": "385HMojhUu44",
        "colab_type": "code",
        "colab": {
          "base_uri": "https://localhost:8080/",
          "height": 34
        },
        "outputId": "b989bbba-cb8e-4c65-ba16-5934a4a5dc85"
      },
      "source": [
        "trainX.shape,testX.shape,trainY.shape,testY.shape"
      ],
      "execution_count": 20,
      "outputs": [
        {
          "output_type": "execute_result",
          "data": {
            "text/plain": [
              "((551, 224, 224, 3), (138, 224, 224, 3), (551, 2), (138, 2))"
            ]
          },
          "metadata": {
            "tags": []
          },
          "execution_count": 20
        }
      ]
    },
    {
      "cell_type": "markdown",
      "metadata": {
        "id": "UDkpAFsLP7gR",
        "colab_type": "text"
      },
      "source": [
        "USING VGG16 MODEL"
      ]
    },
    {
      "cell_type": "code",
      "metadata": {
        "id": "zTKwZFFI6Hh9",
        "colab_type": "code",
        "colab": {}
      },
      "source": [
        "baseModel = VGG16(weights=\"imagenet\", include_top=False,\n",
        "\tinput_tensor=Input(shape=(224, 224, 3)))\n",
        "# construct the head of the model that will be placed on top of the\n",
        "# the base model\n",
        "headModel = baseModel.output\n",
        "headModel = AveragePooling2D(pool_size=(4, 4))(headModel)\n",
        "headModel = Flatten(name=\"flatten\")(headModel)\n",
        "headModel = Dense(64, activation=\"relu\")(headModel)\n",
        "headModel = Dropout(0.5)(headModel)\n",
        "headModel = Dense(2, activation=\"softmax\")(headModel)\n",
        "# place the head FC model on top of the base model (this will become\n",
        "# the actual model we will train)\n",
        "model = Model(inputs=baseModel.input, outputs=headModel)\n",
        "# loop over all layers in the base model and freeze them so they will\n",
        "# *not* be updated during the first training process\n",
        "for layer in baseModel.layers:\n",
        "\tlayer.trainable = False"
      ],
      "execution_count": 66,
      "outputs": []
    },
    {
      "cell_type": "code",
      "metadata": {
        "id": "eBNxhA91_7eq",
        "colab_type": "code",
        "colab": {}
      },
      "source": [
        "model_chkpt = ModelCheckpoint('best_mod.h5', save_best_only=True, monitor='accuracy')\n",
        "early_stopping = EarlyStopping(monitor='loss', restore_best_weights=False, patience=10)\n"
      ],
      "execution_count": 67,
      "outputs": []
    },
    {
      "cell_type": "code",
      "metadata": {
        "id": "5PpnzLBu6Izd",
        "colab_type": "code",
        "colab": {
          "base_uri": "https://localhost:8080/",
          "height": 1000
        },
        "outputId": "c965d887-ec2e-41aa-91be-50a71b60368e"
      },
      "source": [
        "# initialize the initial learning rate, number of epochs to train for,\n",
        "# and batch size\n",
        "INIT_LR = 1e-3\n",
        "EPOCHS = 34\n",
        "BS = 16\n",
        "# compile our model\n",
        "print(\"[INFO] compiling model...\")\n",
        "opt = Adam(lr=INIT_LR, decay=INIT_LR / EPOCHS)\n",
        "model.compile(loss=\"binary_crossentropy\", optimizer=opt,\n",
        "\tmetrics=[\"accuracy\"])\n",
        "# train the head of the network\n",
        "print(\"[INFO] training head...\")\n",
        "H = model.fit_generator(\n",
        "\ttrainAug.flow(trainX, trainY, batch_size=BS),\n",
        "\tsteps_per_epoch=len(trainX) // BS,\n",
        "\tvalidation_data=(testX, testY),\n",
        "\tvalidation_steps=len(testX) // BS,\n",
        "\tepochs=EPOCHS,callbacks=[early_stopping,model_chkpt])"
      ],
      "execution_count": 68,
      "outputs": [
        {
          "output_type": "stream",
          "text": [
            "[INFO] compiling model...\n",
            "[INFO] training head...\n",
            "Epoch 1/34\n",
            "34/34 [==============================] - 15s 429ms/step - loss: 0.6659 - accuracy: 0.6112 - val_loss: 0.5268 - val_accuracy: 0.8043\n",
            "Epoch 2/34\n",
            "34/34 [==============================] - 10s 289ms/step - loss: 0.4794 - accuracy: 0.8187 - val_loss: 0.4024 - val_accuracy: 0.9058\n",
            "Epoch 3/34\n",
            "34/34 [==============================] - 10s 285ms/step - loss: 0.4079 - accuracy: 0.8505 - val_loss: 0.3170 - val_accuracy: 0.9130\n",
            "Epoch 4/34\n",
            "34/34 [==============================] - 10s 288ms/step - loss: 0.3091 - accuracy: 0.9084 - val_loss: 0.2581 - val_accuracy: 0.9203\n",
            "Epoch 5/34\n",
            "34/34 [==============================] - 10s 285ms/step - loss: 0.2879 - accuracy: 0.8935 - val_loss: 0.2264 - val_accuracy: 0.9275\n",
            "Epoch 6/34\n",
            "34/34 [==============================] - 10s 290ms/step - loss: 0.2246 - accuracy: 0.9346 - val_loss: 0.2065 - val_accuracy: 0.9275\n",
            "Epoch 7/34\n",
            "34/34 [==============================] - 10s 283ms/step - loss: 0.2202 - accuracy: 0.9196 - val_loss: 0.1892 - val_accuracy: 0.9275\n",
            "Epoch 8/34\n",
            "34/34 [==============================] - 10s 281ms/step - loss: 0.2085 - accuracy: 0.9271 - val_loss: 0.1754 - val_accuracy: 0.9420\n",
            "Epoch 9/34\n",
            "34/34 [==============================] - 10s 290ms/step - loss: 0.1949 - accuracy: 0.9383 - val_loss: 0.1886 - val_accuracy: 0.9203\n",
            "Epoch 10/34\n",
            "34/34 [==============================] - 10s 283ms/step - loss: 0.1864 - accuracy: 0.9346 - val_loss: 0.1606 - val_accuracy: 0.9493\n",
            "Epoch 11/34\n",
            "34/34 [==============================] - 10s 285ms/step - loss: 0.1792 - accuracy: 0.9383 - val_loss: 0.1791 - val_accuracy: 0.9203\n",
            "Epoch 12/34\n",
            "34/34 [==============================] - 10s 284ms/step - loss: 0.1480 - accuracy: 0.9495 - val_loss: 0.1572 - val_accuracy: 0.9420\n",
            "Epoch 13/34\n",
            "34/34 [==============================] - 9s 276ms/step - loss: 0.1441 - accuracy: 0.9477 - val_loss: 0.1439 - val_accuracy: 0.9493\n",
            "Epoch 14/34\n",
            "34/34 [==============================] - 9s 279ms/step - loss: 0.1489 - accuracy: 0.9458 - val_loss: 0.1455 - val_accuracy: 0.9420\n",
            "Epoch 15/34\n",
            "34/34 [==============================] - 10s 283ms/step - loss: 0.1307 - accuracy: 0.9533 - val_loss: 0.1428 - val_accuracy: 0.9420\n",
            "Epoch 16/34\n",
            "34/34 [==============================] - 9s 279ms/step - loss: 0.1314 - accuracy: 0.9495 - val_loss: 0.1316 - val_accuracy: 0.9493\n",
            "Epoch 17/34\n",
            "34/34 [==============================] - 10s 282ms/step - loss: 0.1291 - accuracy: 0.9570 - val_loss: 0.1364 - val_accuracy: 0.9420\n",
            "Epoch 18/34\n",
            "34/34 [==============================] - 9s 276ms/step - loss: 0.1430 - accuracy: 0.9533 - val_loss: 0.1391 - val_accuracy: 0.9348\n",
            "Epoch 19/34\n",
            "34/34 [==============================] - 9s 279ms/step - loss: 0.1193 - accuracy: 0.9551 - val_loss: 0.1480 - val_accuracy: 0.9348\n",
            "Epoch 20/34\n",
            "34/34 [==============================] - 10s 283ms/step - loss: 0.0969 - accuracy: 0.9682 - val_loss: 0.1355 - val_accuracy: 0.9348\n",
            "Epoch 21/34\n",
            "34/34 [==============================] - 9s 277ms/step - loss: 0.1175 - accuracy: 0.9589 - val_loss: 0.1301 - val_accuracy: 0.9420\n",
            "Epoch 22/34\n",
            "34/34 [==============================] - 10s 281ms/step - loss: 0.1022 - accuracy: 0.9701 - val_loss: 0.1391 - val_accuracy: 0.9275\n",
            "Epoch 23/34\n",
            "34/34 [==============================] - 10s 280ms/step - loss: 0.1271 - accuracy: 0.9514 - val_loss: 0.1779 - val_accuracy: 0.9203\n",
            "Epoch 24/34\n",
            "34/34 [==============================] - 10s 280ms/step - loss: 0.1090 - accuracy: 0.9514 - val_loss: 0.1152 - val_accuracy: 0.9493\n",
            "Epoch 25/34\n",
            "34/34 [==============================] - 9s 278ms/step - loss: 0.0923 - accuracy: 0.9589 - val_loss: 0.1102 - val_accuracy: 0.9565\n",
            "Epoch 26/34\n",
            "34/34 [==============================] - 9s 277ms/step - loss: 0.0979 - accuracy: 0.9701 - val_loss: 0.1086 - val_accuracy: 0.9493\n",
            "Epoch 27/34\n",
            "34/34 [==============================] - 10s 283ms/step - loss: 0.0934 - accuracy: 0.9813 - val_loss: 0.1069 - val_accuracy: 0.9565\n",
            "Epoch 28/34\n",
            "34/34 [==============================] - 10s 280ms/step - loss: 0.0710 - accuracy: 0.9757 - val_loss: 0.1042 - val_accuracy: 0.9638\n",
            "Epoch 29/34\n",
            "34/34 [==============================] - 10s 281ms/step - loss: 0.0808 - accuracy: 0.9701 - val_loss: 0.1126 - val_accuracy: 0.9493\n",
            "Epoch 30/34\n",
            "34/34 [==============================] - 10s 283ms/step - loss: 0.0926 - accuracy: 0.9626 - val_loss: 0.1146 - val_accuracy: 0.9493\n",
            "Epoch 31/34\n",
            "34/34 [==============================] - 10s 279ms/step - loss: 0.0797 - accuracy: 0.9701 - val_loss: 0.1019 - val_accuracy: 0.9565\n",
            "Epoch 32/34\n",
            "34/34 [==============================] - 9s 277ms/step - loss: 0.0931 - accuracy: 0.9738 - val_loss: 0.1014 - val_accuracy: 0.9638\n",
            "Epoch 33/34\n",
            "34/34 [==============================] - 10s 283ms/step - loss: 0.0913 - accuracy: 0.9757 - val_loss: 0.1070 - val_accuracy: 0.9710\n",
            "Epoch 34/34\n",
            "34/34 [==============================] - 10s 285ms/step - loss: 0.0710 - accuracy: 0.9850 - val_loss: 0.1071 - val_accuracy: 0.9493\n"
          ],
          "name": "stdout"
        }
      ]
    },
    {
      "cell_type": "code",
      "metadata": {
        "id": "9Zr5iAZS6k5R",
        "colab_type": "code",
        "colab": {
          "base_uri": "https://localhost:8080/",
          "height": 187
        },
        "outputId": "79a7b92a-18e6-43e6-fb8a-3579ad09693b"
      },
      "source": [
        "# make predictions on the testing set\n",
        "print(\"[INFO] evaluating network...\")\n",
        "predIdxs = model.predict(testX, batch_size=BS)\n",
        "# for each image in the testing set we need to find the index of the\n",
        "# label with corresponding largest predicted probability\n",
        "predIdxs = np.argmax(predIdxs, axis=1)\n",
        "# show a nicely formatted classification report\n",
        "print(classification_report(testY.argmax(axis=1), predIdxs,\n",
        "\ttarget_names=lb.classes_))"
      ],
      "execution_count": 69,
      "outputs": [
        {
          "output_type": "stream",
          "text": [
            "[INFO] evaluating network...\n",
            "              precision    recall  f1-score   support\n",
            "\n",
            "    infected       0.95      0.94      0.94        64\n",
            "      normal       0.95      0.96      0.95        74\n",
            "\n",
            "    accuracy                           0.95       138\n",
            "   macro avg       0.95      0.95      0.95       138\n",
            "weighted avg       0.95      0.95      0.95       138\n",
            "\n"
          ],
          "name": "stdout"
        }
      ]
    },
    {
      "cell_type": "code",
      "metadata": {
        "id": "J74SwjEE6pRS",
        "colab_type": "code",
        "colab": {
          "base_uri": "https://localhost:8080/",
          "height": 102
        },
        "outputId": "cda8437a-9df8-456e-a4cf-041a9e97a300"
      },
      "source": [
        "# compute the confusion matrix and and use it to derive the raw\n",
        "# accuracy, sensitivity, and specificity\n",
        "cm = confusion_matrix(testY.argmax(axis=1), predIdxs)\n",
        "total = sum(sum(cm))\n",
        "acc = (cm[0, 0] + cm[1, 1]) / total\n",
        "sensitivity = cm[0, 0] / (cm[0, 0] + cm[0, 1])\n",
        "specificity = cm[1, 1] / (cm[1, 0] + cm[1, 1])\n",
        "# show the confusion matrix, accuracy, sensitivity, and specificity\n",
        "print(cm)\n",
        "print(\"acc: {:.4f}\".format(acc))\n",
        "print(\"sensitivity: {:.4f}\".format(sensitivity))\n",
        "print(\"specificity: {:.4f}\".format(specificity))\n"
      ],
      "execution_count": 70,
      "outputs": [
        {
          "output_type": "stream",
          "text": [
            "[[60  4]\n",
            " [ 3 71]]\n",
            "acc: 0.9493\n",
            "sensitivity: 0.9375\n",
            "specificity: 0.9595\n"
          ],
          "name": "stdout"
        }
      ]
    },
    {
      "cell_type": "code",
      "metadata": {
        "id": "DQu5oOLm6uXb",
        "colab_type": "code",
        "colab": {
          "base_uri": "https://localhost:8080/",
          "height": 316
        },
        "outputId": "6feb903a-a4e7-4618-dbfa-f80c0b7558d3"
      },
      "source": [
        "# plot the training loss and accuracy\n",
        "N = 34\n",
        "plt.style.use(\"ggplot\")\n",
        "plt.figure()\n",
        "plt.plot(np.arange(0, N), H.history[\"loss\"], label=\"train_loss\")\n",
        "plt.plot(np.arange(0, N), H.history[\"val_loss\"], label=\"val_loss\")\n",
        "plt.plot(np.arange(0, N), H.history[\"accuracy\"], label=\"train_acc\")\n",
        "plt.plot(np.arange(0, N), H.history[\"val_accuracy\"], label=\"val_acc\")\n",
        "plt.title(\"Training Loss and Accuracy on COVID-19 Dataset\")\n",
        "plt.xlabel(\"Epoch #\")\n",
        "plt.ylabel(\"Loss/Accuracy\")\n",
        "plt.legend(loc=\"lower left\")\n",
        "#plt.savefig(args[\"plot\"])"
      ],
      "execution_count": 71,
      "outputs": [
        {
          "output_type": "execute_result",
          "data": {
            "text/plain": [
              "<matplotlib.legend.Legend at 0x7f55d3da22e8>"
            ]
          },
          "metadata": {
            "tags": []
          },
          "execution_count": 71
        },
        {
          "output_type": "display_data",
          "data": {
            "image/png": "[encoded data removed]",
            "text/plain": [
              "<Figure size 432x288 with 1 Axes>"
            ]
          },
          "metadata": {
            "tags": []
          }
        }
      ]
    },
    {
      "cell_type": "code",
      "metadata": {
        "id": "V9ATMG21QLNr",
        "colab_type": "code",
        "colab": {
          "base_uri": "https://localhost:8080/",
          "height": 68
        },
        "outputId": "e558983f-cc4c-4af2-d266-9d27d37cd847"
      },
      "source": [
        "predIdxs"
      ],
      "execution_count": null,
      "outputs": [
        {
          "output_type": "execute_result",
          "data": {
            "text/plain": [
              "array([1, 1, 0, 0, 1, 1, 0, 0, 0, 1, 1, 0, 1, 1, 0, 0, 1, 1, 1, 1, 0, 0,\n",
              "       1, 1, 1, 1, 0, 0, 1, 1, 0, 1, 0, 1, 1, 1, 1, 0, 0, 1, 0, 1, 1, 1,\n",
              "       1, 0, 1, 1, 1, 1, 1, 1, 0, 0, 0, 0, 1])"
            ]
          },
          "metadata": {
            "tags": []
          },
          "execution_count": 72
        }
      ]
    },
    {
      "cell_type": "code",
      "metadata": {
        "id": "Rm0xfpLaQZzu",
        "colab_type": "code",
        "colab": {
          "base_uri": "https://localhost:8080/",
          "height": 238
        },
        "outputId": "67af493f-1eca-4fa3-e7c7-84fe054245df"
      },
      "source": [
        "predict_imagePaths=['/content/Classification-of-COVID-19-chest-X-ray-images/dataset/training/normal/NORMAL2 (32).jpeg',\n",
        " '/content/Classification-of-COVID-19-chest-X-ray-images/dataset/training/normal/NORMAL2 (42).jpeg',\n",
        " '/content/Classification-of-COVID-19-chest-X-ray-images/dataset/training/normal/NORMAL2 (180).jpeg',\n",
        " '/content/Classification-of-COVID-19-chest-X-ray-images/dataset/training/normal/NORMAL2-IM-0339-0001.jpeg',\n",
        " '/content/Classification-of-COVID-19-chest-X-ray-images/dataset/training/normal/NORMAL2-IM-0019-0001.jpeg',\n",
        " '/content/Classification-of-COVID-19-chest-X-ray-images/dataset/training/normal/NORMAL2-IM-0323-0001.jpeg',\n",
        " '/content/Classification-of-COVID-19-chest-X-ray-images/dataset/training/normal/NORMAL2-IM-0370-0001.jpeg',\n",
        " '/content/Classification-of-COVID-19-chest-X-ray-images/dataset/training/infected/covid_train (79).jpg',\n",
        " '/content/Classification-of-COVID-19-chest-X-ray-images/dataset/training/infected/covid_train (28).jpeg',\n",
        " '/content/Classification-of-COVID-19-chest-X-ray-images/dataset/training/infected/covid_train (71).jpg',\n",
        " '/content/Classification-of-COVID-19-chest-X-ray-images/dataset/training/infected/covid_train11.png',\n",
        " '/content/Classification-of-COVID-19-chest-X-ray-images/dataset/training/infected/covid_train (43).jpg',\n",
        " '/content/Classification-of-COVID-19-chest-X-ray-images/dataset/training/infected/covid_train (30).jpeg']\n",
        "# loop over the image paths\n",
        "for imagePath in predict_imagePaths:\n",
        "\t# extract the class label from the filename\n",
        "#\tlabel = imagePath.split(os.path.sep)[-2]\n",
        "\t# load the image, swap color channels, and resize it to be a fixed\n",
        "\t# 224x224 pixels while ignoring aspect ratio\n",
        "  image = cv2.imread(imagePath)\n",
        "  image = cv2.cvtColor(image, cv2.COLOR_BGR2RGB)\n",
        "  image = cv2.resize(image, (224, 224))\n",
        "  img = np.array(image) / 255.0\n",
        "  img=np.reshape(img,(1,224,224,3))\n",
        "  print(model.predict(img).argmax(axis=1))"
      ],
      "execution_count": 74,
      "outputs": [
        {
          "output_type": "stream",
          "text": [
            "[1]\n",
            "[1]\n",
            "[1]\n",
            "[1]\n",
            "[1]\n",
            "[1]\n",
            "[1]\n",
            "[0]\n",
            "[0]\n",
            "[0]\n",
            "[0]\n",
            "[0]\n",
            "[0]\n"
          ],
          "name": "stdout"
        }
      ]
    },
    {
      "cell_type": "code",
      "metadata": {
        "id": "HhUYJvQ7WGlo",
        "colab_type": "code",
        "colab": {
          "base_uri": "https://localhost:8080/",
          "height": 34
        },
        "outputId": "62c7a2be-8fee-4e5a-e145-a5d1d3c61d91"
      },
      "source": [
        "img.shape"
      ],
      "execution_count": null,
      "outputs": [
        {
          "output_type": "execute_result",
          "data": {
            "text/plain": [
              "(1, 224, 224, 3)"
            ]
          },
          "metadata": {
            "tags": []
          },
          "execution_count": 32
        }
      ]
    },
    {
      "cell_type": "markdown",
      "metadata": {
        "id": "utgkRH8pZli8",
        "colab_type": "text"
      },
      "source": [
        "END OF VGG16\n"
      ]
    },
    {
      "cell_type": "markdown",
      "metadata": {
        "id": "vONo9a52aYWT",
        "colab_type": "text"
      },
      "source": [
        "WITHOUT PRETRAINED MODEL"
      ]
    },
    {
      "cell_type": "code",
      "metadata": {
        "id": "ClIv7lA-Znh6",
        "colab_type": "code",
        "colab": {}
      },
      "source": [
        "model = Sequential()\n",
        "model.add(Conv2D(80, (3, 3),activation='relu', input_shape=(224, 224, 3)))\n",
        "model.add(MaxPool2D(pool_size=(2, 2)))\n",
        "model.add(Dropout(0.2))\n",
        "\n",
        "model.add(Conv2D(32, (3, 3),activation='relu'))\n",
        "model.add(MaxPool2D(pool_size=(2, 2)))\n",
        "model.add(Dropout(0.5))\n",
        "model.add(Conv2D(32, (3, 3),activation='relu'))\n",
        "\n",
        "\n",
        "model.add(Conv2D(64, (3, 3),activation='relu'))\n",
        "model.add(MaxPool2D(pool_size=(2, 2)))\n",
        "\n",
        "model.add(Flatten())\n",
        "model.add(Dense(64,activation='relu'))\n",
        "model.add(Dropout(0.5))\n",
        "\n",
        "model.add(Dense(2,activation='softmax'))"
      ],
      "execution_count": 75,
      "outputs": []
    },
    {
      "cell_type": "code",
      "metadata": {
        "id": "YooCdUUKaNCq",
        "colab_type": "code",
        "colab": {}
      },
      "source": [
        "model_chkpt = ModelCheckpoint('best_mod.h5', save_best_only=True, monitor='accuracy')\n",
        "early_stopping = EarlyStopping(monitor='loss', restore_best_weights=False, patience=10)"
      ],
      "execution_count": 76,
      "outputs": []
    },
    {
      "cell_type": "code",
      "metadata": {
        "id": "7kYifSi7aRKL",
        "colab_type": "code",
        "colab": {
          "base_uri": "https://localhost:8080/",
          "height": 1000
        },
        "outputId": "0171b60c-0eae-47c5-a284-df760b94629f"
      },
      "source": [
        "# initialize the initial learning rate, number of epochs to train for,\n",
        "# and batch size\n",
        "INIT_LR = 1e-3\n",
        "EPOCHS = 34\n",
        "BS = 16\n",
        "# compile our model\n",
        "print(\"[INFO] compiling model...\")\n",
        "opt = Adam(lr=INIT_LR, decay=INIT_LR / EPOCHS)\n",
        "model.compile(loss=\"binary_crossentropy\", optimizer=opt,\n",
        "\tmetrics=[\"accuracy\"])\n",
        "# train the head of the network\n",
        "print(\"[INFO] training head...\")\n",
        "H = model.fit_generator(\n",
        "\ttrainAug.flow(trainX, trainY, batch_size=BS),\n",
        "\tsteps_per_epoch=len(trainX) // BS,\n",
        "\tvalidation_data=(testX, testY),\n",
        "\tvalidation_steps=len(testX) // BS,\n",
        "\tepochs=EPOCHS,callbacks=[early_stopping,model_chkpt])"
      ],
      "execution_count": 77,
      "outputs": [
        {
          "output_type": "stream",
          "text": [
            "[INFO] compiling model...\n",
            "[INFO] training head...\n",
            "Epoch 1/34\n",
            "34/34 [==============================] - 8s 239ms/step - loss: 0.6116 - accuracy: 0.6897 - val_loss: 0.5409 - val_accuracy: 0.9565\n",
            "Epoch 2/34\n",
            "34/34 [==============================] - 7s 217ms/step - loss: 0.3669 - accuracy: 0.8654 - val_loss: 0.6107 - val_accuracy: 0.9275\n",
            "Epoch 3/34\n",
            "34/34 [==============================] - 7s 214ms/step - loss: 0.2309 - accuracy: 0.9215 - val_loss: 0.1667 - val_accuracy: 0.9638\n",
            "Epoch 4/34\n",
            "34/34 [==============================] - 7s 211ms/step - loss: 0.2256 - accuracy: 0.9065 - val_loss: 0.4936 - val_accuracy: 0.9565\n",
            "Epoch 5/34\n",
            "34/34 [==============================] - 7s 218ms/step - loss: 0.1805 - accuracy: 0.9327 - val_loss: 0.0926 - val_accuracy: 0.9710\n",
            "Epoch 6/34\n",
            "34/34 [==============================] - 7s 215ms/step - loss: 0.2362 - accuracy: 0.9402 - val_loss: 0.1527 - val_accuracy: 0.9783\n",
            "Epoch 7/34\n",
            "34/34 [==============================] - 7s 215ms/step - loss: 0.1697 - accuracy: 0.9308 - val_loss: 0.1531 - val_accuracy: 0.9565\n",
            "Epoch 8/34\n",
            "34/34 [==============================] - 7s 213ms/step - loss: 0.1675 - accuracy: 0.9402 - val_loss: 0.1294 - val_accuracy: 0.9638\n",
            "Epoch 9/34\n",
            "34/34 [==============================] - 7s 217ms/step - loss: 0.1305 - accuracy: 0.9458 - val_loss: 0.0844 - val_accuracy: 0.9710\n",
            "Epoch 10/34\n",
            "34/34 [==============================] - 7s 217ms/step - loss: 0.2266 - accuracy: 0.9271 - val_loss: 0.1779 - val_accuracy: 0.9638\n",
            "Epoch 11/34\n",
            "34/34 [==============================] - 7s 218ms/step - loss: 0.1416 - accuracy: 0.9570 - val_loss: 0.3530 - val_accuracy: 0.8551\n",
            "Epoch 12/34\n",
            "34/34 [==============================] - 7s 218ms/step - loss: 0.1394 - accuracy: 0.9551 - val_loss: 0.6911 - val_accuracy: 0.6667\n",
            "Epoch 13/34\n",
            "34/34 [==============================] - 7s 218ms/step - loss: 0.2530 - accuracy: 0.9159 - val_loss: 0.1057 - val_accuracy: 0.9710\n",
            "Epoch 14/34\n",
            "34/34 [==============================] - 7s 216ms/step - loss: 0.1739 - accuracy: 0.9458 - val_loss: 0.0904 - val_accuracy: 0.9855\n",
            "Epoch 15/34\n",
            "34/34 [==============================] - 7s 210ms/step - loss: 0.1255 - accuracy: 0.9570 - val_loss: 0.0792 - val_accuracy: 0.9565\n",
            "Epoch 16/34\n",
            "34/34 [==============================] - 7s 211ms/step - loss: 0.1572 - accuracy: 0.9215 - val_loss: 0.1327 - val_accuracy: 0.9638\n",
            "Epoch 17/34\n",
            "34/34 [==============================] - 7s 214ms/step - loss: 0.1140 - accuracy: 0.9607 - val_loss: 0.0791 - val_accuracy: 0.9855\n",
            "Epoch 18/34\n",
            "34/34 [==============================] - 7s 209ms/step - loss: 0.1511 - accuracy: 0.9308 - val_loss: 0.3160 - val_accuracy: 0.8478\n",
            "Epoch 19/34\n",
            "34/34 [==============================] - 7s 213ms/step - loss: 0.1243 - accuracy: 0.9551 - val_loss: 0.4681 - val_accuracy: 0.7826\n",
            "Epoch 20/34\n",
            "34/34 [==============================] - 7s 210ms/step - loss: 0.1383 - accuracy: 0.9514 - val_loss: 0.1251 - val_accuracy: 0.9493\n",
            "Epoch 21/34\n",
            "34/34 [==============================] - 7s 209ms/step - loss: 0.1443 - accuracy: 0.9495 - val_loss: 0.0744 - val_accuracy: 0.9855\n",
            "Epoch 22/34\n",
            "34/34 [==============================] - 7s 209ms/step - loss: 0.1304 - accuracy: 0.9533 - val_loss: 0.2459 - val_accuracy: 0.8913\n",
            "Epoch 23/34\n",
            "34/34 [==============================] - 7s 213ms/step - loss: 0.1239 - accuracy: 0.9533 - val_loss: 0.0680 - val_accuracy: 0.9710\n",
            "Epoch 24/34\n",
            "34/34 [==============================] - 7s 212ms/step - loss: 0.0937 - accuracy: 0.9720 - val_loss: 0.0676 - val_accuracy: 0.9783\n",
            "Epoch 25/34\n",
            "34/34 [==============================] - 7s 211ms/step - loss: 0.1164 - accuracy: 0.9607 - val_loss: 0.1173 - val_accuracy: 0.9493\n",
            "Epoch 26/34\n",
            "34/34 [==============================] - 7s 209ms/step - loss: 0.0935 - accuracy: 0.9682 - val_loss: 0.1737 - val_accuracy: 0.9275\n",
            "Epoch 27/34\n",
            "34/34 [==============================] - 7s 208ms/step - loss: 0.0919 - accuracy: 0.9701 - val_loss: 0.0493 - val_accuracy: 0.9928\n",
            "Epoch 28/34\n",
            "34/34 [==============================] - 7s 208ms/step - loss: 0.1107 - accuracy: 0.9664 - val_loss: 0.0615 - val_accuracy: 0.9783\n",
            "Epoch 29/34\n",
            "34/34 [==============================] - 7s 207ms/step - loss: 0.1205 - accuracy: 0.9570 - val_loss: 0.0623 - val_accuracy: 0.9638\n",
            "Epoch 30/34\n",
            "34/34 [==============================] - 7s 208ms/step - loss: 0.1095 - accuracy: 0.9664 - val_loss: 0.0771 - val_accuracy: 0.9783\n",
            "Epoch 31/34\n",
            "34/34 [==============================] - 7s 208ms/step - loss: 0.1046 - accuracy: 0.9626 - val_loss: 0.2955 - val_accuracy: 0.8768\n",
            "Epoch 32/34\n",
            "34/34 [==============================] - 7s 211ms/step - loss: 0.1277 - accuracy: 0.9383 - val_loss: 0.0693 - val_accuracy: 0.9855\n",
            "Epoch 33/34\n",
            "34/34 [==============================] - 7s 211ms/step - loss: 0.0888 - accuracy: 0.9664 - val_loss: 0.0481 - val_accuracy: 0.9783\n",
            "Epoch 34/34\n",
            "34/34 [==============================] - 7s 207ms/step - loss: 0.0834 - accuracy: 0.9701 - val_loss: 0.0715 - val_accuracy: 0.9710\n"
          ],
          "name": "stdout"
        }
      ]
    },
    {
      "cell_type": "code",
      "metadata": {
        "id": "FhXQdFSAb1W2",
        "colab_type": "code",
        "colab": {
          "base_uri": "https://localhost:8080/",
          "height": 187
        },
        "outputId": "b8d263a6-d549-4554-b428-93c661cb8268"
      },
      "source": [
        "# make predictions on the testing set\n",
        "print(\"[INFO] evaluating network...\")\n",
        "predIdxs = model.predict(testX, batch_size=BS)\n",
        "# for each image in the testing set we need to find the index of the\n",
        "# label with corresponding largest predicted probability\n",
        "predIdxs = np.argmax(predIdxs, axis=1)\n",
        "# show a nicely formatted classification report\n",
        "print(classification_report(testY.argmax(axis=1), predIdxs,\n",
        "\ttarget_names=lb.classes_))"
      ],
      "execution_count": 78,
      "outputs": [
        {
          "output_type": "stream",
          "text": [
            "[INFO] evaluating network...\n",
            "              precision    recall  f1-score   support\n",
            "\n",
            "    infected       0.95      0.98      0.97        64\n",
            "      normal       0.99      0.96      0.97        74\n",
            "\n",
            "    accuracy                           0.97       138\n",
            "   macro avg       0.97      0.97      0.97       138\n",
            "weighted avg       0.97      0.97      0.97       138\n",
            "\n"
          ],
          "name": "stdout"
        }
      ]
    },
    {
      "cell_type": "code",
      "metadata": {
        "id": "VRWrCOxqcCJW",
        "colab_type": "code",
        "colab": {
          "base_uri": "https://localhost:8080/",
          "height": 102
        },
        "outputId": "ec3ed879-6a87-4c65-abc5-bf31be3a03fb"
      },
      "source": [
        "# compute the confusion matrix and and use it to derive the raw\n",
        "# accuracy, sensitivity, and specificity\n",
        "cm = confusion_matrix(testY.argmax(axis=1), predIdxs)\n",
        "total = sum(sum(cm))\n",
        "acc = (cm[0, 0] + cm[1, 1]) / total\n",
        "sensitivity = cm[0, 0] / (cm[0, 0] + cm[0, 1])\n",
        "specificity = cm[1, 1] / (cm[1, 0] + cm[1, 1])\n",
        "# show the confusion matrix, accuracy, sensitivity, and specificity\n",
        "print(cm)\n",
        "print(\"acc: {:.4f}\".format(acc))\n",
        "print(\"sensitivity: {:.4f}\".format(sensitivity))\n",
        "print(\"specificity: {:.4f}\".format(specificity))"
      ],
      "execution_count": 79,
      "outputs": [
        {
          "output_type": "stream",
          "text": [
            "[[63  1]\n",
            " [ 3 71]]\n",
            "acc: 0.9710\n",
            "sensitivity: 0.9844\n",
            "specificity: 0.9595\n"
          ],
          "name": "stdout"
        }
      ]
    },
    {
      "cell_type": "code",
      "metadata": {
        "id": "k1jqu_MDcGVQ",
        "colab_type": "code",
        "colab": {
          "base_uri": "https://localhost:8080/",
          "height": 316
        },
        "outputId": "f7fa89f3-2d46-44ad-9cfd-033e9ce57980"
      },
      "source": [
        "# plot the training loss and accuracy\n",
        "N = EPOCHS\n",
        "plt.style.use(\"ggplot\")\n",
        "plt.figure()\n",
        "plt.plot(np.arange(0, N), H.history[\"loss\"], label=\"train_loss\")\n",
        "plt.plot(np.arange(0, N), H.history[\"val_loss\"], label=\"val_loss\")\n",
        "plt.plot(np.arange(0, N), H.history[\"accuracy\"], label=\"train_acc\")\n",
        "plt.plot(np.arange(0, N), H.history[\"val_accuracy\"], label=\"val_acc\")\n",
        "plt.title(\"Training Loss and Accuracy on COVID-19 Dataset\")\n",
        "plt.xlabel(\"Epoch #\")\n",
        "plt.ylabel(\"Loss/Accuracy\")\n",
        "plt.legend(loc=\"lower left\")\n",
        "#plt.savefig(args[\"plot\"])"
      ],
      "execution_count": 80,
      "outputs": [
        {
          "output_type": "execute_result",
          "data": {
            "text/plain": [
              "<matplotlib.legend.Legend at 0x7f55cced3e80>"
            ]
          },
          "metadata": {
            "tags": []
          },
          "execution_count": 80
        },
        {
          "output_type": "display_data",
          "data": {
            "image/png": "[encoded data removed]",
            "text/plain": [
              "<Figure size 432x288 with 1 Axes>"
            ]
          },
          "metadata": {
            "tags": []
          }
        }
      ]
    },
    {
      "cell_type": "code",
      "metadata": {
        "id": "s-Ct5Qy8cNmi",
        "colab_type": "code",
        "colab": {
          "base_uri": "https://localhost:8080/",
          "height": 51
        },
        "outputId": "6af63f93-3dcf-4c57-eb75-0914b3e33f8d"
      },
      "source": [
        "predict_imagePaths=['/content/Classification-of-COVID-19-chest-X-ray-images/dataset/training/normal/NORMAL2-IM-0311-0001.jpeg',\n",
        "                    '/content/Classification-of-COVID-19-chest-X-ray-images/dataset/training/infected/covid_train (21).png']\n",
        "# loop over the image paths\n",
        "for imagePath in predict_imagePaths:\n",
        "\t# extract the class label from the filename\n",
        "#\tlabel = imagePath.split(os.path.sep)[-2]\n",
        "\t# load the image, swap color channels, and resize it to be a fixed\n",
        "\t# 224x224 pixels while ignoring aspect ratio\n",
        "  image = cv2.imread(imagePath)\n",
        "  image = cv2.cvtColor(image, cv2.COLOR_BGR2RGB)\n",
        "  image = cv2.resize(image, (224, 224))\n",
        "  img = np.array(image) / 255.0\n",
        "  img=np.reshape(img,(1,224,224,3))\n",
        "  print(model.predict(img).argmax(axis=1))"
      ],
      "execution_count": 81,
      "outputs": [
        {
          "output_type": "stream",
          "text": [
            "[1]\n",
            "[0]\n"
          ],
          "name": "stdout"
        }
      ]
    },
    {
      "cell_type": "markdown",
      "metadata": {
        "id": "13DE7Df1cRVW",
        "colab_type": "text"
      },
      "source": [
        "END OF WITHOUT PRETRAINED MODEL"
      ]
    },
    {
      "cell_type": "markdown",
      "metadata": {
        "id": "TSMMdhJncRp1",
        "colab_type": "text"
      },
      "source": [
        "USING INCEPTION-V3 MODEL"
      ]
    },
    {
      "cell_type": "code",
      "metadata": {
        "id": "6CZjvlDRcd1F",
        "colab_type": "code",
        "colab": {}
      },
      "source": [
        "from tensorflow.keras.preprocessing.image import ImageDataGenerator\n",
        "from tensorflow.keras.applications import VGG16,InceptionV3\n",
        "from tensorflow.keras.layers import AveragePooling2D\n",
        "from tensorflow.keras.layers import Dropout\n",
        "from tensorflow.keras.layers import Flatten\n",
        "from tensorflow.keras.layers import Dense\n",
        "from tensorflow.keras.layers import Input\n",
        "from tensorflow.keras.models import Model\n",
        "from tensorflow.keras.optimizers import Adam\n",
        "from tensorflow.keras.utils import to_categorical\n",
        "from sklearn.preprocessing import LabelBinarizer\n",
        "from sklearn.model_selection import train_test_split"
      ],
      "execution_count": 82,
      "outputs": []
    },
    {
      "cell_type": "code",
      "metadata": {
        "id": "Yk-9JTSNcjkX",
        "colab_type": "code",
        "colab": {}
      },
      "source": [
        "baseModel = InceptionV3(weights=\"imagenet\", include_top=False, input_tensor=Input(shape=(224, 224, 3)))\n",
        "#construct the head of the model that will be placed on top of the\n",
        "#the base model\n",
        "\n",
        "headModel = baseModel.output\n",
        "headModel = AveragePooling2D(pool_size=(4, 4))(headModel)\n",
        "headModel = Dropout(0.5)(headModel)\n",
        "headModel = Flatten(name=\"flatten\")(headModel)\n",
        "headModel = Dense(64, activation=\"relu\")(headModel)\n",
        "headModel = Dropout(0.5)(headModel)\n",
        "headModel = Dense(2, activation=\"softmax\")(headModel)\n",
        "\n",
        "\n",
        "model= Model(inputs=baseModel.input, outputs=headModel)\n",
        "\n",
        "for layer in baseModel.layers:\n",
        "    layer.trainable = False"
      ],
      "execution_count": null,
      "outputs": []
    },
    {
      "cell_type": "code",
      "metadata": {
        "id": "8prHmAIcct0e",
        "colab_type": "code",
        "colab": {}
      },
      "source": [
        "model_chkpt = ModelCheckpoint('best_mod.h5', save_best_only=True, monitor='accuracy')\n",
        "early_stopping = EarlyStopping(monitor='loss', restore_best_weights=False, patience=10)"
      ],
      "execution_count": null,
      "outputs": []
    },
    {
      "cell_type": "code",
      "metadata": {
        "id": "pj9USkmTczqK",
        "colab_type": "code",
        "colab": {
          "base_uri": "https://localhost:8080/",
          "height": 1000
        },
        "outputId": "9e00f6ce-7b13-4df7-f5b3-9e314b6c1c1c"
      },
      "source": [
        "# initialize the initial learning rate, number of epochs to train for,\n",
        "# and batch size\n",
        "INIT_LR = 1e-3\n",
        "EPOCHS = 34\n",
        "BS = 16\n",
        "# compile our model\n",
        "print(\"[INFO] compiling model...\")\n",
        "opt = Adam(lr=INIT_LR, decay=INIT_LR / EPOCHS)\n",
        "model.compile(loss=\"binary_crossentropy\", optimizer=opt,\n",
        "\tmetrics=[\"accuracy\"])\n",
        "# train the head of the network\n",
        "print(\"[INFO] training head...\")\n",
        "H = model.fit_generator(\n",
        "\ttrainAug.flow(trainX, trainY, batch_size=BS),\n",
        "\tsteps_per_epoch=len(trainX) // BS,\n",
        "\tvalidation_data=(testX, testY),\n",
        "\tvalidation_steps=len(testX) // BS,\n",
        "\tepochs=EPOCHS,callbacks=[early_stopping,model_chkpt])"
      ],
      "execution_count": null,
      "outputs": [
        {
          "output_type": "stream",
          "text": [
            "[INFO] compiling model...\n",
            "[INFO] training head...\n",
            "Epoch 1/34\n",
            "34/34 [==============================] - 7s 210ms/step - loss: 0.2133 - accuracy: 0.9522 - val_loss: 0.1017 - val_accuracy: 0.9710\n",
            "Epoch 2/34\n",
            "34/34 [==============================] - 6s 163ms/step - loss: 0.2275 - accuracy: 0.9234 - val_loss: 0.1622 - val_accuracy: 0.9565\n",
            "Epoch 3/34\n",
            "34/34 [==============================] - 6s 164ms/step - loss: 0.1691 - accuracy: 0.9421 - val_loss: 0.0871 - val_accuracy: 0.9638\n",
            "Epoch 4/34\n",
            "34/34 [==============================] - 6s 165ms/step - loss: 0.1515 - accuracy: 0.9495 - val_loss: 0.1002 - val_accuracy: 0.9638\n",
            "Epoch 5/34\n",
            "34/34 [==============================] - 6s 182ms/step - loss: 0.1237 - accuracy: 0.9607 - val_loss: 0.0622 - val_accuracy: 0.9783\n",
            "Epoch 6/34\n",
            "34/34 [==============================] - 6s 164ms/step - loss: 0.1215 - accuracy: 0.9421 - val_loss: 0.0911 - val_accuracy: 0.9638\n",
            "Epoch 7/34\n",
            "34/34 [==============================] - 5s 161ms/step - loss: 0.1219 - accuracy: 0.9514 - val_loss: 0.0603 - val_accuracy: 0.9783\n",
            "Epoch 8/34\n",
            "34/34 [==============================] - 6s 163ms/step - loss: 0.1245 - accuracy: 0.9477 - val_loss: 0.0484 - val_accuracy: 0.9783\n",
            "Epoch 9/34\n",
            "34/34 [==============================] - 6s 163ms/step - loss: 0.1145 - accuracy: 0.9607 - val_loss: 0.0907 - val_accuracy: 0.9638\n",
            "Epoch 10/34\n",
            "34/34 [==============================] - 6s 164ms/step - loss: 0.1251 - accuracy: 0.9570 - val_loss: 0.0596 - val_accuracy: 0.9710\n",
            "Epoch 11/34\n",
            "34/34 [==============================] - 6s 167ms/step - loss: 0.0979 - accuracy: 0.9540 - val_loss: 0.0498 - val_accuracy: 0.9710\n",
            "Epoch 12/34\n",
            "34/34 [==============================] - 6s 162ms/step - loss: 0.1239 - accuracy: 0.9458 - val_loss: 0.0580 - val_accuracy: 0.9710\n",
            "Epoch 13/34\n",
            "34/34 [==============================] - 6s 175ms/step - loss: 0.1317 - accuracy: 0.9626 - val_loss: 0.1044 - val_accuracy: 0.9638\n",
            "Epoch 14/34\n",
            "34/34 [==============================] - 6s 177ms/step - loss: 0.0966 - accuracy: 0.9682 - val_loss: 0.0694 - val_accuracy: 0.9710\n",
            "Epoch 15/34\n",
            "34/34 [==============================] - 5s 160ms/step - loss: 0.0900 - accuracy: 0.9664 - val_loss: 0.0612 - val_accuracy: 0.9710\n",
            "Epoch 16/34\n",
            "34/34 [==============================] - 6s 175ms/step - loss: 0.0849 - accuracy: 0.9757 - val_loss: 0.0608 - val_accuracy: 0.9710\n",
            "Epoch 17/34\n",
            "34/34 [==============================] - 6s 163ms/step - loss: 0.1312 - accuracy: 0.9439 - val_loss: 0.0455 - val_accuracy: 0.9783\n",
            "Epoch 18/34\n",
            "34/34 [==============================] - 6s 162ms/step - loss: 0.1023 - accuracy: 0.9626 - val_loss: 0.0570 - val_accuracy: 0.9783\n",
            "Epoch 19/34\n",
            "34/34 [==============================] - 5s 160ms/step - loss: 0.0915 - accuracy: 0.9664 - val_loss: 0.0856 - val_accuracy: 0.9710\n",
            "Epoch 20/34\n",
            "34/34 [==============================] - 5s 160ms/step - loss: 0.1217 - accuracy: 0.9570 - val_loss: 0.0996 - val_accuracy: 0.9783\n",
            "Epoch 21/34\n",
            "34/34 [==============================] - 5s 161ms/step - loss: 0.1052 - accuracy: 0.9607 - val_loss: 0.0497 - val_accuracy: 0.9710\n",
            "Epoch 22/34\n",
            "34/34 [==============================] - 5s 161ms/step - loss: 0.0818 - accuracy: 0.9626 - val_loss: 0.0338 - val_accuracy: 0.9855\n",
            "Epoch 23/34\n",
            "34/34 [==============================] - 5s 159ms/step - loss: 0.1074 - accuracy: 0.9589 - val_loss: 0.0272 - val_accuracy: 0.9928\n",
            "Epoch 24/34\n",
            "34/34 [==============================] - 5s 160ms/step - loss: 0.0835 - accuracy: 0.9645 - val_loss: 0.0500 - val_accuracy: 0.9710\n",
            "Epoch 25/34\n",
            "34/34 [==============================] - 6s 162ms/step - loss: 0.0870 - accuracy: 0.9701 - val_loss: 0.0293 - val_accuracy: 0.9928\n",
            "Epoch 26/34\n",
            "34/34 [==============================] - 5s 159ms/step - loss: 0.1265 - accuracy: 0.9495 - val_loss: 0.0355 - val_accuracy: 0.9783\n",
            "Epoch 27/34\n",
            "34/34 [==============================] - 5s 160ms/step - loss: 0.0853 - accuracy: 0.9664 - val_loss: 0.0547 - val_accuracy: 0.9710\n",
            "Epoch 28/34\n",
            "34/34 [==============================] - 6s 164ms/step - loss: 0.0938 - accuracy: 0.9607 - val_loss: 0.0459 - val_accuracy: 0.9710\n",
            "Epoch 29/34\n",
            "34/34 [==============================] - 6s 162ms/step - loss: 0.0971 - accuracy: 0.9589 - val_loss: 0.0633 - val_accuracy: 0.9710\n",
            "Epoch 30/34\n",
            "34/34 [==============================] - 6s 163ms/step - loss: 0.0752 - accuracy: 0.9720 - val_loss: 0.0665 - val_accuracy: 0.9710\n",
            "Epoch 31/34\n",
            "34/34 [==============================] - 5s 161ms/step - loss: 0.0746 - accuracy: 0.9701 - val_loss: 0.0372 - val_accuracy: 0.9783\n",
            "Epoch 32/34\n",
            "34/34 [==============================] - 6s 164ms/step - loss: 0.0904 - accuracy: 0.9664 - val_loss: 0.0342 - val_accuracy: 0.9783\n",
            "Epoch 33/34\n",
            "34/34 [==============================] - 5s 161ms/step - loss: 0.0880 - accuracy: 0.9738 - val_loss: 0.0865 - val_accuracy: 0.9783\n",
            "Epoch 34/34\n",
            "34/34 [==============================] - 5s 159ms/step - loss: 0.1046 - accuracy: 0.9589 - val_loss: 0.1205 - val_accuracy: 0.9638\n"
          ],
          "name": "stdout"
        }
      ]
    },
    {
      "cell_type": "code",
      "metadata": {
        "id": "fKRXslEGc5C4",
        "colab_type": "code",
        "colab": {
          "base_uri": "https://localhost:8080/",
          "height": 187
        },
        "outputId": "6514c8a1-aad2-416f-8aea-446bd3707a1b"
      },
      "source": [
        "# make predictions on the testing set\n",
        "print(\"[INFO] evaluating network...\")\n",
        "predIdxs = model.predict(testX, batch_size=BS)\n",
        "# for each image in the testing set we need to find the index of the\n",
        "# label with corresponding largest predicted probability\n",
        "predIdxs = np.argmax(predIdxs, axis=1)\n",
        "# show a nicely formatted classification report\n",
        "print(classification_report(testY.argmax(axis=1), predIdxs,\n",
        "\ttarget_names=lb.classes_))"
      ],
      "execution_count": null,
      "outputs": [
        {
          "output_type": "stream",
          "text": [
            "[INFO] evaluating network...\n",
            "              precision    recall  f1-score   support\n",
            "\n",
            "    infected       0.98      0.94      0.96        64\n",
            "      normal       0.95      0.99      0.97        74\n",
            "\n",
            "    accuracy                           0.96       138\n",
            "   macro avg       0.97      0.96      0.96       138\n",
            "weighted avg       0.96      0.96      0.96       138\n",
            "\n"
          ],
          "name": "stdout"
        }
      ]
    },
    {
      "cell_type": "code",
      "metadata": {
        "id": "yy-0-JJMYuWm",
        "colab_type": "code",
        "colab": {}
      },
      "source": [
        "#model.predict(trainX[0]).argmax(axis=1)\n",
        "image = cv2.imread('/content/Classification-of-COVID-19-chest-X-ray-images/dataset/training/infected/covid_train (21).png')\n",
        "image = cv2.cvtColor(image, cv2.COLOR_BGR2RGB)\n",
        "image = cv2.resize(image, (224, 224))\n",
        "img=np.reshape(image,(1,224,224,3))\n",
        "a=trainX[3].reshape((1,224,224,3))\n",
        "model.predict(a).argmax(axis=1)"
      ],
      "execution_count": null,
      "outputs": []
    },
    {
      "cell_type": "code",
      "metadata": {
        "id": "vU9FQ1r6ZYTA",
        "colab_type": "code",
        "colab": {}
      },
      "source": [
        "data = []\n",
        "labels = []\n",
        "# loop over the image paths\n",
        "for imagePath in imagePaths:\n",
        "\t# extract the class label from the filename\n",
        "#\tlabel = imagePath.split(os.path.sep)[-2]\n",
        "\t# load the image, swap color channels, and resize it to be a fixed\n",
        "\t# 224x224 pixels while ignoring aspect ratio\n",
        "\timage = cv2.imread(imagePath)\n",
        "\timage = cv2.cvtColor(image, cv2.COLOR_BGR2RGB)\n",
        "\timage = cv2.resize(image, (224, 224))\n",
        "\t# update the data and labels lists, respectively\n",
        "\tdata.append(image)\n",
        "\tlabels.append(label)\n",
        "# convert the data and labels to NumPy arrays while scaling the pixel\n",
        "# intensities to the range [0, 1]\n",
        "data = np.array(data) / 255.0\n",
        "labels = np.array(labels)"
      ],
      "execution_count": null,
      "outputs": []
    },
    {
      "cell_type": "code",
      "metadata": {
        "id": "s1S5PiLQTYsR",
        "colab_type": "code",
        "colab": {
          "base_uri": "https://localhost:8080/",
          "height": 34
        },
        "outputId": "40c0ae23-3c6e-4c19-ab0f-6430b9679394"
      },
      "source": [
        "#model.predict(trainX[0]).argmax(axis=1)\n",
        "a=trainX[3].reshape((1,224,224,3))\n",
        "model.predict(a).argmax(axis=1)"
      ],
      "execution_count": null,
      "outputs": [
        {
          "output_type": "execute_result",
          "data": {
            "text/plain": [
              "array([0])"
            ]
          },
          "metadata": {
            "tags": []
          },
          "execution_count": 126
        }
      ]
    },
    {
      "cell_type": "code",
      "metadata": {
        "id": "Ni8IiaX2TpB0",
        "colab_type": "code",
        "colab": {}
      },
      "source": [
        "model.predict(trainX).argmax(axis=1)"
      ],
      "execution_count": null,
      "outputs": []
    },
    {
      "cell_type": "code",
      "metadata": {
        "id": "osp7NI_7Rd3S",
        "colab_type": "code",
        "colab": {
          "base_uri": "https://localhost:8080/",
          "height": 51
        },
        "outputId": "455a3950-9e5b-420b-bce4-d2f33f334233"
      },
      "source": [
        "predict_imagePaths=['/content/Classification-of-COVID-19-chest-X-ray-images/dataset/training/normal/NORMAL2-IM-0311-0001.jpeg',\n",
        "                    '/content/Classification-of-COVID-19-chest-X-ray-images/dataset/training/infected/covid_train (21).png']\n",
        "# loop over the image paths\n",
        "for imagePath in predict_imagePaths:\n",
        "\t# extract the class label from the filename\n",
        "#\tlabel = imagePath.split(os.path.sep)[-2]\n",
        "\t# load the image, swap color channels, and resize it to be a fixed\n",
        "\t# 224x224 pixels while ignoring aspect ratio\n",
        "  image = cv2.imread(imagePath)\n",
        "  image = cv2.cvtColor(image, cv2.COLOR_BGR2RGB)\n",
        "  image = cv2.resize(image, (224, 224))\n",
        "  img = np.array(image) / 255.0\n",
        "  img=np.reshape(img,(1,224,224,3))\n",
        "  print(model.predict(img).argmax(axis=1))\n"
      ],
      "execution_count": 144,
      "outputs": [
        {
          "output_type": "stream",
          "text": [
            "[1]\n",
            "[0]\n"
          ],
          "name": "stdout"
        }
      ]
    },
    {
      "cell_type": "code",
      "metadata": {
        "id": "pqfMz5ohOVmG",
        "colab_type": "code",
        "colab": {
          "base_uri": "https://localhost:8080/",
          "height": 136
        },
        "outputId": "0d095959-fc48-4979-b5f7-ee658fa01dcb"
      },
      "source": [
        "predIdxs"
      ],
      "execution_count": null,
      "outputs": [
        {
          "output_type": "execute_result",
          "data": {
            "text/plain": [
              "array([0, 0, 1, 1, 1, 0, 0, 1, 1, 1, 0, 0, 0, 1, 0, 0, 0, 0, 1, 0, 1, 0,\n",
              "       0, 0, 1, 0, 0, 0, 1, 0, 0, 0, 0, 0, 1, 1, 0, 0, 1, 1, 1, 1, 1, 0,\n",
              "       1, 1, 0, 1, 1, 1, 1, 1, 0, 0, 0, 0, 0, 1, 1, 0, 0, 1, 1, 0, 1, 1,\n",
              "       1, 0, 0, 1, 1, 1, 1, 1, 1, 1, 1, 0, 0, 1, 1, 0, 0, 1, 1, 1, 1, 1,\n",
              "       0, 1, 0, 1, 0, 0, 0, 1, 1, 1, 1, 1, 1, 0, 1, 1, 1, 0, 1, 0, 1, 1,\n",
              "       0, 1, 1, 0, 1, 1, 0, 1, 0, 0, 1, 0, 1, 1, 0, 1, 0, 1, 1, 0, 0, 1,\n",
              "       1, 0, 0, 1, 1, 1])"
            ]
          },
          "metadata": {
            "tags": []
          },
          "execution_count": 69
        }
      ]
    },
    {
      "cell_type": "code",
      "metadata": {
        "id": "ZT5W2DLmObRT",
        "colab_type": "code",
        "colab": {
          "base_uri": "https://localhost:8080/",
          "height": 136
        },
        "outputId": "09c3fb25-798b-4eb9-9426-bed1d0cc69fb"
      },
      "source": [
        "testY.argmax(axis=1)"
      ],
      "execution_count": null,
      "outputs": [
        {
          "output_type": "execute_result",
          "data": {
            "text/plain": [
              "array([0, 0, 1, 1, 1, 0, 0, 1, 0, 1, 0, 0, 0, 1, 0, 0, 0, 0, 1, 0, 1, 0,\n",
              "       0, 1, 1, 0, 0, 0, 1, 0, 0, 0, 0, 0, 1, 0, 0, 0, 1, 1, 1, 1, 1, 0,\n",
              "       1, 1, 0, 0, 1, 1, 1, 1, 0, 0, 0, 0, 0, 1, 1, 0, 0, 1, 1, 0, 1, 1,\n",
              "       1, 0, 0, 1, 1, 1, 1, 1, 1, 1, 1, 0, 0, 1, 1, 0, 0, 1, 1, 1, 1, 1,\n",
              "       0, 1, 0, 1, 0, 0, 0, 1, 1, 1, 1, 1, 1, 0, 1, 1, 1, 0, 1, 0, 1, 1,\n",
              "       0, 1, 1, 0, 1, 1, 0, 1, 0, 0, 1, 0, 1, 1, 0, 1, 0, 1, 0, 0, 0, 1,\n",
              "       1, 0, 0, 1, 1, 1])"
            ]
          },
          "metadata": {
            "tags": []
          },
          "execution_count": 72
        }
      ]
    },
    {
      "cell_type": "code",
      "metadata": {
        "id": "xT8F5lJic5SQ",
        "colab_type": "code",
        "colab": {
          "base_uri": "https://localhost:8080/",
          "height": 102
        },
        "outputId": "a3177116-d23b-4f2f-8008-364506970c81"
      },
      "source": [
        "# compute the confusion matrix and and use it to derive the raw\n",
        "# accuracy, sensitivity, and specificity\n",
        "cm = confusion_matrix(testY.argmax(axis=1), predIdxs)\n",
        "total = sum(sum(cm))\n",
        "acc = (cm[0, 0] + cm[1, 1]) / total\n",
        "sensitivity = cm[0, 0] / (cm[0, 0] + cm[0, 1])\n",
        "specificity = cm[1, 1] / (cm[1, 0] + cm[1, 1])\n",
        "# show the confusion matrix, accuracy, sensitivity, and specificity\n",
        "print(cm)\n",
        "print(\"acc: {:.4f}\".format(acc))\n",
        "print(\"sensitivity: {:.4f}\".format(sensitivity))\n",
        "print(\"specificity: {:.4f}\".format(specificity))"
      ],
      "execution_count": null,
      "outputs": [
        {
          "output_type": "stream",
          "text": [
            "[[60  4]\n",
            " [ 1 73]]\n",
            "acc: 0.9638\n",
            "sensitivity: 0.9375\n",
            "specificity: 0.9865\n"
          ],
          "name": "stdout"
        }
      ]
    },
    {
      "cell_type": "code",
      "metadata": {
        "id": "Tzvbf36nc70g",
        "colab_type": "code",
        "colab": {
          "base_uri": "https://localhost:8080/",
          "height": 316
        },
        "outputId": "be1451af-7803-407b-8110-e3c59d2b218d"
      },
      "source": [
        "# plot the training loss and accuracy\n",
        "N = EPOCHS\n",
        "plt.style.use(\"ggplot\")\n",
        "plt.figure()\n",
        "plt.plot(np.arange(0, N), H.history[\"loss\"], label=\"train_loss\")\n",
        "plt.plot(np.arange(0, N), H.history[\"val_loss\"], label=\"val_loss\")\n",
        "plt.plot(np.arange(0, N), H.history[\"accuracy\"], label=\"train_acc\")\n",
        "plt.plot(np.arange(0, N), H.history[\"val_accuracy\"], label=\"val_acc\")\n",
        "plt.title(\"Training Loss and Accuracy on COVID-19 Dataset\")\n",
        "plt.xlabel(\"Epoch #\")\n",
        "plt.ylabel(\"Loss/Accuracy\")\n",
        "plt.legend(loc=\"lower left\")\n",
        "#plt.savefig(args[\"plot\"])"
      ],
      "execution_count": null,
      "outputs": [
        {
          "output_type": "execute_result",
          "data": {
            "text/plain": [
              "<matplotlib.legend.Legend at 0x7f721ea2b240>"
            ]
          },
          "metadata": {
            "tags": []
          },
          "execution_count": 52
        },
        {
          "output_type": "display_data",
          "data": {
            "image/png": "[encoded data removed]",
            "text/plain": [
              "<Figure size 432x288 with 1 Axes>"
            ]
          },
          "metadata": {
            "tags": []
          }
        }
      ]
    },
    {
      "cell_type": "code",
      "metadata": {
        "id": "7M3jhXPwGc3m",
        "colab_type": "code",
        "colab": {
          "base_uri": "https://localhost:8080/",
          "height": 51
        },
        "outputId": "cd66759c-7289-4775-d1dd-a76365ad76f0"
      },
      "source": [
        "predict_imagePaths=['/content/Classification-of-COVID-19-chest-X-ray-images/dataset/training/normal/NORMAL2-IM-0311-0001.jpeg','/content/Classification-of-COVID-19-chest-X-ray-images/dataset/training/infected/covid_train (21).png']\n",
        "# loop over the image paths\n",
        "for imagePath in predict_imagePaths:\n",
        "\t# extract the class label from the filename\n",
        "#\tlabel = imagePath.split(os.path.sep)[-2]\n",
        "\t# load the image, swap color channels, and resize it to be a fixed\n",
        "\t# 224x224 pixels while ignoring aspect ratio\n",
        "  image = cv2.imread(imagePath)\n",
        "  image = cv2.cvtColor(image, cv2.COLOR_BGR2RGB)\n",
        "  image = cv2.resize(image, (224, 224))\n",
        "  img = np.array(image) / 255.0\n",
        "  img=np.reshape(img,(1,224,224,3))\n",
        "  print(model.predict(img).argmax(axis=1))"
      ],
      "execution_count": 145,
      "outputs": [
        {
          "output_type": "stream",
          "text": [
            "[1]\n",
            "[0]\n"
          ],
          "name": "stdout"
        }
      ]
    },
    {
      "cell_type": "markdown",
      "metadata": {
        "id": "jAY42ZPbdDXi",
        "colab_type": "text"
      },
      "source": [
        "END OF INCEPTION V3 MODEL"
      ]
    },
    {
      "cell_type": "markdown",
      "metadata": {
        "id": "SsSXM6dSftFc",
        "colab_type": "text"
      },
      "source": [
        "RESNET50"
      ]
    },
    {
      "cell_type": "code",
      "metadata": {
        "id": "0yI22YPLj5hm",
        "colab_type": "code",
        "colab": {}
      },
      "source": [
        "from tensorflow.keras.applications.resnet50 import ResNet50\n",
        "from tensorflow.keras.preprocessing import image\n",
        "from tensorflow.keras.applications.resnet50 import preprocess_input, decode_predictions\n",
        "import numpy as np"
      ],
      "execution_count": 22,
      "outputs": []
    },
    {
      "cell_type": "code",
      "metadata": {
        "id": "3ZrRNyxKfuBh",
        "colab_type": "code",
        "colab": {
          "base_uri": "https://localhost:8080/",
          "height": 51
        },
        "outputId": "69cee093-98db-46ed-8133-3eae3338e85d"
      },
      "source": [
        "res = ResNet50(weights=\"imagenet\", include_top=False, input_tensor=Input(shape=(224, 224, 3)))\n",
        "outputs = res.output\n",
        "outputs = Flatten(name=\"flatten\")(outputs)\n",
        "outputs = Dropout(0.5)(outputs)\n",
        "outputs = Dense(2, activation=\"softmax\")(outputs)\n",
        "model = Model(inputs=res.input, outputs=outputs)\n",
        "for layer in res.layers:\n",
        "  layer.trainable = False\n"
      ],
      "execution_count": 23,
      "outputs": [
        {
          "output_type": "stream",
          "text": [
            "Downloading data from https://storage.googleapis.com/tensorflow/keras-applications/resnet/resnet50_weights_tf_dim_ordering_tf_kernels_notop.h5\n",
            "94773248/94765736 [==============================] - 1s 0us/step\n"
          ],
          "name": "stdout"
        }
      ]
    },
    {
      "cell_type": "code",
      "metadata": {
        "id": "DPkggCNfgNYe",
        "colab_type": "code",
        "colab": {}
      },
      "source": [
        "model_chkpt = ModelCheckpoint('best_mod.h5', save_best_only=True, monitor='accuracy')\n",
        "early_stopping = EarlyStopping(monitor='loss', restore_best_weights=False, patience=10)"
      ],
      "execution_count": 24,
      "outputs": []
    },
    {
      "cell_type": "code",
      "metadata": {
        "id": "txGXT93DgR2-",
        "colab_type": "code",
        "colab": {
          "base_uri": "https://localhost:8080/",
          "height": 1000
        },
        "outputId": "b2144996-eb51-40c7-8c8f-b57f262ea9f9"
      },
      "source": [
        "# initialize the initial learning rate, number of epochs to train for,\n",
        "# and batch size\n",
        "INIT_LR = 1e-3\n",
        "EPOCHS = 34\n",
        "BS = 32\n",
        "# compile our model\n",
        "print(\"[INFO] compiling model...\")\n",
        "opt = Adam(lr=INIT_LR, decay=INIT_LR / EPOCHS)\n",
        "model.compile(loss=\"binary_crossentropy\", optimizer=opt,\n",
        "\tmetrics=[\"accuracy\"])\n",
        "# train the head of the network\n",
        "print(\"[INFO] training head...\")\n",
        "H = model.fit_generator(\n",
        "\ttrainAug.flow(trainX, trainY, batch_size=BS),\n",
        "\tsteps_per_epoch=len(trainX) // BS,\n",
        "\tvalidation_data=(testX, testY),\n",
        "\tvalidation_steps=len(testX) // BS,\n",
        "\tepochs=EPOCHS,callbacks=[early_stopping,model_chkpt])"
      ],
      "execution_count": 25,
      "outputs": [
        {
          "output_type": "stream",
          "text": [
            "[INFO] compiling model...\n",
            "[INFO] training head...\n",
            "WARNING:tensorflow:From <ipython-input-25-9279ccf7fee9>:18: Model.fit_generator (from tensorflow.python.keras.engine.training) is deprecated and will be removed in a future version.\n",
            "Instructions for updating:\n",
            "Please use Model.fit, which supports generators.\n",
            "Epoch 1/34\n",
            "17/17 [==============================] - 11s 649ms/step - loss: 1.4620 - accuracy: 0.5414 - val_loss: 1.4159 - val_accuracy: 0.4638\n",
            "Epoch 2/34\n",
            "17/17 [==============================] - 8s 476ms/step - loss: 1.1640 - accuracy: 0.6069 - val_loss: 0.4042 - val_accuracy: 0.7899\n",
            "Epoch 3/34\n",
            "17/17 [==============================] - 8s 480ms/step - loss: 0.5237 - accuracy: 0.7803 - val_loss: 0.1818 - val_accuracy: 0.9493\n",
            "Epoch 4/34\n",
            "17/17 [==============================] - 8s 480ms/step - loss: 0.4920 - accuracy: 0.8015 - val_loss: 0.4129 - val_accuracy: 0.8333\n",
            "Epoch 5/34\n",
            "17/17 [==============================] - 8s 481ms/step - loss: 0.4839 - accuracy: 0.8035 - val_loss: 0.1731 - val_accuracy: 0.9420\n",
            "Epoch 6/34\n",
            "17/17 [==============================] - 8s 484ms/step - loss: 0.3723 - accuracy: 0.8516 - val_loss: 0.1709 - val_accuracy: 0.9493\n",
            "Epoch 7/34\n",
            "17/17 [==============================] - 8s 480ms/step - loss: 0.3696 - accuracy: 0.8613 - val_loss: 0.1762 - val_accuracy: 0.9493\n",
            "Epoch 8/34\n",
            "17/17 [==============================] - 8s 449ms/step - loss: 0.3325 - accuracy: 0.8555 - val_loss: 0.3812 - val_accuracy: 0.8188\n",
            "Epoch 9/34\n",
            "17/17 [==============================] - 8s 478ms/step - loss: 0.2799 - accuracy: 0.8825 - val_loss: 0.1744 - val_accuracy: 0.9420\n",
            "Epoch 10/34\n",
            "17/17 [==============================] - 8s 483ms/step - loss: 0.2691 - accuracy: 0.8960 - val_loss: 0.1591 - val_accuracy: 0.9493\n",
            "Epoch 11/34\n",
            "17/17 [==============================] - 8s 445ms/step - loss: 0.3568 - accuracy: 0.8671 - val_loss: 0.1475 - val_accuracy: 0.9420\n",
            "Epoch 12/34\n",
            "17/17 [==============================] - 8s 456ms/step - loss: 0.2587 - accuracy: 0.8902 - val_loss: 0.1869 - val_accuracy: 0.9348\n",
            "Epoch 13/34\n",
            "17/17 [==============================] - 8s 450ms/step - loss: 0.2734 - accuracy: 0.8921 - val_loss: 0.3849 - val_accuracy: 0.8188\n",
            "Epoch 14/34\n",
            "17/17 [==============================] - 8s 446ms/step - loss: 0.3489 - accuracy: 0.8690 - val_loss: 0.2460 - val_accuracy: 0.9203\n",
            "Epoch 15/34\n",
            "17/17 [==============================] - 8s 448ms/step - loss: 0.3990 - accuracy: 0.8401 - val_loss: 0.1812 - val_accuracy: 0.9493\n",
            "Epoch 16/34\n",
            "17/17 [==============================] - 8s 450ms/step - loss: 0.3390 - accuracy: 0.8593 - val_loss: 0.1487 - val_accuracy: 0.9420\n",
            "Epoch 17/34\n",
            "17/17 [==============================] - 8s 446ms/step - loss: 0.3409 - accuracy: 0.8767 - val_loss: 0.1384 - val_accuracy: 0.9638\n",
            "Epoch 18/34\n",
            "17/17 [==============================] - 8s 482ms/step - loss: 0.2071 - accuracy: 0.9191 - val_loss: 0.1638 - val_accuracy: 0.9493\n",
            "Epoch 19/34\n",
            "17/17 [==============================] - 8s 448ms/step - loss: 0.3022 - accuracy: 0.8882 - val_loss: 0.1372 - val_accuracy: 0.9638\n",
            "Epoch 20/34\n",
            "17/17 [==============================] - 8s 467ms/step - loss: 0.4668 - accuracy: 0.8401 - val_loss: 0.1516 - val_accuracy: 0.9493\n",
            "Epoch 21/34\n",
            "17/17 [==============================] - 8s 446ms/step - loss: 0.2461 - accuracy: 0.9133 - val_loss: 0.2132 - val_accuracy: 0.9203\n",
            "Epoch 22/34\n",
            "17/17 [==============================] - 8s 444ms/step - loss: 0.3232 - accuracy: 0.8805 - val_loss: 0.2295 - val_accuracy: 0.9275\n",
            "Epoch 23/34\n",
            "17/17 [==============================] - 8s 460ms/step - loss: 0.3413 - accuracy: 0.8732 - val_loss: 0.4047 - val_accuracy: 0.8333\n",
            "Epoch 24/34\n",
            "17/17 [==============================] - 8s 446ms/step - loss: 0.3345 - accuracy: 0.8671 - val_loss: 0.4405 - val_accuracy: 0.8333\n",
            "Epoch 25/34\n",
            "17/17 [==============================] - 8s 445ms/step - loss: 0.3603 - accuracy: 0.8921 - val_loss: 0.3061 - val_accuracy: 0.8768\n",
            "Epoch 26/34\n",
            "17/17 [==============================] - 8s 446ms/step - loss: 0.3953 - accuracy: 0.8613 - val_loss: 0.1876 - val_accuracy: 0.9493\n",
            "Epoch 27/34\n",
            "17/17 [==============================] - 8s 449ms/step - loss: 0.3176 - accuracy: 0.8998 - val_loss: 0.3816 - val_accuracy: 0.8551\n",
            "Epoch 28/34\n",
            "17/17 [==============================] - 8s 445ms/step - loss: 0.3329 - accuracy: 0.8960 - val_loss: 0.2000 - val_accuracy: 0.9420\n"
          ],
          "name": "stdout"
        }
      ]
    },
    {
      "cell_type": "code",
      "metadata": {
        "id": "rbmzdniGgSZH",
        "colab_type": "code",
        "colab": {
          "base_uri": "https://localhost:8080/",
          "height": 187
        },
        "outputId": "7609b26f-3363-4d73-8524-bdb5bbc70e60"
      },
      "source": [
        "# make predictions on the testing set\n",
        "print(\"[INFO] evaluating network...\")\n",
        "predIdxs = model.predict(testX, batch_size=BS)\n",
        "# for each image in the testing set we need to find the index of the\n",
        "# label with corresponding largest predicted probability\n",
        "predIdxs = np.argmax(predIdxs, axis=1)\n",
        "# show a nicely formatted classification report\n",
        "print(classification_report(testY.argmax(axis=1), predIdxs,\n",
        "\ttarget_names=lb.classes_))"
      ],
      "execution_count": 26,
      "outputs": [
        {
          "output_type": "stream",
          "text": [
            "[INFO] evaluating network...\n",
            "              precision    recall  f1-score   support\n",
            "\n",
            "    infected       0.97      0.91      0.94        64\n",
            "      normal       0.92      0.97      0.95        74\n",
            "\n",
            "    accuracy                           0.94       138\n",
            "   macro avg       0.94      0.94      0.94       138\n",
            "weighted avg       0.94      0.94      0.94       138\n",
            "\n"
          ],
          "name": "stdout"
        }
      ]
    },
    {
      "cell_type": "code",
      "metadata": {
        "id": "QxLRBVl38AFD",
        "colab_type": "code",
        "colab": {}
      },
      "source": [
        ""
      ],
      "execution_count": null,
      "outputs": []
    },
    {
      "cell_type": "code",
      "metadata": {
        "id": "YVFlYMmdgY-p",
        "colab_type": "code",
        "colab": {
          "base_uri": "https://localhost:8080/",
          "height": 102
        },
        "outputId": "f37c572c-1a3b-4c7a-c2a7-08f5cd044dfe"
      },
      "source": [
        "# compute the confusion matrix and and use it to derive the raw\n",
        "# accuracy, sensitivity, and specificity\n",
        "cm = confusion_matrix(testY.argmax(axis=1), predIdxs)\n",
        "total = sum(sum(cm))\n",
        "acc = (cm[0, 0] + cm[1, 1]) / total\n",
        "sensitivity = cm[0, 0] / (cm[0, 0] + cm[0, 1])\n",
        "specificity = cm[1, 1] / (cm[1, 0] + cm[1, 1])\n",
        "# show the confusion matrix, accuracy, sensitivity, and specificity\n",
        "print(cm)\n",
        "print(\"acc: {:.4f}\".format(acc))\n",
        "print(\"sensitivity: {:.4f}\".format(sensitivity))\n",
        "print(\"specificity: {:.4f}\".format(specificity))"
      ],
      "execution_count": 27,
      "outputs": [
        {
          "output_type": "stream",
          "text": [
            "[[58  6]\n",
            " [ 2 72]]\n",
            "acc: 0.9420\n",
            "sensitivity: 0.9062\n",
            "specificity: 0.9730\n"
          ],
          "name": "stdout"
        }
      ]
    },
    {
      "cell_type": "code",
      "metadata": {
        "id": "z-WZIo0hgZrx",
        "colab_type": "code",
        "colab": {
          "base_uri": "https://localhost:8080/",
          "height": 316
        },
        "outputId": "4ba43e1f-d85c-4fec-9369-ba3b9643befe"
      },
      "source": [
        "# plot the training loss and accuracy\n",
        "N = 28\n",
        "plt.style.use(\"ggplot\")\n",
        "plt.figure()\n",
        "plt.plot(np.arange(0, N), H.history[\"loss\"], label=\"train_loss\")\n",
        "plt.plot(np.arange(0, N), H.history[\"val_loss\"], label=\"val_loss\")\n",
        "plt.plot(np.arange(0, N), H.history[\"accuracy\"], label=\"train_acc\")\n",
        "plt.plot(np.arange(0, N), H.history[\"val_accuracy\"], label=\"val_acc\")\n",
        "plt.title(\"Training Loss and Accuracy on COVID-19 Dataset\")\n",
        "plt.xlabel(\"Epoch #\")\n",
        "plt.ylabel(\"Loss/Accuracy\")\n",
        "plt.legend(loc=\"lower left\")\n",
        "#plt.savefig(args[\"plot\"])"
      ],
      "execution_count": 29,
      "outputs": [
        {
          "output_type": "execute_result",
          "data": {
            "text/plain": [
              "<matplotlib.legend.Legend at 0x7f55e8a57198>"
            ]
          },
          "metadata": {
            "tags": []
          },
          "execution_count": 29
        },
        {
          "output_type": "display_data",
          "data": {
            "image/png": "[encoded data removed]",
            "text/plain": [
              "<Figure size 432x288 with 1 Axes>"
            ]
          },
          "metadata": {
            "tags": []
          }
        }
      ]
    },
    {
      "cell_type": "code",
      "metadata": {
        "id": "W5ywfc6agc4a",
        "colab_type": "code",
        "colab": {
          "base_uri": "https://localhost:8080/",
          "height": 51
        },
        "outputId": "44e80343-ce75-44e8-87c7-171eee87be33"
      },
      "source": [
        "predict_imagePaths=['/content/Classification-of-COVID-19-chest-X-ray-images/dataset/training/normal/NORMAL2-IM-0311-0001.jpeg','/content/Classification-of-COVID-19-chest-X-ray-images/dataset/training/infected/covid_train (21).png']\n",
        "# loop over the image paths\n",
        "for imagePath in predict_imagePaths:\n",
        "\t# extract the class label from the filename\n",
        "#\tlabel = imagePath.split(os.path.sep)[-2]\n",
        "\t# load the image, swap color channels, and resize it to be a fixed\n",
        "\t# 224x224 pixels while ignoring aspect ratio\n",
        "  image = cv2.imread(imagePath)\n",
        "  image = cv2.cvtColor(image, cv2.COLOR_BGR2RGB)\n",
        "  image = cv2.resize(image, (224, 224))\n",
        "  img = np.array(image) / 255.0\n",
        "  img=np.reshape(img,(1,224,224,3))\n",
        "  print(model.predict(img).argmax(axis=1))"
      ],
      "execution_count": 30,
      "outputs": [
        {
          "output_type": "stream",
          "text": [
            "[1]\n",
            "[0]\n"
          ],
          "name": "stdout"
        }
      ]
    },
    {
      "cell_type": "markdown",
      "metadata": {
        "id": "Ft88CA452B6A",
        "colab_type": "text"
      },
      "source": [
        "END OF RESNET50\n"
      ]
    },
    {
      "cell_type": "markdown",
      "metadata": {
        "id": "Zg4FJOaj9dz0",
        "colab_type": "text"
      },
      "source": [
        "MOBILENET BY GOOGLE\n"
      ]
    },
    {
      "cell_type": "code",
      "metadata": {
        "id": "WLhmbVH_9c4H",
        "colab_type": "code",
        "colab": {}
      },
      "source": [
        ""
      ],
      "execution_count": null,
      "outputs": []
    },
    {
      "cell_type": "code",
      "metadata": {
        "id": "_aNwGE8r2D83",
        "colab_type": "code",
        "colab": {}
      },
      "source": [
        "import tensorflow as tf"
      ],
      "execution_count": 31,
      "outputs": []
    },
    {
      "cell_type": "code",
      "metadata": {
        "id": "Y8NH1Yjm3a49",
        "colab_type": "code",
        "colab": {
          "base_uri": "https://localhost:8080/",
          "height": 51
        },
        "outputId": "b371b7d2-5d4b-4ecf-d7f2-9efabe95b985"
      },
      "source": [
        "IMG_SHAPE = (224,224,3)\n",
        "\n",
        "# Create the base model from the pre-trained model MobileNet V2\n",
        "baseModel = tf.keras.applications.MobileNetV2(input_shape=IMG_SHAPE,\n",
        "                                               include_top=False,\n",
        "                                               weights='imagenet')\n",
        "headModel = baseModel.output\n",
        "headModel = AveragePooling2D(pool_size=(4, 4))(headModel)\n",
        "headModel = Dropout(0.5)(headModel)\n",
        "headModel = Flatten(name=\"flatten\")(headModel)\n",
        "headModel = Dense(64, activation=\"relu\")(headModel)\n",
        "headModel = Dropout(0.5)(headModel)\n",
        "headModel = Dense(2, activation=\"softmax\")(headModel)\n",
        "\n",
        "\n",
        "model= Model(inputs=baseModel.input, outputs=headModel)\n",
        "\n",
        "for layer in baseModel.layers:\n",
        "    layer.trainable = False\n"
      ],
      "execution_count": 32,
      "outputs": [
        {
          "output_type": "stream",
          "text": [
            "Downloading data from https://storage.googleapis.com/tensorflow/keras-applications/mobilenet_v2/mobilenet_v2_weights_tf_dim_ordering_tf_kernels_1.0_224_no_top.h5\n",
            "9412608/9406464 [==============================] - 0s 0us/step\n"
          ],
          "name": "stdout"
        }
      ]
    },
    {
      "cell_type": "code",
      "metadata": {
        "id": "5_ORza4y3it6",
        "colab_type": "code",
        "colab": {}
      },
      "source": [
        "model_chkpt = ModelCheckpoint('best_mod.h5', save_best_only=True, monitor='accuracy')\n",
        "early_stopping = EarlyStopping(monitor='loss', restore_best_weights=False, patience=10)"
      ],
      "execution_count": 33,
      "outputs": []
    },
    {
      "cell_type": "code",
      "metadata": {
        "id": "_-2zEyzK3jHr",
        "colab_type": "code",
        "colab": {
          "base_uri": "https://localhost:8080/",
          "height": 1000
        },
        "outputId": "b464872a-cb8a-439f-d8d5-70c7f4d5c42c"
      },
      "source": [
        "# initialize the initial learning rate, number of epochs to train for,\n",
        "# and batch size\n",
        "INIT_LR = 1e-3\n",
        "EPOCHS = 34\n",
        "BS = 16\n",
        "# compile our model\n",
        "print(\"[INFO] compiling model...\")\n",
        "opt = Adam(lr=INIT_LR, decay=INIT_LR / EPOCHS)\n",
        "model.compile(loss=\"binary_crossentropy\", optimizer=opt,\n",
        "\tmetrics=[\"accuracy\"])\n",
        "# train the head of the network\n",
        "print(\"[INFO] training head...\")\n",
        "H = model.fit_generator(\n",
        "\ttrainAug.flow(trainX, trainY, batch_size=BS),\n",
        "\tsteps_per_epoch=len(trainX) // BS,\n",
        "\tvalidation_data=(testX, testY),\n",
        "\tvalidation_steps=len(testX) // BS,\n",
        "\tepochs=EPOCHS,callbacks=[early_stopping,model_chkpt])"
      ],
      "execution_count": 35,
      "outputs": [
        {
          "output_type": "stream",
          "text": [
            "[INFO] compiling model...\n",
            "[INFO] training head...\n",
            "Epoch 1/34\n",
            "34/34 [==============================] - 8s 226ms/step - loss: 0.1049 - accuracy: 0.9645 - val_loss: 0.0036 - val_accuracy: 1.0000\n",
            "Epoch 2/34\n",
            "34/34 [==============================] - 7s 198ms/step - loss: 0.1085 - accuracy: 0.9559 - val_loss: 0.0079 - val_accuracy: 1.0000\n",
            "Epoch 3/34\n",
            "34/34 [==============================] - 7s 194ms/step - loss: 0.1903 - accuracy: 0.9551 - val_loss: 0.0103 - val_accuracy: 1.0000\n",
            "Epoch 4/34\n",
            "34/34 [==============================] - 7s 193ms/step - loss: 0.1361 - accuracy: 0.9495 - val_loss: 0.0145 - val_accuracy: 1.0000\n",
            "Epoch 5/34\n",
            "34/34 [==============================] - 7s 194ms/step - loss: 0.1691 - accuracy: 0.9458 - val_loss: 0.0217 - val_accuracy: 1.0000\n",
            "Epoch 6/34\n",
            "34/34 [==============================] - 7s 194ms/step - loss: 0.1425 - accuracy: 0.9477 - val_loss: 0.0203 - val_accuracy: 1.0000\n",
            "Epoch 7/34\n",
            "34/34 [==============================] - 7s 212ms/step - loss: 0.0901 - accuracy: 0.9682 - val_loss: 0.0112 - val_accuracy: 1.0000\n",
            "Epoch 8/34\n",
            "34/34 [==============================] - 7s 207ms/step - loss: 0.0948 - accuracy: 0.9720 - val_loss: 0.0097 - val_accuracy: 1.0000\n",
            "Epoch 9/34\n",
            "34/34 [==============================] - 7s 195ms/step - loss: 0.1031 - accuracy: 0.9589 - val_loss: 0.0144 - val_accuracy: 1.0000\n",
            "Epoch 10/34\n",
            "34/34 [==============================] - 7s 194ms/step - loss: 0.1222 - accuracy: 0.9607 - val_loss: 0.0188 - val_accuracy: 1.0000\n",
            "Epoch 11/34\n",
            "34/34 [==============================] - 7s 193ms/step - loss: 0.0806 - accuracy: 0.9682 - val_loss: 0.0120 - val_accuracy: 1.0000\n",
            "Epoch 12/34\n",
            "34/34 [==============================] - 7s 194ms/step - loss: 0.0842 - accuracy: 0.9682 - val_loss: 0.0123 - val_accuracy: 1.0000\n",
            "Epoch 13/34\n",
            "34/34 [==============================] - 7s 198ms/step - loss: 0.0882 - accuracy: 0.9607 - val_loss: 0.0104 - val_accuracy: 1.0000\n",
            "Epoch 14/34\n",
            "34/34 [==============================] - 7s 197ms/step - loss: 0.0859 - accuracy: 0.9682 - val_loss: 0.0146 - val_accuracy: 1.0000\n",
            "Epoch 15/34\n",
            "34/34 [==============================] - 7s 195ms/step - loss: 0.0922 - accuracy: 0.9682 - val_loss: 0.0095 - val_accuracy: 1.0000\n",
            "Epoch 16/34\n",
            "34/34 [==============================] - 7s 195ms/step - loss: 0.0985 - accuracy: 0.9551 - val_loss: 0.0123 - val_accuracy: 1.0000\n",
            "Epoch 17/34\n",
            "34/34 [==============================] - 7s 194ms/step - loss: 0.0855 - accuracy: 0.9607 - val_loss: 0.0094 - val_accuracy: 1.0000\n",
            "Epoch 18/34\n",
            "34/34 [==============================] - 7s 205ms/step - loss: 0.0637 - accuracy: 0.9850 - val_loss: 0.0194 - val_accuracy: 1.0000\n",
            "Epoch 19/34\n",
            "34/34 [==============================] - 7s 196ms/step - loss: 0.0638 - accuracy: 0.9738 - val_loss: 0.0066 - val_accuracy: 1.0000\n",
            "Epoch 20/34\n",
            "34/34 [==============================] - 7s 199ms/step - loss: 0.0558 - accuracy: 0.9776 - val_loss: 0.0056 - val_accuracy: 1.0000\n",
            "Epoch 21/34\n",
            "34/34 [==============================] - 7s 196ms/step - loss: 0.0757 - accuracy: 0.9738 - val_loss: 0.0069 - val_accuracy: 1.0000\n",
            "Epoch 22/34\n",
            "34/34 [==============================] - 7s 209ms/step - loss: 0.0609 - accuracy: 0.9869 - val_loss: 0.0063 - val_accuracy: 1.0000\n",
            "Epoch 23/34\n",
            "34/34 [==============================] - 7s 195ms/step - loss: 0.0807 - accuracy: 0.9664 - val_loss: 0.0120 - val_accuracy: 1.0000\n",
            "Epoch 24/34\n",
            "34/34 [==============================] - 7s 195ms/step - loss: 0.1027 - accuracy: 0.9626 - val_loss: 0.0270 - val_accuracy: 0.9928\n",
            "Epoch 25/34\n",
            "34/34 [==============================] - 7s 195ms/step - loss: 0.0814 - accuracy: 0.9738 - val_loss: 0.0116 - val_accuracy: 1.0000\n",
            "Epoch 26/34\n",
            "34/34 [==============================] - 7s 193ms/step - loss: 0.0790 - accuracy: 0.9794 - val_loss: 0.0115 - val_accuracy: 1.0000\n",
            "Epoch 27/34\n",
            "34/34 [==============================] - 7s 200ms/step - loss: 0.1098 - accuracy: 0.9626 - val_loss: 0.0121 - val_accuracy: 1.0000\n",
            "Epoch 28/34\n",
            "34/34 [==============================] - 7s 195ms/step - loss: 0.0762 - accuracy: 0.9757 - val_loss: 0.0139 - val_accuracy: 1.0000\n",
            "Epoch 29/34\n",
            "34/34 [==============================] - 7s 194ms/step - loss: 0.0798 - accuracy: 0.9645 - val_loss: 0.0148 - val_accuracy: 1.0000\n",
            "Epoch 30/34\n",
            "34/34 [==============================] - 7s 194ms/step - loss: 0.0779 - accuracy: 0.9664 - val_loss: 0.0080 - val_accuracy: 1.0000\n"
          ],
          "name": "stdout"
        }
      ]
    },
    {
      "cell_type": "code",
      "metadata": {
        "id": "nFvJO2Oc8BKs",
        "colab_type": "code",
        "colab": {
          "base_uri": "https://localhost:8080/",
          "height": 187
        },
        "outputId": "a116aff1-90c2-4633-9485-3fcdabc981c7"
      },
      "source": [
        "# make predictions on the testing set\n",
        "print(\"[INFO] evaluating network...\")\n",
        "predIdxs = model.predict(testX, batch_size=BS)\n",
        "# for each image in the testing set we need to find the index of the\n",
        "# label with corresponding largest predicted probability\n",
        "predIdxs = np.argmax(predIdxs, axis=1)\n",
        "# show a nicely formatted classification report\n",
        "print(classification_report(testY.argmax(axis=1), predIdxs,\n",
        "\ttarget_names=lb.classes_))"
      ],
      "execution_count": 36,
      "outputs": [
        {
          "output_type": "stream",
          "text": [
            "[INFO] evaluating network...\n",
            "              precision    recall  f1-score   support\n",
            "\n",
            "    infected       1.00      1.00      1.00        64\n",
            "      normal       1.00      1.00      1.00        74\n",
            "\n",
            "    accuracy                           1.00       138\n",
            "   macro avg       1.00      1.00      1.00       138\n",
            "weighted avg       1.00      1.00      1.00       138\n",
            "\n"
          ],
          "name": "stdout"
        }
      ]
    },
    {
      "cell_type": "code",
      "metadata": {
        "id": "g-GuP2p_8BjR",
        "colab_type": "code",
        "colab": {
          "base_uri": "https://localhost:8080/",
          "height": 102
        },
        "outputId": "390fe019-6f0c-4735-8e81-a2d98f3f181b"
      },
      "source": [
        "# compute the confusion matrix and and use it to derive the raw\n",
        "# accuracy, sensitivity, and specificity\n",
        "cm = confusion_matrix(testY.argmax(axis=1), predIdxs)\n",
        "total = sum(sum(cm))\n",
        "acc = (cm[0, 0] + cm[1, 1]) / total\n",
        "sensitivity = cm[0, 0] / (cm[0, 0] + cm[0, 1])\n",
        "specificity = cm[1, 1] / (cm[1, 0] + cm[1, 1])\n",
        "# show the confusion matrix, accuracy, sensitivity, and specificity\n",
        "print(cm)\n",
        "print(\"acc: {:.4f}\".format(acc))\n",
        "print(\"sensitivity: {:.4f}\".format(sensitivity))\n",
        "print(\"specificity: {:.4f}\".format(specificity))"
      ],
      "execution_count": 37,
      "outputs": [
        {
          "output_type": "stream",
          "text": [
            "[[64  0]\n",
            " [ 0 74]]\n",
            "acc: 1.0000\n",
            "sensitivity: 1.0000\n",
            "specificity: 1.0000\n"
          ],
          "name": "stdout"
        }
      ]
    },
    {
      "cell_type": "code",
      "metadata": {
        "id": "ijp-t2158Du_",
        "colab_type": "code",
        "colab": {
          "base_uri": "https://localhost:8080/",
          "height": 316
        },
        "outputId": "68e446a6-b456-4717-dd92-4a464294c6b5"
      },
      "source": [
        "# plot the training loss and accuracy\n",
        "N = 30\n",
        "plt.style.use(\"ggplot\")\n",
        "plt.figure()\n",
        "plt.plot(np.arange(0, N), H.history[\"loss\"], label=\"train_loss\")\n",
        "plt.plot(np.arange(0, N), H.history[\"val_loss\"], label=\"val_loss\")\n",
        "plt.plot(np.arange(0, N), H.history[\"accuracy\"], label=\"train_acc\")\n",
        "plt.plot(np.arange(0, N), H.history[\"val_accuracy\"], label=\"val_acc\")\n",
        "plt.title(\"Training Loss and Accuracy on COVID-19 Dataset\")\n",
        "plt.xlabel(\"Epoch #\")\n",
        "plt.ylabel(\"Loss/Accuracy\")\n",
        "plt.legend(loc=\"lower left\")\n",
        "#plt.savefig(args[\"plot\"])"
      ],
      "execution_count": 39,
      "outputs": [
        {
          "output_type": "execute_result",
          "data": {
            "text/plain": [
              "<matplotlib.legend.Legend at 0x7f55eca9ba58>"
            ]
          },
          "metadata": {
            "tags": []
          },
          "execution_count": 39
        },
        {
          "output_type": "display_data",
          "data": {
            "image/png": "[encoded data removed]",
            "text/plain": [
              "<Figure size 432x288 with 1 Axes>"
            ]
          },
          "metadata": {
            "tags": []
          }
        }
      ]
    },
    {
      "cell_type": "code",
      "metadata": {
        "id": "RWOFEI7e8G5f",
        "colab_type": "code",
        "colab": {
          "base_uri": "https://localhost:8080/",
          "height": 238
        },
        "outputId": "7ae57280-7e50-4a13-b2d5-7c8a0d0a09ec"
      },
      "source": [
        "predict_imagePaths=['/content/Classification-of-COVID-19-chest-X-ray-images/dataset/training/normal/NORMAL2 (32).jpeg',\n",
        " '/content/Classification-of-COVID-19-chest-X-ray-images/dataset/training/normal/NORMAL2 (42).jpeg',\n",
        " '/content/Classification-of-COVID-19-chest-X-ray-images/dataset/training/normal/NORMAL2 (180).jpeg',\n",
        " '/content/Classification-of-COVID-19-chest-X-ray-images/dataset/training/normal/NORMAL2-IM-0339-0001.jpeg',\n",
        " '/content/Classification-of-COVID-19-chest-X-ray-images/dataset/training/normal/NORMAL2-IM-0019-0001.jpeg',\n",
        " '/content/Classification-of-COVID-19-chest-X-ray-images/dataset/training/normal/NORMAL2-IM-0323-0001.jpeg',\n",
        " '/content/Classification-of-COVID-19-chest-X-ray-images/dataset/training/normal/NORMAL2-IM-0370-0001.jpeg',\n",
        " '/content/Classification-of-COVID-19-chest-X-ray-images/dataset/training/infected/covid_train (79).jpg',\n",
        " '/content/Classification-of-COVID-19-chest-X-ray-images/dataset/training/infected/covid_train (28).jpeg',\n",
        " '/content/Classification-of-COVID-19-chest-X-ray-images/dataset/training/infected/covid_train (71).jpg',\n",
        " '/content/Classification-of-COVID-19-chest-X-ray-images/dataset/training/infected/covid_train11.png',\n",
        " '/content/Classification-of-COVID-19-chest-X-ray-images/dataset/training/infected/covid_train (43).jpg',\n",
        " '/content/Classification-of-COVID-19-chest-X-ray-images/dataset/training/infected/covid_train (30).jpeg']\n",
        "# loop over the image paths\n",
        "for imagePath in predict_imagePaths:\n",
        "\t# extract the class label from the filename\n",
        "#\tlabel = imagePath.split(os.path.sep)[-2]\n",
        "\t# load the image, swap color channels, and resize it to be a fixed\n",
        "\t# 224x224 pixels while ignoring aspect ratio\n",
        "  image = cv2.imread(imagePath)\n",
        "  image = cv2.cvtColor(image, cv2.COLOR_BGR2RGB)\n",
        "  image = cv2.resize(image, (224, 224))\n",
        "  img = np.array(image) / 255.0\n",
        "  img=np.reshape(img,(1,224,224,3))\n",
        "  print(model.predict(img).argmax(axis=1))"
      ],
      "execution_count": 42,
      "outputs": [
        {
          "output_type": "stream",
          "text": [
            "[1]\n",
            "[1]\n",
            "[1]\n",
            "[1]\n",
            "[1]\n",
            "[1]\n",
            "[1]\n",
            "[0]\n",
            "[0]\n",
            "[0]\n",
            "[0]\n",
            "[0]\n",
            "[0]\n"
          ],
          "name": "stdout"
        }
      ]
    },
    {
      "cell_type": "markdown",
      "metadata": {
        "id": "4RYRM_RO9io3",
        "colab_type": "text"
      },
      "source": [
        "END OF MOBILENET\n"
      ]
    },
    {
      "cell_type": "markdown",
      "metadata": {
        "id": "VqWVIE7U-nuJ",
        "colab_type": "text"
      },
      "source": [
        "NASNetlarge"
      ]
    },
    {
      "cell_type": "code",
      "metadata": {
        "id": "3wDXu4tP-n6o",
        "colab_type": "code",
        "colab": {}
      },
      "source": [
        "from tensorflow.keras.applications.nasnet import NASNetLarge\n"
      ],
      "execution_count": 43,
      "outputs": []
    },
    {
      "cell_type": "code",
      "metadata": {
        "id": "mAje_RwZ9kFo",
        "colab_type": "code",
        "colab": {
          "base_uri": "https://localhost:8080/",
          "height": 51
        },
        "outputId": "80ddac89-bec2-4fdc-9467-ac4931a8139b"
      },
      "source": [
        "IMG_SHAPE = (224,224,3)\n",
        "\n",
        "# Create the base model from the pre-trained model MobileNet V2\n",
        "baseModel = tf.keras.applications.NASNetLarge(include_top=False,weights='imagenet',input_tensor=Input(shape=(224, 224, 3)))\n",
        "headModel = baseModel.output\n",
        "headModel = AveragePooling2D(pool_size=(4, 4))(headModel)\n",
        "headModel = Dropout(0.5)(headModel)\n",
        "headModel = Flatten(name=\"flatten\")(headModel)\n",
        "headModel = Dense(64, activation=\"relu\")(headModel)\n",
        "headModel = Dropout(0.5)(headModel)\n",
        "headModel = Dense(2, activation=\"softmax\")(headModel)\n",
        "\n",
        "\n",
        "model= Model(inputs=baseModel.input, outputs=headModel)\n",
        "\n",
        "for layer in baseModel.layers:\n",
        "    layer.trainable = False\n"
      ],
      "execution_count": 44,
      "outputs": [
        {
          "output_type": "stream",
          "text": [
            "Downloading data from https://storage.googleapis.com/tensorflow/keras-applications/nasnet/NASNet-large-no-top.h5\n",
            "343613440/343610240 [==============================] - 8s 0us/step\n"
          ],
          "name": "stdout"
        }
      ]
    },
    {
      "cell_type": "code",
      "metadata": {
        "id": "tbLXxzt8CiIc",
        "colab_type": "code",
        "colab": {
          "base_uri": "https://localhost:8080/",
          "height": 901
        },
        "outputId": "0a558f60-92f4-4af5-df5d-aa60823f8bd2"
      },
      "source": [
        "model_chkpt = ModelCheckpoint('best_mod.h5', save_best_only=True, monitor='accuracy')\n",
        "early_stopping = EarlyStopping(monitor='loss', restore_best_weights=False, patience=10)\n",
        "\n",
        "# initialize the initial learning rate, number of epochs to train for,\n",
        "# and batch size\n",
        "INIT_LR = 1e-3\n",
        "EPOCHS = 34\n",
        "BS = 16\n",
        "# compile our model\n",
        "print(\"[INFO] compiling model...\")\n",
        "opt = Adam(lr=INIT_LR, decay=INIT_LR / EPOCHS)\n",
        "model.compile(loss=\"binary_crossentropy\", optimizer=opt,\n",
        "\tmetrics=[\"accuracy\"])\n",
        "# train the head of the network\n",
        "print(\"[INFO] training head...\")\n",
        "H = model.fit_generator(\n",
        "\ttrainAug.flow(trainX, trainY, batch_size=BS),\n",
        "\tsteps_per_epoch=len(trainX) // BS,\n",
        "\tvalidation_data=(testX, testY),\n",
        "\tvalidation_steps=len(testX) // BS,\n",
        "\tepochs=EPOCHS,callbacks=[early_stopping,model_chkpt])"
      ],
      "execution_count": 45,
      "outputs": [
        {
          "output_type": "stream",
          "text": [
            "[INFO] compiling model...\n",
            "[INFO] training head...\n",
            "Epoch 1/34\n",
            "34/34 [==============================] - 32s 950ms/step - loss: 0.4060 - accuracy: 0.8505 - val_loss: 0.1173 - val_accuracy: 0.9710\n",
            "Epoch 2/34\n",
            "34/34 [==============================] - 23s 683ms/step - loss: 0.1763 - accuracy: 0.9364 - val_loss: 0.0941 - val_accuracy: 0.9638\n",
            "Epoch 3/34\n",
            "34/34 [==============================] - 23s 681ms/step - loss: 0.1333 - accuracy: 0.9514 - val_loss: 0.1702 - val_accuracy: 0.9565\n",
            "Epoch 4/34\n",
            "34/34 [==============================] - 20s 602ms/step - loss: 0.1145 - accuracy: 0.9495 - val_loss: 0.1383 - val_accuracy: 0.9710\n",
            "Epoch 5/34\n",
            "34/34 [==============================] - 20s 602ms/step - loss: 0.1404 - accuracy: 0.9477 - val_loss: 0.0805 - val_accuracy: 0.9783\n",
            "Epoch 6/34\n",
            "34/34 [==============================] - 24s 692ms/step - loss: 0.0955 - accuracy: 0.9607 - val_loss: 0.0935 - val_accuracy: 0.9710\n",
            "Epoch 7/34\n",
            "34/34 [==============================] - 23s 681ms/step - loss: 0.0636 - accuracy: 0.9720 - val_loss: 0.0792 - val_accuracy: 0.9638\n",
            "Epoch 8/34\n",
            "34/34 [==============================] - 20s 600ms/step - loss: 0.0660 - accuracy: 0.9720 - val_loss: 0.1720 - val_accuracy: 0.9638\n",
            "Epoch 9/34\n",
            "34/34 [==============================] - 20s 600ms/step - loss: 0.1093 - accuracy: 0.9664 - val_loss: 0.1320 - val_accuracy: 0.9565\n",
            "Epoch 10/34\n",
            "34/34 [==============================] - 23s 679ms/step - loss: 0.0543 - accuracy: 0.9832 - val_loss: 0.0994 - val_accuracy: 0.9710\n",
            "Epoch 11/34\n",
            "34/34 [==============================] - 20s 601ms/step - loss: 0.0707 - accuracy: 0.9776 - val_loss: 0.1783 - val_accuracy: 0.9638\n",
            "Epoch 12/34\n",
            "34/34 [==============================] - 20s 600ms/step - loss: 0.0846 - accuracy: 0.9682 - val_loss: 0.1032 - val_accuracy: 0.9783\n",
            "Epoch 13/34\n",
            "34/34 [==============================] - 20s 601ms/step - loss: 0.0634 - accuracy: 0.9776 - val_loss: 0.1046 - val_accuracy: 0.9855\n",
            "Epoch 14/34\n",
            "34/34 [==============================] - 20s 600ms/step - loss: 0.0691 - accuracy: 0.9776 - val_loss: 0.1328 - val_accuracy: 0.9710\n",
            "Epoch 15/34\n",
            "34/34 [==============================] - 20s 600ms/step - loss: 0.0421 - accuracy: 0.9832 - val_loss: 0.1774 - val_accuracy: 0.9565\n",
            "Epoch 16/34\n",
            "34/34 [==============================] - 20s 601ms/step - loss: 0.0814 - accuracy: 0.9720 - val_loss: 0.1645 - val_accuracy: 0.9638\n",
            "Epoch 17/34\n",
            "34/34 [==============================] - 20s 600ms/step - loss: 0.0569 - accuracy: 0.9776 - val_loss: 0.1251 - val_accuracy: 0.9638\n",
            "Epoch 18/34\n",
            "34/34 [==============================] - 20s 601ms/step - loss: 0.0578 - accuracy: 0.9776 - val_loss: 0.1072 - val_accuracy: 0.9710\n",
            "Epoch 19/34\n",
            "34/34 [==============================] - 20s 601ms/step - loss: 0.1099 - accuracy: 0.9626 - val_loss: 0.0842 - val_accuracy: 0.9783\n",
            "Epoch 20/34\n",
            "34/34 [==============================] - 20s 600ms/step - loss: 0.0654 - accuracy: 0.9682 - val_loss: 0.0907 - val_accuracy: 0.9855\n",
            "Epoch 21/34\n",
            "34/34 [==============================] - 23s 687ms/step - loss: 0.0488 - accuracy: 0.9850 - val_loss: 0.1434 - val_accuracy: 0.9638\n",
            "Epoch 22/34\n",
            "34/34 [==============================] - 20s 601ms/step - loss: 0.0459 - accuracy: 0.9850 - val_loss: 0.1273 - val_accuracy: 0.9710\n",
            "Epoch 23/34\n",
            "34/34 [==============================] - 20s 601ms/step - loss: 0.0622 - accuracy: 0.9720 - val_loss: 0.1890 - val_accuracy: 0.9638\n",
            "Epoch 24/34\n",
            "34/34 [==============================] - 20s 601ms/step - loss: 0.0503 - accuracy: 0.9832 - val_loss: 0.0881 - val_accuracy: 0.9783\n",
            "Epoch 25/34\n",
            "34/34 [==============================] - 20s 602ms/step - loss: 0.0741 - accuracy: 0.9776 - val_loss: 0.1358 - val_accuracy: 0.9638\n"
          ],
          "name": "stdout"
        }
      ]
    },
    {
      "cell_type": "code",
      "metadata": {
        "id": "aHQYZD38CvDQ",
        "colab_type": "code",
        "colab": {
          "base_uri": "https://localhost:8080/",
          "height": 571
        },
        "outputId": "de7dd840-c5e2-4404-9eda-4de213f474bc"
      },
      "source": [
        "# make predictions on the testing set\n",
        "print(\"[INFO] evaluating network...\")\n",
        "predIdxs = model.predict(testX, batch_size=BS)\n",
        "# for each image in the testing set we need to find the index of the\n",
        "# label with corresponding largest predicted probability\n",
        "predIdxs = np.argmax(predIdxs, axis=1)\n",
        "# show a nicely formatted classification report\n",
        "print(classification_report(testY.argmax(axis=1), predIdxs,\n",
        "\ttarget_names=lb.classes_))\n",
        "\n",
        "\n",
        "\n",
        "  # compute the confusion matrix and and use it to derive the raw\n",
        "# accuracy, sensitivity, and specificity\n",
        "cm = confusion_matrix(testY.argmax(axis=1), predIdxs)\n",
        "total = sum(sum(cm))\n",
        "acc = (cm[0, 0] + cm[1, 1]) / total\n",
        "sensitivity = cm[0, 0] / (cm[0, 0] + cm[0, 1])\n",
        "specificity = cm[1, 1] / (cm[1, 0] + cm[1, 1])\n",
        "# show the confusion matrix, accuracy, sensitivity, and specificity\n",
        "print(cm)\n",
        "print(\"acc: {:.4f}\".format(acc))\n",
        "print(\"sensitivity: {:.4f}\".format(sensitivity))\n",
        "print(\"specificity: {:.4f}\".format(specificity))\n",
        "\n",
        "\n",
        "# plot the training loss and accuracy\n",
        "N = EPOCHS\n",
        "plt.style.use(\"ggplot\")\n",
        "plt.figure()\n",
        "plt.plot(np.arange(0, 25), H.history[\"loss\"], label=\"train_loss\")\n",
        "plt.plot(np.arange(0, 25), H.history[\"val_loss\"], label=\"val_loss\")\n",
        "plt.plot(np.arange(0,25), H.history[\"accuracy\"], label=\"train_acc\")\n",
        "plt.plot(np.arange(0,25), H.history[\"val_accuracy\"], label=\"val_acc\")\n",
        "plt.title(\"Training Loss and Accuracy on COVID-19 Dataset\")\n",
        "plt.xlabel(\"Epoch #\")\n",
        "plt.ylabel(\"Loss/Accuracy\")\n",
        "plt.legend(loc=\"lower left\")\n",
        "#plt.savefig(args[\"plot\"])"
      ],
      "execution_count": 47,
      "outputs": [
        {
          "output_type": "stream",
          "text": [
            "[INFO] evaluating network...\n",
            "              precision    recall  f1-score   support\n",
            "\n",
            "    infected       1.00      0.92      0.96        64\n",
            "      normal       0.94      1.00      0.97        74\n",
            "\n",
            "    accuracy                           0.96       138\n",
            "   macro avg       0.97      0.96      0.96       138\n",
            "weighted avg       0.97      0.96      0.96       138\n",
            "\n",
            "[[59  5]\n",
            " [ 0 74]]\n",
            "acc: 0.9638\n",
            "sensitivity: 0.9219\n",
            "specificity: 1.0000\n"
          ],
          "name": "stdout"
        },
        {
          "output_type": "execute_result",
          "data": {
            "text/plain": [
              "<matplotlib.legend.Legend at 0x7f55deb88eb8>"
            ]
          },
          "metadata": {
            "tags": []
          },
          "execution_count": 47
        },
        {
          "output_type": "display_data",
          "data": {
            "image/png": "[encoded data removed]",
            "text/plain": [
              "<Figure size 432x288 with 1 Axes>"
            ]
          },
          "metadata": {
            "tags": []
          }
        }
      ]
    },
    {
      "cell_type": "code",
      "metadata": {
        "id": "HHpf5lFWC5A6",
        "colab_type": "code",
        "colab": {
          "base_uri": "https://localhost:8080/",
          "height": 272
        },
        "outputId": "4dbeccba-1ece-4969-9020-ed828574a354"
      },
      "source": [
        "predict_imagePaths=[ '/content/Classification-of-COVID-19-chest-X-ray-images/dataset/training/normal/NORMAL2 (32).jpeg',\n",
        " '/content/Classification-of-COVID-19-chest-X-ray-images/dataset/training/normal/NORMAL2 (42).jpeg',\n",
        " '/content/Classification-of-COVID-19-chest-X-ray-images/dataset/training/normal/NORMAL2 (180).jpeg',\n",
        " '/content/Classification-of-COVID-19-chest-X-ray-images/dataset/training/normal/NORMAL2-IM-0339-0001.jpeg',\n",
        " '/content/Classification-of-COVID-19-chest-X-ray-images/dataset/training/normal/NORMAL2-IM-0019-0001.jpeg',\n",
        " '/content/Classification-of-COVID-19-chest-X-ray-images/dataset/training/normal/NORMAL2-IM-0323-0001.jpeg',\n",
        " '/content/Classification-of-COVID-19-chest-X-ray-images/dataset/training/normal/NORMAL2-IM-0370-0001.jpeg',\n",
        " '/content/Classification-of-COVID-19-chest-X-ray-images/dataset/training/infected/covid_train (79).jpg',\n",
        " '/content/Classification-of-COVID-19-chest-X-ray-images/dataset/training/infected/covid_train (28).jpeg',\n",
        " '/content/Classification-of-COVID-19-chest-X-ray-images/dataset/training/infected/covid_train (71).jpg',\n",
        " '/content/Classification-of-COVID-19-chest-X-ray-images/dataset/training/infected/covid_train11.png',\n",
        " '/content/Classification-of-COVID-19-chest-X-ray-images/dataset/training/infected/covid_train (43).jpg',\n",
        " '/content/Classification-of-COVID-19-chest-X-ray-images/dataset/training/infected/covid_train (30).jpeg','/content/Classification-of-COVID-19-chest-X-ray-images/dataset/training/normal/NORMAL2-IM-0311-0001.jpeg','/content/Classification-of-COVID-19-chest-X-ray-images/dataset/training/infected/covid_train (21).png']\n",
        "# loop over the image paths\n",
        "for imagePath in predict_imagePaths:\n",
        "\t# extract the class label from the filename\n",
        "#\tlabel = imagePath.split(os.path.sep)[-2]\n",
        "\t# load the image, swap color channels, and resize it to be a fixed\n",
        "\t# 224x224 pixels while ignoring aspect ratio\n",
        "  image = cv2.imread(imagePath)\n",
        "  image = cv2.cvtColor(image, cv2.COLOR_BGR2RGB)\n",
        "  image = cv2.resize(image, (224, 224))\n",
        "  img = np.array(image) / 255.0\n",
        "  img=np.reshape(img,(1,224,224,3))\n",
        "  print(model.predict(img).argmax(axis=1))"
      ],
      "execution_count": 48,
      "outputs": [
        {
          "output_type": "stream",
          "text": [
            "[1]\n",
            "[1]\n",
            "[1]\n",
            "[1]\n",
            "[1]\n",
            "[1]\n",
            "[1]\n",
            "[0]\n",
            "[0]\n",
            "[0]\n",
            "[0]\n",
            "[0]\n",
            "[0]\n",
            "[1]\n",
            "[0]\n"
          ],
          "name": "stdout"
        }
      ]
    },
    {
      "cell_type": "markdown",
      "metadata": {
        "id": "CvaYU_COC5mm",
        "colab_type": "text"
      },
      "source": [
        "END OF NASNetLarge\n"
      ]
    },
    {
      "cell_type": "markdown",
      "metadata": {
        "id": "kvm4EzeOC9Tz",
        "colab_type": "text"
      },
      "source": [
        "Xception MODEL"
      ]
    },
    {
      "cell_type": "code",
      "metadata": {
        "id": "fwfLyCaNDDzY",
        "colab_type": "code",
        "colab": {}
      },
      "source": [
        "from tensorflow.keras.applications.xception import Xception\n",
        "from tensorflow.keras.preprocessing import image\n",
        "#from tensorflow.keras.applications.resnet50 import preprocess_input, decode_predictions\n",
        "import numpy as np"
      ],
      "execution_count": 49,
      "outputs": []
    },
    {
      "cell_type": "code",
      "metadata": {
        "id": "yb802XpMDLq9",
        "colab_type": "code",
        "colab": {
          "base_uri": "https://localhost:8080/",
          "height": 51
        },
        "outputId": "b23c142e-bf45-4fd2-af53-2965ca2861da"
      },
      "source": [
        "IMG_SHAPE = (224,224,3)\n",
        "\n",
        "# Create the base model from the pre-trained model Xception\n",
        "baseModel = tf.keras.applications.Xception(include_top=False,weights='imagenet',input_tensor=Input(shape=(224, 224, 3)))\n",
        "headModel = baseModel.output\n",
        "headModel = AveragePooling2D(pool_size=(4, 4))(headModel)\n",
        "headModel = Dropout(0.5)(headModel)\n",
        "headModel = Flatten(name=\"flatten\")(headModel)\n",
        "headModel = Dense(64, activation=\"relu\")(headModel)\n",
        "headModel = Dropout(0.5)(headModel)\n",
        "headModel = Dense(2, activation=\"softmax\")(headModel)\n",
        "\n",
        "\n",
        "Xception_model= Model(inputs=baseModel.input, outputs=headModel)\n",
        "\n",
        "for layer in baseModel.layers:\n",
        "    layer.trainable = False"
      ],
      "execution_count": 50,
      "outputs": [
        {
          "output_type": "stream",
          "text": [
            "Downloading data from https://storage.googleapis.com/tensorflow/keras-applications/xception/xception_weights_tf_dim_ordering_tf_kernels_notop.h5\n",
            "83689472/83683744 [==============================] - 1s 0us/step\n"
          ],
          "name": "stdout"
        }
      ]
    },
    {
      "cell_type": "code",
      "metadata": {
        "id": "h0_b8PDxDH5Q",
        "colab_type": "code",
        "colab": {
          "base_uri": "https://localhost:8080/",
          "height": 1000
        },
        "outputId": "76e34dcc-fdad-4b1a-c977-f5798975f1a9"
      },
      "source": [
        "model_chkpt = ModelCheckpoint('best_mod.h5', save_best_only=True, monitor='accuracy')\n",
        "early_stopping = EarlyStopping(monitor='loss', restore_best_weights=False, patience=10)\n",
        "\n",
        "# initialize the initial learning rate, number of epochs to train for,\n",
        "# and batch size\n",
        "INIT_LR = 1e-3\n",
        "EPOCHS = 35\n",
        "BS = 16\n",
        "# compile our model\n",
        "print(\"[INFO] compiling model...\")\n",
        "opt = Adam(lr=INIT_LR, decay=INIT_LR / EPOCHS)\n",
        "Xception_model.compile(loss=\"binary_crossentropy\", optimizer=opt,\n",
        "\tmetrics=[\"accuracy\"])\n",
        "# train the head of the network\n",
        "print(\"[INFO] training head...\")\n",
        "H = Xception_model.fit_generator(\n",
        "\ttrainAug.flow(trainX, trainY, batch_size=BS),\n",
        "\tsteps_per_epoch=len(trainX) // BS,\n",
        "\tvalidation_data=(testX, testY),\n",
        "\tvalidation_steps=len(testX) // BS,\n",
        "\tepochs=EPOCHS,callbacks=[early_stopping,model_chkpt])"
      ],
      "execution_count": 51,
      "outputs": [
        {
          "output_type": "stream",
          "text": [
            "[INFO] compiling model...\n",
            "[INFO] training head...\n",
            "Epoch 1/35\n",
            "34/34 [==============================] - 13s 377ms/step - loss: 0.2758 - accuracy: 0.8822 - val_loss: 0.0335 - val_accuracy: 0.9928\n",
            "Epoch 2/35\n",
            "34/34 [==============================] - 10s 287ms/step - loss: 0.1471 - accuracy: 0.9477 - val_loss: 0.0224 - val_accuracy: 1.0000\n",
            "Epoch 3/35\n",
            "34/34 [==============================] - 10s 289ms/step - loss: 0.1159 - accuracy: 0.9607 - val_loss: 0.0173 - val_accuracy: 1.0000\n",
            "Epoch 4/35\n",
            "34/34 [==============================] - 9s 274ms/step - loss: 0.1044 - accuracy: 0.9589 - val_loss: 0.0237 - val_accuracy: 1.0000\n",
            "Epoch 5/35\n",
            "34/34 [==============================] - 10s 285ms/step - loss: 0.0751 - accuracy: 0.9757 - val_loss: 0.0242 - val_accuracy: 0.9928\n",
            "Epoch 6/35\n",
            "34/34 [==============================] - 9s 273ms/step - loss: 0.0695 - accuracy: 0.9738 - val_loss: 0.0202 - val_accuracy: 0.9928\n",
            "Epoch 7/35\n",
            "34/34 [==============================] - 9s 275ms/step - loss: 0.0772 - accuracy: 0.9720 - val_loss: 0.0088 - val_accuracy: 1.0000\n",
            "Epoch 8/35\n",
            "34/34 [==============================] - 9s 273ms/step - loss: 0.0774 - accuracy: 0.9757 - val_loss: 0.0238 - val_accuracy: 0.9928\n",
            "Epoch 9/35\n",
            "34/34 [==============================] - 10s 285ms/step - loss: 0.0556 - accuracy: 0.9776 - val_loss: 0.0063 - val_accuracy: 1.0000\n",
            "Epoch 10/35\n",
            "34/34 [==============================] - 9s 272ms/step - loss: 0.0739 - accuracy: 0.9757 - val_loss: 0.0109 - val_accuracy: 1.0000\n",
            "Epoch 11/35\n",
            "34/34 [==============================] - 9s 272ms/step - loss: 0.0634 - accuracy: 0.9738 - val_loss: 0.0106 - val_accuracy: 1.0000\n",
            "Epoch 12/35\n",
            "34/34 [==============================] - 10s 285ms/step - loss: 0.0489 - accuracy: 0.9813 - val_loss: 0.0075 - val_accuracy: 1.0000\n",
            "Epoch 13/35\n",
            "34/34 [==============================] - 9s 271ms/step - loss: 0.0673 - accuracy: 0.9738 - val_loss: 0.0087 - val_accuracy: 1.0000\n",
            "Epoch 14/35\n",
            "34/34 [==============================] - 9s 272ms/step - loss: 0.0617 - accuracy: 0.9738 - val_loss: 0.0206 - val_accuracy: 0.9928\n",
            "Epoch 15/35\n",
            "34/34 [==============================] - 9s 272ms/step - loss: 0.0892 - accuracy: 0.9720 - val_loss: 0.0163 - val_accuracy: 0.9928\n",
            "Epoch 16/35\n",
            "34/34 [==============================] - 10s 287ms/step - loss: 0.0446 - accuracy: 0.9850 - val_loss: 0.0253 - val_accuracy: 0.9928\n",
            "Epoch 17/35\n",
            "34/34 [==============================] - 9s 272ms/step - loss: 0.0540 - accuracy: 0.9776 - val_loss: 0.0081 - val_accuracy: 1.0000\n",
            "Epoch 18/35\n",
            "34/34 [==============================] - 9s 271ms/step - loss: 0.0382 - accuracy: 0.9832 - val_loss: 0.0080 - val_accuracy: 1.0000\n",
            "Epoch 19/35\n",
            "34/34 [==============================] - 9s 271ms/step - loss: 0.0586 - accuracy: 0.9813 - val_loss: 0.0413 - val_accuracy: 0.9855\n",
            "Epoch 20/35\n",
            "34/34 [==============================] - 9s 272ms/step - loss: 0.0534 - accuracy: 0.9794 - val_loss: 0.0057 - val_accuracy: 1.0000\n",
            "Epoch 21/35\n",
            "34/34 [==============================] - 9s 274ms/step - loss: 0.0582 - accuracy: 0.9776 - val_loss: 0.0073 - val_accuracy: 1.0000\n",
            "Epoch 22/35\n",
            "34/34 [==============================] - 9s 274ms/step - loss: 0.0547 - accuracy: 0.9850 - val_loss: 0.0098 - val_accuracy: 1.0000\n",
            "Epoch 23/35\n",
            "34/34 [==============================] - 9s 275ms/step - loss: 0.0439 - accuracy: 0.9813 - val_loss: 0.0087 - val_accuracy: 1.0000\n",
            "Epoch 24/35\n",
            "34/34 [==============================] - 9s 273ms/step - loss: 0.0572 - accuracy: 0.9757 - val_loss: 0.0080 - val_accuracy: 1.0000\n",
            "Epoch 25/35\n",
            "34/34 [==============================] - 9s 275ms/step - loss: 0.0331 - accuracy: 0.9850 - val_loss: 0.0140 - val_accuracy: 1.0000\n",
            "Epoch 26/35\n",
            "34/34 [==============================] - 9s 275ms/step - loss: 0.0434 - accuracy: 0.9832 - val_loss: 0.0054 - val_accuracy: 1.0000\n",
            "Epoch 27/35\n",
            "34/34 [==============================] - 9s 273ms/step - loss: 0.0449 - accuracy: 0.9850 - val_loss: 0.0141 - val_accuracy: 0.9928\n",
            "Epoch 28/35\n",
            "34/34 [==============================] - 9s 273ms/step - loss: 0.0472 - accuracy: 0.9776 - val_loss: 0.0260 - val_accuracy: 0.9928\n",
            "Epoch 29/35\n",
            "34/34 [==============================] - 9s 272ms/step - loss: 0.0434 - accuracy: 0.9794 - val_loss: 0.0066 - val_accuracy: 1.0000\n",
            "Epoch 30/35\n",
            "34/34 [==============================] - 9s 273ms/step - loss: 0.0447 - accuracy: 0.9850 - val_loss: 0.0046 - val_accuracy: 1.0000\n",
            "Epoch 31/35\n",
            "34/34 [==============================] - 9s 273ms/step - loss: 0.0326 - accuracy: 0.9850 - val_loss: 0.0123 - val_accuracy: 0.9928\n",
            "Epoch 32/35\n",
            "34/34 [==============================] - 10s 288ms/step - loss: 0.0395 - accuracy: 0.9869 - val_loss: 0.0078 - val_accuracy: 1.0000\n",
            "Epoch 33/35\n",
            "34/34 [==============================] - 9s 268ms/step - loss: 0.0432 - accuracy: 0.9794 - val_loss: 0.0148 - val_accuracy: 0.9928\n",
            "Epoch 34/35\n",
            "34/34 [==============================] - 9s 270ms/step - loss: 0.0606 - accuracy: 0.9738 - val_loss: 0.0086 - val_accuracy: 1.0000\n",
            "Epoch 35/35\n",
            "34/34 [==============================] - 10s 286ms/step - loss: 0.0330 - accuracy: 0.9888 - val_loss: 0.0043 - val_accuracy: 1.0000\n"
          ],
          "name": "stdout"
        }
      ]
    },
    {
      "cell_type": "code",
      "metadata": {
        "id": "9kDu0nK-DO7Z",
        "colab_type": "code",
        "colab": {
          "base_uri": "https://localhost:8080/",
          "height": 571
        },
        "outputId": "5e5b2209-8505-45b5-f9dd-4fc1352d90a9"
      },
      "source": [
        "# make predictions on the testing set\n",
        "print(\"[INFO] evaluating network...\")\n",
        "predIdxs = Xception_model.predict(testX, batch_size=BS)\n",
        "# for each image in the testing set we need to find the index of the\n",
        "# label with corresponding largest predicted probability\n",
        "predIdxs = np.argmax(predIdxs, axis=1)\n",
        "# show a nicely formatted classification report\n",
        "print(classification_report(testY.argmax(axis=1), predIdxs,\n",
        "\ttarget_names=lb.classes_))\n",
        "\n",
        "\n",
        "\n",
        "  # compute the confusion matrix and and use it to derive the raw\n",
        "# accuracy, sensitivity, and specificity\n",
        "cm = confusion_matrix(testY.argmax(axis=1), predIdxs)\n",
        "total = sum(sum(cm))\n",
        "acc = (cm[0, 0] + cm[1, 1]) / total\n",
        "sensitivity = cm[0, 0] / (cm[0, 0] + cm[0, 1])\n",
        "specificity = cm[1, 1] / (cm[1, 0] + cm[1, 1])\n",
        "# show the confusion matrix, accuracy, sensitivity, and specificity\n",
        "print(cm)\n",
        "print(\"acc: {:.4f}\".format(acc))\n",
        "print(\"sensitivity: {:.4f}\".format(sensitivity))\n",
        "print(\"specificity: {:.4f}\".format(specificity))\n",
        "\n",
        "\n",
        "# plot the training loss and accuracy\n",
        "N = 35\n",
        "plt.style.use(\"ggplot\")\n",
        "plt.figure()\n",
        "plt.plot(np.arange(0, 35), H.history[\"loss\"], label=\"train_loss\")\n",
        "plt.plot(np.arange(0, 35), H.history[\"val_loss\"], label=\"val_loss\")\n",
        "plt.plot(np.arange(0, 35), H.history[\"accuracy\"], label=\"train_acc\")\n",
        "plt.plot(np.arange(0, 35), H.history[\"val_accuracy\"], label=\"val_acc\")\n",
        "plt.title(\"Training Loss and Accuracy on COVID-19 Dataset\")\n",
        "plt.xlabel(\"Epoch #\")\n",
        "plt.ylabel(\"Loss/Accuracy\")\n",
        "plt.legend(loc=\"lower left\")\n",
        "#plt.savefig(args[\"plot\"])"
      ],
      "execution_count": 54,
      "outputs": [
        {
          "output_type": "stream",
          "text": [
            "[INFO] evaluating network...\n",
            "              precision    recall  f1-score   support\n",
            "\n",
            "    infected       1.00      1.00      1.00        64\n",
            "      normal       1.00      1.00      1.00        74\n",
            "\n",
            "    accuracy                           1.00       138\n",
            "   macro avg       1.00      1.00      1.00       138\n",
            "weighted avg       1.00      1.00      1.00       138\n",
            "\n",
            "[[64  0]\n",
            " [ 0 74]]\n",
            "acc: 1.0000\n",
            "sensitivity: 1.0000\n",
            "specificity: 1.0000\n"
          ],
          "name": "stdout"
        },
        {
          "output_type": "execute_result",
          "data": {
            "text/plain": [
              "<matplotlib.legend.Legend at 0x7f55dbd59dd8>"
            ]
          },
          "metadata": {
            "tags": []
          },
          "execution_count": 54
        },
        {
          "output_type": "display_data",
          "data": {
            "image/png": "[encoded data removed]",
            "text/plain": [
              "<Figure size 432x288 with 1 Axes>"
            ]
          },
          "metadata": {
            "tags": []
          }
        }
      ]
    },
    {
      "cell_type": "code",
      "metadata": {
        "id": "ZVMLGinIDT9d",
        "colab_type": "code",
        "colab": {
          "base_uri": "https://localhost:8080/",
          "height": 272
        },
        "outputId": "4c61f519-9747-4d73-9226-33b057ca095d"
      },
      "source": [
        "predict_imagePaths=[ '/content/Classification-of-COVID-19-chest-X-ray-images/dataset/training/normal/NORMAL2 (32).jpeg',\n",
        " '/content/Classification-of-COVID-19-chest-X-ray-images/dataset/training/normal/NORMAL2 (42).jpeg',\n",
        " '/content/Classification-of-COVID-19-chest-X-ray-images/dataset/training/normal/NORMAL2 (180).jpeg',\n",
        " '/content/Classification-of-COVID-19-chest-X-ray-images/dataset/training/normal/NORMAL2-IM-0339-0001.jpeg',\n",
        " '/content/Classification-of-COVID-19-chest-X-ray-images/dataset/training/normal/NORMAL2-IM-0019-0001.jpeg',\n",
        " '/content/Classification-of-COVID-19-chest-X-ray-images/dataset/training/normal/NORMAL2-IM-0323-0001.jpeg',\n",
        " '/content/Classification-of-COVID-19-chest-X-ray-images/dataset/training/normal/NORMAL2-IM-0370-0001.jpeg',\n",
        " '/content/Classification-of-COVID-19-chest-X-ray-images/dataset/training/infected/covid_train (79).jpg',\n",
        " '/content/Classification-of-COVID-19-chest-X-ray-images/dataset/training/infected/covid_train (28).jpeg',\n",
        " '/content/Classification-of-COVID-19-chest-X-ray-images/dataset/training/infected/covid_train (71).jpg',\n",
        " '/content/Classification-of-COVID-19-chest-X-ray-images/dataset/training/infected/covid_train11.png',\n",
        " '/content/Classification-of-COVID-19-chest-X-ray-images/dataset/training/infected/covid_train (43).jpg',\n",
        " '/content/Classification-of-COVID-19-chest-X-ray-images/dataset/training/infected/covid_train (30).jpeg','/content/Classification-of-COVID-19-chest-X-ray-images/dataset/training/normal/NORMAL2-IM-0311-0001.jpeg','/content/Classification-of-COVID-19-chest-X-ray-images/dataset/training/infected/covid_train (21).png']\n",
        "# loop over the image paths\n",
        "for imagePath in predict_imagePaths:\n",
        "\t# extract the class label from the filename\n",
        "#\tlabel = imagePath.split(os.path.sep)[-2]\n",
        "\t# load the image, swap color channels, and resize it to be a fixed\n",
        "\t# 224x224 pixels while ignoring aspect ratio\n",
        "  image = cv2.imread(imagePath)\n",
        "  image = cv2.cvtColor(image, cv2.COLOR_BGR2RGB)\n",
        "  image = cv2.resize(image, (224, 224))\n",
        "  img = np.array(image) / 255.0\n",
        "  img=np.reshape(img,(1,224,224,3))\n",
        "  print(Xception_model.predict(img).argmax(axis=1))\n"
      ],
      "execution_count": 55,
      "outputs": [
        {
          "output_type": "stream",
          "text": [
            "[1]\n",
            "[1]\n",
            "[1]\n",
            "[1]\n",
            "[1]\n",
            "[1]\n",
            "[1]\n",
            "[0]\n",
            "[0]\n",
            "[0]\n",
            "[0]\n",
            "[0]\n",
            "[0]\n",
            "[1]\n",
            "[0]\n"
          ],
          "name": "stdout"
        }
      ]
    },
    {
      "cell_type": "markdown",
      "metadata": {
        "id": "7kYUetOoDAAI",
        "colab_type": "text"
      },
      "source": [
        "END OF XCEPTION"
      ]
    },
    {
      "cell_type": "markdown",
      "metadata": {
        "id": "c2ZtyyKsDYuC",
        "colab_type": "text"
      },
      "source": [
        "DENSENET121"
      ]
    },
    {
      "cell_type": "code",
      "metadata": {
        "id": "hTQ4M6IQDXHh",
        "colab_type": "code",
        "colab": {}
      },
      "source": [
        "from tensorflow.keras.applications import DenseNet121\n"
      ],
      "execution_count": 56,
      "outputs": []
    },
    {
      "cell_type": "code",
      "metadata": {
        "id": "PY22yVPLDdzf",
        "colab_type": "code",
        "colab": {
          "base_uri": "https://localhost:8080/",
          "height": 51
        },
        "outputId": "724fa14c-b851-4e4f-e3d0-ebc8de390fb8"
      },
      "source": [
        "IMG_SHAPE = (224,224,3)\n",
        "\n",
        "# Create the base model from the pre-trained model MobileNet V2\n",
        "baseModel = tf.keras.applications.DenseNet121(include_top=False,weights='imagenet',input_tensor=Input(shape=(224, 224, 3)))\n",
        "headModel = baseModel.output\n",
        "headModel = AveragePooling2D(pool_size=(4, 4))(headModel)\n",
        "headModel = Dropout(0.5)(headModel)\n",
        "headModel = Flatten(name=\"flatten\")(headModel)\n",
        "headModel = Dense(64, activation=\"relu\")(headModel)\n",
        "headModel = Dropout(0.5)(headModel)\n",
        "headModel = Dense(2, activation=\"softmax\")(headModel)\n",
        "\n",
        "\n",
        "DenseNet121_model= Model(inputs=baseModel.input, outputs=headModel)\n",
        "\n",
        "for layer in baseModel.layers:\n",
        "    layer.trainable = False"
      ],
      "execution_count": 57,
      "outputs": [
        {
          "output_type": "stream",
          "text": [
            "Downloading data from https://storage.googleapis.com/tensorflow/keras-applications/densenet/densenet121_weights_tf_dim_ordering_tf_kernels_notop.h5\n",
            "29089792/29084464 [==============================] - 1s 0us/step\n"
          ],
          "name": "stdout"
        }
      ]
    },
    {
      "cell_type": "code",
      "metadata": {
        "id": "VBw-ZOz7Di24",
        "colab_type": "code",
        "colab": {
          "base_uri": "https://localhost:8080/",
          "height": 1000
        },
        "outputId": "a9aead72-9eaa-4590-daa3-cc282799feec"
      },
      "source": [
        "model_chkpt = ModelCheckpoint('best_mod.h5', save_best_only=True, monitor='accuracy')\n",
        "early_stopping = EarlyStopping(monitor='loss', restore_best_weights=False, patience=10)\n",
        "\n",
        "# initialize the initial learning rate, number of epochs to train for,\n",
        "# and batch size\n",
        "INIT_LR = 1e-3\n",
        "EPOCHS = 35\n",
        "BS = 16\n",
        "# compile our model\n",
        "print(\"[INFO] compiling model...\")\n",
        "opt = Adam(lr=INIT_LR, decay=INIT_LR / EPOCHS)\n",
        "DenseNet121_model.compile(loss=\"binary_crossentropy\", optimizer=opt,\n",
        "\tmetrics=[\"accuracy\"])\n",
        "# train the head of the network\n",
        "print(\"[INFO] training head...\")\n",
        "H = DenseNet121_model.fit_generator(\n",
        "\ttrainAug.flow(trainX, trainY, batch_size=BS),\n",
        "\tsteps_per_epoch=len(trainX) // BS,\n",
        "\tvalidation_data=(testX, testY),\n",
        "\tvalidation_steps=len(testX) // BS,\n",
        "\tepochs=EPOCHS,callbacks=[early_stopping,model_chkpt])"
      ],
      "execution_count": 58,
      "outputs": [
        {
          "output_type": "stream",
          "text": [
            "[INFO] compiling model...\n",
            "[INFO] training head...\n",
            "Epoch 1/35\n",
            "34/34 [==============================] - 14s 407ms/step - loss: 0.5909 - accuracy: 0.7477 - val_loss: 0.1124 - val_accuracy: 0.9565\n",
            "Epoch 2/35\n",
            "34/34 [==============================] - 9s 257ms/step - loss: 0.3604 - accuracy: 0.8561 - val_loss: 0.1057 - val_accuracy: 0.9565\n",
            "Epoch 3/35\n",
            "34/34 [==============================] - 9s 258ms/step - loss: 0.2961 - accuracy: 0.8879 - val_loss: 0.0800 - val_accuracy: 0.9855\n",
            "Epoch 4/35\n",
            "34/34 [==============================] - 9s 259ms/step - loss: 0.2400 - accuracy: 0.8953 - val_loss: 0.0968 - val_accuracy: 0.9493\n",
            "Epoch 5/35\n",
            "34/34 [==============================] - 9s 258ms/step - loss: 0.2483 - accuracy: 0.9178 - val_loss: 0.0742 - val_accuracy: 0.9710\n",
            "Epoch 6/35\n",
            "34/34 [==============================] - 8s 233ms/step - loss: 0.2412 - accuracy: 0.9084 - val_loss: 0.1000 - val_accuracy: 0.9420\n",
            "Epoch 7/35\n",
            "34/34 [==============================] - 8s 233ms/step - loss: 0.2135 - accuracy: 0.9121 - val_loss: 0.0680 - val_accuracy: 0.9855\n",
            "Epoch 8/35\n",
            "34/34 [==============================] - 9s 261ms/step - loss: 0.1916 - accuracy: 0.9271 - val_loss: 0.0606 - val_accuracy: 0.9928\n",
            "Epoch 9/35\n",
            "34/34 [==============================] - 8s 237ms/step - loss: 0.2046 - accuracy: 0.9234 - val_loss: 0.0932 - val_accuracy: 0.9638\n",
            "Epoch 10/35\n",
            "34/34 [==============================] - 9s 258ms/step - loss: 0.1478 - accuracy: 0.9495 - val_loss: 0.0587 - val_accuracy: 0.9783\n",
            "Epoch 11/35\n",
            "34/34 [==============================] - 8s 236ms/step - loss: 0.2042 - accuracy: 0.9215 - val_loss: 0.0666 - val_accuracy: 0.9710\n",
            "Epoch 12/35\n",
            "34/34 [==============================] - 8s 235ms/step - loss: 0.1863 - accuracy: 0.9196 - val_loss: 0.0729 - val_accuracy: 0.9710\n",
            "Epoch 13/35\n",
            "34/34 [==============================] - 8s 232ms/step - loss: 0.1695 - accuracy: 0.9383 - val_loss: 0.0602 - val_accuracy: 0.9783\n",
            "Epoch 14/35\n",
            "34/34 [==============================] - 8s 233ms/step - loss: 0.1691 - accuracy: 0.9327 - val_loss: 0.0552 - val_accuracy: 0.9783\n",
            "Epoch 15/35\n",
            "34/34 [==============================] - 8s 235ms/step - loss: 0.1818 - accuracy: 0.9402 - val_loss: 0.0666 - val_accuracy: 0.9783\n",
            "Epoch 16/35\n",
            "34/34 [==============================] - 8s 235ms/step - loss: 0.1398 - accuracy: 0.9477 - val_loss: 0.0477 - val_accuracy: 0.9928\n",
            "Epoch 17/35\n",
            "34/34 [==============================] - 8s 237ms/step - loss: 0.1865 - accuracy: 0.9308 - val_loss: 0.0649 - val_accuracy: 0.9855\n",
            "Epoch 18/35\n",
            "34/34 [==============================] - 9s 259ms/step - loss: 0.1303 - accuracy: 0.9514 - val_loss: 0.0625 - val_accuracy: 0.9928\n",
            "Epoch 19/35\n",
            "34/34 [==============================] - 8s 237ms/step - loss: 0.1537 - accuracy: 0.9477 - val_loss: 0.0452 - val_accuracy: 0.9855\n",
            "Epoch 20/35\n",
            "34/34 [==============================] - 8s 237ms/step - loss: 0.1768 - accuracy: 0.9402 - val_loss: 0.0549 - val_accuracy: 0.9855\n",
            "Epoch 21/35\n",
            "34/34 [==============================] - 9s 262ms/step - loss: 0.1211 - accuracy: 0.9551 - val_loss: 0.0630 - val_accuracy: 0.9855\n",
            "Epoch 22/35\n",
            "34/34 [==============================] - 8s 237ms/step - loss: 0.1407 - accuracy: 0.9477 - val_loss: 0.0584 - val_accuracy: 0.9928\n",
            "Epoch 23/35\n",
            "34/34 [==============================] - 8s 234ms/step - loss: 0.1258 - accuracy: 0.9551 - val_loss: 0.0492 - val_accuracy: 0.9855\n",
            "Epoch 24/35\n",
            "34/34 [==============================] - 8s 239ms/step - loss: 0.1384 - accuracy: 0.9533 - val_loss: 0.0426 - val_accuracy: 0.9928\n",
            "Epoch 25/35\n",
            "34/34 [==============================] - 9s 257ms/step - loss: 0.1122 - accuracy: 0.9589 - val_loss: 0.0422 - val_accuracy: 0.9928\n",
            "Epoch 26/35\n",
            "34/34 [==============================] - 8s 234ms/step - loss: 0.1376 - accuracy: 0.9383 - val_loss: 0.0470 - val_accuracy: 0.9855\n",
            "Epoch 27/35\n",
            "34/34 [==============================] - 8s 237ms/step - loss: 0.1218 - accuracy: 0.9477 - val_loss: 0.0692 - val_accuracy: 0.9638\n",
            "Epoch 28/35\n",
            "34/34 [==============================] - 8s 232ms/step - loss: 0.1558 - accuracy: 0.9421 - val_loss: 0.0346 - val_accuracy: 1.0000\n",
            "Epoch 29/35\n",
            "34/34 [==============================] - 8s 240ms/step - loss: 0.1383 - accuracy: 0.9540 - val_loss: 0.0309 - val_accuracy: 0.9928\n",
            "Epoch 30/35\n",
            "34/34 [==============================] - 8s 234ms/step - loss: 0.1335 - accuracy: 0.9533 - val_loss: 0.0384 - val_accuracy: 0.9855\n",
            "Epoch 31/35\n",
            "34/34 [==============================] - 8s 239ms/step - loss: 0.1312 - accuracy: 0.9477 - val_loss: 0.0435 - val_accuracy: 0.9855\n",
            "Epoch 32/35\n",
            "34/34 [==============================] - 8s 235ms/step - loss: 0.1254 - accuracy: 0.9514 - val_loss: 0.0434 - val_accuracy: 0.9928\n",
            "Epoch 33/35\n",
            "34/34 [==============================] - 8s 235ms/step - loss: 0.1392 - accuracy: 0.9421 - val_loss: 0.0416 - val_accuracy: 0.9855\n",
            "Epoch 34/35\n",
            "34/34 [==============================] - 9s 259ms/step - loss: 0.1120 - accuracy: 0.9645 - val_loss: 0.0548 - val_accuracy: 0.9928\n",
            "Epoch 35/35\n",
            "34/34 [==============================] - 8s 232ms/step - loss: 0.1137 - accuracy: 0.9551 - val_loss: 0.0327 - val_accuracy: 1.0000\n"
          ],
          "name": "stdout"
        }
      ]
    },
    {
      "cell_type": "code",
      "metadata": {
        "id": "--iaQ1YFDmGY",
        "colab_type": "code",
        "colab": {
          "base_uri": "https://localhost:8080/",
          "height": 571
        },
        "outputId": "564f04d4-5fea-418f-c091-700d2de47b7a"
      },
      "source": [
        "# make predictions on the testing set\n",
        "print(\"[INFO] evaluating network...\")\n",
        "predIdxs = DenseNet121_model.predict(testX, batch_size=BS)\n",
        "# for each image in the testing set we need to find the index of the\n",
        "# label with corresponding largest predicted probability\n",
        "predIdxs = np.argmax(predIdxs, axis=1)\n",
        "# show a nicely formatted classification report\n",
        "print(classification_report(testY.argmax(axis=1), predIdxs,\n",
        "\ttarget_names=lb.classes_))\n",
        "\n",
        "\n",
        "\n",
        "  # compute the confusion matrix and and use it to derive the raw\n",
        "# accuracy, sensitivity, and specificity\n",
        "cm = confusion_matrix(testY.argmax(axis=1), predIdxs)\n",
        "total = sum(sum(cm))\n",
        "acc = (cm[0, 0] + cm[1, 1]) / total\n",
        "sensitivity = cm[0, 0] / (cm[0, 0] + cm[0, 1])\n",
        "specificity = cm[1, 1] / (cm[1, 0] + cm[1, 1])\n",
        "# show the confusion matrix, accuracy, sensitivity, and specificity\n",
        "print(cm)\n",
        "print(\"acc: {:.4f}\".format(acc))\n",
        "print(\"sensitivity: {:.4f}\".format(sensitivity))\n",
        "print(\"specificity: {:.4f}\".format(specificity))\n",
        "\n",
        "\n",
        "# plot the training loss and accuracy\n",
        "N = EPOCHS\n",
        "plt.style.use(\"ggplot\")\n",
        "plt.figure()\n",
        "plt.plot(np.arange(0, EPOCHS), H.history[\"loss\"], label=\"train_loss\")\n",
        "plt.plot(np.arange(0, EPOCHS), H.history[\"val_loss\"], label=\"val_loss\")\n",
        "plt.plot(np.arange(0, EPOCHS), H.history[\"accuracy\"], label=\"train_acc\")\n",
        "plt.plot(np.arange(0, EPOCHS), H.history[\"val_accuracy\"], label=\"val_acc\")\n",
        "plt.title(\"Training Loss and Accuracy on COVID-19 Dataset\")\n",
        "plt.xlabel(\"Epoch #\")\n",
        "plt.ylabel(\"Loss/Accuracy\")\n",
        "plt.legend(loc=\"lower left\")\n",
        "#plt.savefig(args[\"plot\"])"
      ],
      "execution_count": 59,
      "outputs": [
        {
          "output_type": "stream",
          "text": [
            "[INFO] evaluating network...\n",
            "              precision    recall  f1-score   support\n",
            "\n",
            "    infected       1.00      1.00      1.00        64\n",
            "      normal       1.00      1.00      1.00        74\n",
            "\n",
            "    accuracy                           1.00       138\n",
            "   macro avg       1.00      1.00      1.00       138\n",
            "weighted avg       1.00      1.00      1.00       138\n",
            "\n",
            "[[64  0]\n",
            " [ 0 74]]\n",
            "acc: 1.0000\n",
            "sensitivity: 1.0000\n",
            "specificity: 1.0000\n"
          ],
          "name": "stdout"
        },
        {
          "output_type": "execute_result",
          "data": {
            "text/plain": [
              "<matplotlib.legend.Legend at 0x7f55db7ac358>"
            ]
          },
          "metadata": {
            "tags": []
          },
          "execution_count": 59
        },
        {
          "output_type": "display_data",
          "data": {
            "image/png": "[encoded data removed]",
            "text/plain": [
              "<Figure size 432x288 with 1 Axes>"
            ]
          },
          "metadata": {
            "tags": []
          }
        }
      ]
    },
    {
      "cell_type": "code",
      "metadata": {
        "id": "O6UUZBgJDo-7",
        "colab_type": "code",
        "colab": {
          "base_uri": "https://localhost:8080/",
          "height": 289
        },
        "outputId": "ec164db2-cc36-43e0-fab1-8157ae06a2fc"
      },
      "source": [
        "predict_imagePaths=[ '/content/Classification-of-COVID-19-chest-X-ray-images/dataset/training/normal/NORMAL2 (32).jpeg',\n",
        " '/content/Classification-of-COVID-19-chest-X-ray-images/dataset/training/normal/NORMAL2 (42).jpeg',\n",
        " '/content/Classification-of-COVID-19-chest-X-ray-images/dataset/training/normal/NORMAL2 (180).jpeg',\n",
        " '/content/Classification-of-COVID-19-chest-X-ray-images/dataset/training/normal/NORMAL2-IM-0339-0001.jpeg',\n",
        " '/content/Classification-of-COVID-19-chest-X-ray-images/dataset/training/normal/NORMAL2-IM-0019-0001.jpeg',\n",
        " '/content/Classification-of-COVID-19-chest-X-ray-images/dataset/training/normal/NORMAL2-IM-0323-0001.jpeg',\n",
        " '/content/Classification-of-COVID-19-chest-X-ray-images/dataset/training/normal/NORMAL2-IM-0370-0001.jpeg',\n",
        " '/content/Classification-of-COVID-19-chest-X-ray-images/dataset/training/infected/covid_train (79).jpg',\n",
        " '/content/Classification-of-COVID-19-chest-X-ray-images/dataset/training/infected/covid_train (28).jpeg',\n",
        " '/content/Classification-of-COVID-19-chest-X-ray-images/dataset/training/infected/covid_train (71).jpg',\n",
        " '/content/Classification-of-COVID-19-chest-X-ray-images/dataset/training/infected/covid_train11.png',\n",
        " '/content/Classification-of-COVID-19-chest-X-ray-images/dataset/training/infected/covid_train (43).jpg',\n",
        " '/content/Classification-of-COVID-19-chest-X-ray-images/dataset/training/infected/covid_train (30).jpeg','/content/Classification-of-COVID-19-chest-X-ray-images/dataset/training/normal/NORMAL2-IM-0311-0001.jpeg','/content/Classification-of-COVID-19-chest-X-ray-images/dataset/training/infected/covid_train (21).png']\n",
        "# loop over the image paths\n",
        "for imagePath in predict_imagePaths:\n",
        "\t# extract the class label from the filename\n",
        "#\tlabel = imagePath.split(os.path.sep)[-2]\n",
        "\t# load the image, swap color channels, and resize it to be a fixed\n",
        "\t# 224x224 pixels while ignoring aspect ratio\n",
        "  image = cv2.imread(imagePath)\n",
        "  image = cv2.cvtColor(image, cv2.COLOR_BGR2RGB)\n",
        "  image = cv2.resize(image, (224, 224))\n",
        "  img = np.array(image) / 255.0\n",
        "  img=np.reshape(img,(1,224,224,3))\n",
        "  print(DenseNet121_model.predict(img).argmax(axis=1))\n",
        "DenseNet121_model.predict(img)"
      ],
      "execution_count": 60,
      "outputs": [
        {
          "output_type": "stream",
          "text": [
            "[1]\n",
            "[1]\n",
            "[1]\n",
            "[1]\n",
            "[1]\n",
            "[1]\n",
            "[1]\n",
            "[0]\n",
            "[0]\n",
            "[0]\n",
            "[0]\n",
            "[0]\n",
            "[0]\n",
            "[1]\n",
            "[0]\n"
          ],
          "name": "stdout"
        },
        {
          "output_type": "execute_result",
          "data": {
            "text/plain": [
              "array([[0.9835796 , 0.01642047]], dtype=float32)"
            ]
          },
          "metadata": {
            "tags": []
          },
          "execution_count": 60
        }
      ]
    },
    {
      "cell_type": "markdown",
      "metadata": {
        "id": "Rz9ujyJrDqcq",
        "colab_type": "text"
      },
      "source": [
        "END OF DENSE121\n"
      ]
    },
    {
      "cell_type": "markdown",
      "metadata": {
        "id": "yMqOBa2cE-XE",
        "colab_type": "text"
      },
      "source": [
        "INCEPTION RESNETV2"
      ]
    },
    {
      "cell_type": "code",
      "metadata": {
        "id": "1yLZT6cPFG0Z",
        "colab_type": "code",
        "colab": {}
      },
      "source": [
        "from tensorflow.keras.applications.inception_resnet_v2 import InceptionResNetV2, preprocess_input"
      ],
      "execution_count": 61,
      "outputs": []
    },
    {
      "cell_type": "code",
      "metadata": {
        "id": "JjGRwWoUFvnA",
        "colab_type": "code",
        "colab": {
          "base_uri": "https://localhost:8080/",
          "height": 71
        },
        "outputId": "ac4e4f23-5f32-41f4-958a-c3fc9e0c2d1c"
      },
      "source": [
        "IMG_SHAPE = (224,224,3)\n",
        "\n",
        "# Create the base model from the pre-trained model Xception\n",
        "baseModel = InceptionResNetV2(include_top=False,weights='imagenet',input_tensor=Input(shape=(224, 224, 3)))\n",
        "headModel = baseModel.output\n",
        "headModel = AveragePooling2D(pool_size=(4, 4))(headModel)\n",
        "headModel = Dropout(0.5)(headModel)\n",
        "headModel = Flatten(name=\"flatten\")(headModel)\n",
        "headModel = Dense(64, activation=\"relu\")(headModel)\n",
        "headModel = Dropout(0.5)(headModel)\n",
        "headModel = Dense(2, activation=\"softmax\")(headModel)\n",
        "\n",
        "\n",
        "InceptionResNetV2_model= Model(inputs=baseModel.input, outputs=headModel)\n",
        "\n",
        "for layer in baseModel.layers:\n",
        "    layer.trainable = False"
      ],
      "execution_count": 62,
      "outputs": [
        {
          "output_type": "stream",
          "text": [
            "Downloading data from https://storage.googleapis.com/tensorflow/keras-applications/inception_resnet_v2/inception_resnet_v2_weights_tf_dim_ordering_tf_kernels_notop.h5\n",
            "219062272/219055592 [==============================] - 6s 0us/step\n"
          ],
          "name": "stdout"
        }
      ]
    },
    {
      "cell_type": "code",
      "metadata": {
        "id": "Cmi2RM1IGIyP",
        "colab_type": "code",
        "colab": {
          "base_uri": "https://localhost:8080/",
          "height": 1000
        },
        "outputId": "c487d4ea-94e2-41a6-a0a2-cd83ef9d9e9b"
      },
      "source": [
        "model_chkpt = ModelCheckpoint('best_mod.h5', save_best_only=True, monitor='accuracy')\n",
        "early_stopping = EarlyStopping(monitor='loss', restore_best_weights=False, patience=10)\n",
        "\n",
        "# initialize the initial learning rate, number of epochs to train for,\n",
        "# and batch size\n",
        "INIT_LR = 1e-3\n",
        "EPOCHS = 40\n",
        "BS = 16\n",
        "# compile our model\n",
        "print(\"[INFO] compiling model...\")\n",
        "opt = Adam(lr=INIT_LR, decay=INIT_LR / EPOCHS)\n",
        "InceptionResNetV2_model.compile(loss=\"binary_crossentropy\", optimizer=opt,\n",
        "\tmetrics=[\"accuracy\"])\n",
        "# train the head of the network\n",
        "print(\"[INFO] training head...\")\n",
        "H = InceptionResNetV2_model.fit_generator(\n",
        "\ttrainAug.flow(trainX, trainY, batch_size=BS),\n",
        "\tsteps_per_epoch=len(trainX) // BS,\n",
        "\tvalidation_data=(testX, testY),\n",
        "\tvalidation_steps=len(testX) // BS,\n",
        "\tepochs=EPOCHS,callbacks=[early_stopping,model_chkpt])"
      ],
      "execution_count": 63,
      "outputs": [
        {
          "output_type": "stream",
          "text": [
            "[INFO] compiling model...\n",
            "[INFO] training head...\n",
            "Epoch 1/40\n",
            "34/34 [==============================] - 19s 550ms/step - loss: 0.5190 - accuracy: 0.8093 - val_loss: 0.0613 - val_accuracy: 0.9855\n",
            "Epoch 2/40\n",
            "34/34 [==============================] - 13s 370ms/step - loss: 0.2646 - accuracy: 0.9084 - val_loss: 0.0741 - val_accuracy: 0.9928\n",
            "Epoch 3/40\n",
            "34/34 [==============================] - 13s 378ms/step - loss: 0.2093 - accuracy: 0.9121 - val_loss: 0.1477 - val_accuracy: 0.9203\n",
            "Epoch 4/40\n",
            "34/34 [==============================] - 13s 370ms/step - loss: 0.1950 - accuracy: 0.9234 - val_loss: 0.0558 - val_accuracy: 0.9855\n",
            "Epoch 5/40\n",
            "34/34 [==============================] - 12s 365ms/step - loss: 0.1807 - accuracy: 0.9364 - val_loss: 0.0341 - val_accuracy: 1.0000\n",
            "Epoch 6/40\n",
            "34/34 [==============================] - 12s 367ms/step - loss: 0.1567 - accuracy: 0.9383 - val_loss: 0.0504 - val_accuracy: 0.9928\n",
            "Epoch 7/40\n",
            "34/34 [==============================] - 11s 317ms/step - loss: 0.1640 - accuracy: 0.9338 - val_loss: 0.0769 - val_accuracy: 0.9710\n",
            "Epoch 8/40\n",
            "34/34 [==============================] - 12s 365ms/step - loss: 0.1482 - accuracy: 0.9458 - val_loss: 0.0536 - val_accuracy: 0.9710\n",
            "Epoch 9/40\n",
            "34/34 [==============================] - 12s 365ms/step - loss: 0.1227 - accuracy: 0.9477 - val_loss: 0.0521 - val_accuracy: 0.9710\n",
            "Epoch 10/40\n",
            "34/34 [==============================] - 11s 316ms/step - loss: 0.1550 - accuracy: 0.9439 - val_loss: 0.0372 - val_accuracy: 0.9928\n",
            "Epoch 11/40\n",
            "34/34 [==============================] - 11s 314ms/step - loss: 0.1521 - accuracy: 0.9327 - val_loss: 0.0367 - val_accuracy: 0.9855\n",
            "Epoch 12/40\n",
            "34/34 [==============================] - 12s 366ms/step - loss: 0.1125 - accuracy: 0.9514 - val_loss: 0.0417 - val_accuracy: 0.9928\n",
            "Epoch 13/40\n",
            "34/34 [==============================] - 11s 317ms/step - loss: 0.1255 - accuracy: 0.9495 - val_loss: 0.0315 - val_accuracy: 0.9928\n",
            "Epoch 14/40\n",
            "34/34 [==============================] - 11s 315ms/step - loss: 0.1283 - accuracy: 0.9514 - val_loss: 0.0318 - val_accuracy: 0.9928\n",
            "Epoch 15/40\n",
            "34/34 [==============================] - 13s 372ms/step - loss: 0.1012 - accuracy: 0.9720 - val_loss: 0.0178 - val_accuracy: 0.9928\n",
            "Epoch 16/40\n",
            "34/34 [==============================] - 11s 318ms/step - loss: 0.1177 - accuracy: 0.9551 - val_loss: 0.0291 - val_accuracy: 0.9928\n",
            "Epoch 17/40\n",
            "34/34 [==============================] - 11s 319ms/step - loss: 0.1197 - accuracy: 0.9626 - val_loss: 0.0262 - val_accuracy: 0.9928\n",
            "Epoch 18/40\n",
            "34/34 [==============================] - 11s 322ms/step - loss: 0.1234 - accuracy: 0.9589 - val_loss: 0.0356 - val_accuracy: 0.9928\n",
            "Epoch 19/40\n",
            "34/34 [==============================] - 11s 324ms/step - loss: 0.1183 - accuracy: 0.9551 - val_loss: 0.0373 - val_accuracy: 0.9928\n",
            "Epoch 20/40\n",
            "34/34 [==============================] - 11s 320ms/step - loss: 0.1172 - accuracy: 0.9551 - val_loss: 0.0533 - val_accuracy: 0.9928\n",
            "Epoch 21/40\n",
            "34/34 [==============================] - 11s 318ms/step - loss: 0.1157 - accuracy: 0.9570 - val_loss: 0.0388 - val_accuracy: 1.0000\n",
            "Epoch 22/40\n",
            "34/34 [==============================] - 11s 317ms/step - loss: 0.1173 - accuracy: 0.9589 - val_loss: 0.0267 - val_accuracy: 0.9928\n",
            "Epoch 23/40\n",
            "34/34 [==============================] - 11s 319ms/step - loss: 0.0851 - accuracy: 0.9682 - val_loss: 0.0242 - val_accuracy: 0.9928\n",
            "Epoch 24/40\n",
            "34/34 [==============================] - 11s 317ms/step - loss: 0.0982 - accuracy: 0.9682 - val_loss: 0.0262 - val_accuracy: 0.9928\n",
            "Epoch 25/40\n",
            "34/34 [==============================] - 11s 320ms/step - loss: 0.0837 - accuracy: 0.9645 - val_loss: 0.0318 - val_accuracy: 0.9928\n",
            "Epoch 26/40\n",
            "34/34 [==============================] - 11s 320ms/step - loss: 0.0996 - accuracy: 0.9626 - val_loss: 0.0270 - val_accuracy: 0.9928\n",
            "Epoch 27/40\n",
            "34/34 [==============================] - 11s 319ms/step - loss: 0.1163 - accuracy: 0.9570 - val_loss: 0.0297 - val_accuracy: 0.9928\n",
            "Epoch 28/40\n",
            "34/34 [==============================] - 11s 317ms/step - loss: 0.1025 - accuracy: 0.9645 - val_loss: 0.0175 - val_accuracy: 1.0000\n",
            "Epoch 29/40\n",
            "34/34 [==============================] - 11s 318ms/step - loss: 0.0933 - accuracy: 0.9607 - val_loss: 0.0233 - val_accuracy: 0.9928\n",
            "Epoch 30/40\n",
            "34/34 [==============================] - 11s 326ms/step - loss: 0.1026 - accuracy: 0.9607 - val_loss: 0.0221 - val_accuracy: 0.9928\n",
            "Epoch 31/40\n",
            "34/34 [==============================] - 11s 317ms/step - loss: 0.0862 - accuracy: 0.9682 - val_loss: 0.0220 - val_accuracy: 1.0000\n",
            "Epoch 32/40\n",
            "34/34 [==============================] - 11s 318ms/step - loss: 0.1055 - accuracy: 0.9514 - val_loss: 0.0264 - val_accuracy: 0.9928\n",
            "Epoch 33/40\n",
            "34/34 [==============================] - 11s 319ms/step - loss: 0.0927 - accuracy: 0.9607 - val_loss: 0.0232 - val_accuracy: 0.9928\n",
            "Epoch 34/40\n",
            "34/34 [==============================] - 11s 320ms/step - loss: 0.0873 - accuracy: 0.9682 - val_loss: 0.0208 - val_accuracy: 0.9928\n",
            "Epoch 35/40\n",
            "34/34 [==============================] - 11s 322ms/step - loss: 0.0830 - accuracy: 0.9645 - val_loss: 0.0338 - val_accuracy: 0.9928\n",
            "Epoch 36/40\n",
            "34/34 [==============================] - 11s 321ms/step - loss: 0.1200 - accuracy: 0.9458 - val_loss: 0.0320 - val_accuracy: 0.9928\n",
            "Epoch 37/40\n",
            "34/34 [==============================] - 11s 320ms/step - loss: 0.0879 - accuracy: 0.9664 - val_loss: 0.0294 - val_accuracy: 0.9928\n",
            "Epoch 38/40\n",
            "34/34 [==============================] - 11s 319ms/step - loss: 0.1084 - accuracy: 0.9533 - val_loss: 0.0289 - val_accuracy: 0.9855\n",
            "Epoch 39/40\n",
            "34/34 [==============================] - 11s 322ms/step - loss: 0.0818 - accuracy: 0.9664 - val_loss: 0.0324 - val_accuracy: 0.9783\n",
            "Epoch 40/40\n",
            "34/34 [==============================] - 11s 319ms/step - loss: 0.0957 - accuracy: 0.9645 - val_loss: 0.0276 - val_accuracy: 0.9928\n"
          ],
          "name": "stdout"
        }
      ]
    },
    {
      "cell_type": "code",
      "metadata": {
        "id": "HUVkjDa9GNEo",
        "colab_type": "code",
        "colab": {
          "base_uri": "https://localhost:8080/",
          "height": 571
        },
        "outputId": "066c3576-e89c-46ac-f3b5-d9d7266934c8"
      },
      "source": [
        "# make predictions on the testing set\n",
        "print(\"[INFO] evaluating network...\")\n",
        "predIdxs = InceptionResNetV2_model.predict(testX, batch_size=BS)\n",
        "# for each image in the testing set we need to find the index of the\n",
        "# label with corresponding largest predicted probability\n",
        "predIdxs = np.argmax(predIdxs, axis=1)\n",
        "# show a nicely formatted classification report\n",
        "print(classification_report(testY.argmax(axis=1), predIdxs,\n",
        "\ttarget_names=lb.classes_))\n",
        "\n",
        "\n",
        "\n",
        "  # compute the confusion matrix and and use it to derive the raw\n",
        "# accuracy, sensitivity, and specificity\n",
        "cm = confusion_matrix(testY.argmax(axis=1), predIdxs)\n",
        "total = sum(sum(cm))\n",
        "acc = (cm[0, 0] + cm[1, 1]) / total\n",
        "sensitivity = cm[0, 0] / (cm[0, 0] + cm[0, 1])\n",
        "specificity = cm[1, 1] / (cm[1, 0] + cm[1, 1])\n",
        "# show the confusion matrix, accuracy, sensitivity, and specificity\n",
        "print(cm)\n",
        "print(\"acc: {:.4f}\".format(acc))\n",
        "print(\"sensitivity: {:.4f}\".format(sensitivity))\n",
        "print(\"specificity: {:.4f}\".format(specificity))\n",
        "\n",
        "\n",
        "# plot the training loss and accuracy\n",
        "N = EPOCHS\n",
        "plt.style.use(\"ggplot\")\n",
        "plt.figure()\n",
        "plt.plot(np.arange(0, EPOCHS), H.history[\"loss\"], label=\"train_loss\")\n",
        "plt.plot(np.arange(0, EPOCHS), H.history[\"val_loss\"], label=\"val_loss\")\n",
        "plt.plot(np.arange(0, EPOCHS), H.history[\"accuracy\"], label=\"train_acc\")\n",
        "plt.plot(np.arange(0, EPOCHS), H.history[\"val_accuracy\"], label=\"val_acc\")\n",
        "plt.title(\"Training Loss and Accuracy on COVID-19 Dataset\")\n",
        "plt.xlabel(\"Epoch #\")\n",
        "plt.ylabel(\"Loss/Accuracy\")\n",
        "plt.legend(loc=\"lower left\")\n",
        "#plt.savefig(args[\"plot\"])"
      ],
      "execution_count": 64,
      "outputs": [
        {
          "output_type": "stream",
          "text": [
            "[INFO] evaluating network...\n",
            "              precision    recall  f1-score   support\n",
            "\n",
            "    infected       0.98      1.00      0.99        64\n",
            "      normal       1.00      0.99      0.99        74\n",
            "\n",
            "    accuracy                           0.99       138\n",
            "   macro avg       0.99      0.99      0.99       138\n",
            "weighted avg       0.99      0.99      0.99       138\n",
            "\n",
            "[[64  0]\n",
            " [ 1 73]]\n",
            "acc: 0.9928\n",
            "sensitivity: 1.0000\n",
            "specificity: 0.9865\n"
          ],
          "name": "stdout"
        },
        {
          "output_type": "execute_result",
          "data": {
            "text/plain": [
              "<matplotlib.legend.Legend at 0x7f55d41da4a8>"
            ]
          },
          "metadata": {
            "tags": []
          },
          "execution_count": 64
        },
        {
          "output_type": "display_data",
          "data": {
            "image/png": "[encoded data removed]",
            "text/plain": [
              "<Figure size 432x288 with 1 Axes>"
            ]
          },
          "metadata": {
            "tags": []
          }
        }
      ]
    },
    {
      "cell_type": "code",
      "metadata": {
        "id": "Rzl8BukMGT3q",
        "colab_type": "code",
        "colab": {
          "base_uri": "https://localhost:8080/",
          "height": 289
        },
        "outputId": "8854c1a6-faed-400d-d48f-12c0e4ef9820"
      },
      "source": [
        "predict_imagePaths=[ '/content/Classification-of-COVID-19-chest-X-ray-images/dataset/training/normal/NORMAL2 (32).jpeg',\n",
        " '/content/Classification-of-COVID-19-chest-X-ray-images/dataset/training/normal/NORMAL2 (42).jpeg',\n",
        " '/content/Classification-of-COVID-19-chest-X-ray-images/dataset/training/normal/NORMAL2 (180).jpeg',\n",
        " '/content/Classification-of-COVID-19-chest-X-ray-images/dataset/training/normal/NORMAL2-IM-0339-0001.jpeg',\n",
        " '/content/Classification-of-COVID-19-chest-X-ray-images/dataset/training/normal/NORMAL2-IM-0019-0001.jpeg',\n",
        " '/content/Classification-of-COVID-19-chest-X-ray-images/dataset/training/normal/NORMAL2-IM-0323-0001.jpeg',\n",
        " '/content/Classification-of-COVID-19-chest-X-ray-images/dataset/training/normal/NORMAL2-IM-0370-0001.jpeg',\n",
        " '/content/Classification-of-COVID-19-chest-X-ray-images/dataset/training/infected/covid_train (79).jpg',\n",
        " '/content/Classification-of-COVID-19-chest-X-ray-images/dataset/training/infected/covid_train (28).jpeg',\n",
        " '/content/Classification-of-COVID-19-chest-X-ray-images/dataset/training/infected/covid_train (71).jpg',\n",
        " '/content/Classification-of-COVID-19-chest-X-ray-images/dataset/training/infected/covid_train11.png',\n",
        " '/content/Classification-of-COVID-19-chest-X-ray-images/dataset/training/infected/covid_train (43).jpg',\n",
        " '/content/Classification-of-COVID-19-chest-X-ray-images/dataset/training/infected/covid_train (30).jpeg','/content/Classification-of-COVID-19-chest-X-ray-images/dataset/training/normal/NORMAL2-IM-0311-0001.jpeg','/content/Classification-of-COVID-19-chest-X-ray-images/dataset/training/infected/covid_train (21).png']\n",
        "# loop over the image paths\n",
        "for imagePath in predict_imagePaths:\n",
        "\t# extract the class label from the filename\n",
        "#\tlabel = imagePath.split(os.path.sep)[-2]\n",
        "\t# load the image, swap color channels, and resize it to be a fixed\n",
        "\t# 224x224 pixels while ignoring aspect ratio\n",
        "  image = cv2.imread(imagePath)\n",
        "  image = cv2.cvtColor(image, cv2.COLOR_BGR2RGB)\n",
        "  image = cv2.resize(image, (224, 224))\n",
        "  img = np.array(image) / 255.0\n",
        "  img=np.reshape(img,(1,224,224,3))\n",
        "  print(DenseNet121_model.predict(img).argmax(axis=1))\n",
        "InceptionResNetV2_model.predict(img)\n"
      ],
      "execution_count": 65,
      "outputs": [
        {
          "output_type": "stream",
          "text": [
            "[1]\n",
            "[1]\n",
            "[1]\n",
            "[1]\n",
            "[1]\n",
            "[1]\n",
            "[1]\n",
            "[0]\n",
            "[0]\n",
            "[0]\n",
            "[0]\n",
            "[0]\n",
            "[0]\n",
            "[1]\n",
            "[0]\n"
          ],
          "name": "stdout"
        },
        {
          "output_type": "execute_result",
          "data": {
            "text/plain": [
              "array([[0.9788848 , 0.02111522]], dtype=float32)"
            ]
          },
          "metadata": {
            "tags": []
          },
          "execution_count": 65
        }
      ]
    },
    {
      "cell_type": "markdown",
      "metadata": {
        "id": "FU7RGIegFBcl",
        "colab_type": "text"
      },
      "source": [
        "END OF INCEPTION RESNETV2"
      ]
    }
  ]
}