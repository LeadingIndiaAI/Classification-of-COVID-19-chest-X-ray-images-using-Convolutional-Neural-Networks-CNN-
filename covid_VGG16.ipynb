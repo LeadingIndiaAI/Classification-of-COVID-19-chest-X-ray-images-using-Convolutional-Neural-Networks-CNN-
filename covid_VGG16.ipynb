{
  "nbformat": 4,
  "nbformat_minor": 0,
  "metadata": {
    "colab": {
      "name": "covid_VGG16.ipynb",
      "provenance": [],
      "mount_file_id": "1_Q-0SVV4ICeW0JSNeSlEUEDGrthDfXhE",
      "authorship_tag": "ABX9TyPBcuCV/2BtE340c4wdtjNt",
      "include_colab_link": true
    },
    "kernelspec": {
      "name": "python3",
      "display_name": "Python 3"
    }
  },
  "cells": [
    {
      "cell_type": "markdown",
      "metadata": {
        "id": "view-in-github",
        "colab_type": "text"
      },
      "source": [
        "<a href=\"https://colab.research.google.com/github/Aditya100300/Classification-of-COVID-19-chest-X-ray-images/blob/master/covid_VGG16.ipynb\" target=\"_parent\"><img src=\"https://colab.research.google.com/assets/colab-badge.svg\" alt=\"Open In Colab\"/></a>"
      ]
    },
    {
      "cell_type": "code",
      "metadata": {
        "id": "hJcnpGSX123l",
        "colab_type": "code",
        "colab": {}
      },
      "source": [
        "# import the necessary packages\n",
        "from tensorflow.keras.preprocessing.image import ImageDataGenerator\n",
        "from tensorflow.keras.applications import VGG16\n",
        "from tensorflow.keras.layers import AveragePooling2D\n",
        "from tensorflow.keras.layers import Dropout\n",
        "from tensorflow.keras.layers import Flatten\n",
        "from tensorflow.keras.layers import Dense\n",
        "from tensorflow.keras.layers import Input\n",
        "from tensorflow.keras.models import Model\n",
        "from tensorflow.keras.optimizers import Adam\n",
        "from tensorflow.keras.utils import to_categorical\n",
        "from sklearn.preprocessing import LabelBinarizer\n",
        "from sklearn.model_selection import train_test_split\n",
        "from sklearn.metrics import classification_report\n",
        "from sklearn.metrics import confusion_matrix\n",
        "from imutils import paths\n",
        "import matplotlib.pyplot as plt\n",
        "import numpy as np\n",
        "import argparse\n",
        "import cv2\n",
        "import os\n",
        "from keras.applications.resnet50 import ResNet50\n",
        "from keras.preprocessing import image\n",
        "from keras.applications.resnet50 import preprocess_input, decode_predictions\n",
        "import numpy as np\n"
      ],
      "execution_count": 0,
      "outputs": []
    },
    {
      "cell_type": "code",
      "metadata": {
        "id": "v5c0kfLcjqix",
        "colab_type": "code",
        "colab": {}
      },
      "source": [
        ""
      ],
      "execution_count": 0,
      "outputs": []
    },
    {
      "cell_type": "code",
      "metadata": {
        "id": "_GeLJHDKAiOW",
        "colab_type": "code",
        "colab": {}
      },
      "source": [
        "import os\n",
        "import numpy as np\n",
        "import pandas as pd\n",
        "import seaborn as sns\n",
        "import matplotlib.pyplot as plt\n",
        "import matplotlib.image as mpimg\n",
        "import seaborn as sns\n",
        "from PIL import Image\n",
        "from tensorflow.keras.preprocessing import image\n",
        "from tensorflow.keras.preprocessing.image import load_img, img_to_array\n",
        "from tensorflow.keras.applications.vgg16 import preprocess_input\n",
        "from tensorflow.keras.utils import to_categorical\n",
        "from tensorflow.keras.callbacks import ModelCheckpoint, EarlyStopping\n",
        "from tensorflow.keras.models import Sequential\n",
        "from tensorflow.keras.layers import Dense, Dropout, BatchNormalization, Conv2D, MaxPool2D, Flatten\n",
        "from sklearn.metrics import classification_report, confusion_matrix, accuracy_score"
      ],
      "execution_count": 0,
      "outputs": []
    },
    {
      "cell_type": "code",
      "metadata": {
        "id": "K6ZJ33xy2PSi",
        "colab_type": "code",
        "colab": {
          "base_uri": "https://localhost:8080/",
          "height": 54
        },
        "outputId": "97bc85d0-b734-4716-82df-ec82733c1be2"
      },
      "source": [
        "!git clone https://github.com/vaibhavG321/Classification-of-COVID-19-chest-X-ray-images"
      ],
      "execution_count": 7,
      "outputs": [
        {
          "output_type": "stream",
          "text": [
            "fatal: destination path 'Classification-of-COVID-19-chest-X-ray-images' already exists and is not an empty directory.\n"
          ],
          "name": "stdout"
        }
      ]
    },
    {
      "cell_type": "code",
      "metadata": {
        "id": "boqSEVrh2lMw",
        "colab_type": "code",
        "colab": {
          "base_uri": "https://localhost:8080/",
          "height": 34
        },
        "outputId": "14f23898-3d6e-44f3-91e6-deb108cbc387"
      },
      "source": [
        "!ls"
      ],
      "execution_count": 8,
      "outputs": [
        {
          "output_type": "stream",
          "text": [
            "Classification-of-COVID-19-chest-X-ray-images  drive  sample_data\n"
          ],
          "name": "stdout"
        }
      ]
    },
    {
      "cell_type": "code",
      "metadata": {
        "id": "bGuTbyLT2-Rw",
        "colab_type": "code",
        "colab": {}
      },
      "source": [
        ""
      ],
      "execution_count": 0,
      "outputs": []
    },
    {
      "cell_type": "code",
      "metadata": {
        "id": "DkjlkYVo21pE",
        "colab_type": "code",
        "colab": {
          "base_uri": "https://localhost:8080/",
          "height": 34
        },
        "outputId": "50e96fd1-7cef-4d7e-9987-022b7081cc17"
      },
      "source": [
        "cd Classification-of-COVID-19-chest-X-ray-images "
      ],
      "execution_count": 9,
      "outputs": [
        {
          "output_type": "stream",
          "text": [
            "/content/Classification-of-COVID-19-chest-X-ray-images\n"
          ],
          "name": "stdout"
        }
      ]
    },
    {
      "cell_type": "code",
      "metadata": {
        "id": "YSB2ukRx24wg",
        "colab_type": "code",
        "colab": {
          "base_uri": "https://localhost:8080/",
          "height": 51
        },
        "outputId": "bf03d3ea-29a5-4648-e4e9-f7a577e33ef9"
      },
      "source": [
        "!ls"
      ],
      "execution_count": 10,
      "outputs": [
        {
          "output_type": "stream",
          "text": [
            "aditi-godbole-model.py\taditya-babar-model.py\t dataset    vaibhav-model.py\n",
            "aditi-verma-model.py\taditya-gurnani-model.py  README.md\n"
          ],
          "name": "stdout"
        }
      ]
    },
    {
      "cell_type": "code",
      "metadata": {
        "id": "1O639lgm26DZ",
        "colab_type": "code",
        "colab": {
          "base_uri": "https://localhost:8080/",
          "height": 34
        },
        "outputId": "c50c5502-7714-4836-ce1a-9db9cf51f41b"
      },
      "source": [
        "cd dataset"
      ],
      "execution_count": 11,
      "outputs": [
        {
          "output_type": "stream",
          "text": [
            "/content/Classification-of-COVID-19-chest-X-ray-images/dataset\n"
          ],
          "name": "stdout"
        }
      ]
    },
    {
      "cell_type": "code",
      "metadata": {
        "id": "ZREYHjA928WU",
        "colab_type": "code",
        "colab": {
          "base_uri": "https://localhost:8080/",
          "height": 34
        },
        "outputId": "17469912-0c0f-4ba6-89cb-2ad86ea05f8d"
      },
      "source": [
        "!ls"
      ],
      "execution_count": 12,
      "outputs": [
        {
          "output_type": "stream",
          "text": [
            "evaluation  testing  training\n"
          ],
          "name": "stdout"
        }
      ]
    },
    {
      "cell_type": "code",
      "metadata": {
        "id": "oDA2VF_52_Fg",
        "colab_type": "code",
        "colab": {
          "base_uri": "https://localhost:8080/",
          "height": 34
        },
        "outputId": "301b13e2-ffb3-4d28-c67c-d553f362a8a0"
      },
      "source": [
        "cd training"
      ],
      "execution_count": 13,
      "outputs": [
        {
          "output_type": "stream",
          "text": [
            "/content/Classification-of-COVID-19-chest-X-ray-images/dataset/training\n"
          ],
          "name": "stdout"
        }
      ]
    },
    {
      "cell_type": "code",
      "metadata": {
        "id": "itYOA4Zu3BrR",
        "colab_type": "code",
        "colab": {
          "base_uri": "https://localhost:8080/",
          "height": 34
        },
        "outputId": "a5a352b5-6788-4953-e157-791acfcad3d4"
      },
      "source": [
        "!ls"
      ],
      "execution_count": 14,
      "outputs": [
        {
          "output_type": "stream",
          "text": [
            "infected  normal\n"
          ],
          "name": "stdout"
        }
      ]
    },
    {
      "cell_type": "code",
      "metadata": {
        "id": "4q7mx_544Ar6",
        "colab_type": "code",
        "colab": {}
      },
      "source": [
        "train_normal_path='/content/Classification-of-COVID-19-chest-X-ray-images/dataset/training/normal'\n",
        "train_infected_path='/content/Classification-of-COVID-19-chest-X-ray-images/dataset/training/infected'\n",
        "test_normal_path='/content/Classification-of-COVID-19-chest-X-ray-images/dataset/testing/normal'\n",
        "test_infected_path='/content/Classification-of-COVID-19-chest-X-ray-images/dataset/testing/infected'\n",
        "evaluate_normal_path='/content/Classification-of-COVID-19-chest-X-ray-images/dataset/evaluation/normal'\n",
        "evaluate_infected_path='/content/Classification-of-COVID-19-chest-X-ray-images/dataset/evaluation/infected'"
      ],
      "execution_count": 0,
      "outputs": []
    },
    {
      "cell_type": "code",
      "metadata": {
        "id": "-vZU85TE4EBM",
        "colab_type": "code",
        "colab": {
          "base_uri": "https://localhost:8080/",
          "height": 119
        },
        "outputId": "cd88b7bc-1f2d-4bc9-cff4-1172fb4c6441"
      },
      "source": [
        "print('train_normal cases ',len(os.listdir('/content/Classification-of-COVID-19-chest-X-ray-images/dataset/training/normal')))\n",
        "print('train_infected cases ',len(os.listdir('/content/Classification-of-COVID-19-chest-X-ray-images/dataset/training/infected')))\n",
        "print('test_normal cases ',len(os.listdir('/content/Classification-of-COVID-19-chest-X-ray-images/dataset/testing/normal')))\n",
        "print('test_infected cases ',len(os.listdir('/content/Classification-of-COVID-19-chest-X-ray-images/dataset/testing/infected')))\n",
        "print('evaluate_normal cases ',len(os.listdir('/content/Classification-of-COVID-19-chest-X-ray-images/dataset/evaluation/normal')))\n",
        "print('evaluate_infected cases ',len(os.listdir('/content/Classification-of-COVID-19-chest-X-ray-images/dataset/evaluation/infected')))"
      ],
      "execution_count": 16,
      "outputs": [
        {
          "output_type": "stream",
          "text": [
            "train_normal cases  97\n",
            "train_infected cases  90\n",
            "test_normal cases  69\n",
            "test_infected cases  25\n",
            "evaluate_normal cases  1\n",
            "evaluate_infected cases  1\n"
          ],
          "name": "stdout"
        }
      ]
    },
    {
      "cell_type": "code",
      "metadata": {
        "id": "cAM7gxEd4FWB",
        "colab_type": "code",
        "colab": {}
      },
      "source": [
        "IMAGE_SIZE = (224,224)\n",
        "DIR_NAME = '/content/Classification-of-COVID-19-chest-X-ray-images/dataset/'\n",
        "IMAGE_DIR = DIR_NAME + 'normal/'\n",
        "imagePaths=[]\n",
        "for dirname, _, filenames in os.walk(DIR_NAME):\n",
        "    for filename in filenames:\n",
        "      imagePaths.append(os.path.join(dirname, filename))"
      ],
      "execution_count": 0,
      "outputs": []
    },
    {
      "cell_type": "code",
      "metadata": {
        "id": "W_1xHN234rNU",
        "colab_type": "code",
        "colab": {
          "base_uri": "https://localhost:8080/",
          "height": 1000
        },
        "outputId": "28887412-c524-4a0d-ce19-b7a782fab9d1"
      },
      "source": [
        "imagePaths"
      ],
      "execution_count": 18,
      "outputs": [
        {
          "output_type": "execute_result",
          "data": {
            "text/plain": [
              "['/content/Classification-of-COVID-19-chest-X-ray-images/dataset/evaluation/infected/1.jpg',\n",
              " '/content/Classification-of-COVID-19-chest-X-ray-images/dataset/evaluation/normal/1.jpeg',\n",
              " '/content/Classification-of-COVID-19-chest-X-ray-images/dataset/training/infected/covid_train12.png',\n",
              " '/content/Classification-of-COVID-19-chest-X-ray-images/dataset/training/infected/covid_train15.png',\n",
              " '/content/Classification-of-COVID-19-chest-X-ray-images/dataset/training/infected/covid_train21.png',\n",
              " '/content/Classification-of-COVID-19-chest-X-ray-images/dataset/training/infected/covid_train20.jpeg',\n",
              " '/content/Classification-of-COVID-19-chest-X-ray-images/dataset/training/infected/covid_train3.jpg',\n",
              " '/content/Classification-of-COVID-19-chest-X-ray-images/dataset/training/infected/covid_train13.png',\n",
              " '/content/Classification-of-COVID-19-chest-X-ray-images/dataset/training/infected/covid_train62.png',\n",
              " '/content/Classification-of-COVID-19-chest-X-ray-images/dataset/training/infected/covid_train23.jpeg',\n",
              " '/content/Classification-of-COVID-19-chest-X-ray-images/dataset/training/infected/covid_train37.jpeg',\n",
              " '/content/Classification-of-COVID-19-chest-X-ray-images/dataset/training/infected/covid_train82.jpeg',\n",
              " '/content/Classification-of-COVID-19-chest-X-ray-images/dataset/training/infected/covid_train31.jpeg',\n",
              " '/content/Classification-of-COVID-19-chest-X-ray-images/dataset/training/infected/covid_train66.jpg',\n",
              " '/content/Classification-of-COVID-19-chest-X-ray-images/dataset/training/infected/covid_train6.jpg',\n",
              " '/content/Classification-of-COVID-19-chest-X-ray-images/dataset/training/infected/covid_train57.jpg',\n",
              " '/content/Classification-of-COVID-19-chest-X-ray-images/dataset/training/infected/covid_train77.jpeg',\n",
              " '/content/Classification-of-COVID-19-chest-X-ray-images/dataset/training/infected/covid_train69.jpg',\n",
              " '/content/Classification-of-COVID-19-chest-X-ray-images/dataset/training/infected/covid_train89.jpeg',\n",
              " '/content/Classification-of-COVID-19-chest-X-ray-images/dataset/training/infected/covid_train11.png',\n",
              " '/content/Classification-of-COVID-19-chest-X-ray-images/dataset/training/infected/covid_train84.jpeg',\n",
              " '/content/Classification-of-COVID-19-chest-X-ray-images/dataset/training/infected/covid_train73.jpeg',\n",
              " '/content/Classification-of-COVID-19-chest-X-ray-images/dataset/training/infected/covid_train52.jpg',\n",
              " '/content/Classification-of-COVID-19-chest-X-ray-images/dataset/training/infected/covid_train33.jpeg',\n",
              " '/content/Classification-of-COVID-19-chest-X-ray-images/dataset/training/infected/covid_train49.jpg',\n",
              " '/content/Classification-of-COVID-19-chest-X-ray-images/dataset/training/infected/covid_train60.png',\n",
              " '/content/Classification-of-COVID-19-chest-X-ray-images/dataset/training/infected/covid_train30.jpeg',\n",
              " '/content/Classification-of-COVID-19-chest-X-ray-images/dataset/training/infected/covid_train42.jpeg',\n",
              " '/content/Classification-of-COVID-19-chest-X-ray-images/dataset/training/infected/covid_train87.jpeg',\n",
              " '/content/Classification-of-COVID-19-chest-X-ray-images/dataset/training/infected/covid_train54.jpg',\n",
              " '/content/Classification-of-COVID-19-chest-X-ray-images/dataset/training/infected/covid_train1.jpeg',\n",
              " '/content/Classification-of-COVID-19-chest-X-ray-images/dataset/training/infected/covid_train27.jpeg',\n",
              " '/content/Classification-of-COVID-19-chest-X-ray-images/dataset/training/infected/covid_train53.png',\n",
              " '/content/Classification-of-COVID-19-chest-X-ray-images/dataset/training/infected/covid_train88.jpeg',\n",
              " '/content/Classification-of-COVID-19-chest-X-ray-images/dataset/training/infected/covid_train48.png',\n",
              " '/content/Classification-of-COVID-19-chest-X-ray-images/dataset/training/infected/covid_train28.jpeg',\n",
              " '/content/Classification-of-COVID-19-chest-X-ray-images/dataset/training/infected/covid_train45.jpeg',\n",
              " '/content/Classification-of-COVID-19-chest-X-ray-images/dataset/training/infected/covid_train4.jpg',\n",
              " '/content/Classification-of-COVID-19-chest-X-ray-images/dataset/training/infected/covid_train14.png',\n",
              " '/content/Classification-of-COVID-19-chest-X-ray-images/dataset/training/infected/covid_train34.jpeg',\n",
              " '/content/Classification-of-COVID-19-chest-X-ray-images/dataset/training/infected/covid_train86.jpeg',\n",
              " '/content/Classification-of-COVID-19-chest-X-ray-images/dataset/training/infected/covid_train56.jpg',\n",
              " '/content/Classification-of-COVID-19-chest-X-ray-images/dataset/training/infected/covid_train70.jpg',\n",
              " '/content/Classification-of-COVID-19-chest-X-ray-images/dataset/training/infected/covid_train55.jpg',\n",
              " '/content/Classification-of-COVID-19-chest-X-ray-images/dataset/training/infected/covid_train9.png',\n",
              " '/content/Classification-of-COVID-19-chest-X-ray-images/dataset/training/infected/covid_train72.png',\n",
              " '/content/Classification-of-COVID-19-chest-X-ray-images/dataset/training/infected/covid_train26.jpeg',\n",
              " '/content/Classification-of-COVID-19-chest-X-ray-images/dataset/training/infected/covid_train85.jpeg',\n",
              " '/content/Classification-of-COVID-19-chest-X-ray-images/dataset/training/infected/covid_train79.jpeg',\n",
              " '/content/Classification-of-COVID-19-chest-X-ray-images/dataset/training/infected/covid_train40.jpeg',\n",
              " '/content/Classification-of-COVID-19-chest-X-ray-images/dataset/training/infected/covid_train29.jpeg',\n",
              " '/content/Classification-of-COVID-19-chest-X-ray-images/dataset/training/infected/covid_train83.png',\n",
              " '/content/Classification-of-COVID-19-chest-X-ray-images/dataset/training/infected/covid_train32.jpeg',\n",
              " '/content/Classification-of-COVID-19-chest-X-ray-images/dataset/training/infected/covid_train68.jpg',\n",
              " '/content/Classification-of-COVID-19-chest-X-ray-images/dataset/training/infected/covid_train76.jpg',\n",
              " '/content/Classification-of-COVID-19-chest-X-ray-images/dataset/training/infected/covid_train78.jpeg',\n",
              " '/content/Classification-of-COVID-19-chest-X-ray-images/dataset/training/infected/covid_train39.jpeg',\n",
              " '/content/Classification-of-COVID-19-chest-X-ray-images/dataset/training/infected/covid_train25.jpeg',\n",
              " '/content/Classification-of-COVID-19-chest-X-ray-images/dataset/training/infected/covid_train51.png',\n",
              " '/content/Classification-of-COVID-19-chest-X-ray-images/dataset/training/infected/covid_train2.jpeg',\n",
              " '/content/Classification-of-COVID-19-chest-X-ray-images/dataset/training/infected/covid_train61.jpg',\n",
              " '/content/Classification-of-COVID-19-chest-X-ray-images/dataset/training/infected/covid_train18.png',\n",
              " '/content/Classification-of-COVID-19-chest-X-ray-images/dataset/training/infected/covid_train67.jpg',\n",
              " '/content/Classification-of-COVID-19-chest-X-ray-images/dataset/training/infected/covid_train19.jpeg',\n",
              " '/content/Classification-of-COVID-19-chest-X-ray-images/dataset/training/infected/covid_train41.jpeg',\n",
              " '/content/Classification-of-COVID-19-chest-X-ray-images/dataset/training/infected/covid_train10.png',\n",
              " '/content/Classification-of-COVID-19-chest-X-ray-images/dataset/training/infected/covid_train74.jpeg',\n",
              " '/content/Classification-of-COVID-19-chest-X-ray-images/dataset/training/infected/covid_train22.jpeg',\n",
              " '/content/Classification-of-COVID-19-chest-X-ray-images/dataset/training/infected/covid_train81.jpeg',\n",
              " '/content/Classification-of-COVID-19-chest-X-ray-images/dataset/training/infected/covid_train71.jpg',\n",
              " '/content/Classification-of-COVID-19-chest-X-ray-images/dataset/training/infected/covid_train5.jpg',\n",
              " '/content/Classification-of-COVID-19-chest-X-ray-images/dataset/training/infected/covid_train75.jpg',\n",
              " '/content/Classification-of-COVID-19-chest-X-ray-images/dataset/training/infected/covid_train47.png',\n",
              " '/content/Classification-of-COVID-19-chest-X-ray-images/dataset/training/infected/covid_train50.png',\n",
              " '/content/Classification-of-COVID-19-chest-X-ray-images/dataset/training/infected/covid_train35.jpeg',\n",
              " '/content/Classification-of-COVID-19-chest-X-ray-images/dataset/training/infected/covid_train43.jpeg',\n",
              " '/content/Classification-of-COVID-19-chest-X-ray-images/dataset/training/infected/covid_train63.jpg',\n",
              " '/content/Classification-of-COVID-19-chest-X-ray-images/dataset/training/infected/1.jpeg',\n",
              " '/content/Classification-of-COVID-19-chest-X-ray-images/dataset/training/infected/covid_train24.jpeg',\n",
              " '/content/Classification-of-COVID-19-chest-X-ray-images/dataset/training/infected/covid_train38.jpeg',\n",
              " '/content/Classification-of-COVID-19-chest-X-ray-images/dataset/training/infected/covid_train7.jpg',\n",
              " '/content/Classification-of-COVID-19-chest-X-ray-images/dataset/training/infected/covid_train17.png',\n",
              " '/content/Classification-of-COVID-19-chest-X-ray-images/dataset/training/infected/covid_train8.png',\n",
              " '/content/Classification-of-COVID-19-chest-X-ray-images/dataset/training/infected/covid_train46.png',\n",
              " '/content/Classification-of-COVID-19-chest-X-ray-images/dataset/training/infected/covid_train64.jpg',\n",
              " '/content/Classification-of-COVID-19-chest-X-ray-images/dataset/training/infected/covid_train36.jpeg',\n",
              " '/content/Classification-of-COVID-19-chest-X-ray-images/dataset/training/infected/covid_train58.png',\n",
              " '/content/Classification-of-COVID-19-chest-X-ray-images/dataset/training/infected/covid_train16.png',\n",
              " '/content/Classification-of-COVID-19-chest-X-ray-images/dataset/training/infected/covid_train59.png',\n",
              " '/content/Classification-of-COVID-19-chest-X-ray-images/dataset/training/infected/covid_train65.jpg',\n",
              " '/content/Classification-of-COVID-19-chest-X-ray-images/dataset/training/infected/covid_train44.jpeg',\n",
              " '/content/Classification-of-COVID-19-chest-X-ray-images/dataset/training/infected/covid_train80.jpeg',\n",
              " '/content/Classification-of-COVID-19-chest-X-ray-images/dataset/training/normal/NORMAL2-IM-0305-0001.jpeg',\n",
              " '/content/Classification-of-COVID-19-chest-X-ray-images/dataset/training/normal/NORMAL2-IM-0361-0001.jpeg',\n",
              " '/content/Classification-of-COVID-19-chest-X-ray-images/dataset/training/normal/NORMAL2-IM-0286-0001.jpeg',\n",
              " '/content/Classification-of-COVID-19-chest-X-ray-images/dataset/training/normal/NORMAL2-IM-0095-0001.jpeg',\n",
              " '/content/Classification-of-COVID-19-chest-X-ray-images/dataset/training/normal/NORMAL2-IM-0030-0001.jpeg',\n",
              " '/content/Classification-of-COVID-19-chest-X-ray-images/dataset/training/normal/NORMAL2-IM-0350-0001.jpeg',\n",
              " '/content/Classification-of-COVID-19-chest-X-ray-images/dataset/training/normal/NORMAL2-IM-0079-0001.jpeg',\n",
              " '/content/Classification-of-COVID-19-chest-X-ray-images/dataset/training/normal/NORMAL2-IM-0117-0001.jpeg',\n",
              " '/content/Classification-of-COVID-19-chest-X-ray-images/dataset/training/normal/NORMAL2-IM-0380-0001.jpeg',\n",
              " '/content/Classification-of-COVID-19-chest-X-ray-images/dataset/training/normal/NORMAL2-IM-0012-0001.jpeg',\n",
              " '/content/Classification-of-COVID-19-chest-X-ray-images/dataset/training/normal/NORMAL2-IM-0348-0001.jpeg',\n",
              " '/content/Classification-of-COVID-19-chest-X-ray-images/dataset/training/normal/NORMAL2-IM-0051-0001.jpeg',\n",
              " '/content/Classification-of-COVID-19-chest-X-ray-images/dataset/training/normal/NORMAL2-IM-0275-0001.jpeg',\n",
              " '/content/Classification-of-COVID-19-chest-X-ray-images/dataset/training/normal/NORMAL2-IM-0273-0001.jpeg',\n",
              " '/content/Classification-of-COVID-19-chest-X-ray-images/dataset/training/normal/NORMAL2-IM-0259-0001.jpeg',\n",
              " '/content/Classification-of-COVID-19-chest-X-ray-images/dataset/training/normal/NORMAL2-IM-0274-0001.jpeg',\n",
              " '/content/Classification-of-COVID-19-chest-X-ray-images/dataset/training/normal/NORMAL2-IM-0271-0001.jpeg',\n",
              " '/content/Classification-of-COVID-19-chest-X-ray-images/dataset/training/normal/NORMAL2-IM-0337-0001.jpeg',\n",
              " '/content/Classification-of-COVID-19-chest-X-ray-images/dataset/training/normal/NORMAL2-IM-0130-0001.jpeg',\n",
              " '/content/Classification-of-COVID-19-chest-X-ray-images/dataset/training/normal/NORMAL2-IM-0145-0001.jpeg',\n",
              " '/content/Classification-of-COVID-19-chest-X-ray-images/dataset/training/normal/NORMAL2-IM-0107-0001.jpeg',\n",
              " '/content/Classification-of-COVID-19-chest-X-ray-images/dataset/training/normal/NORMAL2-IM-0332-0001.jpeg',\n",
              " '/content/Classification-of-COVID-19-chest-X-ray-images/dataset/training/normal/NORMAL2-IM-0196-0001.jpeg',\n",
              " '/content/Classification-of-COVID-19-chest-X-ray-images/dataset/training/normal/NORMAL2-IM-0086-0001.jpeg',\n",
              " '/content/Classification-of-COVID-19-chest-X-ray-images/dataset/training/normal/NORMAL2-IM-0347-0001.jpeg',\n",
              " '/content/Classification-of-COVID-19-chest-X-ray-images/dataset/training/normal/NORMAL2-IM-0141-0001.jpeg',\n",
              " '/content/Classification-of-COVID-19-chest-X-ray-images/dataset/training/normal/NORMAL2-IM-0323-0001.jpeg',\n",
              " '/content/Classification-of-COVID-19-chest-X-ray-images/dataset/training/normal/NORMAL2-IM-0105-0001.jpeg',\n",
              " '/content/Classification-of-COVID-19-chest-X-ray-images/dataset/training/normal/NORMAL2-IM-0059-0001.jpeg',\n",
              " '/content/Classification-of-COVID-19-chest-X-ray-images/dataset/training/normal/NORMAL2-IM-0102-0001.jpeg',\n",
              " '/content/Classification-of-COVID-19-chest-X-ray-images/dataset/training/normal/NORMAL2-IM-0319-0001.jpeg',\n",
              " '/content/Classification-of-COVID-19-chest-X-ray-images/dataset/training/normal/NORMAL2-IM-0027-0001.jpeg',\n",
              " '/content/Classification-of-COVID-19-chest-X-ray-images/dataset/training/normal/NORMAL2-IM-0052-0001.jpeg',\n",
              " '/content/Classification-of-COVID-19-chest-X-ray-images/dataset/training/normal/NORMAL2-IM-0357-0001.jpeg',\n",
              " '/content/Classification-of-COVID-19-chest-X-ray-images/dataset/training/normal/NORMAL2-IM-0066-0001.jpeg',\n",
              " '/content/Classification-of-COVID-19-chest-X-ray-images/dataset/training/normal/NORMAL2-IM-0007-0001.jpeg',\n",
              " '/content/Classification-of-COVID-19-chest-X-ray-images/dataset/training/normal/NORMAL2-IM-0310-0001.jpeg',\n",
              " '/content/Classification-of-COVID-19-chest-X-ray-images/dataset/training/normal/NORMAL2-IM-0317-0001.jpeg',\n",
              " '/content/Classification-of-COVID-19-chest-X-ray-images/dataset/training/normal/NORMAL2-IM-0352-0001.jpeg',\n",
              " '/content/Classification-of-COVID-19-chest-X-ray-images/dataset/training/normal/NORMAL2-IM-0198-0001.jpeg',\n",
              " '/content/Classification-of-COVID-19-chest-X-ray-images/dataset/training/normal/NORMAL2-IM-0120-0001.jpeg',\n",
              " '/content/Classification-of-COVID-19-chest-X-ray-images/dataset/training/normal/NORMAL2-IM-0301-0001.jpeg',\n",
              " '/content/Classification-of-COVID-19-chest-X-ray-images/dataset/training/normal/NORMAL2-IM-0374-0001.jpeg',\n",
              " '/content/Classification-of-COVID-19-chest-X-ray-images/dataset/training/normal/NORMAL2-IM-0312-0001.jpeg',\n",
              " '/content/Classification-of-COVID-19-chest-X-ray-images/dataset/training/normal/NORMAL2-IM-0329-0001.jpeg',\n",
              " '/content/Classification-of-COVID-19-chest-X-ray-images/dataset/training/normal/NORMAL2-IM-0092-0001.jpeg',\n",
              " '/content/Classification-of-COVID-19-chest-X-ray-images/dataset/training/normal/NORMAL2-IM-0302-0001.jpeg',\n",
              " '/content/Classification-of-COVID-19-chest-X-ray-images/dataset/training/normal/NORMAL2-IM-0282-0001.jpeg',\n",
              " '/content/Classification-of-COVID-19-chest-X-ray-images/dataset/training/normal/NORMAL2-IM-0033-0001.jpeg',\n",
              " '/content/Classification-of-COVID-19-chest-X-ray-images/dataset/training/normal/NORMAL2-IM-0343-0001.jpeg',\n",
              " '/content/Classification-of-COVID-19-chest-X-ray-images/dataset/training/normal/NORMAL2-IM-0353-0001.jpeg',\n",
              " '/content/Classification-of-COVID-19-chest-X-ray-images/dataset/training/normal/NORMAL2-IM-0359-0001.jpeg',\n",
              " '/content/Classification-of-COVID-19-chest-X-ray-images/dataset/training/normal/NORMAL2-IM-0307-0001.jpeg',\n",
              " '/content/Classification-of-COVID-19-chest-X-ray-images/dataset/training/normal/NORMAL2-IM-0023-0001.jpeg',\n",
              " '/content/Classification-of-COVID-19-chest-X-ray-images/dataset/training/normal/NORMAL2-IM-0370-0001.jpeg',\n",
              " '/content/Classification-of-COVID-19-chest-X-ray-images/dataset/training/normal/NORMAL2-IM-0207-0001.jpeg',\n",
              " '/content/Classification-of-COVID-19-chest-X-ray-images/dataset/training/normal/NORMAL2-IM-0251-0001.jpeg',\n",
              " '/content/Classification-of-COVID-19-chest-X-ray-images/dataset/training/normal/NORMAL2-IM-0289-0001.jpeg',\n",
              " '/content/Classification-of-COVID-19-chest-X-ray-images/dataset/training/normal/NORMAL2-IM-0058-0001.jpeg',\n",
              " '/content/Classification-of-COVID-19-chest-X-ray-images/dataset/training/normal/NORMAL2-IM-0331-0001.jpeg',\n",
              " '/content/Classification-of-COVID-19-chest-X-ray-images/dataset/training/normal/NORMAL2-IM-0029-0001.jpeg',\n",
              " '/content/Classification-of-COVID-19-chest-X-ray-images/dataset/training/normal/NORMAL2-IM-0287-0001.jpeg',\n",
              " '/content/Classification-of-COVID-19-chest-X-ray-images/dataset/training/normal/NORMAL2-IM-0292-0001.jpeg',\n",
              " '/content/Classification-of-COVID-19-chest-X-ray-images/dataset/training/normal/NORMAL2-IM-0072-0001.jpeg',\n",
              " '/content/Classification-of-COVID-19-chest-X-ray-images/dataset/training/normal/NORMAL2-IM-0333-0001.jpeg',\n",
              " '/content/Classification-of-COVID-19-chest-X-ray-images/dataset/training/normal/NORMAL2-IM-0281-0001.jpeg',\n",
              " '/content/Classification-of-COVID-19-chest-X-ray-images/dataset/training/normal/NORMAL2-IM-0381-0001.jpeg',\n",
              " '/content/Classification-of-COVID-19-chest-X-ray-images/dataset/training/normal/NORMAL2-IM-0339-0001.jpeg',\n",
              " '/content/Classification-of-COVID-19-chest-X-ray-images/dataset/training/normal/NORMAL2-IM-0213-0001.jpeg',\n",
              " '/content/Classification-of-COVID-19-chest-X-ray-images/dataset/training/normal/NORMAL2-IM-0019-0001.jpeg',\n",
              " '/content/Classification-of-COVID-19-chest-X-ray-images/dataset/training/normal/NORMAL2-IM-0345-0001.jpeg',\n",
              " '/content/Classification-of-COVID-19-chest-X-ray-images/dataset/training/normal/NORMAL2-IM-0321-0001.jpeg',\n",
              " '/content/Classification-of-COVID-19-chest-X-ray-images/dataset/training/normal/NORMAL2-IM-0060-0001.jpeg',\n",
              " '/content/Classification-of-COVID-19-chest-X-ray-images/dataset/training/normal/NORMAL2-IM-0129-0001.jpeg',\n",
              " '/content/Classification-of-COVID-19-chest-X-ray-images/dataset/training/normal/NORMAL2-IM-0096-0001.jpeg',\n",
              " '/content/Classification-of-COVID-19-chest-X-ray-images/dataset/training/normal/NORMAL2-IM-0368-0001.jpeg',\n",
              " '/content/Classification-of-COVID-19-chest-X-ray-images/dataset/training/normal/NORMAL2-IM-0135-0001.jpeg',\n",
              " '/content/Classification-of-COVID-19-chest-X-ray-images/dataset/training/normal/NORMAL2-IM-0112-0001.jpeg',\n",
              " '/content/Classification-of-COVID-19-chest-X-ray-images/dataset/training/normal/NORMAL2-IM-0311-0001.jpeg',\n",
              " '/content/Classification-of-COVID-19-chest-X-ray-images/dataset/training/normal/NORMAL2-IM-0372-0001.jpeg',\n",
              " '/content/Classification-of-COVID-19-chest-X-ray-images/dataset/training/normal/1.jpeg',\n",
              " '/content/Classification-of-COVID-19-chest-X-ray-images/dataset/training/normal/NORMAL2-IM-0201-0001.jpeg',\n",
              " '/content/Classification-of-COVID-19-chest-X-ray-images/dataset/training/normal/NORMAL2-IM-0132-0001.jpeg',\n",
              " '/content/Classification-of-COVID-19-chest-X-ray-images/dataset/training/normal/NORMAL2-IM-0013-0001.jpeg',\n",
              " '/content/Classification-of-COVID-19-chest-X-ray-images/dataset/training/normal/NORMAL2-IM-0276-0001.jpeg',\n",
              " '/content/Classification-of-COVID-19-chest-X-ray-images/dataset/training/normal/NORMAL2-IM-0111-0001.jpeg',\n",
              " '/content/Classification-of-COVID-19-chest-X-ray-images/dataset/training/normal/NORMAL2-IM-0341-0001.jpeg',\n",
              " '/content/Classification-of-COVID-19-chest-X-ray-images/dataset/training/normal/NORMAL2-IM-0374-0001-0001.jpeg',\n",
              " '/content/Classification-of-COVID-19-chest-X-ray-images/dataset/training/normal/NORMAL2-IM-0028-0001.jpeg',\n",
              " '/content/Classification-of-COVID-19-chest-X-ray-images/dataset/training/normal/NORMAL2-IM-0300-0001.jpeg',\n",
              " '/content/Classification-of-COVID-19-chest-X-ray-images/dataset/training/normal/NORMAL2-IM-0278-0001.jpeg',\n",
              " '/content/Classification-of-COVID-19-chest-X-ray-images/dataset/training/normal/NORMAL2-IM-0073-0001.jpeg',\n",
              " '/content/Classification-of-COVID-19-chest-X-ray-images/dataset/training/normal/NORMAL2-IM-0277-0001.jpeg',\n",
              " '/content/Classification-of-COVID-19-chest-X-ray-images/dataset/training/normal/NORMAL2-IM-0297-0001.jpeg',\n",
              " '/content/Classification-of-COVID-19-chest-X-ray-images/dataset/training/normal/NORMAL2-IM-0110-0001.jpeg',\n",
              " '/content/Classification-of-COVID-19-chest-X-ray-images/dataset/training/normal/NORMAL2-IM-0309-0001.jpeg',\n",
              " '/content/Classification-of-COVID-19-chest-X-ray-images/dataset/training/normal/NORMAL2-IM-0081-0001.jpeg',\n",
              " '/content/Classification-of-COVID-19-chest-X-ray-images/dataset/testing/infected/covid-19-pneumonia-44-day-0.jpeg',\n",
              " '/content/Classification-of-COVID-19-chest-X-ray-images/dataset/testing/infected/covid-19-pneumonia-mild.JPG',\n",
              " '/content/Classification-of-COVID-19-chest-X-ray-images/dataset/testing/infected/kjr-21-e24-g002-l-a.jpg',\n",
              " '/content/Classification-of-COVID-19-chest-X-ray-images/dataset/testing/infected/covid-19-pneumonia-20-pa-on-admission.jpg',\n",
              " '/content/Classification-of-COVID-19-chest-X-ray-images/dataset/testing/infected/covid-19-pneumonia-evolution-over-a-week-1-day0-PA.jpg',\n",
              " '/content/Classification-of-COVID-19-chest-X-ray-images/dataset/testing/infected/80446565-E090-4187-A031-9D3CEAA586C8.jpeg',\n",
              " '/content/Classification-of-COVID-19-chest-X-ray-images/dataset/testing/infected/kjr-21-e25-g001-l-a.jpg',\n",
              " '/content/Classification-of-COVID-19-chest-X-ray-images/dataset/testing/infected/covid-19-pneumonia-67.jpeg',\n",
              " '/content/Classification-of-COVID-19-chest-X-ray-images/dataset/testing/infected/all14238-fig-0001-m-c.jpg',\n",
              " '/content/Classification-of-COVID-19-chest-X-ray-images/dataset/testing/infected/kjr-21-e24-g001-l-a.jpg',\n",
              " '/content/Classification-of-COVID-19-chest-X-ray-images/dataset/testing/infected/41591_2020_819_Fig1_HTML.webp-day10.png',\n",
              " '/content/Classification-of-COVID-19-chest-X-ray-images/dataset/testing/infected/gr1_lrg-a.jpg',\n",
              " '/content/Classification-of-COVID-19-chest-X-ray-images/dataset/testing/infected/kjr-21-e24-g003-l-a.jpg',\n",
              " '/content/Classification-of-COVID-19-chest-X-ray-images/dataset/testing/infected/covid-19-pneumonia-8.jpg',\n",
              " '/content/Classification-of-COVID-19-chest-X-ray-images/dataset/testing/infected/F2DE909F-E19C-4900-92F5-8F435B031AC6.jpeg',\n",
              " '/content/Classification-of-COVID-19-chest-X-ray-images/dataset/testing/infected/1.jpg',\n",
              " '/content/Classification-of-COVID-19-chest-X-ray-images/dataset/testing/infected/58cb9263f16e94305c730685358e4e_jumbo.jpeg',\n",
              " '/content/Classification-of-COVID-19-chest-X-ray-images/dataset/testing/infected/1-s2.0-S1684118220300608-main.pdf-002.jpg',\n",
              " '/content/Classification-of-COVID-19-chest-X-ray-images/dataset/testing/infected/nCoV-radiol.2020200269.fig1-day7.jpeg',\n",
              " '/content/Classification-of-COVID-19-chest-X-ray-images/dataset/testing/infected/41591_2020_819_Fig1_HTML.webp-day5.png',\n",
              " '/content/Classification-of-COVID-19-chest-X-ray-images/dataset/testing/infected/all14238-fig-0001-m-b.jpg',\n",
              " '/content/Classification-of-COVID-19-chest-X-ray-images/dataset/testing/infected/4e43e48d52c9e2d4c6c1fb9bc1544f_jumbo.jpeg',\n",
              " '/content/Classification-of-COVID-19-chest-X-ray-images/dataset/testing/infected/covid-19-pneumonia-53.jpg',\n",
              " '/content/Classification-of-COVID-19-chest-X-ray-images/dataset/testing/infected/31BA3780-2323-493F-8AED-62081B9C383B.jpeg',\n",
              " '/content/Classification-of-COVID-19-chest-X-ray-images/dataset/testing/infected/gr1_lrg-b.jpg',\n",
              " '/content/Classification-of-COVID-19-chest-X-ray-images/dataset/testing/normal/NORMAL2-IM-0346-0001.jpeg',\n",
              " '/content/Classification-of-COVID-19-chest-X-ray-images/dataset/testing/normal/NORMAL2-IM-0315-0001.jpeg',\n",
              " '/content/Classification-of-COVID-19-chest-X-ray-images/dataset/testing/normal/NORMAL2-IM-0294-0001.jpeg',\n",
              " '/content/Classification-of-COVID-19-chest-X-ray-images/dataset/testing/normal/NORMAL2-IM-0139-0001.jpeg',\n",
              " '/content/Classification-of-COVID-19-chest-X-ray-images/dataset/testing/normal/NORMAL2-IM-0217-0001.jpeg',\n",
              " '/content/Classification-of-COVID-19-chest-X-ray-images/dataset/testing/normal/NORMAL2-IM-0304-0001.jpeg',\n",
              " '/content/Classification-of-COVID-19-chest-X-ray-images/dataset/testing/normal/NORMAL2-IM-0252-0001.jpeg',\n",
              " '/content/Classification-of-COVID-19-chest-X-ray-images/dataset/testing/normal/NORMAL2-IM-0369-0001.jpeg',\n",
              " '/content/Classification-of-COVID-19-chest-X-ray-images/dataset/testing/normal/NORMAL2-IM-0354-0001.jpeg',\n",
              " '/content/Classification-of-COVID-19-chest-X-ray-images/dataset/testing/normal/NORMAL2-IM-0280-0001.jpeg',\n",
              " '/content/Classification-of-COVID-19-chest-X-ray-images/dataset/testing/normal/NORMAL2-IM-0195-0001.jpeg',\n",
              " '/content/Classification-of-COVID-19-chest-X-ray-images/dataset/testing/normal/NORMAL2-IM-0222-0001.jpeg',\n",
              " '/content/Classification-of-COVID-19-chest-X-ray-images/dataset/testing/normal/NORMAL2-IM-0241-0001.jpeg',\n",
              " '/content/Classification-of-COVID-19-chest-X-ray-images/dataset/testing/normal/NORMAL2-IM-0327-0001.jpeg',\n",
              " '/content/Classification-of-COVID-19-chest-X-ray-images/dataset/testing/normal/NORMAL2-IM-0246-0001.jpeg',\n",
              " '/content/Classification-of-COVID-19-chest-X-ray-images/dataset/testing/normal/NORMAL2-IM-0045-0001.jpeg',\n",
              " '/content/Classification-of-COVID-19-chest-X-ray-images/dataset/testing/normal/NORMAL2-IM-0285-0001.jpeg',\n",
              " '/content/Classification-of-COVID-19-chest-X-ray-images/dataset/testing/normal/NORMAL2-IM-0376-0001.jpeg',\n",
              " '/content/Classification-of-COVID-19-chest-X-ray-images/dataset/testing/normal/NORMAL2-IM-0173-0001-0001.jpeg',\n",
              " '/content/Classification-of-COVID-19-chest-X-ray-images/dataset/testing/normal/NORMAL2-IM-0098-0001.jpeg',\n",
              " '/content/Classification-of-COVID-19-chest-X-ray-images/dataset/testing/normal/NORMAL2-IM-0123-0001.jpeg',\n",
              " '/content/Classification-of-COVID-19-chest-X-ray-images/dataset/testing/normal/NORMAL2-IM-0246-0001-0001.jpeg',\n",
              " '/content/Classification-of-COVID-19-chest-X-ray-images/dataset/testing/normal/NORMAL2-IM-0378-0001.jpeg',\n",
              " '/content/Classification-of-COVID-19-chest-X-ray-images/dataset/testing/normal/NORMAL2-IM-0237-0001.jpeg',\n",
              " '/content/Classification-of-COVID-19-chest-X-ray-images/dataset/testing/normal/NORMAL2-IM-0173-0001-0002.jpeg',\n",
              " '/content/Classification-of-COVID-19-chest-X-ray-images/dataset/testing/normal/NORMAL2-IM-0330-0001.jpeg',\n",
              " '/content/Classification-of-COVID-19-chest-X-ray-images/dataset/testing/normal/NORMAL2-IM-0338-0001.jpeg',\n",
              " '/content/Classification-of-COVID-19-chest-X-ray-images/dataset/testing/normal/NORMAL2-IM-0336-0001.jpeg',\n",
              " '/content/Classification-of-COVID-19-chest-X-ray-images/dataset/testing/normal/NORMAL2-IM-0171-0001.jpeg',\n",
              " '/content/Classification-of-COVID-19-chest-X-ray-images/dataset/testing/normal/NORMAL2-IM-0349-0001.jpeg',\n",
              " '/content/Classification-of-COVID-19-chest-X-ray-images/dataset/testing/normal/NORMAL2-IM-0256-0001.jpeg',\n",
              " '/content/Classification-of-COVID-19-chest-X-ray-images/dataset/testing/normal/NORMAL2-IM-0206-0001.jpeg',\n",
              " '/content/Classification-of-COVID-19-chest-X-ray-images/dataset/testing/normal/NORMAL2-IM-0272-0001.jpeg',\n",
              " '/content/Classification-of-COVID-19-chest-X-ray-images/dataset/testing/normal/NORMAL2-IM-0360-0001.jpeg',\n",
              " '/content/Classification-of-COVID-19-chest-X-ray-images/dataset/testing/normal/NORMAL2-IM-0249-0001.jpeg',\n",
              " '/content/Classification-of-COVID-19-chest-X-ray-images/dataset/testing/normal/NORMAL2-IM-0364-0001.jpeg',\n",
              " '/content/Classification-of-COVID-19-chest-X-ray-images/dataset/testing/normal/NORMAL2-IM-0150-0001.jpeg',\n",
              " '/content/Classification-of-COVID-19-chest-X-ray-images/dataset/testing/normal/NORMAL2-IM-0221-0001.jpeg',\n",
              " '/content/Classification-of-COVID-19-chest-X-ray-images/dataset/testing/normal/NORMAL2-IM-0373-0001.jpeg',\n",
              " '/content/Classification-of-COVID-19-chest-X-ray-images/dataset/testing/normal/NORMAL2-IM-0374-0001-0002.jpeg',\n",
              " '/content/Classification-of-COVID-19-chest-X-ray-images/dataset/testing/normal/NORMAL2-IM-0283-0001.jpeg',\n",
              " '/content/Classification-of-COVID-19-chest-X-ray-images/dataset/testing/normal/NORMAL2-IM-0219-0001.jpeg',\n",
              " '/content/Classification-of-COVID-19-chest-X-ray-images/dataset/testing/normal/NORMAL2-IM-0041-0001.jpeg',\n",
              " '/content/Classification-of-COVID-19-chest-X-ray-images/dataset/testing/normal/NORMAL2-IM-0246-0001-0002.jpeg',\n",
              " '/content/Classification-of-COVID-19-chest-X-ray-images/dataset/testing/normal/NORMAL2-IM-0326-0001.jpeg',\n",
              " '/content/Classification-of-COVID-19-chest-X-ray-images/dataset/testing/normal/NORMAL2-IM-0146-0001.jpeg',\n",
              " '/content/Classification-of-COVID-19-chest-X-ray-images/dataset/testing/normal/NORMAL2-IM-0199-0001.jpeg',\n",
              " '/content/Classification-of-COVID-19-chest-X-ray-images/dataset/testing/normal/NORMAL2-IM-0313-0001.jpeg',\n",
              " '/content/Classification-of-COVID-19-chest-X-ray-images/dataset/testing/normal/NORMAL2-IM-0238-0001.jpeg',\n",
              " '/content/Classification-of-COVID-19-chest-X-ray-images/dataset/testing/normal/NORMAL2-IM-0131-0001.jpeg',\n",
              " '/content/Classification-of-COVID-19-chest-X-ray-images/dataset/testing/normal/NORMAL2-IM-0303-0001.jpeg',\n",
              " '/content/Classification-of-COVID-19-chest-X-ray-images/dataset/testing/normal/NORMAL2-IM-0229-0001.jpeg',\n",
              " '/content/Classification-of-COVID-19-chest-X-ray-images/dataset/testing/normal/NORMAL2-IM-0210-0001.jpeg',\n",
              " '/content/Classification-of-COVID-19-chest-X-ray-images/dataset/testing/normal/NORMAL2-IM-0351-0001.jpeg',\n",
              " '/content/Classification-of-COVID-19-chest-X-ray-images/dataset/testing/normal/NORMAL2-IM-0322-0001.jpeg',\n",
              " '/content/Classification-of-COVID-19-chest-X-ray-images/dataset/testing/normal/1.jpeg',\n",
              " '/content/Classification-of-COVID-19-chest-X-ray-images/dataset/testing/normal/NORMAL2-IM-0290-0001.jpeg',\n",
              " '/content/Classification-of-COVID-19-chest-X-ray-images/dataset/testing/normal/NORMAL2-IM-0335-0001.jpeg',\n",
              " '/content/Classification-of-COVID-19-chest-X-ray-images/dataset/testing/normal/NORMAL2-IM-0233-0001.jpeg',\n",
              " '/content/Classification-of-COVID-19-chest-X-ray-images/dataset/testing/normal/NORMAL2-IM-0267-0001.jpeg',\n",
              " '/content/Classification-of-COVID-19-chest-X-ray-images/dataset/testing/normal/NORMAL2-IM-0366-0001.jpeg',\n",
              " '/content/Classification-of-COVID-19-chest-X-ray-images/dataset/testing/normal/NORMAL2-IM-0340-0001.jpeg',\n",
              " '/content/Classification-of-COVID-19-chest-X-ray-images/dataset/testing/normal/NORMAL2-IM-0288-0001.jpeg',\n",
              " '/content/Classification-of-COVID-19-chest-X-ray-images/dataset/testing/normal/NORMAL2-IM-0232-0001.jpeg',\n",
              " '/content/Classification-of-COVID-19-chest-X-ray-images/dataset/testing/normal/NORMAL2-IM-0328-0001.jpeg',\n",
              " '/content/Classification-of-COVID-19-chest-X-ray-images/dataset/testing/normal/NORMAL2-IM-0362-0001.jpeg',\n",
              " '/content/Classification-of-COVID-19-chest-X-ray-images/dataset/testing/normal/NORMAL2-IM-0325-0001.jpeg',\n",
              " '/content/Classification-of-COVID-19-chest-X-ray-images/dataset/testing/normal/NORMAL2-IM-0316-0001.jpeg',\n",
              " '/content/Classification-of-COVID-19-chest-X-ray-images/dataset/testing/normal/NORMAL2-IM-0279-0001.jpeg']"
            ]
          },
          "metadata": {
            "tags": []
          },
          "execution_count": 18
        }
      ]
    },
    {
      "cell_type": "code",
      "metadata": {
        "id": "4d64VSPI5GXq",
        "colab_type": "code",
        "colab": {}
      },
      "source": [
        "data = []\n",
        "labels = []\n",
        "# loop over the image paths\n",
        "for imagePath in imagePaths:\n",
        "\t# extract the class label from the filename\n",
        "\tlabel = imagePath.split(os.path.sep)[-2]\n",
        "\t# load the image, swap color channels, and resize it to be a fixed\n",
        "\t# 224x224 pixels while ignoring aspect ratio\n",
        "\timage = cv2.imread(imagePath)\n",
        "\timage = cv2.cvtColor(image, cv2.COLOR_BGR2RGB)\n",
        "\timage = cv2.resize(image, (224, 224))\n",
        "\t# update the data and labels lists, respectively\n",
        "\tdata.append(image)\n",
        "\tlabels.append(label)\n",
        "# convert the data and labels to NumPy arrays while scaling the pixel\n",
        "# intensities to the range [0, 1]\n",
        "data = np.array(data) / 255.0\n",
        "labels = np.array(labels)"
      ],
      "execution_count": 0,
      "outputs": []
    },
    {
      "cell_type": "code",
      "metadata": {
        "id": "RZARevc_Pp2-",
        "colab_type": "code",
        "colab": {
          "base_uri": "https://localhost:8080/",
          "height": 34
        },
        "outputId": "f4fdc676-90cb-4396-a1fe-e9b728d4fa75"
      },
      "source": [
        "data.shape"
      ],
      "execution_count": 20,
      "outputs": [
        {
          "output_type": "execute_result",
          "data": {
            "text/plain": [
              "(283, 224, 224, 3)"
            ]
          },
          "metadata": {
            "tags": []
          },
          "execution_count": 20
        }
      ]
    },
    {
      "cell_type": "code",
      "metadata": {
        "id": "zFXH96CR5MHo",
        "colab_type": "code",
        "colab": {
          "base_uri": "https://localhost:8080/",
          "height": 884
        },
        "outputId": "aa935ccd-cf0b-4ba0-a388-95943394e588"
      },
      "source": [
        "labels\n"
      ],
      "execution_count": 21,
      "outputs": [
        {
          "output_type": "execute_result",
          "data": {
            "text/plain": [
              "array(['infected', 'normal', 'infected', 'infected', 'infected',\n",
              "       'infected', 'infected', 'infected', 'infected', 'infected',\n",
              "       'infected', 'infected', 'infected', 'infected', 'infected',\n",
              "       'infected', 'infected', 'infected', 'infected', 'infected',\n",
              "       'infected', 'infected', 'infected', 'infected', 'infected',\n",
              "       'infected', 'infected', 'infected', 'infected', 'infected',\n",
              "       'infected', 'infected', 'infected', 'infected', 'infected',\n",
              "       'infected', 'infected', 'infected', 'infected', 'infected',\n",
              "       'infected', 'infected', 'infected', 'infected', 'infected',\n",
              "       'infected', 'infected', 'infected', 'infected', 'infected',\n",
              "       'infected', 'infected', 'infected', 'infected', 'infected',\n",
              "       'infected', 'infected', 'infected', 'infected', 'infected',\n",
              "       'infected', 'infected', 'infected', 'infected', 'infected',\n",
              "       'infected', 'infected', 'infected', 'infected', 'infected',\n",
              "       'infected', 'infected', 'infected', 'infected', 'infected',\n",
              "       'infected', 'infected', 'infected', 'infected', 'infected',\n",
              "       'infected', 'infected', 'infected', 'infected', 'infected',\n",
              "       'infected', 'infected', 'infected', 'infected', 'infected',\n",
              "       'infected', 'infected', 'normal', 'normal', 'normal', 'normal',\n",
              "       'normal', 'normal', 'normal', 'normal', 'normal', 'normal',\n",
              "       'normal', 'normal', 'normal', 'normal', 'normal', 'normal',\n",
              "       'normal', 'normal', 'normal', 'normal', 'normal', 'normal',\n",
              "       'normal', 'normal', 'normal', 'normal', 'normal', 'normal',\n",
              "       'normal', 'normal', 'normal', 'normal', 'normal', 'normal',\n",
              "       'normal', 'normal', 'normal', 'normal', 'normal', 'normal',\n",
              "       'normal', 'normal', 'normal', 'normal', 'normal', 'normal',\n",
              "       'normal', 'normal', 'normal', 'normal', 'normal', 'normal',\n",
              "       'normal', 'normal', 'normal', 'normal', 'normal', 'normal',\n",
              "       'normal', 'normal', 'normal', 'normal', 'normal', 'normal',\n",
              "       'normal', 'normal', 'normal', 'normal', 'normal', 'normal',\n",
              "       'normal', 'normal', 'normal', 'normal', 'normal', 'normal',\n",
              "       'normal', 'normal', 'normal', 'normal', 'normal', 'normal',\n",
              "       'normal', 'normal', 'normal', 'normal', 'normal', 'normal',\n",
              "       'normal', 'normal', 'normal', 'normal', 'normal', 'normal',\n",
              "       'normal', 'normal', 'normal', 'infected', 'infected', 'infected',\n",
              "       'infected', 'infected', 'infected', 'infected', 'infected',\n",
              "       'infected', 'infected', 'infected', 'infected', 'infected',\n",
              "       'infected', 'infected', 'infected', 'infected', 'infected',\n",
              "       'infected', 'infected', 'infected', 'infected', 'infected',\n",
              "       'infected', 'infected', 'normal', 'normal', 'normal', 'normal',\n",
              "       'normal', 'normal', 'normal', 'normal', 'normal', 'normal',\n",
              "       'normal', 'normal', 'normal', 'normal', 'normal', 'normal',\n",
              "       'normal', 'normal', 'normal', 'normal', 'normal', 'normal',\n",
              "       'normal', 'normal', 'normal', 'normal', 'normal', 'normal',\n",
              "       'normal', 'normal', 'normal', 'normal', 'normal', 'normal',\n",
              "       'normal', 'normal', 'normal', 'normal', 'normal', 'normal',\n",
              "       'normal', 'normal', 'normal', 'normal', 'normal', 'normal',\n",
              "       'normal', 'normal', 'normal', 'normal', 'normal', 'normal',\n",
              "       'normal', 'normal', 'normal', 'normal', 'normal', 'normal',\n",
              "       'normal', 'normal', 'normal', 'normal', 'normal', 'normal',\n",
              "       'normal', 'normal', 'normal', 'normal', 'normal'], dtype='<U8')"
            ]
          },
          "metadata": {
            "tags": []
          },
          "execution_count": 21
        }
      ]
    },
    {
      "cell_type": "code",
      "metadata": {
        "id": "rpW2VDtO6EY0",
        "colab_type": "code",
        "colab": {}
      },
      "source": [
        "# perform one-hot encoding on the labels\n",
        "lb = LabelBinarizer()\n",
        "labels = lb.fit_transform(labels)\n",
        "labels = to_categorical(labels)\n",
        "# partition the data into training and testing splits using 80% of\n",
        "# the data for training and the remaining 20% for testing\n",
        "(trainX, testX, trainY, testY) = train_test_split(data, labels,\n",
        "\ttest_size=0.20, stratify=labels, random_state=42)\n",
        "# initialize the training data augmentation object\n",
        "trainAug = ImageDataGenerator(shear_range=0.2,\n",
        "    zoom_range=0.2,\n",
        "    horizontal_flip=True,\trotation_range=15,\n",
        "\tfill_mode=\"nearest\")"
      ],
      "execution_count": 0,
      "outputs": []
    },
    {
      "cell_type": "code",
      "metadata": {
        "id": "NJb4rMwAZEhl",
        "colab_type": "code",
        "colab": {
          "base_uri": "https://localhost:8080/",
          "height": 34
        },
        "outputId": "3eab7625-7873-4897-b448-85f6d82baf0f"
      },
      "source": [
        "trainAug"
      ],
      "execution_count": 23,
      "outputs": [
        {
          "output_type": "execute_result",
          "data": {
            "text/plain": [
              "<tensorflow.python.keras.preprocessing.image.ImageDataGenerator at 0x7fef78c59828>"
            ]
          },
          "metadata": {
            "tags": []
          },
          "execution_count": 23
        }
      ]
    },
    {
      "cell_type": "code",
      "metadata": {
        "id": "385HMojhUu44",
        "colab_type": "code",
        "colab": {
          "base_uri": "https://localhost:8080/",
          "height": 34
        },
        "outputId": "49472378-f5ea-454e-9994-fec61046d48a"
      },
      "source": [
        "trainX.shape,testX.shape,trainY.shape,testY.shape"
      ],
      "execution_count": 92,
      "outputs": [
        {
          "output_type": "execute_result",
          "data": {
            "text/plain": [
              "((226, 224, 224, 3), (57, 224, 224, 3), (226, 2), (57, 2))"
            ]
          },
          "metadata": {
            "tags": []
          },
          "execution_count": 92
        }
      ]
    },
    {
      "cell_type": "markdown",
      "metadata": {
        "id": "UDkpAFsLP7gR",
        "colab_type": "text"
      },
      "source": [
        "USING VGG16 MODEL"
      ]
    },
    {
      "cell_type": "code",
      "metadata": {
        "id": "zTKwZFFI6Hh9",
        "colab_type": "code",
        "colab": {}
      },
      "source": [
        "baseModel = VGG16(weights=\"imagenet\", include_top=False,\n",
        "\tinput_tensor=Input(shape=(224, 224, 3)))\n",
        "# construct the head of the model that will be placed on top of the\n",
        "# the base model\n",
        "headModel = baseModel.output\n",
        "headModel = AveragePooling2D(pool_size=(4, 4))(headModel)\n",
        "headModel = Flatten(name=\"flatten\")(headModel)\n",
        "headModel = Dense(64, activation=\"relu\")(headModel)\n",
        "headModel = Dropout(0.5)(headModel)\n",
        "headModel = Dense(2, activation=\"softmax\")(headModel)\n",
        "# place the head FC model on top of the base model (this will become\n",
        "# the actual model we will train)\n",
        "model = Model(inputs=baseModel.input, outputs=headModel)\n",
        "# loop over all layers in the base model and freeze them so they will\n",
        "# *not* be updated during the first training process\n",
        "for layer in baseModel.layers:\n",
        "\tlayer.trainable = False"
      ],
      "execution_count": 0,
      "outputs": []
    },
    {
      "cell_type": "code",
      "metadata": {
        "id": "eBNxhA91_7eq",
        "colab_type": "code",
        "colab": {}
      },
      "source": [
        "model_chkpt = ModelCheckpoint('best_mod.h5', save_best_only=True, monitor='accuracy')\n",
        "early_stopping = EarlyStopping(monitor='loss', restore_best_weights=False, patience=10)\n"
      ],
      "execution_count": 0,
      "outputs": []
    },
    {
      "cell_type": "code",
      "metadata": {
        "id": "5PpnzLBu6Izd",
        "colab_type": "code",
        "colab": {
          "base_uri": "https://localhost:8080/",
          "height": 921
        },
        "outputId": "10b5b7c2-3c8c-4b0f-bcf4-9aa6164da732"
      },
      "source": [
        "# initialize the initial learning rate, number of epochs to train for,\n",
        "# and batch size\n",
        "INIT_LR = 1e-3\n",
        "EPOCHS = 25\n",
        "BS = 8\n",
        "# compile our model\n",
        "print(\"[INFO] compiling model...\")\n",
        "opt = Adam(lr=INIT_LR, decay=INIT_LR / EPOCHS)\n",
        "model.compile(loss=\"binary_crossentropy\", optimizer=opt,\n",
        "\tmetrics=[\"accuracy\"])\n",
        "# train the head of the network\n",
        "print(\"[INFO] training head...\")\n",
        "H = model.fit_generator(\n",
        "\ttrainAug.flow(trainX, trainY, batch_size=BS),\n",
        "\tsteps_per_epoch=len(trainX) // BS,\n",
        "\tvalidation_data=(testX, testY),\n",
        "\tvalidation_steps=len(testX) // BS,\n",
        "\tepochs=EPOCHS,callbacks=[early_stopping,model_chkpt])"
      ],
      "execution_count": 66,
      "outputs": [
        {
          "output_type": "stream",
          "text": [
            "[INFO] compiling model...\n",
            "[INFO] training head...\n",
            "Epoch 1/25\n",
            "28/28 [==============================] - 133s 5s/step - loss: 0.6245 - accuracy: 0.6284 - val_loss: 0.5377 - val_accuracy: 0.8070\n",
            "Epoch 2/25\n",
            "28/28 [==============================] - 133s 5s/step - loss: 0.4896 - accuracy: 0.7752 - val_loss: 0.4763 - val_accuracy: 0.8246\n",
            "Epoch 3/25\n",
            "28/28 [==============================] - 137s 5s/step - loss: 0.4031 - accuracy: 0.8578 - val_loss: 0.4095 - val_accuracy: 0.8246\n",
            "Epoch 4/25\n",
            "28/28 [==============================] - 134s 5s/step - loss: 0.3666 - accuracy: 0.8578 - val_loss: 0.3809 - val_accuracy: 0.7895\n",
            "Epoch 5/25\n",
            "28/28 [==============================] - 134s 5s/step - loss: 0.3368 - accuracy: 0.8853 - val_loss: 0.3791 - val_accuracy: 0.7544\n",
            "Epoch 6/25\n",
            "28/28 [==============================] - 134s 5s/step - loss: 0.2538 - accuracy: 0.8945 - val_loss: 0.3169 - val_accuracy: 0.9123\n",
            "Epoch 7/25\n",
            "28/28 [==============================] - 136s 5s/step - loss: 0.2579 - accuracy: 0.8945 - val_loss: 0.3314 - val_accuracy: 0.8070\n",
            "Epoch 8/25\n",
            "28/28 [==============================] - 133s 5s/step - loss: 0.2548 - accuracy: 0.8945 - val_loss: 0.2895 - val_accuracy: 0.9123\n",
            "Epoch 9/25\n",
            "28/28 [==============================] - 133s 5s/step - loss: 0.2653 - accuracy: 0.9128 - val_loss: 0.2736 - val_accuracy: 0.8947\n",
            "Epoch 10/25\n",
            "28/28 [==============================] - 134s 5s/step - loss: 0.2454 - accuracy: 0.9083 - val_loss: 0.2593 - val_accuracy: 0.8947\n",
            "Epoch 11/25\n",
            "28/28 [==============================] - 133s 5s/step - loss: 0.2118 - accuracy: 0.9174 - val_loss: 0.2471 - val_accuracy: 0.9123\n",
            "Epoch 12/25\n",
            "28/28 [==============================] - 136s 5s/step - loss: 0.1984 - accuracy: 0.9266 - val_loss: 0.2369 - val_accuracy: 0.9123\n",
            "Epoch 13/25\n",
            "28/28 [==============================] - 136s 5s/step - loss: 0.1979 - accuracy: 0.9420 - val_loss: 0.2196 - val_accuracy: 0.9298\n",
            "Epoch 14/25\n",
            "28/28 [==============================] - 133s 5s/step - loss: 0.1912 - accuracy: 0.9312 - val_loss: 0.2289 - val_accuracy: 0.8947\n",
            "Epoch 15/25\n",
            "28/28 [==============================] - 133s 5s/step - loss: 0.2197 - accuracy: 0.9266 - val_loss: 0.2450 - val_accuracy: 0.9123\n",
            "Epoch 16/25\n",
            "28/28 [==============================] - 136s 5s/step - loss: 0.1927 - accuracy: 0.9266 - val_loss: 0.1927 - val_accuracy: 0.9123\n",
            "Epoch 17/25\n",
            "28/28 [==============================] - 133s 5s/step - loss: 0.1768 - accuracy: 0.9266 - val_loss: 0.1915 - val_accuracy: 0.9123\n",
            "Epoch 18/25\n",
            "28/28 [==============================] - 133s 5s/step - loss: 0.1398 - accuracy: 0.9404 - val_loss: 0.1752 - val_accuracy: 0.9298\n",
            "Epoch 19/25\n",
            "28/28 [==============================] - 133s 5s/step - loss: 0.1456 - accuracy: 0.9450 - val_loss: 0.1692 - val_accuracy: 0.9474\n",
            "Epoch 20/25\n",
            "28/28 [==============================] - 133s 5s/step - loss: 0.1578 - accuracy: 0.9404 - val_loss: 0.1766 - val_accuracy: 0.9123\n",
            "Epoch 21/25\n",
            "28/28 [==============================] - 136s 5s/step - loss: 0.1745 - accuracy: 0.9266 - val_loss: 0.2057 - val_accuracy: 0.9298\n",
            "Epoch 22/25\n",
            "28/28 [==============================] - 134s 5s/step - loss: 0.1319 - accuracy: 0.9495 - val_loss: 0.1613 - val_accuracy: 0.9123\n",
            "Epoch 23/25\n",
            "28/28 [==============================] - 133s 5s/step - loss: 0.1281 - accuracy: 0.9679 - val_loss: 0.1522 - val_accuracy: 0.9123\n",
            "Epoch 24/25\n",
            "28/28 [==============================] - 133s 5s/step - loss: 0.1354 - accuracy: 0.9541 - val_loss: 0.1716 - val_accuracy: 0.9298\n",
            "Epoch 25/25\n",
            "28/28 [==============================] - 136s 5s/step - loss: 0.1221 - accuracy: 0.9541 - val_loss: 0.1431 - val_accuracy: 0.9123\n"
          ],
          "name": "stdout"
        }
      ]
    },
    {
      "cell_type": "code",
      "metadata": {
        "id": "9Zr5iAZS6k5R",
        "colab_type": "code",
        "colab": {
          "base_uri": "https://localhost:8080/",
          "height": 187
        },
        "outputId": "87a82e2d-7515-4ba6-f1cc-7c99108fa1b7"
      },
      "source": [
        "# make predictions on the testing set\n",
        "print(\"[INFO] evaluating network...\")\n",
        "predIdxs = model.predict(testX, batch_size=BS)\n",
        "# for each image in the testing set we need to find the index of the\n",
        "# label with corresponding largest predicted probability\n",
        "predIdxs = np.argmax(predIdxs, axis=1)\n",
        "# show a nicely formatted classification report\n",
        "print(classification_report(testY.argmax(axis=1), predIdxs,\n",
        "\ttarget_names=lb.classes_))"
      ],
      "execution_count": 67,
      "outputs": [
        {
          "output_type": "stream",
          "text": [
            "[INFO] evaluating network...\n",
            "              precision    recall  f1-score   support\n",
            "\n",
            "    infected       0.91      0.87      0.89        23\n",
            "      normal       0.91      0.94      0.93        34\n",
            "\n",
            "    accuracy                           0.91        57\n",
            "   macro avg       0.91      0.91      0.91        57\n",
            "weighted avg       0.91      0.91      0.91        57\n",
            "\n"
          ],
          "name": "stdout"
        }
      ]
    },
    {
      "cell_type": "code",
      "metadata": {
        "id": "J74SwjEE6pRS",
        "colab_type": "code",
        "colab": {
          "base_uri": "https://localhost:8080/",
          "height": 102
        },
        "outputId": "584cec77-dd46-44ab-caad-0958db56ba8e"
      },
      "source": [
        "# compute the confusion matrix and and use it to derive the raw\n",
        "# accuracy, sensitivity, and specificity\n",
        "cm = confusion_matrix(testY.argmax(axis=1), predIdxs)\n",
        "total = sum(sum(cm))\n",
        "acc = (cm[0, 0] + cm[1, 1]) / total\n",
        "sensitivity = cm[0, 0] / (cm[0, 0] + cm[0, 1])\n",
        "specificity = cm[1, 1] / (cm[1, 0] + cm[1, 1])\n",
        "# show the confusion matrix, accuracy, sensitivity, and specificity\n",
        "print(cm)\n",
        "print(\"acc: {:.4f}\".format(acc))\n",
        "print(\"sensitivity: {:.4f}\".format(sensitivity))\n",
        "print(\"specificity: {:.4f}\".format(specificity))\n"
      ],
      "execution_count": 68,
      "outputs": [
        {
          "output_type": "stream",
          "text": [
            "[[20  3]\n",
            " [ 2 32]]\n",
            "acc: 0.9123\n",
            "sensitivity: 0.8696\n",
            "specificity: 0.9412\n"
          ],
          "name": "stdout"
        }
      ]
    },
    {
      "cell_type": "code",
      "metadata": {
        "id": "DQu5oOLm6uXb",
        "colab_type": "code",
        "colab": {
          "base_uri": "https://localhost:8080/",
          "height": 316
        },
        "outputId": "e55ebf73-665e-4a7f-c091-fe18911a074b"
      },
      "source": [
        "# plot the training loss and accuracy\n",
        "N = EPOCHS\n",
        "plt.style.use(\"ggplot\")\n",
        "plt.figure()\n",
        "plt.plot(np.arange(0, N), H.history[\"loss\"], label=\"train_loss\")\n",
        "plt.plot(np.arange(0, N), H.history[\"val_loss\"], label=\"val_loss\")\n",
        "plt.plot(np.arange(0, N), H.history[\"accuracy\"], label=\"train_acc\")\n",
        "plt.plot(np.arange(0, N), H.history[\"val_accuracy\"], label=\"val_acc\")\n",
        "plt.title(\"Training Loss and Accuracy on COVID-19 Dataset\")\n",
        "plt.xlabel(\"Epoch #\")\n",
        "plt.ylabel(\"Loss/Accuracy\")\n",
        "plt.legend(loc=\"lower left\")\n",
        "#plt.savefig(args[\"plot\"])"
      ],
      "execution_count": 69,
      "outputs": [
        {
          "output_type": "execute_result",
          "data": {
            "text/plain": [
              "<matplotlib.legend.Legend at 0x7fc9b23b7550>"
            ]
          },
          "metadata": {
            "tags": []
          },
          "execution_count": 69
        },
        {
          "output_type": "display_data",
          "data": {
            "image/png": "[encoded data removed]",
            "text/plain": [
              "<Figure size 432x288 with 1 Axes>"
            ]
          },
          "metadata": {
            "tags": []
          }
        }
      ]
    },
    {
      "cell_type": "code",
      "metadata": {
        "id": "V9ATMG21QLNr",
        "colab_type": "code",
        "colab": {
          "base_uri": "https://localhost:8080/",
          "height": 68
        },
        "outputId": "e558983f-cc4c-4af2-d266-9d27d37cd847"
      },
      "source": [
        "predIdxs"
      ],
      "execution_count": 72,
      "outputs": [
        {
          "output_type": "execute_result",
          "data": {
            "text/plain": [
              "array([1, 1, 0, 0, 1, 1, 0, 0, 0, 1, 1, 0, 1, 1, 0, 0, 1, 1, 1, 1, 0, 0,\n",
              "       1, 1, 1, 1, 0, 0, 1, 1, 0, 1, 0, 1, 1, 1, 1, 0, 0, 1, 0, 1, 1, 1,\n",
              "       1, 0, 1, 1, 1, 1, 1, 1, 0, 0, 0, 0, 1])"
            ]
          },
          "metadata": {
            "tags": []
          },
          "execution_count": 72
        }
      ]
    },
    {
      "cell_type": "code",
      "metadata": {
        "id": "Rm0xfpLaQZzu",
        "colab_type": "code",
        "colab": {
          "base_uri": "https://localhost:8080/",
          "height": 34
        },
        "outputId": "7e779cbe-dc44-4d5b-c783-d2f7dd5b3316"
      },
      "source": [
        "#from IPython.display import Image\n",
        "#Image('/content/drive/My Drive/covid dataset/images/1-s2.0-S0929664620300449-gr2_lrg-a.jpg')\n",
        "image = cv2.imread('/content/drive/My Drive/covid dataset/images/1-s2.0-S0929664620300449-gr2_lrg-a.jpg')\n",
        "image = cv2.cvtColor(image, cv2.COLOR_BGR2RGB)\n",
        "image = cv2.resize(image, (224, 224))\n",
        "img=np.reshape(image,(1,224,224,3))\n",
        "model.predict(img)"
      ],
      "execution_count": 94,
      "outputs": [
        {
          "output_type": "execute_result",
          "data": {
            "text/plain": [
              "array([[2.8182299e-07, 9.9999976e-01]], dtype=float32)"
            ]
          },
          "metadata": {
            "tags": []
          },
          "execution_count": 94
        }
      ]
    },
    {
      "cell_type": "code",
      "metadata": {
        "id": "HhUYJvQ7WGlo",
        "colab_type": "code",
        "colab": {
          "base_uri": "https://localhost:8080/",
          "height": 34
        },
        "outputId": "a8082f36-debe-46d0-f7b9-338e2c69930d"
      },
      "source": [
        "img.shape"
      ],
      "execution_count": 98,
      "outputs": [
        {
          "output_type": "execute_result",
          "data": {
            "text/plain": [
              "(1, 224, 224, 3)"
            ]
          },
          "metadata": {
            "tags": []
          },
          "execution_count": 98
        }
      ]
    },
    {
      "cell_type": "markdown",
      "metadata": {
        "id": "utgkRH8pZli8",
        "colab_type": "text"
      },
      "source": [
        "END OF VGG16\n"
      ]
    },
    {
      "cell_type": "markdown",
      "metadata": {
        "id": "vONo9a52aYWT",
        "colab_type": "text"
      },
      "source": [
        "WITHOUT PRETRAINED MODEL"
      ]
    },
    {
      "cell_type": "code",
      "metadata": {
        "id": "ClIv7lA-Znh6",
        "colab_type": "code",
        "colab": {}
      },
      "source": [
        "model = Sequential()\n",
        "model.add(Conv2D(80, (3, 3),activation='relu', input_shape=(224, 224, 3)))\n",
        "model.add(MaxPool2D(pool_size=(2, 2)))\n",
        "model.add(Dropout(0.2))\n",
        "\n",
        "model.add(Conv2D(32, (3, 3),activation='relu'))\n",
        "model.add(MaxPool2D(pool_size=(2, 2)))\n",
        "model.add(Dropout(0.5))\n",
        "model.add(Conv2D(32, (3, 3),activation='relu'))\n",
        "\n",
        "\n",
        "model.add(Conv2D(64, (3, 3),activation='relu'))\n",
        "model.add(MaxPool2D(pool_size=(2, 2)))\n",
        "\n",
        "model.add(Flatten())\n",
        "model.add(Dense(64,activation='relu'))\n",
        "model.add(Dropout(0.5))\n",
        "\n",
        "model.add(Dense(2,activation='softmax'))"
      ],
      "execution_count": 0,
      "outputs": []
    },
    {
      "cell_type": "code",
      "metadata": {
        "id": "YooCdUUKaNCq",
        "colab_type": "code",
        "colab": {}
      },
      "source": [
        "model_chkpt = ModelCheckpoint('best_mod.h5', save_best_only=True, monitor='accuracy')\n",
        "early_stopping = EarlyStopping(monitor='loss', restore_best_weights=False, patience=10)"
      ],
      "execution_count": 0,
      "outputs": []
    },
    {
      "cell_type": "code",
      "metadata": {
        "id": "7kYifSi7aRKL",
        "colab_type": "code",
        "colab": {
          "base_uri": "https://localhost:8080/",
          "height": 921
        },
        "outputId": "652f0d5a-da79-4f2d-bc5b-e0ff656b078f"
      },
      "source": [
        "# initialize the initial learning rate, number of epochs to train for,\n",
        "# and batch size\n",
        "INIT_LR = 1e-3\n",
        "EPOCHS = 25\n",
        "BS = 8\n",
        "# compile our model\n",
        "print(\"[INFO] compiling model...\")\n",
        "opt = Adam(lr=INIT_LR, decay=INIT_LR / EPOCHS)\n",
        "model.compile(loss=\"binary_crossentropy\", optimizer=opt,\n",
        "\tmetrics=[\"accuracy\"])\n",
        "# train the head of the network\n",
        "print(\"[INFO] training head...\")\n",
        "H = model.fit_generator(\n",
        "\ttrainAug.flow(trainX, trainY, batch_size=BS),\n",
        "\tsteps_per_epoch=len(trainX) // BS,\n",
        "\tvalidation_data=(testX, testY),\n",
        "\tvalidation_steps=len(testX) // BS,\n",
        "\tepochs=EPOCHS,callbacks=[early_stopping,model_chkpt])"
      ],
      "execution_count": 104,
      "outputs": [
        {
          "output_type": "stream",
          "text": [
            "[INFO] compiling model...\n",
            "[INFO] training head...\n",
            "Epoch 1/25\n",
            "28/28 [==============================] - 30s 1s/step - loss: 1.1116 - accuracy: 0.4587 - val_loss: 0.6921 - val_accuracy: 0.5965\n",
            "Epoch 2/25\n",
            "28/28 [==============================] - 29s 1s/step - loss: 0.6915 - accuracy: 0.5872 - val_loss: 0.6899 - val_accuracy: 0.5965\n",
            "Epoch 3/25\n",
            "28/28 [==============================] - 29s 1s/step - loss: 0.6901 - accuracy: 0.5734 - val_loss: 0.6875 - val_accuracy: 0.5965\n",
            "Epoch 4/25\n",
            "28/28 [==============================] - 29s 1s/step - loss: 0.6876 - accuracy: 0.5872 - val_loss: 0.6857 - val_accuracy: 0.5965\n",
            "Epoch 5/25\n",
            "28/28 [==============================] - 33s 1s/step - loss: 0.6848 - accuracy: 0.5963 - val_loss: 0.6829 - val_accuracy: 0.5965\n",
            "Epoch 6/25\n",
            "28/28 [==============================] - 29s 1s/step - loss: 0.6823 - accuracy: 0.5872 - val_loss: 0.6817 - val_accuracy: 0.5965\n",
            "Epoch 7/25\n",
            "28/28 [==============================] - 29s 1s/step - loss: 0.6830 - accuracy: 0.5826 - val_loss: 0.6801 - val_accuracy: 0.5965\n",
            "Epoch 8/25\n",
            "28/28 [==============================] - 29s 1s/step - loss: 0.6822 - accuracy: 0.5826 - val_loss: 0.6796 - val_accuracy: 0.5965\n",
            "Epoch 9/25\n",
            "28/28 [==============================] - 29s 1s/step - loss: 0.6787 - accuracy: 0.5963 - val_loss: 0.6783 - val_accuracy: 0.5965\n",
            "Epoch 10/25\n",
            "28/28 [==============================] - 29s 1s/step - loss: 0.6799 - accuracy: 0.5872 - val_loss: 0.6778 - val_accuracy: 0.5965\n",
            "Epoch 11/25\n",
            "28/28 [==============================] - 29s 1s/step - loss: 0.6797 - accuracy: 0.5872 - val_loss: 0.6772 - val_accuracy: 0.5965\n",
            "Epoch 12/25\n",
            "28/28 [==============================] - 29s 1s/step - loss: 0.6794 - accuracy: 0.5872 - val_loss: 0.6767 - val_accuracy: 0.5965\n",
            "Epoch 13/25\n",
            "28/28 [==============================] - 29s 1s/step - loss: 0.6793 - accuracy: 0.5780 - val_loss: 0.6760 - val_accuracy: 0.5965\n",
            "Epoch 14/25\n",
            "28/28 [==============================] - 29s 1s/step - loss: 0.6785 - accuracy: 0.5872 - val_loss: 0.6760 - val_accuracy: 0.5965\n",
            "Epoch 15/25\n",
            "28/28 [==============================] - 29s 1s/step - loss: 0.6785 - accuracy: 0.5872 - val_loss: 0.6755 - val_accuracy: 0.5965\n",
            "Epoch 16/25\n",
            "28/28 [==============================] - 29s 1s/step - loss: 0.6809 - accuracy: 0.5826 - val_loss: 0.6754 - val_accuracy: 0.5965\n",
            "Epoch 17/25\n",
            "28/28 [==============================] - 29s 1s/step - loss: 0.6788 - accuracy: 0.5872 - val_loss: 0.6752 - val_accuracy: 0.5965\n",
            "Epoch 18/25\n",
            "28/28 [==============================] - 29s 1s/step - loss: 0.6843 - accuracy: 0.5826 - val_loss: 0.6756 - val_accuracy: 0.5965\n",
            "Epoch 19/25\n",
            "28/28 [==============================] - 30s 1s/step - loss: 0.6775 - accuracy: 0.5893 - val_loss: 0.6755 - val_accuracy: 0.5965\n",
            "Epoch 20/25\n",
            "28/28 [==============================] - 29s 1s/step - loss: 0.6793 - accuracy: 0.5826 - val_loss: 0.6754 - val_accuracy: 0.5965\n",
            "Epoch 21/25\n",
            "28/28 [==============================] - 30s 1s/step - loss: 0.6801 - accuracy: 0.5780 - val_loss: 0.6753 - val_accuracy: 0.5965\n",
            "Epoch 22/25\n",
            "28/28 [==============================] - 29s 1s/step - loss: 0.6749 - accuracy: 0.6055 - val_loss: 0.6752 - val_accuracy: 0.5965\n",
            "Epoch 23/25\n",
            "28/28 [==============================] - 29s 1s/step - loss: 0.6766 - accuracy: 0.5917 - val_loss: 0.6749 - val_accuracy: 0.5965\n",
            "Epoch 24/25\n",
            "28/28 [==============================] - 29s 1s/step - loss: 0.6790 - accuracy: 0.5917 - val_loss: 0.6750 - val_accuracy: 0.5965\n",
            "Epoch 25/25\n",
            "28/28 [==============================] - 33s 1s/step - loss: 0.6727 - accuracy: 0.6055 - val_loss: 0.6747 - val_accuracy: 0.5965\n"
          ],
          "name": "stdout"
        }
      ]
    },
    {
      "cell_type": "code",
      "metadata": {
        "id": "FhXQdFSAb1W2",
        "colab_type": "code",
        "colab": {
          "base_uri": "https://localhost:8080/",
          "height": 241
        },
        "outputId": "640bd7c8-b1e5-438b-d64d-34d7c0582ae6"
      },
      "source": [
        "# make predictions on the testing set\n",
        "print(\"[INFO] evaluating network...\")\n",
        "predIdxs = model.predict(testX, batch_size=BS)\n",
        "# for each image in the testing set we need to find the index of the\n",
        "# label with corresponding largest predicted probability\n",
        "predIdxs = np.argmax(predIdxs, axis=1)\n",
        "# show a nicely formatted classification report\n",
        "print(classification_report(testY.argmax(axis=1), predIdxs,\n",
        "\ttarget_names=lb.classes_))"
      ],
      "execution_count": 105,
      "outputs": [
        {
          "output_type": "stream",
          "text": [
            "[INFO] evaluating network...\n",
            "              precision    recall  f1-score   support\n",
            "\n",
            "    infected       0.00      0.00      0.00        23\n",
            "      normal       0.60      1.00      0.75        34\n",
            "\n",
            "    accuracy                           0.60        57\n",
            "   macro avg       0.30      0.50      0.37        57\n",
            "weighted avg       0.36      0.60      0.45        57\n",
            "\n"
          ],
          "name": "stdout"
        },
        {
          "output_type": "stream",
          "text": [
            "/usr/local/lib/python3.6/dist-packages/sklearn/metrics/_classification.py:1272: UndefinedMetricWarning: Precision and F-score are ill-defined and being set to 0.0 in labels with no predicted samples. Use `zero_division` parameter to control this behavior.\n",
            "  _warn_prf(average, modifier, msg_start, len(result))\n"
          ],
          "name": "stderr"
        }
      ]
    },
    {
      "cell_type": "code",
      "metadata": {
        "id": "VRWrCOxqcCJW",
        "colab_type": "code",
        "colab": {
          "base_uri": "https://localhost:8080/",
          "height": 102
        },
        "outputId": "e9050c3d-d149-4c58-dc0c-04a3c701e7a7"
      },
      "source": [
        "# compute the confusion matrix and and use it to derive the raw\n",
        "# accuracy, sensitivity, and specificity\n",
        "cm = confusion_matrix(testY.argmax(axis=1), predIdxs)\n",
        "total = sum(sum(cm))\n",
        "acc = (cm[0, 0] + cm[1, 1]) / total\n",
        "sensitivity = cm[0, 0] / (cm[0, 0] + cm[0, 1])\n",
        "specificity = cm[1, 1] / (cm[1, 0] + cm[1, 1])\n",
        "# show the confusion matrix, accuracy, sensitivity, and specificity\n",
        "print(cm)\n",
        "print(\"acc: {:.4f}\".format(acc))\n",
        "print(\"sensitivity: {:.4f}\".format(sensitivity))\n",
        "print(\"specificity: {:.4f}\".format(specificity))"
      ],
      "execution_count": 107,
      "outputs": [
        {
          "output_type": "stream",
          "text": [
            "[[ 0 23]\n",
            " [ 0 34]]\n",
            "acc: 0.5965\n",
            "sensitivity: 0.0000\n",
            "specificity: 1.0000\n"
          ],
          "name": "stdout"
        }
      ]
    },
    {
      "cell_type": "code",
      "metadata": {
        "id": "k1jqu_MDcGVQ",
        "colab_type": "code",
        "colab": {
          "base_uri": "https://localhost:8080/",
          "height": 316
        },
        "outputId": "8d4d6030-16c4-4b5a-95b2-ee84ffc1e70a"
      },
      "source": [
        "# plot the training loss and accuracy\n",
        "N = EPOCHS\n",
        "plt.style.use(\"ggplot\")\n",
        "plt.figure()\n",
        "plt.plot(np.arange(0, N), H.history[\"loss\"], label=\"train_loss\")\n",
        "plt.plot(np.arange(0, N), H.history[\"val_loss\"], label=\"val_loss\")\n",
        "plt.plot(np.arange(0, N), H.history[\"accuracy\"], label=\"train_acc\")\n",
        "plt.plot(np.arange(0, N), H.history[\"val_accuracy\"], label=\"val_acc\")\n",
        "plt.title(\"Training Loss and Accuracy on COVID-19 Dataset\")\n",
        "plt.xlabel(\"Epoch #\")\n",
        "plt.ylabel(\"Loss/Accuracy\")\n",
        "plt.legend(loc=\"lower left\")\n",
        "#plt.savefig(args[\"plot\"])"
      ],
      "execution_count": 108,
      "outputs": [
        {
          "output_type": "execute_result",
          "data": {
            "text/plain": [
              "<matplotlib.legend.Legend at 0x7fc9badf8cc0>"
            ]
          },
          "metadata": {
            "tags": []
          },
          "execution_count": 108
        },
        {
          "output_type": "display_data",
          "data": {
            "image/png": "[encoded data removed]",
            "text/plain": [
              "<Figure size 432x288 with 1 Axes>"
            ]
          },
          "metadata": {
            "tags": []
          }
        }
      ]
    },
    {
      "cell_type": "code",
      "metadata": {
        "id": "s-Ct5Qy8cNmi",
        "colab_type": "code",
        "colab": {
          "base_uri": "https://localhost:8080/",
          "height": 34
        },
        "outputId": "8d4e5045-d5c4-4ea4-93d8-a08fa9fa3809"
      },
      "source": [
        "#from IPython.display import Image\n",
        "#Image('/content/drive/My Drive/covid dataset/images/1-s2.0-S0929664620300449-gr2_lrg-a.jpg')\n",
        "image = cv2.imread('/content/drive/My Drive/covid dataset/images/1-s2.0-S0929664620300449-gr2_lrg-a.jpg')\n",
        "image = cv2.cvtColor(image, cv2.COLOR_BGR2RGB)\n",
        "image = cv2.resize(image, (224, 224))\n",
        "img=np.reshape(image,(1,224,224,3))\n",
        "model.predict(img)"
      ],
      "execution_count": 109,
      "outputs": [
        {
          "output_type": "execute_result",
          "data": {
            "text/plain": [
              "array([[0.41502312, 0.58497685]], dtype=float32)"
            ]
          },
          "metadata": {
            "tags": []
          },
          "execution_count": 109
        }
      ]
    },
    {
      "cell_type": "markdown",
      "metadata": {
        "id": "13DE7Df1cRVW",
        "colab_type": "text"
      },
      "source": [
        "END OF WITHOUT PRETRAINED MODEL"
      ]
    },
    {
      "cell_type": "markdown",
      "metadata": {
        "id": "TSMMdhJncRp1",
        "colab_type": "text"
      },
      "source": [
        "USING INCEPTION-V3 MODEL"
      ]
    },
    {
      "cell_type": "code",
      "metadata": {
        "id": "6CZjvlDRcd1F",
        "colab_type": "code",
        "colab": {}
      },
      "source": [
        "from tensorflow.keras.preprocessing.image import ImageDataGenerator\n",
        "from tensorflow.keras.applications import VGG16,InceptionV3\n",
        "from tensorflow.keras.layers import AveragePooling2D\n",
        "from tensorflow.keras.layers import Dropout\n",
        "from tensorflow.keras.layers import Flatten\n",
        "from tensorflow.keras.layers import Dense\n",
        "from tensorflow.keras.layers import Input\n",
        "from tensorflow.keras.models import Model\n",
        "from tensorflow.keras.optimizers import Adam\n",
        "from tensorflow.keras.utils import to_categorical\n",
        "from sklearn.preprocessing import LabelBinarizer\n",
        "from sklearn.model_selection import train_test_split"
      ],
      "execution_count": 0,
      "outputs": []
    },
    {
      "cell_type": "code",
      "metadata": {
        "id": "Yk-9JTSNcjkX",
        "colab_type": "code",
        "colab": {}
      },
      "source": [
        "baseModel = InceptionV3(weights=\"imagenet\", include_top=False, input_tensor=Input(shape=(224, 224, 3)))\n",
        "#construct the head of the model that will be placed on top of the\n",
        "#the base model\n",
        "\n",
        "headModel = baseModel.output\n",
        "headModel = AveragePooling2D(pool_size=(4, 4))(headModel)\n",
        "headModel = Dropout(0.5)(headModel)\n",
        "headModel = Flatten(name=\"flatten\")(headModel)\n",
        "headModel = Dense(64, activation=\"relu\")(headModel)\n",
        "headModel = Dropout(0.5)(headModel)\n",
        "headModel = Dense(2, activation=\"softmax\")(headModel)\n",
        "\n",
        "\n",
        "model= Model(inputs=baseModel.input, outputs=headModel)\n",
        "\n",
        "for layer in baseModel.layers:\n",
        "    layer.trainable = False"
      ],
      "execution_count": 0,
      "outputs": []
    },
    {
      "cell_type": "code",
      "metadata": {
        "id": "8prHmAIcct0e",
        "colab_type": "code",
        "colab": {}
      },
      "source": [
        "model_chkpt = ModelCheckpoint('best_mod.h5', save_best_only=True, monitor='accuracy')\n",
        "early_stopping = EarlyStopping(monitor='loss', restore_best_weights=False, patience=10)"
      ],
      "execution_count": 0,
      "outputs": []
    },
    {
      "cell_type": "code",
      "metadata": {
        "id": "pj9USkmTczqK",
        "colab_type": "code",
        "colab": {
          "base_uri": "https://localhost:8080/",
          "height": 921
        },
        "outputId": "6a8f458c-7c62-4623-84d3-be5bb6d4dddb"
      },
      "source": [
        "# initialize the initial learning rate, number of epochs to train for,\n",
        "# and batch size\n",
        "INIT_LR = 1e-3\n",
        "EPOCHS = 25\n",
        "BS = 8\n",
        "# compile our model\n",
        "print(\"[INFO] compiling model...\")\n",
        "opt = Adam(lr=INIT_LR, decay=INIT_LR / EPOCHS)\n",
        "model.compile(loss=\"binary_crossentropy\", optimizer=opt,\n",
        "\tmetrics=[\"accuracy\"])\n",
        "# train the head of the network\n",
        "print(\"[INFO] training head...\")\n",
        "H = model.fit_generator(\n",
        "\ttrainAug.flow(trainX, trainY, batch_size=BS),\n",
        "\tsteps_per_epoch=len(trainX) // BS,\n",
        "\tvalidation_data=(testX, testY),\n",
        "\tvalidation_steps=len(testX) // BS,\n",
        "\tepochs=EPOCHS,callbacks=[early_stopping,model_chkpt])"
      ],
      "execution_count": 116,
      "outputs": [
        {
          "output_type": "stream",
          "text": [
            "[INFO] compiling model...\n",
            "[INFO] training head...\n",
            "Epoch 1/25\n",
            "28/28 [==============================] - 32s 1s/step - loss: 0.6292 - accuracy: 0.8073 - val_loss: 0.0915 - val_accuracy: 0.9649\n",
            "Epoch 2/25\n",
            "28/28 [==============================] - 35s 1s/step - loss: 0.5949 - accuracy: 0.8440 - val_loss: 0.0943 - val_accuracy: 0.9649\n",
            "Epoch 3/25\n",
            "28/28 [==============================] - 31s 1s/step - loss: 0.2957 - accuracy: 0.8853 - val_loss: 0.1205 - val_accuracy: 0.9474\n",
            "Epoch 4/25\n",
            "28/28 [==============================] - 30s 1s/step - loss: 0.2643 - accuracy: 0.8670 - val_loss: 0.1010 - val_accuracy: 0.9649\n",
            "Epoch 5/25\n",
            "28/28 [==============================] - 31s 1s/step - loss: 0.1589 - accuracy: 0.9358 - val_loss: 0.2363 - val_accuracy: 0.9123\n",
            "Epoch 6/25\n",
            "28/28 [==============================] - 31s 1s/step - loss: 0.1543 - accuracy: 0.9404 - val_loss: 0.0823 - val_accuracy: 0.9825\n",
            "Epoch 7/25\n",
            "28/28 [==============================] - 30s 1s/step - loss: 0.3195 - accuracy: 0.9083 - val_loss: 0.0945 - val_accuracy: 0.9825\n",
            "Epoch 8/25\n",
            "28/28 [==============================] - 30s 1s/step - loss: 0.2015 - accuracy: 0.9220 - val_loss: 0.1085 - val_accuracy: 0.9825\n",
            "Epoch 9/25\n",
            "28/28 [==============================] - 30s 1s/step - loss: 0.1565 - accuracy: 0.9266 - val_loss: 0.1401 - val_accuracy: 0.9649\n",
            "Epoch 10/25\n",
            "28/28 [==============================] - 30s 1s/step - loss: 0.2300 - accuracy: 0.8945 - val_loss: 0.0810 - val_accuracy: 0.9825\n",
            "Epoch 11/25\n",
            "28/28 [==============================] - 31s 1s/step - loss: 0.2160 - accuracy: 0.9450 - val_loss: 0.0762 - val_accuracy: 0.9825\n",
            "Epoch 12/25\n",
            "28/28 [==============================] - 31s 1s/step - loss: 0.2074 - accuracy: 0.9495 - val_loss: 0.1066 - val_accuracy: 0.9825\n",
            "Epoch 13/25\n",
            "28/28 [==============================] - 30s 1s/step - loss: 0.1934 - accuracy: 0.9128 - val_loss: 0.1638 - val_accuracy: 0.9298\n",
            "Epoch 14/25\n",
            "28/28 [==============================] - 30s 1s/step - loss: 0.1409 - accuracy: 0.9312 - val_loss: 0.0974 - val_accuracy: 0.9825\n",
            "Epoch 15/25\n",
            "28/28 [==============================] - 31s 1s/step - loss: 0.1110 - accuracy: 0.9541 - val_loss: 0.0520 - val_accuracy: 0.9825\n",
            "Epoch 16/25\n",
            "28/28 [==============================] - 30s 1s/step - loss: 0.1815 - accuracy: 0.9404 - val_loss: 0.1079 - val_accuracy: 0.9825\n",
            "Epoch 17/25\n",
            "28/28 [==============================] - 31s 1s/step - loss: 0.1590 - accuracy: 0.9375 - val_loss: 0.2079 - val_accuracy: 0.9123\n",
            "Epoch 18/25\n",
            "28/28 [==============================] - 30s 1s/step - loss: 0.1772 - accuracy: 0.9266 - val_loss: 0.0815 - val_accuracy: 0.9825\n",
            "Epoch 19/25\n",
            "28/28 [==============================] - 30s 1s/step - loss: 0.1256 - accuracy: 0.9495 - val_loss: 0.1175 - val_accuracy: 0.9825\n",
            "Epoch 20/25\n",
            "28/28 [==============================] - 30s 1s/step - loss: 0.1339 - accuracy: 0.9541 - val_loss: 0.0825 - val_accuracy: 0.9825\n",
            "Epoch 21/25\n",
            "28/28 [==============================] - 32s 1s/step - loss: 0.1278 - accuracy: 0.9358 - val_loss: 0.1658 - val_accuracy: 0.9649\n",
            "Epoch 22/25\n",
            "28/28 [==============================] - 30s 1s/step - loss: 0.1523 - accuracy: 0.9404 - val_loss: 0.0850 - val_accuracy: 0.9825\n",
            "Epoch 23/25\n",
            "28/28 [==============================] - 30s 1s/step - loss: 0.1003 - accuracy: 0.9495 - val_loss: 0.1443 - val_accuracy: 0.9298\n",
            "Epoch 24/25\n",
            "28/28 [==============================] - 30s 1s/step - loss: 0.1431 - accuracy: 0.9450 - val_loss: 0.0946 - val_accuracy: 0.9825\n",
            "Epoch 25/25\n",
            "28/28 [==============================] - 30s 1s/step - loss: 0.1197 - accuracy: 0.9404 - val_loss: 0.0792 - val_accuracy: 0.9825\n"
          ],
          "name": "stdout"
        }
      ]
    },
    {
      "cell_type": "code",
      "metadata": {
        "id": "fKRXslEGc5C4",
        "colab_type": "code",
        "colab": {
          "base_uri": "https://localhost:8080/",
          "height": 187
        },
        "outputId": "6e791997-7192-4043-ea10-e191e3af9e9c"
      },
      "source": [
        "# make predictions on the testing set\n",
        "print(\"[INFO] evaluating network...\")\n",
        "predIdxs = model.predict(testX, batch_size=BS)\n",
        "# for each image in the testing set we need to find the index of the\n",
        "# label with corresponding largest predicted probability\n",
        "predIdxs = np.argmax(predIdxs, axis=1)\n",
        "# show a nicely formatted classification report\n",
        "print(classification_report(testY.argmax(axis=1), predIdxs,\n",
        "\ttarget_names=lb.classes_))"
      ],
      "execution_count": 117,
      "outputs": [
        {
          "output_type": "stream",
          "text": [
            "[INFO] evaluating network...\n",
            "              precision    recall  f1-score   support\n",
            "\n",
            "    infected       1.00      0.96      0.98        23\n",
            "      normal       0.97      1.00      0.99        34\n",
            "\n",
            "    accuracy                           0.98        57\n",
            "   macro avg       0.99      0.98      0.98        57\n",
            "weighted avg       0.98      0.98      0.98        57\n",
            "\n"
          ],
          "name": "stdout"
        }
      ]
    },
    {
      "cell_type": "code",
      "metadata": {
        "id": "xT8F5lJic5SQ",
        "colab_type": "code",
        "colab": {
          "base_uri": "https://localhost:8080/",
          "height": 102
        },
        "outputId": "126d0340-414f-4b1b-f08c-47f1e6c24dbb"
      },
      "source": [
        "# compute the confusion matrix and and use it to derive the raw\n",
        "# accuracy, sensitivity, and specificity\n",
        "cm = confusion_matrix(testY.argmax(axis=1), predIdxs)\n",
        "total = sum(sum(cm))\n",
        "acc = (cm[0, 0] + cm[1, 1]) / total\n",
        "sensitivity = cm[0, 0] / (cm[0, 0] + cm[0, 1])\n",
        "specificity = cm[1, 1] / (cm[1, 0] + cm[1, 1])\n",
        "# show the confusion matrix, accuracy, sensitivity, and specificity\n",
        "print(cm)\n",
        "print(\"acc: {:.4f}\".format(acc))\n",
        "print(\"sensitivity: {:.4f}\".format(sensitivity))\n",
        "print(\"specificity: {:.4f}\".format(specificity))"
      ],
      "execution_count": 118,
      "outputs": [
        {
          "output_type": "stream",
          "text": [
            "[[22  1]\n",
            " [ 0 34]]\n",
            "acc: 0.9825\n",
            "sensitivity: 0.9565\n",
            "specificity: 1.0000\n"
          ],
          "name": "stdout"
        }
      ]
    },
    {
      "cell_type": "code",
      "metadata": {
        "id": "Tzvbf36nc70g",
        "colab_type": "code",
        "colab": {
          "base_uri": "https://localhost:8080/",
          "height": 316
        },
        "outputId": "ade1aa6d-85de-44c1-e9fe-cc3ab5d9f9cf"
      },
      "source": [
        "# plot the training loss and accuracy\n",
        "N = EPOCHS\n",
        "plt.style.use(\"ggplot\")\n",
        "plt.figure()\n",
        "plt.plot(np.arange(0, N), H.history[\"loss\"], label=\"train_loss\")\n",
        "plt.plot(np.arange(0, N), H.history[\"val_loss\"], label=\"val_loss\")\n",
        "plt.plot(np.arange(0, N), H.history[\"accuracy\"], label=\"train_acc\")\n",
        "plt.plot(np.arange(0, N), H.history[\"val_accuracy\"], label=\"val_acc\")\n",
        "plt.title(\"Training Loss and Accuracy on COVID-19 Dataset\")\n",
        "plt.xlabel(\"Epoch #\")\n",
        "plt.ylabel(\"Loss/Accuracy\")\n",
        "plt.legend(loc=\"lower left\")\n",
        "#plt.savefig(args[\"plot\"])"
      ],
      "execution_count": 119,
      "outputs": [
        {
          "output_type": "execute_result",
          "data": {
            "text/plain": [
              "<matplotlib.legend.Legend at 0x7fc9ad411470>"
            ]
          },
          "metadata": {
            "tags": []
          },
          "execution_count": 119
        },
        {
          "output_type": "display_data",
          "data": {
            "image/png": "[encoded data removed]",
            "text/plain": [
              "<Figure size 432x288 with 1 Axes>"
            ]
          },
          "metadata": {
            "tags": []
          }
        }
      ]
    },
    {
      "cell_type": "code",
      "metadata": {
        "id": "-19MuawCdBYx",
        "colab_type": "code",
        "colab": {
          "base_uri": "https://localhost:8080/",
          "height": 34
        },
        "outputId": "d8848df7-4b82-43ec-88c8-2f229d9ab046"
      },
      "source": [
        "#from IPython.display import Image\n",
        "#Image('/content/drive/My Drive/covid dataset/images/1-s2.0-S0929664620300449-gr2_lrg-a.jpg')\n",
        "image = cv2.imread('/content/drive/My Drive/covid dataset/images/1-s2.0-S0929664620300449-gr2_lrg-a.jpg')\n",
        "image = cv2.cvtColor(image, cv2.COLOR_BGR2RGB)\n",
        "image = cv2.resize(image, (224, 224))\n",
        "img=np.reshape(image,(1,224,224,3))\n",
        "model.predict(img)"
      ],
      "execution_count": 120,
      "outputs": [
        {
          "output_type": "execute_result",
          "data": {
            "text/plain": [
              "array([[1., 0.]], dtype=float32)"
            ]
          },
          "metadata": {
            "tags": []
          },
          "execution_count": 120
        }
      ]
    },
    {
      "cell_type": "markdown",
      "metadata": {
        "id": "jAY42ZPbdDXi",
        "colab_type": "text"
      },
      "source": [
        "END OF INCEPTION V3 MODEL"
      ]
    },
    {
      "cell_type": "markdown",
      "metadata": {
        "id": "SsSXM6dSftFc",
        "colab_type": "text"
      },
      "source": [
        "RESNET50"
      ]
    },
    {
      "cell_type": "code",
      "metadata": {
        "id": "0yI22YPLj5hm",
        "colab_type": "code",
        "colab": {}
      },
      "source": [
        "from tensorflow.keras.applications.resnet50 import ResNet50\n",
        "from tensorflow.keras.preprocessing import image\n",
        "from tensorflow.keras.applications.resnet50 import preprocess_input, decode_predictions\n",
        "import numpy as np"
      ],
      "execution_count": 0,
      "outputs": []
    },
    {
      "cell_type": "code",
      "metadata": {
        "id": "3ZrRNyxKfuBh",
        "colab_type": "code",
        "colab": {}
      },
      "source": [
        "res = ResNet50(weights=\"imagenet\", include_top=False, input_tensor=Input(shape=(224, 224, 3)))\n",
        "outputs = res.output\n",
        "outputs = Flatten(name=\"flatten\")(outputs)\n",
        "outputs = Dropout(0.5)(outputs)\n",
        "outputs = Dense(2, activation=\"softmax\")(outputs)\n",
        "model = Model(inputs=res.input, outputs=outputs)\n",
        "for layer in res.layers:\n",
        "  layer.trainable = False\n"
      ],
      "execution_count": 0,
      "outputs": []
    },
    {
      "cell_type": "code",
      "metadata": {
        "id": "DPkggCNfgNYe",
        "colab_type": "code",
        "colab": {}
      },
      "source": [
        "model_chkpt = ModelCheckpoint('best_mod.h5', save_best_only=True, monitor='accuracy')\n",
        "early_stopping = EarlyStopping(monitor='loss', restore_best_weights=False, patience=10)"
      ],
      "execution_count": 0,
      "outputs": []
    },
    {
      "cell_type": "code",
      "metadata": {
        "id": "txGXT93DgR2-",
        "colab_type": "code",
        "colab": {
          "base_uri": "https://localhost:8080/",
          "height": 921
        },
        "outputId": "cc74d14c-5ecc-4976-c545-c3c16e04cd3f"
      },
      "source": [
        "# initialize the initial learning rate, number of epochs to train for,\n",
        "# and batch size\n",
        "INIT_LR = 1e-3\n",
        "EPOCHS = 25\n",
        "BS = 8\n",
        "# compile our model\n",
        "print(\"[INFO] compiling model...\")\n",
        "opt = Adam(lr=INIT_LR, decay=INIT_LR / EPOCHS)\n",
        "model.compile(loss=\"binary_crossentropy\", optimizer=opt,\n",
        "\tmetrics=[\"accuracy\"])\n",
        "# train the head of the network\n",
        "print(\"[INFO] training head...\")\n",
        "H = model.fit_generator(\n",
        "\ttrainAug.flow(trainX, trainY, batch_size=BS),\n",
        "\tsteps_per_epoch=len(trainX) // BS,\n",
        "\tvalidation_data=(testX, testY),\n",
        "\tvalidation_steps=len(testX) // BS,\n",
        "\tepochs=EPOCHS,callbacks=[early_stopping,model_chkpt])"
      ],
      "execution_count": 31,
      "outputs": [
        {
          "output_type": "stream",
          "text": [
            "[INFO] compiling model...\n",
            "[INFO] training head...\n",
            "Epoch 1/25\n",
            "28/28 [==============================] - 47s 2s/step - loss: 1.5284 - accuracy: 0.6239 - val_loss: 0.4646 - val_accuracy: 0.7544\n",
            "Epoch 2/25\n",
            "28/28 [==============================] - 43s 2s/step - loss: 0.9635 - accuracy: 0.6835 - val_loss: 0.2972 - val_accuracy: 0.8596\n",
            "Epoch 3/25\n",
            "28/28 [==============================] - 43s 2s/step - loss: 0.8337 - accuracy: 0.7477 - val_loss: 0.1387 - val_accuracy: 0.9474\n",
            "Epoch 4/25\n",
            "28/28 [==============================] - 43s 2s/step - loss: 0.9496 - accuracy: 0.7661 - val_loss: 0.1713 - val_accuracy: 0.9298\n",
            "Epoch 5/25\n",
            "28/28 [==============================] - 42s 2s/step - loss: 1.6670 - accuracy: 0.6514 - val_loss: 0.1460 - val_accuracy: 0.9298\n",
            "Epoch 6/25\n",
            "28/28 [==============================] - 43s 2s/step - loss: 1.1465 - accuracy: 0.7569 - val_loss: 0.1982 - val_accuracy: 0.9298\n",
            "Epoch 7/25\n",
            "28/28 [==============================] - 43s 2s/step - loss: 0.6226 - accuracy: 0.8349 - val_loss: 0.1614 - val_accuracy: 0.9298\n",
            "Epoch 8/25\n",
            "28/28 [==============================] - 43s 2s/step - loss: 0.7417 - accuracy: 0.8211 - val_loss: 0.1215 - val_accuracy: 0.9474\n",
            "Epoch 9/25\n",
            "28/28 [==============================] - 43s 2s/step - loss: 0.8312 - accuracy: 0.7844 - val_loss: 0.5956 - val_accuracy: 0.7719\n",
            "Epoch 10/25\n",
            "28/28 [==============================] - 43s 2s/step - loss: 0.5591 - accuracy: 0.8578 - val_loss: 1.1682 - val_accuracy: 0.6667\n",
            "Epoch 11/25\n",
            "28/28 [==============================] - 42s 2s/step - loss: 0.9386 - accuracy: 0.7661 - val_loss: 0.2398 - val_accuracy: 0.8947\n",
            "Epoch 12/25\n",
            "28/28 [==============================] - 42s 2s/step - loss: 0.8881 - accuracy: 0.8257 - val_loss: 0.0942 - val_accuracy: 0.9649\n",
            "Epoch 13/25\n",
            "28/28 [==============================] - 42s 2s/step - loss: 0.8407 - accuracy: 0.8073 - val_loss: 0.1058 - val_accuracy: 0.9298\n",
            "Epoch 14/25\n",
            "28/28 [==============================] - 42s 2s/step - loss: 0.7078 - accuracy: 0.8349 - val_loss: 0.3329 - val_accuracy: 0.8947\n",
            "Epoch 15/25\n",
            "28/28 [==============================] - 46s 2s/step - loss: 0.5953 - accuracy: 0.8716 - val_loss: 0.0611 - val_accuracy: 0.9649\n",
            "Epoch 16/25\n",
            "28/28 [==============================] - 43s 2s/step - loss: 0.4810 - accuracy: 0.8527 - val_loss: 0.4327 - val_accuracy: 0.8246\n",
            "Epoch 17/25\n",
            "28/28 [==============================] - 42s 2s/step - loss: 0.6185 - accuracy: 0.7844 - val_loss: 0.0984 - val_accuracy: 0.9474\n",
            "Epoch 18/25\n",
            "28/28 [==============================] - 42s 2s/step - loss: 0.5658 - accuracy: 0.8532 - val_loss: 0.1911 - val_accuracy: 0.9298\n",
            "Epoch 19/25\n",
            "28/28 [==============================] - 42s 2s/step - loss: 0.6176 - accuracy: 0.8440 - val_loss: 0.0838 - val_accuracy: 0.9649\n",
            "Epoch 20/25\n",
            "28/28 [==============================] - 42s 2s/step - loss: 0.4579 - accuracy: 0.8899 - val_loss: 0.6469 - val_accuracy: 0.7895\n",
            "Epoch 21/25\n",
            "28/28 [==============================] - 42s 2s/step - loss: 1.0636 - accuracy: 0.7936 - val_loss: 0.1787 - val_accuracy: 0.9298\n",
            "Epoch 22/25\n",
            "28/28 [==============================] - 42s 2s/step - loss: 0.7575 - accuracy: 0.8394 - val_loss: 0.2478 - val_accuracy: 0.8947\n",
            "Epoch 23/25\n",
            "28/28 [==============================] - 42s 2s/step - loss: 0.9376 - accuracy: 0.8028 - val_loss: 0.3688 - val_accuracy: 0.9123\n",
            "Epoch 24/25\n",
            "28/28 [==============================] - 42s 2s/step - loss: 0.8503 - accuracy: 0.8394 - val_loss: 0.0503 - val_accuracy: 0.9649\n",
            "Epoch 25/25\n",
            "28/28 [==============================] - 42s 2s/step - loss: 0.5095 - accuracy: 0.8899 - val_loss: 0.0624 - val_accuracy: 0.9825\n"
          ],
          "name": "stdout"
        }
      ]
    },
    {
      "cell_type": "code",
      "metadata": {
        "id": "rbmzdniGgSZH",
        "colab_type": "code",
        "colab": {
          "base_uri": "https://localhost:8080/",
          "height": 187
        },
        "outputId": "7c7bc54c-4e1e-4946-de94-7fc4cc1e70d6"
      },
      "source": [
        "# make predictions on the testing set\n",
        "print(\"[INFO] evaluating network...\")\n",
        "predIdxs = model.predict(testX, batch_size=BS)\n",
        "# for each image in the testing set we need to find the index of the\n",
        "# label with corresponding largest predicted probability\n",
        "predIdxs = np.argmax(predIdxs, axis=1)\n",
        "# show a nicely formatted classification report\n",
        "print(classification_report(testY.argmax(axis=1), predIdxs,\n",
        "\ttarget_names=lb.classes_))"
      ],
      "execution_count": 32,
      "outputs": [
        {
          "output_type": "stream",
          "text": [
            "[INFO] evaluating network...\n",
            "              precision    recall  f1-score   support\n",
            "\n",
            "    infected       1.00      0.96      0.98        23\n",
            "      normal       0.97      1.00      0.99        34\n",
            "\n",
            "    accuracy                           0.98        57\n",
            "   macro avg       0.99      0.98      0.98        57\n",
            "weighted avg       0.98      0.98      0.98        57\n",
            "\n"
          ],
          "name": "stdout"
        }
      ]
    },
    {
      "cell_type": "code",
      "metadata": {
        "id": "QxLRBVl38AFD",
        "colab_type": "code",
        "colab": {}
      },
      "source": [
        ""
      ],
      "execution_count": 0,
      "outputs": []
    },
    {
      "cell_type": "code",
      "metadata": {
        "id": "YVFlYMmdgY-p",
        "colab_type": "code",
        "colab": {
          "base_uri": "https://localhost:8080/",
          "height": 102
        },
        "outputId": "eb004480-b780-4d4f-9b84-200fb5d2a4c8"
      },
      "source": [
        "# compute the confusion matrix and and use it to derive the raw\n",
        "# accuracy, sensitivity, and specificity\n",
        "cm = confusion_matrix(testY.argmax(axis=1), predIdxs)\n",
        "total = sum(sum(cm))\n",
        "acc = (cm[0, 0] + cm[1, 1]) / total\n",
        "sensitivity = cm[0, 0] / (cm[0, 0] + cm[0, 1])\n",
        "specificity = cm[1, 1] / (cm[1, 0] + cm[1, 1])\n",
        "# show the confusion matrix, accuracy, sensitivity, and specificity\n",
        "print(cm)\n",
        "print(\"acc: {:.4f}\".format(acc))\n",
        "print(\"sensitivity: {:.4f}\".format(sensitivity))\n",
        "print(\"specificity: {:.4f}\".format(specificity))"
      ],
      "execution_count": 33,
      "outputs": [
        {
          "output_type": "stream",
          "text": [
            "[[22  1]\n",
            " [ 0 34]]\n",
            "acc: 0.9825\n",
            "sensitivity: 0.9565\n",
            "specificity: 1.0000\n"
          ],
          "name": "stdout"
        }
      ]
    },
    {
      "cell_type": "code",
      "metadata": {
        "id": "z-WZIo0hgZrx",
        "colab_type": "code",
        "colab": {
          "base_uri": "https://localhost:8080/",
          "height": 316
        },
        "outputId": "c8fc3be1-91e5-4d6d-f32b-63889f93627b"
      },
      "source": [
        "# plot the training loss and accuracy\n",
        "N = EPOCHS\n",
        "plt.style.use(\"ggplot\")\n",
        "plt.figure()\n",
        "plt.plot(np.arange(0, EPOCHS), H.history[\"loss\"], label=\"train_loss\")\n",
        "plt.plot(np.arange(0, EPOCHS), H.history[\"val_loss\"], label=\"val_loss\")\n",
        "plt.plot(np.arange(0, EPOCHS), H.history[\"accuracy\"], label=\"train_acc\")\n",
        "plt.plot(np.arange(0, EPOCHS), H.history[\"val_accuracy\"], label=\"val_acc\")\n",
        "plt.title(\"Training Loss and Accuracy on COVID-19 Dataset\")\n",
        "plt.xlabel(\"Epoch #\")\n",
        "plt.ylabel(\"Loss/Accuracy\")\n",
        "plt.legend(loc=\"lower left\")\n",
        "#plt.savefig(args[\"plot\"])"
      ],
      "execution_count": 36,
      "outputs": [
        {
          "output_type": "execute_result",
          "data": {
            "text/plain": [
              "<matplotlib.legend.Legend at 0x7fef68c70cc0>"
            ]
          },
          "metadata": {
            "tags": []
          },
          "execution_count": 36
        },
        {
          "output_type": "display_data",
          "data": {
            "image/png": "[encoded data removed]",
            "text/plain": [
              "<Figure size 432x288 with 1 Axes>"
            ]
          },
          "metadata": {
            "tags": []
          }
        }
      ]
    },
    {
      "cell_type": "code",
      "metadata": {
        "id": "W5ywfc6agc4a",
        "colab_type": "code",
        "colab": {
          "base_uri": "https://localhost:8080/",
          "height": 34
        },
        "outputId": "23eec1f2-7a6e-49b9-e286-2b14e527ff35"
      },
      "source": [
        "#from IPython.display import Image\n",
        "#Image('/content/drive/My Drive/covid dataset/images/1-s2.0-S0929664620300449-gr2_lrg-a.jpg')\n",
        "image = cv2.imread('/content/drive/My Drive/covid dataset/images/1-s2.0-S0929664620300449-gr2_lrg-a.jpg')\n",
        "image = cv2.cvtColor(image, cv2.COLOR_BGR2RGB)\n",
        "image = cv2.resize(image, (224, 224))\n",
        "img=np.reshape(image,(1,224,224,3))\n",
        "model.predict(img)"
      ],
      "execution_count": 37,
      "outputs": [
        {
          "output_type": "execute_result",
          "data": {
            "text/plain": [
              "array([[1.0000000e+00, 1.8303844e-31]], dtype=float32)"
            ]
          },
          "metadata": {
            "tags": []
          },
          "execution_count": 37
        }
      ]
    },
    {
      "cell_type": "markdown",
      "metadata": {
        "id": "Ft88CA452B6A",
        "colab_type": "text"
      },
      "source": [
        "END OF RESNET50\n"
      ]
    },
    {
      "cell_type": "markdown",
      "metadata": {
        "id": "Zg4FJOaj9dz0",
        "colab_type": "text"
      },
      "source": [
        "MOBILENET BY GOOGLE\n"
      ]
    },
    {
      "cell_type": "code",
      "metadata": {
        "id": "WLhmbVH_9c4H",
        "colab_type": "code",
        "colab": {}
      },
      "source": [
        ""
      ],
      "execution_count": 0,
      "outputs": []
    },
    {
      "cell_type": "code",
      "metadata": {
        "id": "_aNwGE8r2D83",
        "colab_type": "code",
        "colab": {}
      },
      "source": [
        "import tensorflow as tf"
      ],
      "execution_count": 0,
      "outputs": []
    },
    {
      "cell_type": "code",
      "metadata": {
        "id": "Y8NH1Yjm3a49",
        "colab_type": "code",
        "colab": {}
      },
      "source": [
        "IMG_SHAPE = (224,224,3)\n",
        "\n",
        "# Create the base model from the pre-trained model MobileNet V2\n",
        "baseModel = tf.keras.applications.MobileNetV2(input_shape=IMG_SHAPE,\n",
        "                                               include_top=False,\n",
        "                                               weights='imagenet')\n",
        "headModel = baseModel.output\n",
        "headModel = AveragePooling2D(pool_size=(4, 4))(headModel)\n",
        "headModel = Dropout(0.5)(headModel)\n",
        "headModel = Flatten(name=\"flatten\")(headModel)\n",
        "headModel = Dense(64, activation=\"relu\")(headModel)\n",
        "headModel = Dropout(0.5)(headModel)\n",
        "headModel = Dense(2, activation=\"softmax\")(headModel)\n",
        "\n",
        "\n",
        "model= Model(inputs=baseModel.input, outputs=headModel)\n",
        "\n",
        "for layer in baseModel.layers:\n",
        "    layer.trainable = False\n"
      ],
      "execution_count": 0,
      "outputs": []
    },
    {
      "cell_type": "code",
      "metadata": {
        "id": "5_ORza4y3it6",
        "colab_type": "code",
        "colab": {}
      },
      "source": [
        "model_chkpt = ModelCheckpoint('best_mod.h5', save_best_only=True, monitor='accuracy')\n",
        "early_stopping = EarlyStopping(monitor='loss', restore_best_weights=False, patience=10)"
      ],
      "execution_count": 0,
      "outputs": []
    },
    {
      "cell_type": "code",
      "metadata": {
        "id": "_-2zEyzK3jHr",
        "colab_type": "code",
        "colab": {
          "base_uri": "https://localhost:8080/",
          "height": 921
        },
        "outputId": "dc4f8919-9798-451e-86aa-71e440238677"
      },
      "source": [
        "# initialize the initial learning rate, number of epochs to train for,\n",
        "# and batch size\n",
        "INIT_LR = 1e-3\n",
        "EPOCHS = 25\n",
        "BS = 8\n",
        "# compile our model\n",
        "print(\"[INFO] compiling model...\")\n",
        "opt = Adam(lr=INIT_LR, decay=INIT_LR / EPOCHS)\n",
        "model.compile(loss=\"binary_crossentropy\", optimizer=opt,\n",
        "\tmetrics=[\"accuracy\"])\n",
        "# train the head of the network\n",
        "print(\"[INFO] training head...\")\n",
        "H = model.fit_generator(\n",
        "\ttrainAug.flow(trainX, trainY, batch_size=BS),\n",
        "\tsteps_per_epoch=len(trainX) // BS,\n",
        "\tvalidation_data=(testX, testY),\n",
        "\tvalidation_steps=len(testX) // BS,\n",
        "\tepochs=EPOCHS,callbacks=[early_stopping,model_chkpt])"
      ],
      "execution_count": 53,
      "outputs": [
        {
          "output_type": "stream",
          "text": [
            "[INFO] compiling model...\n",
            "[INFO] training head...\n",
            "Epoch 1/25\n",
            "28/28 [==============================] - 14s 486ms/step - loss: 1.1607 - accuracy: 0.6697 - val_loss: 0.2266 - val_accuracy: 0.8772\n",
            "Epoch 2/25\n",
            "28/28 [==============================] - 12s 432ms/step - loss: 0.3905 - accuracy: 0.8486 - val_loss: 0.1526 - val_accuracy: 0.9298\n",
            "Epoch 3/25\n",
            "28/28 [==============================] - 12s 432ms/step - loss: 0.3341 - accuracy: 0.8670 - val_loss: 0.1975 - val_accuracy: 0.8947\n",
            "Epoch 4/25\n",
            "28/28 [==============================] - 12s 415ms/step - loss: 0.2340 - accuracy: 0.8853 - val_loss: 0.1659 - val_accuracy: 0.8947\n",
            "Epoch 5/25\n",
            "28/28 [==============================] - 12s 434ms/step - loss: 0.2343 - accuracy: 0.9083 - val_loss: 0.1589 - val_accuracy: 0.9123\n",
            "Epoch 6/25\n",
            "28/28 [==============================] - 12s 421ms/step - loss: 0.2124 - accuracy: 0.8991 - val_loss: 0.1285 - val_accuracy: 0.9649\n",
            "Epoch 7/25\n",
            "28/28 [==============================] - 12s 419ms/step - loss: 0.2417 - accuracy: 0.9037 - val_loss: 0.1696 - val_accuracy: 0.9123\n",
            "Epoch 8/25\n",
            "28/28 [==============================] - 12s 432ms/step - loss: 0.1846 - accuracy: 0.9266 - val_loss: 0.1526 - val_accuracy: 0.9298\n",
            "Epoch 9/25\n",
            "28/28 [==============================] - 12s 423ms/step - loss: 0.1738 - accuracy: 0.9266 - val_loss: 0.1268 - val_accuracy: 0.9298\n",
            "Epoch 10/25\n",
            "28/28 [==============================] - 12s 427ms/step - loss: 0.1576 - accuracy: 0.9312 - val_loss: 0.1277 - val_accuracy: 0.9298\n",
            "Epoch 11/25\n",
            "28/28 [==============================] - 12s 416ms/step - loss: 0.1731 - accuracy: 0.9358 - val_loss: 0.1096 - val_accuracy: 0.9649\n",
            "Epoch 12/25\n",
            "28/28 [==============================] - 12s 425ms/step - loss: 0.1598 - accuracy: 0.9495 - val_loss: 0.1263 - val_accuracy: 0.9298\n",
            "Epoch 13/25\n",
            "28/28 [==============================] - 12s 426ms/step - loss: 0.1577 - accuracy: 0.9450 - val_loss: 0.1266 - val_accuracy: 0.9474\n",
            "Epoch 14/25\n",
            "28/28 [==============================] - 12s 425ms/step - loss: 0.1286 - accuracy: 0.9312 - val_loss: 0.1117 - val_accuracy: 0.9298\n",
            "Epoch 15/25\n",
            "28/28 [==============================] - 12s 431ms/step - loss: 0.1293 - accuracy: 0.9358 - val_loss: 0.1186 - val_accuracy: 0.9298\n",
            "Epoch 16/25\n",
            "28/28 [==============================] - 12s 430ms/step - loss: 0.1158 - accuracy: 0.9541 - val_loss: 0.1172 - val_accuracy: 0.9474\n",
            "Epoch 17/25\n",
            "28/28 [==============================] - 16s 575ms/step - loss: 0.1528 - accuracy: 0.9404 - val_loss: 0.1209 - val_accuracy: 0.9298\n",
            "Epoch 18/25\n",
            "28/28 [==============================] - 12s 442ms/step - loss: 0.2140 - accuracy: 0.9128 - val_loss: 0.0871 - val_accuracy: 0.9474\n",
            "Epoch 19/25\n",
            "28/28 [==============================] - 13s 448ms/step - loss: 0.0825 - accuracy: 0.9771 - val_loss: 0.0900 - val_accuracy: 0.9474\n",
            "Epoch 20/25\n",
            "28/28 [==============================] - 12s 445ms/step - loss: 0.1208 - accuracy: 0.9404 - val_loss: 0.1072 - val_accuracy: 0.9298\n",
            "Epoch 21/25\n",
            "28/28 [==============================] - 12s 412ms/step - loss: 0.1331 - accuracy: 0.9358 - val_loss: 0.0962 - val_accuracy: 0.9474\n",
            "Epoch 22/25\n",
            "28/28 [==============================] - 12s 418ms/step - loss: 0.1200 - accuracy: 0.9541 - val_loss: 0.1359 - val_accuracy: 0.9474\n",
            "Epoch 23/25\n",
            "28/28 [==============================] - 12s 415ms/step - loss: 0.1633 - accuracy: 0.9358 - val_loss: 0.0984 - val_accuracy: 0.9649\n",
            "Epoch 24/25\n",
            "28/28 [==============================] - 11s 407ms/step - loss: 0.0980 - accuracy: 0.9541 - val_loss: 0.0920 - val_accuracy: 0.9474\n",
            "Epoch 25/25\n",
            "28/28 [==============================] - 12s 411ms/step - loss: 0.1451 - accuracy: 0.9495 - val_loss: 0.0691 - val_accuracy: 0.9649\n"
          ],
          "name": "stdout"
        }
      ]
    },
    {
      "cell_type": "code",
      "metadata": {
        "id": "nFvJO2Oc8BKs",
        "colab_type": "code",
        "colab": {
          "base_uri": "https://localhost:8080/",
          "height": 187
        },
        "outputId": "fd6850d5-c0ce-49d1-84e5-14b6c2438cc5"
      },
      "source": [
        "# make predictions on the testing set\n",
        "print(\"[INFO] evaluating network...\")\n",
        "predIdxs = model.predict(testX, batch_size=BS)\n",
        "# for each image in the testing set we need to find the index of the\n",
        "# label with corresponding largest predicted probability\n",
        "predIdxs = np.argmax(predIdxs, axis=1)\n",
        "# show a nicely formatted classification report\n",
        "print(classification_report(testY.argmax(axis=1), predIdxs,\n",
        "\ttarget_names=lb.classes_))"
      ],
      "execution_count": 54,
      "outputs": [
        {
          "output_type": "stream",
          "text": [
            "[INFO] evaluating network...\n",
            "              precision    recall  f1-score   support\n",
            "\n",
            "    infected       0.96      0.96      0.96        23\n",
            "      normal       0.97      0.97      0.97        34\n",
            "\n",
            "    accuracy                           0.96        57\n",
            "   macro avg       0.96      0.96      0.96        57\n",
            "weighted avg       0.96      0.96      0.96        57\n",
            "\n"
          ],
          "name": "stdout"
        }
      ]
    },
    {
      "cell_type": "code",
      "metadata": {
        "id": "g-GuP2p_8BjR",
        "colab_type": "code",
        "colab": {
          "base_uri": "https://localhost:8080/",
          "height": 102
        },
        "outputId": "28b2eee0-7821-4484-b427-94807c725cfb"
      },
      "source": [
        "# compute the confusion matrix and and use it to derive the raw\n",
        "# accuracy, sensitivity, and specificity\n",
        "cm = confusion_matrix(testY.argmax(axis=1), predIdxs)\n",
        "total = sum(sum(cm))\n",
        "acc = (cm[0, 0] + cm[1, 1]) / total\n",
        "sensitivity = cm[0, 0] / (cm[0, 0] + cm[0, 1])\n",
        "specificity = cm[1, 1] / (cm[1, 0] + cm[1, 1])\n",
        "# show the confusion matrix, accuracy, sensitivity, and specificity\n",
        "print(cm)\n",
        "print(\"acc: {:.4f}\".format(acc))\n",
        "print(\"sensitivity: {:.4f}\".format(sensitivity))\n",
        "print(\"specificity: {:.4f}\".format(specificity))"
      ],
      "execution_count": 55,
      "outputs": [
        {
          "output_type": "stream",
          "text": [
            "[[22  1]\n",
            " [ 1 33]]\n",
            "acc: 0.9649\n",
            "sensitivity: 0.9565\n",
            "specificity: 0.9706\n"
          ],
          "name": "stdout"
        }
      ]
    },
    {
      "cell_type": "code",
      "metadata": {
        "id": "ijp-t2158Du_",
        "colab_type": "code",
        "colab": {
          "base_uri": "https://localhost:8080/",
          "height": 316
        },
        "outputId": "437f1af8-3ca0-4ed0-c2b1-e47d543bcd27"
      },
      "source": [
        "# plot the training loss and accuracy\n",
        "N = EPOCHS\n",
        "plt.style.use(\"ggplot\")\n",
        "plt.figure()\n",
        "plt.plot(np.arange(0, EPOCHS), H.history[\"loss\"], label=\"train_loss\")\n",
        "plt.plot(np.arange(0, EPOCHS), H.history[\"val_loss\"], label=\"val_loss\")\n",
        "plt.plot(np.arange(0, EPOCHS), H.history[\"accuracy\"], label=\"train_acc\")\n",
        "plt.plot(np.arange(0, EPOCHS), H.history[\"val_accuracy\"], label=\"val_acc\")\n",
        "plt.title(\"Training Loss and Accuracy on COVID-19 Dataset\")\n",
        "plt.xlabel(\"Epoch #\")\n",
        "plt.ylabel(\"Loss/Accuracy\")\n",
        "plt.legend(loc=\"lower left\")\n",
        "#plt.savefig(args[\"plot\"])"
      ],
      "execution_count": 56,
      "outputs": [
        {
          "output_type": "execute_result",
          "data": {
            "text/plain": [
              "<matplotlib.legend.Legend at 0x7fef6612d2b0>"
            ]
          },
          "metadata": {
            "tags": []
          },
          "execution_count": 56
        },
        {
          "output_type": "display_data",
          "data": {
            "image/png": "[encoded data removed]",
            "text/plain": [
              "<Figure size 432x288 with 1 Axes>"
            ]
          },
          "metadata": {
            "tags": []
          }
        }
      ]
    },
    {
      "cell_type": "code",
      "metadata": {
        "id": "RWOFEI7e8G5f",
        "colab_type": "code",
        "colab": {
          "base_uri": "https://localhost:8080/",
          "height": 34
        },
        "outputId": "dbdfdde9-2de8-4831-93fc-ac8f4af9fc05"
      },
      "source": [
        "#from IPython.display import Image\n",
        "#Image('/content/drive/My Drive/covid dataset/images/1-s2.0-S0929664620300449-gr2_lrg-a.jpg')\n",
        "image = cv2.imread('/content/drive/My Drive/covid dataset/images/1-s2.0-S0929664620300449-gr2_lrg-a.jpg')\n",
        "image = cv2.cvtColor(image, cv2.COLOR_BGR2RGB)\n",
        "image = cv2.resize(image, (224, 224))\n",
        "img=np.reshape(image,(1,224,224,3))\n",
        "model.predict(img)"
      ],
      "execution_count": 57,
      "outputs": [
        {
          "output_type": "execute_result",
          "data": {
            "text/plain": [
              "array([[9.990055e-01, 9.945201e-04]], dtype=float32)"
            ]
          },
          "metadata": {
            "tags": []
          },
          "execution_count": 57
        }
      ]
    },
    {
      "cell_type": "markdown",
      "metadata": {
        "id": "4RYRM_RO9io3",
        "colab_type": "text"
      },
      "source": [
        "END OF MOBILENET\n"
      ]
    },
    {
      "cell_type": "markdown",
      "metadata": {
        "id": "VqWVIE7U-nuJ",
        "colab_type": "text"
      },
      "source": [
        "NASNetlarge"
      ]
    },
    {
      "cell_type": "code",
      "metadata": {
        "id": "3wDXu4tP-n6o",
        "colab_type": "code",
        "colab": {}
      },
      "source": [
        "from tensorflow.keras.applications.nasnet import NASNetLarge\n"
      ],
      "execution_count": 0,
      "outputs": []
    },
    {
      "cell_type": "code",
      "metadata": {
        "id": "mAje_RwZ9kFo",
        "colab_type": "code",
        "colab": {
          "base_uri": "https://localhost:8080/",
          "height": 71
        },
        "outputId": "d770fbbc-7159-4605-c7da-63015922ca25"
      },
      "source": [
        "IMG_SHAPE = (224,224,3)\n",
        "\n",
        "# Create the base model from the pre-trained model MobileNet V2\n",
        "baseModel = tf.keras.applications.NASNetLarge(include_top=False,weights='imagenet',input_tensor=Input(shape=(224, 224, 3)))\n",
        "headModel = baseModel.output\n",
        "headModel = AveragePooling2D(pool_size=(4, 4))(headModel)\n",
        "headModel = Dropout(0.5)(headModel)\n",
        "headModel = Flatten(name=\"flatten\")(headModel)\n",
        "headModel = Dense(64, activation=\"relu\")(headModel)\n",
        "headModel = Dropout(0.5)(headModel)\n",
        "headModel = Dense(2, activation=\"softmax\")(headModel)\n",
        "\n",
        "\n",
        "model= Model(inputs=baseModel.input, outputs=headModel)\n",
        "\n",
        "for layer in baseModel.layers:\n",
        "    layer.trainable = False\n"
      ],
      "execution_count": 64,
      "outputs": [
        {
          "output_type": "stream",
          "text": [
            "Downloading data from https://storage.googleapis.com/tensorflow/keras-applications/nasnet/NASNet-large-no-top.h5\n",
            "343613440/343610240 [==============================] - 5s 0us/step\n"
          ],
          "name": "stdout"
        }
      ]
    },
    {
      "cell_type": "code",
      "metadata": {
        "id": "tbLXxzt8CiIc",
        "colab_type": "code",
        "colab": {
          "base_uri": "https://localhost:8080/",
          "height": 921
        },
        "outputId": "f6738ae9-254b-4a28-d0c9-1ac39a632e50"
      },
      "source": [
        "model_chkpt = ModelCheckpoint('best_mod.h5', save_best_only=True, monitor='accuracy')\n",
        "early_stopping = EarlyStopping(monitor='loss', restore_best_weights=False, patience=10)\n",
        "\n",
        "# initialize the initial learning rate, number of epochs to train for,\n",
        "# and batch size\n",
        "INIT_LR = 1e-3\n",
        "EPOCHS = 25\n",
        "BS = 8\n",
        "# compile our model\n",
        "print(\"[INFO] compiling model...\")\n",
        "opt = Adam(lr=INIT_LR, decay=INIT_LR / EPOCHS)\n",
        "model.compile(loss=\"binary_crossentropy\", optimizer=opt,\n",
        "\tmetrics=[\"accuracy\"])\n",
        "# train the head of the network\n",
        "print(\"[INFO] training head...\")\n",
        "H = model.fit_generator(\n",
        "\ttrainAug.flow(trainX, trainY, batch_size=BS),\n",
        "\tsteps_per_epoch=len(trainX) // BS,\n",
        "\tvalidation_data=(testX, testY),\n",
        "\tvalidation_steps=len(testX) // BS,\n",
        "\tepochs=EPOCHS,callbacks=[early_stopping,model_chkpt])"
      ],
      "execution_count": 65,
      "outputs": [
        {
          "output_type": "stream",
          "text": [
            "[INFO] compiling model...\n",
            "[INFO] training head...\n",
            "Epoch 1/25\n",
            "28/28 [==============================] - 161s 6s/step - loss: 0.6139 - accuracy: 0.7890 - val_loss: 0.2980 - val_accuracy: 0.9123\n",
            "Epoch 2/25\n",
            "28/28 [==============================] - 158s 6s/step - loss: 0.3930 - accuracy: 0.8945 - val_loss: 0.1066 - val_accuracy: 0.9649\n",
            "Epoch 3/25\n",
            "28/28 [==============================] - 157s 6s/step - loss: 0.1934 - accuracy: 0.9266 - val_loss: 0.1753 - val_accuracy: 0.9649\n",
            "Epoch 4/25\n",
            "28/28 [==============================] - 157s 6s/step - loss: 0.1592 - accuracy: 0.9495 - val_loss: 0.0945 - val_accuracy: 0.9825\n",
            "Epoch 5/25\n",
            "28/28 [==============================] - 154s 6s/step - loss: 0.2368 - accuracy: 0.8945 - val_loss: 0.0685 - val_accuracy: 0.9825\n",
            "Epoch 6/25\n",
            "28/28 [==============================] - 157s 6s/step - loss: 0.1458 - accuracy: 0.9450 - val_loss: 0.0939 - val_accuracy: 0.9825\n",
            "Epoch 7/25\n",
            "28/28 [==============================] - 156s 6s/step - loss: 0.1358 - accuracy: 0.9679 - val_loss: 0.0852 - val_accuracy: 0.9474\n",
            "Epoch 8/25\n",
            "28/28 [==============================] - 155s 6s/step - loss: 0.1166 - accuracy: 0.9541 - val_loss: 0.0832 - val_accuracy: 0.9825\n",
            "Epoch 9/25\n",
            "28/28 [==============================] - 155s 6s/step - loss: 0.0981 - accuracy: 0.9679 - val_loss: 0.1009 - val_accuracy: 0.9825\n",
            "Epoch 10/25\n",
            "28/28 [==============================] - 157s 6s/step - loss: 0.1598 - accuracy: 0.9495 - val_loss: 0.1033 - val_accuracy: 0.9825\n",
            "Epoch 11/25\n",
            "28/28 [==============================] - 154s 5s/step - loss: 0.1008 - accuracy: 0.9541 - val_loss: 0.0452 - val_accuracy: 1.0000\n",
            "Epoch 12/25\n",
            "28/28 [==============================] - 154s 5s/step - loss: 0.0898 - accuracy: 0.9679 - val_loss: 0.0673 - val_accuracy: 0.9825\n",
            "Epoch 13/25\n",
            "28/28 [==============================] - 154s 5s/step - loss: 0.2262 - accuracy: 0.9220 - val_loss: 0.1212 - val_accuracy: 0.9649\n",
            "Epoch 14/25\n",
            "28/28 [==============================] - 159s 6s/step - loss: 0.1033 - accuracy: 0.9633 - val_loss: 0.1177 - val_accuracy: 0.9649\n",
            "Epoch 15/25\n",
            "28/28 [==============================] - 154s 6s/step - loss: 0.0697 - accuracy: 0.9725 - val_loss: 0.1064 - val_accuracy: 0.9825\n",
            "Epoch 16/25\n",
            "28/28 [==============================] - 153s 5s/step - loss: 0.0706 - accuracy: 0.9725 - val_loss: 0.0758 - val_accuracy: 0.9474\n",
            "Epoch 17/25\n",
            "28/28 [==============================] - 155s 6s/step - loss: 0.1435 - accuracy: 0.9450 - val_loss: 0.0598 - val_accuracy: 0.9825\n",
            "Epoch 18/25\n",
            "28/28 [==============================] - 153s 5s/step - loss: 0.1161 - accuracy: 0.9495 - val_loss: 0.0975 - val_accuracy: 0.9825\n",
            "Epoch 19/25\n",
            "28/28 [==============================] - 152s 5s/step - loss: 0.1136 - accuracy: 0.9679 - val_loss: 0.0583 - val_accuracy: 0.9825\n",
            "Epoch 20/25\n",
            "28/28 [==============================] - 154s 5s/step - loss: 0.1283 - accuracy: 0.9587 - val_loss: 0.0752 - val_accuracy: 0.9825\n",
            "Epoch 21/25\n",
            "28/28 [==============================] - 154s 5s/step - loss: 0.1186 - accuracy: 0.9541 - val_loss: 0.1065 - val_accuracy: 0.9825\n",
            "Epoch 22/25\n",
            "28/28 [==============================] - 155s 6s/step - loss: 0.0920 - accuracy: 0.9771 - val_loss: 0.1030 - val_accuracy: 0.9474\n",
            "Epoch 23/25\n",
            "28/28 [==============================] - 153s 5s/step - loss: 0.2356 - accuracy: 0.9404 - val_loss: 0.0421 - val_accuracy: 1.0000\n",
            "Epoch 24/25\n",
            "28/28 [==============================] - 153s 5s/step - loss: 0.1124 - accuracy: 0.9633 - val_loss: 0.0447 - val_accuracy: 1.0000\n",
            "Epoch 25/25\n",
            "28/28 [==============================] - 157s 6s/step - loss: 0.0653 - accuracy: 0.9817 - val_loss: 0.0486 - val_accuracy: 0.9825\n"
          ],
          "name": "stdout"
        }
      ]
    },
    {
      "cell_type": "code",
      "metadata": {
        "id": "aHQYZD38CvDQ",
        "colab_type": "code",
        "colab": {
          "base_uri": "https://localhost:8080/",
          "height": 571
        },
        "outputId": "f3d9e439-f8ee-42e7-c798-d6a81daeb624"
      },
      "source": [
        "# make predictions on the testing set\n",
        "print(\"[INFO] evaluating network...\")\n",
        "predIdxs = model.predict(testX, batch_size=BS)\n",
        "# for each image in the testing set we need to find the index of the\n",
        "# label with corresponding largest predicted probability\n",
        "predIdxs = np.argmax(predIdxs, axis=1)\n",
        "# show a nicely formatted classification report\n",
        "print(classification_report(testY.argmax(axis=1), predIdxs,\n",
        "\ttarget_names=lb.classes_))\n",
        "\n",
        "\n",
        "\n",
        "  # compute the confusion matrix and and use it to derive the raw\n",
        "# accuracy, sensitivity, and specificity\n",
        "cm = confusion_matrix(testY.argmax(axis=1), predIdxs)\n",
        "total = sum(sum(cm))\n",
        "acc = (cm[0, 0] + cm[1, 1]) / total\n",
        "sensitivity = cm[0, 0] / (cm[0, 0] + cm[0, 1])\n",
        "specificity = cm[1, 1] / (cm[1, 0] + cm[1, 1])\n",
        "# show the confusion matrix, accuracy, sensitivity, and specificity\n",
        "print(cm)\n",
        "print(\"acc: {:.4f}\".format(acc))\n",
        "print(\"sensitivity: {:.4f}\".format(sensitivity))\n",
        "print(\"specificity: {:.4f}\".format(specificity))\n",
        "\n",
        "\n",
        "# plot the training loss and accuracy\n",
        "N = EPOCHS\n",
        "plt.style.use(\"ggplot\")\n",
        "plt.figure()\n",
        "plt.plot(np.arange(0, EPOCHS), H.history[\"loss\"], label=\"train_loss\")\n",
        "plt.plot(np.arange(0, EPOCHS), H.history[\"val_loss\"], label=\"val_loss\")\n",
        "plt.plot(np.arange(0, EPOCHS), H.history[\"accuracy\"], label=\"train_acc\")\n",
        "plt.plot(np.arange(0, EPOCHS), H.history[\"val_accuracy\"], label=\"val_acc\")\n",
        "plt.title(\"Training Loss and Accuracy on COVID-19 Dataset\")\n",
        "plt.xlabel(\"Epoch #\")\n",
        "plt.ylabel(\"Loss/Accuracy\")\n",
        "plt.legend(loc=\"lower left\")\n",
        "#plt.savefig(args[\"plot\"])"
      ],
      "execution_count": 66,
      "outputs": [
        {
          "output_type": "stream",
          "text": [
            "[INFO] evaluating network...\n",
            "              precision    recall  f1-score   support\n",
            "\n",
            "    infected       1.00      0.96      0.98        23\n",
            "      normal       0.97      1.00      0.99        34\n",
            "\n",
            "    accuracy                           0.98        57\n",
            "   macro avg       0.99      0.98      0.98        57\n",
            "weighted avg       0.98      0.98      0.98        57\n",
            "\n",
            "[[22  1]\n",
            " [ 0 34]]\n",
            "acc: 0.9825\n",
            "sensitivity: 0.9565\n",
            "specificity: 1.0000\n"
          ],
          "name": "stdout"
        },
        {
          "output_type": "execute_result",
          "data": {
            "text/plain": [
              "<matplotlib.legend.Legend at 0x7fef5fa996d8>"
            ]
          },
          "metadata": {
            "tags": []
          },
          "execution_count": 66
        },
        {
          "output_type": "display_data",
          "data": {
            "image/png": "[encoded data removed]",
            "text/plain": [
              "<Figure size 432x288 with 1 Axes>"
            ]
          },
          "metadata": {
            "tags": []
          }
        }
      ]
    },
    {
      "cell_type": "code",
      "metadata": {
        "id": "HHpf5lFWC5A6",
        "colab_type": "code",
        "colab": {
          "base_uri": "https://localhost:8080/",
          "height": 34
        },
        "outputId": "4083a829-bdae-477d-dcc7-085a044392d7"
      },
      "source": [
        "#from IPython.display import Image\n",
        "#Image('/content/drive/My Drive/covid dataset/images/1-s2.0-S0929664620300449-gr2_lrg-a.jpg')\n",
        "image = cv2.imread('/content/drive/My Drive/covid dataset/images/1-s2.0-S0929664620300449-gr2_lrg-a.jpg')\n",
        "image = cv2.cvtColor(image, cv2.COLOR_BGR2RGB)\n",
        "image = cv2.resize(image, (224, 224))\n",
        "img=np.reshape(image,(1,224,224,3))\n",
        "model.predict(img)"
      ],
      "execution_count": 67,
      "outputs": [
        {
          "output_type": "execute_result",
          "data": {
            "text/plain": [
              "array([[0.9655107 , 0.03448934]], dtype=float32)"
            ]
          },
          "metadata": {
            "tags": []
          },
          "execution_count": 67
        }
      ]
    },
    {
      "cell_type": "markdown",
      "metadata": {
        "id": "CvaYU_COC5mm",
        "colab_type": "text"
      },
      "source": [
        "END OF NASNetLarge\n"
      ]
    },
    {
      "cell_type": "markdown",
      "metadata": {
        "id": "kvm4EzeOC9Tz",
        "colab_type": "text"
      },
      "source": [
        "Xception MODEL"
      ]
    },
    {
      "cell_type": "code",
      "metadata": {
        "id": "fwfLyCaNDDzY",
        "colab_type": "code",
        "colab": {}
      },
      "source": [
        "from tensorflow.keras.applications.xception import Xception\n",
        "from tensorflow.keras.preprocessing import image\n",
        "#from tensorflow.keras.applications.resnet50 import preprocess_input, decode_predictions\n",
        "import numpy as np"
      ],
      "execution_count": 0,
      "outputs": []
    },
    {
      "cell_type": "code",
      "metadata": {
        "id": "yb802XpMDLq9",
        "colab_type": "code",
        "colab": {
          "base_uri": "https://localhost:8080/",
          "height": 71
        },
        "outputId": "15e03868-74f1-4fd5-c6d8-2f66f5d305e4"
      },
      "source": [
        "IMG_SHAPE = (224,224,3)\n",
        "\n",
        "# Create the base model from the pre-trained model Xception\n",
        "baseModel = tf.keras.applications.Xception(include_top=False,weights='imagenet',input_tensor=Input(shape=(224, 224, 3)))\n",
        "headModel = baseModel.output\n",
        "headModel = AveragePooling2D(pool_size=(4, 4))(headModel)\n",
        "headModel = Dropout(0.5)(headModel)\n",
        "headModel = Flatten(name=\"flatten\")(headModel)\n",
        "headModel = Dense(64, activation=\"relu\")(headModel)\n",
        "headModel = Dropout(0.5)(headModel)\n",
        "headModel = Dense(2, activation=\"softmax\")(headModel)\n",
        "\n",
        "\n",
        "Xception_model= Model(inputs=baseModel.input, outputs=headModel)\n",
        "\n",
        "for layer in baseModel.layers:\n",
        "    layer.trainable = False"
      ],
      "execution_count": 71,
      "outputs": [
        {
          "output_type": "stream",
          "text": [
            "Downloading data from https://storage.googleapis.com/tensorflow/keras-applications/xception/xception_weights_tf_dim_ordering_tf_kernels_notop.h5\n",
            "83689472/83683744 [==============================] - 0s 0us/step\n"
          ],
          "name": "stdout"
        }
      ]
    },
    {
      "cell_type": "code",
      "metadata": {
        "id": "h0_b8PDxDH5Q",
        "colab_type": "code",
        "colab": {
          "base_uri": "https://localhost:8080/",
          "height": 887
        },
        "outputId": "2625e985-10c6-4023-d1b2-ad7bb0f0254d"
      },
      "source": [
        "model_chkpt = ModelCheckpoint('best_mod.h5', save_best_only=True, monitor='accuracy')\n",
        "early_stopping = EarlyStopping(monitor='loss', restore_best_weights=False, patience=10)\n",
        "\n",
        "# initialize the initial learning rate, number of epochs to train for,\n",
        "# and batch size\n",
        "INIT_LR = 1e-3\n",
        "EPOCHS = 25\n",
        "BS = 8\n",
        "# compile our model\n",
        "print(\"[INFO] compiling model...\")\n",
        "opt = Adam(lr=INIT_LR, decay=INIT_LR / EPOCHS)\n",
        "Xception_model.compile(loss=\"binary_crossentropy\", optimizer=opt,\n",
        "\tmetrics=[\"accuracy\"])\n",
        "# train the head of the network\n",
        "print(\"[INFO] training head...\")\n",
        "H = Xception_model.fit_generator(\n",
        "\ttrainAug.flow(trainX, trainY, batch_size=BS),\n",
        "\tsteps_per_epoch=len(trainX) // BS,\n",
        "\tvalidation_data=(testX, testY),\n",
        "\tvalidation_steps=len(testX) // BS,\n",
        "\tepochs=EPOCHS,callbacks=[early_stopping,model_chkpt])"
      ],
      "execution_count": 72,
      "outputs": [
        {
          "output_type": "stream",
          "text": [
            "[INFO] compiling model...\n",
            "[INFO] training head...\n",
            "Epoch 1/25\n",
            "28/28 [==============================] - 56s 2s/step - loss: 0.3560 - accuracy: 0.8303 - val_loss: 0.1589 - val_accuracy: 0.9298\n",
            "Epoch 2/25\n",
            "28/28 [==============================] - 56s 2s/step - loss: 0.1682 - accuracy: 0.9358 - val_loss: 0.1589 - val_accuracy: 0.9298\n",
            "Epoch 3/25\n",
            "28/28 [==============================] - 56s 2s/step - loss: 0.1581 - accuracy: 0.9404 - val_loss: 0.0912 - val_accuracy: 0.9649\n",
            "Epoch 4/25\n",
            "28/28 [==============================] - 55s 2s/step - loss: 0.1323 - accuracy: 0.9358 - val_loss: 0.1359 - val_accuracy: 0.9649\n",
            "Epoch 5/25\n",
            "28/28 [==============================] - 57s 2s/step - loss: 0.1498 - accuracy: 0.9541 - val_loss: 0.1262 - val_accuracy: 0.9649\n",
            "Epoch 6/25\n",
            "28/28 [==============================] - 55s 2s/step - loss: 0.1260 - accuracy: 0.9495 - val_loss: 0.1365 - val_accuracy: 0.9825\n",
            "Epoch 7/25\n",
            "28/28 [==============================] - 56s 2s/step - loss: 0.1011 - accuracy: 0.9725 - val_loss: 0.0896 - val_accuracy: 0.9825\n",
            "Epoch 8/25\n",
            "28/28 [==============================] - 55s 2s/step - loss: 0.0888 - accuracy: 0.9679 - val_loss: 0.1351 - val_accuracy: 0.9825\n",
            "Epoch 9/25\n",
            "28/28 [==============================] - 56s 2s/step - loss: 0.0812 - accuracy: 0.9725 - val_loss: 0.1066 - val_accuracy: 0.9825\n",
            "Epoch 10/25\n",
            "28/28 [==============================] - 55s 2s/step - loss: 0.0894 - accuracy: 0.9587 - val_loss: 0.0885 - val_accuracy: 0.9825\n",
            "Epoch 11/25\n",
            "28/28 [==============================] - 56s 2s/step - loss: 0.0732 - accuracy: 0.9817 - val_loss: 0.0880 - val_accuracy: 0.9825\n",
            "Epoch 12/25\n",
            "28/28 [==============================] - 56s 2s/step - loss: 0.0709 - accuracy: 0.9725 - val_loss: 0.1430 - val_accuracy: 0.9825\n",
            "Epoch 13/25\n",
            "28/28 [==============================] - 55s 2s/step - loss: 0.0582 - accuracy: 0.9679 - val_loss: 0.1339 - val_accuracy: 0.9825\n",
            "Epoch 14/25\n",
            "28/28 [==============================] - 57s 2s/step - loss: 0.0256 - accuracy: 0.9954 - val_loss: 0.1379 - val_accuracy: 0.9825\n",
            "Epoch 15/25\n",
            "28/28 [==============================] - 55s 2s/step - loss: 0.1047 - accuracy: 0.9587 - val_loss: 0.1136 - val_accuracy: 0.9825\n",
            "Epoch 16/25\n",
            "28/28 [==============================] - 56s 2s/step - loss: 0.0564 - accuracy: 0.9817 - val_loss: 0.1002 - val_accuracy: 0.9825\n",
            "Epoch 17/25\n",
            "28/28 [==============================] - 55s 2s/step - loss: 0.0766 - accuracy: 0.9633 - val_loss: 0.0837 - val_accuracy: 0.9825\n",
            "Epoch 18/25\n",
            "28/28 [==============================] - 55s 2s/step - loss: 0.0372 - accuracy: 0.9908 - val_loss: 0.0595 - val_accuracy: 0.9825\n",
            "Epoch 19/25\n",
            "28/28 [==============================] - 56s 2s/step - loss: 0.0566 - accuracy: 0.9862 - val_loss: 0.1155 - val_accuracy: 0.9649\n",
            "Epoch 20/25\n",
            "28/28 [==============================] - 55s 2s/step - loss: 0.0373 - accuracy: 0.9862 - val_loss: 0.1267 - val_accuracy: 0.9649\n",
            "Epoch 21/25\n",
            "28/28 [==============================] - 55s 2s/step - loss: 0.0476 - accuracy: 0.9771 - val_loss: 0.1195 - val_accuracy: 0.9825\n",
            "Epoch 22/25\n",
            "28/28 [==============================] - 55s 2s/step - loss: 0.0936 - accuracy: 0.9817 - val_loss: 0.0751 - val_accuracy: 0.9825\n",
            "Epoch 23/25\n",
            "28/28 [==============================] - 55s 2s/step - loss: 0.0687 - accuracy: 0.9725 - val_loss: 0.2018 - val_accuracy: 0.9474\n",
            "Epoch 24/25\n",
            "28/28 [==============================] - 55s 2s/step - loss: 0.0786 - accuracy: 0.9679 - val_loss: 0.0528 - val_accuracy: 0.9825\n"
          ],
          "name": "stdout"
        }
      ]
    },
    {
      "cell_type": "code",
      "metadata": {
        "id": "9kDu0nK-DO7Z",
        "colab_type": "code",
        "colab": {
          "base_uri": "https://localhost:8080/",
          "height": 571
        },
        "outputId": "9e6ebe9e-7367-4558-8e82-fd7341a3f0f4"
      },
      "source": [
        "# make predictions on the testing set\n",
        "print(\"[INFO] evaluating network...\")\n",
        "predIdxs = Xception_model.predict(testX, batch_size=BS)\n",
        "# for each image in the testing set we need to find the index of the\n",
        "# label with corresponding largest predicted probability\n",
        "predIdxs = np.argmax(predIdxs, axis=1)\n",
        "# show a nicely formatted classification report\n",
        "print(classification_report(testY.argmax(axis=1), predIdxs,\n",
        "\ttarget_names=lb.classes_))\n",
        "\n",
        "\n",
        "\n",
        "  # compute the confusion matrix and and use it to derive the raw\n",
        "# accuracy, sensitivity, and specificity\n",
        "cm = confusion_matrix(testY.argmax(axis=1), predIdxs)\n",
        "total = sum(sum(cm))\n",
        "acc = (cm[0, 0] + cm[1, 1]) / total\n",
        "sensitivity = cm[0, 0] / (cm[0, 0] + cm[0, 1])\n",
        "specificity = cm[1, 1] / (cm[1, 0] + cm[1, 1])\n",
        "# show the confusion matrix, accuracy, sensitivity, and specificity\n",
        "print(cm)\n",
        "print(\"acc: {:.4f}\".format(acc))\n",
        "print(\"sensitivity: {:.4f}\".format(sensitivity))\n",
        "print(\"specificity: {:.4f}\".format(specificity))\n",
        "\n",
        "\n",
        "# plot the training loss and accuracy\n",
        "N = 25\n",
        "plt.style.use(\"ggplot\")\n",
        "plt.figure()\n",
        "plt.plot(np.arange(0, 24), H.history[\"loss\"], label=\"train_loss\")\n",
        "plt.plot(np.arange(0, 24), H.history[\"val_loss\"], label=\"val_loss\")\n",
        "plt.plot(np.arange(0, 24), H.history[\"accuracy\"], label=\"train_acc\")\n",
        "plt.plot(np.arange(0, 24), H.history[\"val_accuracy\"], label=\"val_acc\")\n",
        "plt.title(\"Training Loss and Accuracy on COVID-19 Dataset\")\n",
        "plt.xlabel(\"Epoch #\")\n",
        "plt.ylabel(\"Loss/Accuracy\")\n",
        "plt.legend(loc=\"lower left\")\n",
        "#plt.savefig(args[\"plot\"])"
      ],
      "execution_count": 74,
      "outputs": [
        {
          "output_type": "stream",
          "text": [
            "[INFO] evaluating network...\n",
            "              precision    recall  f1-score   support\n",
            "\n",
            "    infected       1.00      0.96      0.98        23\n",
            "      normal       0.97      1.00      0.99        34\n",
            "\n",
            "    accuracy                           0.98        57\n",
            "   macro avg       0.99      0.98      0.98        57\n",
            "weighted avg       0.98      0.98      0.98        57\n",
            "\n",
            "[[22  1]\n",
            " [ 0 34]]\n",
            "acc: 0.9825\n",
            "sensitivity: 0.9565\n",
            "specificity: 1.0000\n"
          ],
          "name": "stdout"
        },
        {
          "output_type": "execute_result",
          "data": {
            "text/plain": [
              "<matplotlib.legend.Legend at 0x7fef667d0f60>"
            ]
          },
          "metadata": {
            "tags": []
          },
          "execution_count": 74
        },
        {
          "output_type": "display_data",
          "data": {
            "image/png": "[encoded data removed]",
            "text/plain": [
              "<Figure size 432x288 with 1 Axes>"
            ]
          },
          "metadata": {
            "tags": []
          }
        }
      ]
    },
    {
      "cell_type": "code",
      "metadata": {
        "id": "ZVMLGinIDT9d",
        "colab_type": "code",
        "colab": {
          "base_uri": "https://localhost:8080/",
          "height": 34
        },
        "outputId": "4d8eb120-d911-41dd-efa0-625f1dafed85"
      },
      "source": [
        "#from IPython.display import Image\n",
        "#Image('/content/drive/My Drive/covid dataset/images/1-s2.0-S0929664620300449-gr2_lrg-a.jpg')\n",
        "image = cv2.imread('/content/drive/My Drive/covid dataset/images/1-s2.0-S0929664620300449-gr2_lrg-a.jpg')\n",
        "image = cv2.cvtColor(image, cv2.COLOR_BGR2RGB)\n",
        "image = cv2.resize(image, (224, 224))\n",
        "img=np.reshape(image,(1,224,224,3))\n",
        "Xception_model.predict(img)"
      ],
      "execution_count": 75,
      "outputs": [
        {
          "output_type": "execute_result",
          "data": {
            "text/plain": [
              "array([[1., 0.]], dtype=float32)"
            ]
          },
          "metadata": {
            "tags": []
          },
          "execution_count": 75
        }
      ]
    },
    {
      "cell_type": "markdown",
      "metadata": {
        "id": "7kYUetOoDAAI",
        "colab_type": "text"
      },
      "source": [
        "END OF XCEPTION"
      ]
    },
    {
      "cell_type": "markdown",
      "metadata": {
        "id": "c2ZtyyKsDYuC",
        "colab_type": "text"
      },
      "source": [
        "DENSENET121"
      ]
    },
    {
      "cell_type": "code",
      "metadata": {
        "id": "hTQ4M6IQDXHh",
        "colab_type": "code",
        "colab": {}
      },
      "source": [
        "from tensorflow.keras.applications import DenseNet121\n"
      ],
      "execution_count": 0,
      "outputs": []
    },
    {
      "cell_type": "code",
      "metadata": {
        "id": "PY22yVPLDdzf",
        "colab_type": "code",
        "colab": {
          "base_uri": "https://localhost:8080/",
          "height": 71
        },
        "outputId": "44bc3635-a2a3-4a23-9fdd-afec7c707774"
      },
      "source": [
        "IMG_SHAPE = (224,224,3)\n",
        "\n",
        "# Create the base model from the pre-trained model MobileNet V2\n",
        "baseModel = tf.keras.applications.DenseNet121(include_top=False,weights='imagenet',input_tensor=Input(shape=(224, 224, 3)))\n",
        "headModel = baseModel.output\n",
        "headModel = AveragePooling2D(pool_size=(4, 4))(headModel)\n",
        "headModel = Dropout(0.5)(headModel)\n",
        "headModel = Flatten(name=\"flatten\")(headModel)\n",
        "headModel = Dense(64, activation=\"relu\")(headModel)\n",
        "headModel = Dropout(0.5)(headModel)\n",
        "headModel = Dense(2, activation=\"softmax\")(headModel)\n",
        "\n",
        "\n",
        "DenseNet121_model= Model(inputs=baseModel.input, outputs=headModel)\n",
        "\n",
        "for layer in baseModel.layers:\n",
        "    layer.trainable = False"
      ],
      "execution_count": 80,
      "outputs": [
        {
          "output_type": "stream",
          "text": [
            "Downloading data from https://storage.googleapis.com/tensorflow/keras-applications/densenet/densenet121_weights_tf_dim_ordering_tf_kernels_notop.h5\n",
            "29089792/29084464 [==============================] - 0s 0us/step\n"
          ],
          "name": "stdout"
        }
      ]
    },
    {
      "cell_type": "code",
      "metadata": {
        "id": "VBw-ZOz7Di24",
        "colab_type": "code",
        "colab": {
          "base_uri": "https://localhost:8080/",
          "height": 921
        },
        "outputId": "a2f18f84-ffe2-47d3-a696-73bc889dd283"
      },
      "source": [
        "model_chkpt = ModelCheckpoint('best_mod.h5', save_best_only=True, monitor='accuracy')\n",
        "early_stopping = EarlyStopping(monitor='loss', restore_best_weights=False, patience=10)\n",
        "\n",
        "# initialize the initial learning rate, number of epochs to train for,\n",
        "# and batch size\n",
        "INIT_LR = 1e-3\n",
        "EPOCHS = 25\n",
        "BS = 8\n",
        "# compile our model\n",
        "print(\"[INFO] compiling model...\")\n",
        "opt = Adam(lr=INIT_LR, decay=INIT_LR / EPOCHS)\n",
        "DenseNet121_model.compile(loss=\"binary_crossentropy\", optimizer=opt,\n",
        "\tmetrics=[\"accuracy\"])\n",
        "# train the head of the network\n",
        "print(\"[INFO] training head...\")\n",
        "H = DenseNet121_model.fit_generator(\n",
        "\ttrainAug.flow(trainX, trainY, batch_size=BS),\n",
        "\tsteps_per_epoch=len(trainX) // BS,\n",
        "\tvalidation_data=(testX, testY),\n",
        "\tvalidation_steps=len(testX) // BS,\n",
        "\tepochs=EPOCHS,callbacks=[early_stopping,model_chkpt])"
      ],
      "execution_count": 81,
      "outputs": [
        {
          "output_type": "stream",
          "text": [
            "[INFO] compiling model...\n",
            "[INFO] training head...\n",
            "Epoch 1/25\n",
            "28/28 [==============================] - 39s 1s/step - loss: 0.7979 - accuracy: 0.7018 - val_loss: 0.5062 - val_accuracy: 0.7895\n",
            "Epoch 2/25\n",
            "28/28 [==============================] - 39s 1s/step - loss: 0.4703 - accuracy: 0.8214 - val_loss: 0.2122 - val_accuracy: 0.9123\n",
            "Epoch 3/25\n",
            "28/28 [==============================] - 38s 1s/step - loss: 0.3207 - accuracy: 0.8486 - val_loss: 0.2044 - val_accuracy: 0.8772\n",
            "Epoch 4/25\n",
            "28/28 [==============================] - 38s 1s/step - loss: 0.3517 - accuracy: 0.8624 - val_loss: 0.1716 - val_accuracy: 0.8947\n",
            "Epoch 5/25\n",
            "28/28 [==============================] - 38s 1s/step - loss: 0.2674 - accuracy: 0.8899 - val_loss: 0.1777 - val_accuracy: 0.8947\n",
            "Epoch 6/25\n",
            "28/28 [==============================] - 38s 1s/step - loss: 0.2763 - accuracy: 0.8945 - val_loss: 0.1423 - val_accuracy: 0.9123\n",
            "Epoch 7/25\n",
            "28/28 [==============================] - 38s 1s/step - loss: 0.2929 - accuracy: 0.8716 - val_loss: 0.1334 - val_accuracy: 0.9298\n",
            "Epoch 8/25\n",
            "28/28 [==============================] - 38s 1s/step - loss: 0.2002 - accuracy: 0.9266 - val_loss: 0.1162 - val_accuracy: 0.9298\n",
            "Epoch 9/25\n",
            "28/28 [==============================] - 38s 1s/step - loss: 0.2819 - accuracy: 0.8991 - val_loss: 0.1504 - val_accuracy: 0.9123\n",
            "Epoch 10/25\n",
            "28/28 [==============================] - 38s 1s/step - loss: 0.2393 - accuracy: 0.8991 - val_loss: 0.1315 - val_accuracy: 0.9123\n",
            "Epoch 11/25\n",
            "28/28 [==============================] - 37s 1s/step - loss: 0.1970 - accuracy: 0.9128 - val_loss: 0.1278 - val_accuracy: 0.9298\n",
            "Epoch 12/25\n",
            "28/28 [==============================] - 38s 1s/step - loss: 0.1665 - accuracy: 0.9404 - val_loss: 0.1061 - val_accuracy: 0.9474\n",
            "Epoch 13/25\n",
            "28/28 [==============================] - 37s 1s/step - loss: 0.2175 - accuracy: 0.9128 - val_loss: 0.1702 - val_accuracy: 0.9298\n",
            "Epoch 14/25\n",
            "28/28 [==============================] - 38s 1s/step - loss: 0.2530 - accuracy: 0.9037 - val_loss: 0.0967 - val_accuracy: 0.9649\n",
            "Epoch 15/25\n",
            "28/28 [==============================] - 38s 1s/step - loss: 0.1790 - accuracy: 0.9174 - val_loss: 0.0980 - val_accuracy: 0.9474\n",
            "Epoch 16/25\n",
            "28/28 [==============================] - 38s 1s/step - loss: 0.1425 - accuracy: 0.9450 - val_loss: 0.0943 - val_accuracy: 0.9474\n",
            "Epoch 17/25\n",
            "28/28 [==============================] - 37s 1s/step - loss: 0.1934 - accuracy: 0.9358 - val_loss: 0.0829 - val_accuracy: 0.9649\n",
            "Epoch 18/25\n",
            "28/28 [==============================] - 38s 1s/step - loss: 0.1612 - accuracy: 0.9450 - val_loss: 0.0772 - val_accuracy: 0.9649\n",
            "Epoch 19/25\n",
            "28/28 [==============================] - 38s 1s/step - loss: 0.1939 - accuracy: 0.9312 - val_loss: 0.0818 - val_accuracy: 0.9649\n",
            "Epoch 20/25\n",
            "28/28 [==============================] - 38s 1s/step - loss: 0.1852 - accuracy: 0.9266 - val_loss: 0.1186 - val_accuracy: 0.9474\n",
            "Epoch 21/25\n",
            "28/28 [==============================] - 38s 1s/step - loss: 0.2066 - accuracy: 0.9220 - val_loss: 0.0892 - val_accuracy: 0.9649\n",
            "Epoch 22/25\n",
            "28/28 [==============================] - 38s 1s/step - loss: 0.1795 - accuracy: 0.9312 - val_loss: 0.1308 - val_accuracy: 0.9474\n",
            "Epoch 23/25\n",
            "28/28 [==============================] - 37s 1s/step - loss: 0.2011 - accuracy: 0.9037 - val_loss: 0.1011 - val_accuracy: 0.9649\n",
            "Epoch 24/25\n",
            "28/28 [==============================] - 37s 1s/step - loss: 0.1441 - accuracy: 0.9128 - val_loss: 0.0952 - val_accuracy: 0.9649\n",
            "Epoch 25/25\n",
            "28/28 [==============================] - 38s 1s/step - loss: 0.1587 - accuracy: 0.9266 - val_loss: 0.0913 - val_accuracy: 0.9649\n"
          ],
          "name": "stdout"
        }
      ]
    },
    {
      "cell_type": "code",
      "metadata": {
        "id": "--iaQ1YFDmGY",
        "colab_type": "code",
        "colab": {
          "base_uri": "https://localhost:8080/",
          "height": 571
        },
        "outputId": "00f04d7a-8934-4845-86de-789a59d9cf45"
      },
      "source": [
        "# make predictions on the testing set\n",
        "print(\"[INFO] evaluating network...\")\n",
        "predIdxs = DenseNet121_model.predict(testX, batch_size=BS)\n",
        "# for each image in the testing set we need to find the index of the\n",
        "# label with corresponding largest predicted probability\n",
        "predIdxs = np.argmax(predIdxs, axis=1)\n",
        "# show a nicely formatted classification report\n",
        "print(classification_report(testY.argmax(axis=1), predIdxs,\n",
        "\ttarget_names=lb.classes_))\n",
        "\n",
        "\n",
        "\n",
        "  # compute the confusion matrix and and use it to derive the raw\n",
        "# accuracy, sensitivity, and specificity\n",
        "cm = confusion_matrix(testY.argmax(axis=1), predIdxs)\n",
        "total = sum(sum(cm))\n",
        "acc = (cm[0, 0] + cm[1, 1]) / total\n",
        "sensitivity = cm[0, 0] / (cm[0, 0] + cm[0, 1])\n",
        "specificity = cm[1, 1] / (cm[1, 0] + cm[1, 1])\n",
        "# show the confusion matrix, accuracy, sensitivity, and specificity\n",
        "print(cm)\n",
        "print(\"acc: {:.4f}\".format(acc))\n",
        "print(\"sensitivity: {:.4f}\".format(sensitivity))\n",
        "print(\"specificity: {:.4f}\".format(specificity))\n",
        "\n",
        "\n",
        "# plot the training loss and accuracy\n",
        "N = EPOCHS\n",
        "plt.style.use(\"ggplot\")\n",
        "plt.figure()\n",
        "plt.plot(np.arange(0, EPOCHS), H.history[\"loss\"], label=\"train_loss\")\n",
        "plt.plot(np.arange(0, EPOCHS), H.history[\"val_loss\"], label=\"val_loss\")\n",
        "plt.plot(np.arange(0, EPOCHS), H.history[\"accuracy\"], label=\"train_acc\")\n",
        "plt.plot(np.arange(0, EPOCHS), H.history[\"val_accuracy\"], label=\"val_acc\")\n",
        "plt.title(\"Training Loss and Accuracy on COVID-19 Dataset\")\n",
        "plt.xlabel(\"Epoch #\")\n",
        "plt.ylabel(\"Loss/Accuracy\")\n",
        "plt.legend(loc=\"lower left\")\n",
        "#plt.savefig(args[\"plot\"])"
      ],
      "execution_count": 82,
      "outputs": [
        {
          "output_type": "stream",
          "text": [
            "[INFO] evaluating network...\n",
            "              precision    recall  f1-score   support\n",
            "\n",
            "    infected       0.96      0.96      0.96        23\n",
            "      normal       0.97      0.97      0.97        34\n",
            "\n",
            "    accuracy                           0.96        57\n",
            "   macro avg       0.96      0.96      0.96        57\n",
            "weighted avg       0.96      0.96      0.96        57\n",
            "\n",
            "[[22  1]\n",
            " [ 1 33]]\n",
            "acc: 0.9649\n",
            "sensitivity: 0.9565\n",
            "specificity: 0.9706\n"
          ],
          "name": "stdout"
        },
        {
          "output_type": "execute_result",
          "data": {
            "text/plain": [
              "<matplotlib.legend.Legend at 0x7fef599c2240>"
            ]
          },
          "metadata": {
            "tags": []
          },
          "execution_count": 82
        },
        {
          "output_type": "display_data",
          "data": {
            "image/png": "[encoded data removed]",
            "text/plain": [
              "<Figure size 432x288 with 1 Axes>"
            ]
          },
          "metadata": {
            "tags": []
          }
        }
      ]
    },
    {
      "cell_type": "code",
      "metadata": {
        "id": "O6UUZBgJDo-7",
        "colab_type": "code",
        "colab": {
          "base_uri": "https://localhost:8080/",
          "height": 34
        },
        "outputId": "d8df5035-d700-488c-edfb-d35570fb853a"
      },
      "source": [
        "#from IPython.display import Image\n",
        "#Image('/content/drive/My Drive/covid dataset/images/1-s2.0-S0929664620300449-gr2_lrg-a.jpg')\n",
        "image = cv2.imread('/content/drive/My Drive/covid dataset/images/1-s2.0-S0929664620300449-gr2_lrg-a.jpg')\n",
        "image = cv2.cvtColor(image, cv2.COLOR_BGR2RGB)\n",
        "image = cv2.resize(image, (224, 224))\n",
        "img=np.reshape(image,(1,224,224,3))\n",
        "DenseNet121_model.predict(img)"
      ],
      "execution_count": 83,
      "outputs": [
        {
          "output_type": "execute_result",
          "data": {
            "text/plain": [
              "array([[0.01736196, 0.98263806]], dtype=float32)"
            ]
          },
          "metadata": {
            "tags": []
          },
          "execution_count": 83
        }
      ]
    },
    {
      "cell_type": "markdown",
      "metadata": {
        "id": "Rz9ujyJrDqcq",
        "colab_type": "text"
      },
      "source": [
        "END OF DENSE121\n"
      ]
    },
    {
      "cell_type": "markdown",
      "metadata": {
        "id": "yMqOBa2cE-XE",
        "colab_type": "text"
      },
      "source": [
        "INCEPTION RESNETV2"
      ]
    },
    {
      "cell_type": "code",
      "metadata": {
        "id": "1yLZT6cPFG0Z",
        "colab_type": "code",
        "colab": {}
      },
      "source": [
        "from tensorflow.keras.applications.inception_resnet_v2 import InceptionResNetV2, preprocess_input"
      ],
      "execution_count": 0,
      "outputs": []
    },
    {
      "cell_type": "code",
      "metadata": {
        "id": "JjGRwWoUFvnA",
        "colab_type": "code",
        "colab": {
          "base_uri": "https://localhost:8080/",
          "height": 71
        },
        "outputId": "6efa5ad9-6ff3-4324-b4d9-f17c4c473af1"
      },
      "source": [
        "IMG_SHAPE = (224,224,3)\n",
        "\n",
        "# Create the base model from the pre-trained model Xception\n",
        "baseModel = InceptionResNetV2(include_top=False,weights='imagenet',input_tensor=Input(shape=(224, 224, 3)))\n",
        "headModel = baseModel.output\n",
        "headModel = AveragePooling2D(pool_size=(4, 4))(headModel)\n",
        "headModel = Dropout(0.5)(headModel)\n",
        "headModel = Flatten(name=\"flatten\")(headModel)\n",
        "headModel = Dense(64, activation=\"relu\")(headModel)\n",
        "headModel = Dropout(0.5)(headModel)\n",
        "headModel = Dense(2, activation=\"softmax\")(headModel)\n",
        "\n",
        "\n",
        "InceptionResNetV2_model= Model(inputs=baseModel.input, outputs=headModel)\n",
        "\n",
        "for layer in baseModel.layers:\n",
        "    layer.trainable = False"
      ],
      "execution_count": 85,
      "outputs": [
        {
          "output_type": "stream",
          "text": [
            "Downloading data from https://storage.googleapis.com/tensorflow/keras-applications/inception_resnet_v2/inception_resnet_v2_weights_tf_dim_ordering_tf_kernels_notop.h5\n",
            "219062272/219055592 [==============================] - 2s 0us/step\n"
          ],
          "name": "stdout"
        }
      ]
    },
    {
      "cell_type": "code",
      "metadata": {
        "id": "Cmi2RM1IGIyP",
        "colab_type": "code",
        "colab": {
          "base_uri": "https://localhost:8080/",
          "height": 901
        },
        "outputId": "57b6ac05-22f7-4a78-aa63-c7c0e702d6bc"
      },
      "source": [
        "model_chkpt = ModelCheckpoint('best_mod.h5', save_best_only=True, monitor='accuracy')\n",
        "early_stopping = EarlyStopping(monitor='loss', restore_best_weights=False, patience=10)\n",
        "\n",
        "# initialize the initial learning rate, number of epochs to train for,\n",
        "# and batch size\n",
        "INIT_LR = 1e-3\n",
        "EPOCHS = 25\n",
        "BS = 8\n",
        "# compile our model\n",
        "print(\"[INFO] compiling model...\")\n",
        "opt = Adam(lr=INIT_LR, decay=INIT_LR / EPOCHS)\n",
        "InceptionResNetV2_model.compile(loss=\"binary_crossentropy\", optimizer=opt,\n",
        "\tmetrics=[\"accuracy\"])\n",
        "# train the head of the network\n",
        "print(\"[INFO] training head...\")\n",
        "H = InceptionResNetV2_model.fit_generator(\n",
        "\ttrainAug.flow(trainX, trainY, batch_size=BS),\n",
        "\tsteps_per_epoch=len(trainX) // BS,\n",
        "\tvalidation_data=(testX, testY),\n",
        "\tvalidation_steps=len(testX) // BS,\n",
        "\tepochs=EPOCHS,callbacks=[early_stopping,model_chkpt])"
      ],
      "execution_count": 87,
      "outputs": [
        {
          "output_type": "stream",
          "text": [
            "[INFO] compiling model...\n",
            "[INFO] training head...\n",
            "Epoch 1/25\n",
            "28/28 [==============================] - 68s 2s/step - loss: 0.9171 - accuracy: 0.7339 - val_loss: 0.1619 - val_accuracy: 0.9298\n",
            "Epoch 2/25\n",
            "28/28 [==============================] - 65s 2s/step - loss: 0.3406 - accuracy: 0.8761 - val_loss: 0.2422 - val_accuracy: 0.9123\n",
            "Epoch 3/25\n",
            "28/28 [==============================] - 66s 2s/step - loss: 0.2841 - accuracy: 0.8991 - val_loss: 0.2573 - val_accuracy: 0.8772\n",
            "Epoch 4/25\n",
            "28/28 [==============================] - 64s 2s/step - loss: 0.3141 - accuracy: 0.8991 - val_loss: 0.3870 - val_accuracy: 0.8421\n",
            "Epoch 5/25\n",
            "28/28 [==============================] - 64s 2s/step - loss: 0.2755 - accuracy: 0.8899 - val_loss: 0.1227 - val_accuracy: 0.9474\n",
            "Epoch 6/25\n",
            "28/28 [==============================] - 65s 2s/step - loss: 0.2195 - accuracy: 0.9037 - val_loss: 0.2571 - val_accuracy: 0.9123\n",
            "Epoch 7/25\n",
            "28/28 [==============================] - 64s 2s/step - loss: 0.2276 - accuracy: 0.9037 - val_loss: 0.1227 - val_accuracy: 0.9474\n",
            "Epoch 8/25\n",
            "28/28 [==============================] - 65s 2s/step - loss: 0.2645 - accuracy: 0.8795 - val_loss: 0.1415 - val_accuracy: 0.9649\n",
            "Epoch 9/25\n",
            "28/28 [==============================] - 66s 2s/step - loss: 0.1884 - accuracy: 0.9220 - val_loss: 0.1413 - val_accuracy: 0.9298\n",
            "Epoch 10/25\n",
            "28/28 [==============================] - 64s 2s/step - loss: 0.2135 - accuracy: 0.9037 - val_loss: 0.1310 - val_accuracy: 0.9474\n",
            "Epoch 11/25\n",
            "28/28 [==============================] - 65s 2s/step - loss: 0.1511 - accuracy: 0.9495 - val_loss: 0.1231 - val_accuracy: 0.9474\n",
            "Epoch 12/25\n",
            "28/28 [==============================] - 64s 2s/step - loss: 0.2102 - accuracy: 0.9312 - val_loss: 0.1409 - val_accuracy: 0.9298\n",
            "Epoch 13/25\n",
            "28/28 [==============================] - 64s 2s/step - loss: 0.2000 - accuracy: 0.9174 - val_loss: 0.1249 - val_accuracy: 0.9474\n",
            "Epoch 14/25\n",
            "28/28 [==============================] - 65s 2s/step - loss: 0.1454 - accuracy: 0.9587 - val_loss: 0.1082 - val_accuracy: 0.9298\n",
            "Epoch 15/25\n",
            "28/28 [==============================] - 64s 2s/step - loss: 0.2277 - accuracy: 0.9128 - val_loss: 0.2313 - val_accuracy: 0.8772\n",
            "Epoch 16/25\n",
            "28/28 [==============================] - 64s 2s/step - loss: 0.2126 - accuracy: 0.9128 - val_loss: 0.1942 - val_accuracy: 0.9123\n",
            "Epoch 17/25\n",
            "28/28 [==============================] - 65s 2s/step - loss: 0.1313 - accuracy: 0.9450 - val_loss: 0.1163 - val_accuracy: 0.9474\n",
            "Epoch 18/25\n",
            "28/28 [==============================] - 65s 2s/step - loss: 0.1550 - accuracy: 0.9404 - val_loss: 0.1205 - val_accuracy: 0.9474\n",
            "Epoch 19/25\n",
            "28/28 [==============================] - 64s 2s/step - loss: 0.2320 - accuracy: 0.9174 - val_loss: 0.1623 - val_accuracy: 0.9474\n",
            "Epoch 20/25\n",
            "28/28 [==============================] - 64s 2s/step - loss: 0.2057 - accuracy: 0.9220 - val_loss: 0.1155 - val_accuracy: 0.9474\n",
            "Epoch 21/25\n",
            "28/28 [==============================] - 64s 2s/step - loss: 0.1475 - accuracy: 0.9404 - val_loss: 0.1317 - val_accuracy: 0.9298\n",
            "Epoch 22/25\n",
            "28/28 [==============================] - 64s 2s/step - loss: 0.2092 - accuracy: 0.9174 - val_loss: 0.1812 - val_accuracy: 0.8947\n",
            "Epoch 23/25\n",
            "28/28 [==============================] - 64s 2s/step - loss: 0.1837 - accuracy: 0.9083 - val_loss: 0.1603 - val_accuracy: 0.9474\n",
            "Epoch 24/25\n",
            "28/28 [==============================] - 64s 2s/step - loss: 0.2028 - accuracy: 0.9358 - val_loss: 0.1030 - val_accuracy: 0.9474\n",
            "Epoch 25/25\n",
            "28/28 [==============================] - 64s 2s/step - loss: 0.1503 - accuracy: 0.9312 - val_loss: 0.1204 - val_accuracy: 0.9474\n"
          ],
          "name": "stdout"
        }
      ]
    },
    {
      "cell_type": "code",
      "metadata": {
        "id": "HUVkjDa9GNEo",
        "colab_type": "code",
        "colab": {
          "base_uri": "https://localhost:8080/",
          "height": 571
        },
        "outputId": "ad574dae-9619-4086-b0ce-78032e93d77d"
      },
      "source": [
        "# make predictions on the testing set\n",
        "print(\"[INFO] evaluating network...\")\n",
        "predIdxs = InceptionResNetV2_model.predict(testX, batch_size=BS)\n",
        "# for each image in the testing set we need to find the index of the\n",
        "# label with corresponding largest predicted probability\n",
        "predIdxs = np.argmax(predIdxs, axis=1)\n",
        "# show a nicely formatted classification report\n",
        "print(classification_report(testY.argmax(axis=1), predIdxs,\n",
        "\ttarget_names=lb.classes_))\n",
        "\n",
        "\n",
        "\n",
        "  # compute the confusion matrix and and use it to derive the raw\n",
        "# accuracy, sensitivity, and specificity\n",
        "cm = confusion_matrix(testY.argmax(axis=1), predIdxs)\n",
        "total = sum(sum(cm))\n",
        "acc = (cm[0, 0] + cm[1, 1]) / total\n",
        "sensitivity = cm[0, 0] / (cm[0, 0] + cm[0, 1])\n",
        "specificity = cm[1, 1] / (cm[1, 0] + cm[1, 1])\n",
        "# show the confusion matrix, accuracy, sensitivity, and specificity\n",
        "print(cm)\n",
        "print(\"acc: {:.4f}\".format(acc))\n",
        "print(\"sensitivity: {:.4f}\".format(sensitivity))\n",
        "print(\"specificity: {:.4f}\".format(specificity))\n",
        "\n",
        "\n",
        "# plot the training loss and accuracy\n",
        "N = EPOCHS\n",
        "plt.style.use(\"ggplot\")\n",
        "plt.figure()\n",
        "plt.plot(np.arange(0, EPOCHS), H.history[\"loss\"], label=\"train_loss\")\n",
        "plt.plot(np.arange(0, EPOCHS), H.history[\"val_loss\"], label=\"val_loss\")\n",
        "plt.plot(np.arange(0, EPOCHS), H.history[\"accuracy\"], label=\"train_acc\")\n",
        "plt.plot(np.arange(0, EPOCHS), H.history[\"val_accuracy\"], label=\"val_acc\")\n",
        "plt.title(\"Training Loss and Accuracy on COVID-19 Dataset\")\n",
        "plt.xlabel(\"Epoch #\")\n",
        "plt.ylabel(\"Loss/Accuracy\")\n",
        "plt.legend(loc=\"lower left\")\n",
        "#plt.savefig(args[\"plot\"])"
      ],
      "execution_count": 88,
      "outputs": [
        {
          "output_type": "stream",
          "text": [
            "[INFO] evaluating network...\n",
            "              precision    recall  f1-score   support\n",
            "\n",
            "    infected       1.00      0.87      0.93        23\n",
            "      normal       0.92      1.00      0.96        34\n",
            "\n",
            "    accuracy                           0.95        57\n",
            "   macro avg       0.96      0.93      0.94        57\n",
            "weighted avg       0.95      0.95      0.95        57\n",
            "\n",
            "[[20  3]\n",
            " [ 0 34]]\n",
            "acc: 0.9474\n",
            "sensitivity: 0.8696\n",
            "specificity: 1.0000\n"
          ],
          "name": "stdout"
        },
        {
          "output_type": "execute_result",
          "data": {
            "text/plain": [
              "<matplotlib.legend.Legend at 0x7fef503f1550>"
            ]
          },
          "metadata": {
            "tags": []
          },
          "execution_count": 88
        },
        {
          "output_type": "display_data",
          "data": {
            "image/png": "[encoded data removed]",
            "text/plain": [
              "<Figure size 432x288 with 1 Axes>"
            ]
          },
          "metadata": {
            "tags": []
          }
        }
      ]
    },
    {
      "cell_type": "code",
      "metadata": {
        "id": "Rzl8BukMGT3q",
        "colab_type": "code",
        "colab": {
          "base_uri": "https://localhost:8080/",
          "height": 34
        },
        "outputId": "6f98d54d-cfa3-466f-d448-18cb8d3df3c7"
      },
      "source": [
        "#from IPython.display import Image\n",
        "#Image('/content/drive/My Drive/covid dataset/images/1-s2.0-S0929664620300449-gr2_lrg-a.jpg')\n",
        "image = cv2.imread('/content/drive/My Drive/covid dataset/images/1-s2.0-S0929664620300449-gr2_lrg-a.jpg')\n",
        "image = cv2.cvtColor(image, cv2.COLOR_BGR2RGB)\n",
        "image = cv2.resize(image, (224, 224))\n",
        "img=np.reshape(image,(1,224,224,3))\n",
        "InceptionResNetV2_model.predict(img)"
      ],
      "execution_count": 89,
      "outputs": [
        {
          "output_type": "execute_result",
          "data": {
            "text/plain": [
              "array([[1., 0.]], dtype=float32)"
            ]
          },
          "metadata": {
            "tags": []
          },
          "execution_count": 89
        }
      ]
    },
    {
      "cell_type": "markdown",
      "metadata": {
        "id": "FU7RGIegFBcl",
        "colab_type": "text"
      },
      "source": [
        "END OF INCEPTION RESNETV2"
      ]
    }
  ]
}